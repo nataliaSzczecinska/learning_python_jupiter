{
 "cells": [
  {
   "cell_type": "markdown",
   "id": "b99f4e65",
   "metadata": {},
   "source": [
    "#Learning how to used Jupiter Notebook"
   ]
  },
  {
   "cell_type": "markdown",
   "id": "ebe0d879",
   "metadata": {},
   "source": [
    "##Basic commend"
   ]
  },
  {
   "cell_type": "code",
   "execution_count": 1,
   "id": "f15cc97e",
   "metadata": {},
   "outputs": [],
   "source": [
    "x = \"Hello world!\""
   ]
  },
  {
   "cell_type": "code",
   "execution_count": 2,
   "id": "1c0d5e80",
   "metadata": {},
   "outputs": [
    {
     "name": "stdout",
     "output_type": "stream",
     "text": [
      "Hello world!\n"
     ]
    }
   ],
   "source": [
    "print(x)"
   ]
  },
  {
   "cell_type": "code",
   "execution_count": 3,
   "id": "ce2c2969",
   "metadata": {},
   "outputs": [],
   "source": [
    "import numpy as np"
   ]
  },
  {
   "cell_type": "code",
   "execution_count": 21,
   "id": "8837b816",
   "metadata": {},
   "outputs": [],
   "source": [
    "exams = np.asarray([[100, 200, 50, 400], [50, 0, 0, 100], [350, 100, 50, 200]])"
   ]
  },
  {
   "cell_type": "code",
   "execution_count": 20,
   "id": "f0b8dfd9",
   "metadata": {},
   "outputs": [
    {
     "data": {
      "text/plain": [
       "array([[100, 200,  50, 400],\n",
       "       [ 50,   0,   0, 100],\n",
       "       [350, 100,  50, 200]])"
      ]
     },
     "execution_count": 20,
     "metadata": {},
     "output_type": "execute_result"
    }
   ],
   "source": [
    "exams"
   ]
  },
  {
   "cell_type": "code",
   "execution_count": 6,
   "id": "6c0d1f9b",
   "metadata": {},
   "outputs": [],
   "source": [
    "my_list = [i for i in range(1000000)]"
   ]
  },
  {
   "cell_type": "code",
   "execution_count": 7,
   "id": "43ef60c1",
   "metadata": {},
   "outputs": [],
   "source": [
    "my_array = np.arange(1000000)"
   ]
  },
  {
   "cell_type": "code",
   "execution_count": 8,
   "id": "04a22e40",
   "metadata": {},
   "outputs": [
    {
     "name": "stdout",
     "output_type": "stream",
     "text": [
      "CPU times: user 3.08 s, sys: 209 ms, total: 3.29 s\n",
      "Wall time: 3.3 s\n"
     ]
    }
   ],
   "source": [
    "%time for _ in range(10): my_list2 = [x**2 for x in my_list]"
   ]
  },
  {
   "cell_type": "code",
   "execution_count": 9,
   "id": "3245dd77",
   "metadata": {},
   "outputs": [
    {
     "name": "stdout",
     "output_type": "stream",
     "text": [
      "CPU times: user 23.9 ms, sys: 18.7 ms, total: 42.6 ms\n",
      "Wall time: 42.1 ms\n"
     ]
    }
   ],
   "source": [
    "%time for _ in range(10):my_array_2 = my_array **2"
   ]
  },
  {
   "cell_type": "code",
   "execution_count": 10,
   "id": "715a88dd",
   "metadata": {},
   "outputs": [
    {
     "name": "stdout",
     "output_type": "stream",
     "text": [
      "[     0      1      2 ... 999997 999998 999999]\n"
     ]
    }
   ],
   "source": [
    "print(my_array)"
   ]
  },
  {
   "cell_type": "code",
   "execution_count": 11,
   "id": "ec79d48b",
   "metadata": {},
   "outputs": [
    {
     "name": "stderr",
     "output_type": "stream",
     "text": [
      "IOPub data rate exceeded.\n",
      "The notebook server will temporarily stop sending output\n",
      "to the client in order to avoid crashing it.\n",
      "To change this limit, set the config variable\n",
      "`--NotebookApp.iopub_data_rate_limit`.\n",
      "\n",
      "Current values:\n",
      "NotebookApp.iopub_data_rate_limit=1000000.0 (bytes/sec)\n",
      "NotebookApp.rate_limit_window=3.0 (secs)\n",
      "\n"
     ]
    }
   ],
   "source": [
    "print(my_list)"
   ]
  },
  {
   "cell_type": "code",
   "execution_count": 12,
   "id": "8fa0f79b",
   "metadata": {},
   "outputs": [
    {
     "data": {
      "text/plain": [
       "numpy.ndarray"
      ]
     },
     "execution_count": 12,
     "metadata": {},
     "output_type": "execute_result"
    }
   ],
   "source": [
    "one_dim = np.array([1,2,3,4])\n",
    "type(one_dim)"
   ]
  },
  {
   "cell_type": "code",
   "execution_count": 13,
   "id": "8a1dfe72",
   "metadata": {},
   "outputs": [
    {
     "data": {
      "text/plain": [
       "(4,)"
      ]
     },
     "execution_count": 13,
     "metadata": {},
     "output_type": "execute_result"
    }
   ],
   "source": [
    "one_dim.shape"
   ]
  },
  {
   "cell_type": "code",
   "execution_count": 14,
   "id": "c7fd7dac",
   "metadata": {},
   "outputs": [
    {
     "data": {
      "text/plain": [
       "1"
      ]
     },
     "execution_count": 14,
     "metadata": {},
     "output_type": "execute_result"
    }
   ],
   "source": [
    "one_dim.ndim"
   ]
  },
  {
   "cell_type": "code",
   "execution_count": 15,
   "id": "2bf1b90b",
   "metadata": {},
   "outputs": [
    {
     "name": "stdout",
     "output_type": "stream",
     "text": [
      "(1, 4)\n"
     ]
    },
    {
     "data": {
      "text/plain": [
       "array([[1, 2, 3, 4]])"
      ]
     },
     "execution_count": 15,
     "metadata": {},
     "output_type": "execute_result"
    }
   ],
   "source": [
    "one_dim_horizontal = np.array([[1,2,3,4]])\n",
    "print(one_dim_horizontal.shape)\n",
    "one_dim_horizontal"
   ]
  },
  {
   "cell_type": "code",
   "execution_count": 16,
   "id": "e388b788",
   "metadata": {},
   "outputs": [
    {
     "data": {
      "text/plain": [
       "array([[1],\n",
       "       [2],\n",
       "       [3],\n",
       "       [4]])"
      ]
     },
     "execution_count": 16,
     "metadata": {},
     "output_type": "execute_result"
    }
   ],
   "source": [
    "one_dim_vertical = one_dim_horizontal.reshape(-1, 1)\n",
    "one_dim_vertical"
   ]
  },
  {
   "cell_type": "code",
   "execution_count": 17,
   "id": "5d24ef4a",
   "metadata": {},
   "outputs": [
    {
     "name": "stdout",
     "output_type": "stream",
     "text": [
      "len: 3\n",
      "shape: (3, 4)\n",
      "ndim: 2\n"
     ]
    }
   ],
   "source": [
    "two_dim = np.array([[100, 200, 50, 400], [50, 0, 0, 100], [350, 100, 50, 200]])\n",
    "\n",
    "print(\"len: \" + str(len(two_dim)))\n",
    "print(\"shape: \" + str(two_dim.shape))\n",
    "print(\"ndim: \" + str(two_dim.ndim))"
   ]
  },
  {
   "cell_type": "code",
   "execution_count": 18,
   "id": "ed02ba0e",
   "metadata": {},
   "outputs": [
    {
     "data": {
      "text/plain": [
       "12"
      ]
     },
     "execution_count": 18,
     "metadata": {},
     "output_type": "execute_result"
    }
   ],
   "source": [
    "two_dim.size"
   ]
  },
  {
   "cell_type": "code",
   "execution_count": 19,
   "id": "3c78acb9",
   "metadata": {},
   "outputs": [
    {
     "data": {
      "text/plain": [
       "8"
      ]
     },
     "execution_count": 19,
     "metadata": {},
     "output_type": "execute_result"
    }
   ],
   "source": [
    "two_dim.itemsize"
   ]
  },
  {
   "cell_type": "code",
   "execution_count": 22,
   "id": "42ed0a66",
   "metadata": {},
   "outputs": [
    {
     "data": {
      "text/plain": [
       "array([1, 2, 3, 4, 5])"
      ]
     },
     "execution_count": 22,
     "metadata": {},
     "output_type": "execute_result"
    }
   ],
   "source": [
    "my_list = [1,2,3,4,5]\n",
    "np.array(my_list)"
   ]
  },
  {
   "cell_type": "code",
   "execution_count": 23,
   "id": "9b308905",
   "metadata": {},
   "outputs": [
    {
     "data": {
      "text/plain": [
       "array([[1, 2, 3],\n",
       "       [4, 5, 6],\n",
       "       [7, 8, 9]])"
      ]
     },
     "execution_count": 23,
     "metadata": {},
     "output_type": "execute_result"
    }
   ],
   "source": [
    "my_nested_list = [[1,2,3],[4,5,6],[7,8,9]]\n",
    "np.array(my_nested_list)"
   ]
  },
  {
   "cell_type": "code",
   "execution_count": 24,
   "id": "d4ee5e1c",
   "metadata": {},
   "outputs": [
    {
     "data": {
      "text/plain": [
       "array([ 0,  1,  2,  3,  4,  5,  6,  7,  8,  9, 10, 11, 12, 13, 14, 15, 16,\n",
       "       17, 18, 19])"
      ]
     },
     "execution_count": 24,
     "metadata": {},
     "output_type": "execute_result"
    }
   ],
   "source": [
    "np.arange(0,20)"
   ]
  },
  {
   "cell_type": "code",
   "execution_count": 25,
   "id": "0a38cbb9",
   "metadata": {},
   "outputs": [
    {
     "data": {
      "text/plain": [
       "array([ 0,  2,  4,  6,  8, 10, 12, 14, 16, 18])"
      ]
     },
     "execution_count": 25,
     "metadata": {},
     "output_type": "execute_result"
    }
   ],
   "source": [
    "np.arange(0,20,2)"
   ]
  },
  {
   "cell_type": "code",
   "execution_count": 26,
   "id": "33d9d23c",
   "metadata": {},
   "outputs": [
    {
     "data": {
      "text/plain": [
       "array([0., 0., 0.])"
      ]
     },
     "execution_count": 26,
     "metadata": {},
     "output_type": "execute_result"
    }
   ],
   "source": [
    "np.zeros(3)"
   ]
  },
  {
   "cell_type": "code",
   "execution_count": 27,
   "id": "9941d266",
   "metadata": {},
   "outputs": [
    {
     "data": {
      "text/plain": [
       "array([[0., 0., 0.],\n",
       "       [0., 0., 0.],\n",
       "       [0., 0., 0.],\n",
       "       [0., 0., 0.],\n",
       "       [0., 0., 0.]])"
      ]
     },
     "execution_count": 27,
     "metadata": {},
     "output_type": "execute_result"
    }
   ],
   "source": [
    "np.zeros((5,3))"
   ]
  },
  {
   "cell_type": "code",
   "execution_count": 28,
   "id": "0931bb64",
   "metadata": {},
   "outputs": [
    {
     "data": {
      "text/plain": [
       "array([[1, 1, 1],\n",
       "       [1, 1, 1]], dtype=int8)"
      ]
     },
     "execution_count": 28,
     "metadata": {},
     "output_type": "execute_result"
    }
   ],
   "source": [
    "np.ones(5)\n",
    "np.ones((2,3))\n",
    "np.ones((2,3),dtype=np.int8)"
   ]
  },
  {
   "cell_type": "code",
   "execution_count": 29,
   "id": "cbda510d",
   "metadata": {},
   "outputs": [
    {
     "data": {
      "text/plain": [
       "array([1., 1., 1., 1., 1.])"
      ]
     },
     "execution_count": 29,
     "metadata": {},
     "output_type": "execute_result"
    }
   ],
   "source": [
    "np.ones(5)"
   ]
  },
  {
   "cell_type": "code",
   "execution_count": 30,
   "id": "e1bff618",
   "metadata": {},
   "outputs": [
    {
     "data": {
      "text/plain": [
       "array([[1., 1., 1.],\n",
       "       [1., 1., 1.]])"
      ]
     },
     "execution_count": 30,
     "metadata": {},
     "output_type": "execute_result"
    }
   ],
   "source": [
    "np.ones((2,3))"
   ]
  },
  {
   "cell_type": "code",
   "execution_count": 31,
   "id": "003500c8",
   "metadata": {},
   "outputs": [
    {
     "data": {
      "text/plain": [
       "array([[1, 1, 1],\n",
       "       [1, 1, 1]], dtype=int8)"
      ]
     },
     "execution_count": 31,
     "metadata": {},
     "output_type": "execute_result"
    }
   ],
   "source": [
    "np.ones((2,3),dtype=np.int8)"
   ]
  },
  {
   "cell_type": "code",
   "execution_count": 32,
   "id": "8695c062",
   "metadata": {},
   "outputs": [
    {
     "name": "stdout",
     "output_type": "stream",
     "text": [
      "[ 5 10 20] int64\n",
      "[ 5. 10. 20.] float64\n",
      "['5' '10' '20'] <U21\n"
     ]
    }
   ],
   "source": [
    "arr_01 = np.array([5, 10, 20])\n",
    "print(arr_01, arr_01.dtype)\n",
    "arr_02 = np.array([5, 10, 20.0])\n",
    "print(arr_02, arr_02.dtype)\n",
    "arr_03 = np.array([5, 10, '20'])\n",
    "print(arr_03, arr_03.dtype)"
   ]
  },
  {
   "cell_type": "code",
   "execution_count": 33,
   "id": "40570f94",
   "metadata": {},
   "outputs": [
    {
     "data": {
      "text/plain": [
       "array([0.        , 0.55555556, 1.11111111, 1.66666667, 2.22222222,\n",
       "       2.77777778, 3.33333333, 3.88888889, 4.44444444, 5.        ])"
      ]
     },
     "execution_count": 33,
     "metadata": {},
     "output_type": "execute_result"
    }
   ],
   "source": [
    "np.linspace(0,5,10)"
   ]
  },
  {
   "cell_type": "code",
   "execution_count": 34,
   "id": "a5a40854",
   "metadata": {},
   "outputs": [
    {
     "data": {
      "text/plain": [
       "array([[1., 0., 0., 0.],\n",
       "       [0., 1., 0., 0.],\n",
       "       [0., 0., 1., 0.],\n",
       "       [0., 0., 0., 1.]])"
      ]
     },
     "execution_count": 34,
     "metadata": {},
     "output_type": "execute_result"
    }
   ],
   "source": [
    "np.eye(4)"
   ]
  },
  {
   "cell_type": "code",
   "execution_count": 35,
   "id": "17f64127",
   "metadata": {},
   "outputs": [
    {
     "data": {
      "text/plain": [
       "array([[5, 0, 0, 0, 0, 0],\n",
       "       [0, 0, 0, 0, 0, 0],\n",
       "       [0, 0, 4, 0, 0, 0],\n",
       "       [0, 0, 0, 1, 0, 0],\n",
       "       [0, 0, 0, 0, 3, 0],\n",
       "       [0, 0, 0, 0, 0, 2]])"
      ]
     },
     "execution_count": 35,
     "metadata": {},
     "output_type": "execute_result"
    }
   ],
   "source": [
    "np.diag([5, 0, 4, 1, 3, 2])"
   ]
  },
  {
   "cell_type": "code",
   "execution_count": 36,
   "id": "a42bbe9a",
   "metadata": {},
   "outputs": [
    {
     "data": {
      "text/plain": [
       "array([0.3670144 , 0.97305774, 0.8280087 , 0.95909282, 0.29861613])"
      ]
     },
     "execution_count": 36,
     "metadata": {},
     "output_type": "execute_result"
    }
   ],
   "source": [
    "np.random.rand(5)"
   ]
  },
  {
   "cell_type": "code",
   "execution_count": 37,
   "id": "2bc768de",
   "metadata": {},
   "outputs": [
    {
     "data": {
      "text/plain": [
       "array([[0.17761411, 0.08830851, 0.68064632, 0.405071  , 0.48921477],\n",
       "       [0.11688111, 0.95209319, 0.86076909, 0.13773633, 0.71771099],\n",
       "       [0.61182948, 0.86651715, 0.53818008, 0.7605392 , 0.00708077],\n",
       "       [0.82370823, 0.20349757, 0.15385262, 0.85360971, 0.41888634],\n",
       "       [0.32231715, 0.22336354, 0.4427124 , 0.77553355, 0.99506146]])"
      ]
     },
     "execution_count": 37,
     "metadata": {},
     "output_type": "execute_result"
    }
   ],
   "source": [
    "np.random.rand(5,5)"
   ]
  },
  {
   "cell_type": "code",
   "execution_count": 38,
   "id": "857d3e08",
   "metadata": {},
   "outputs": [
    {
     "data": {
      "text/plain": [
       "array([20, 46, 84, 36, 88, 90, 75, 91, 64, 98])"
      ]
     },
     "execution_count": 38,
     "metadata": {},
     "output_type": "execute_result"
    }
   ],
   "source": [
    "np.random.randint(1,100,10)"
   ]
  },
  {
   "cell_type": "markdown",
   "id": "d034e74a",
   "metadata": {},
   "source": [
    "Task 1 - create 10 elements vector with value between 0 and 1 exclude limit value"
   ]
  },
  {
   "cell_type": "code",
   "execution_count": 81,
   "id": "7c081f02",
   "metadata": {},
   "outputs": [
    {
     "data": {
      "text/plain": [
       "array([0.96444153, 0.45385894, 0.12185288, 0.7653893 , 0.40083479,\n",
       "       0.95171623, 0.3271007 , 0.85428716, 0.28843694, 0.78500328])"
      ]
     },
     "execution_count": 81,
     "metadata": {},
     "output_type": "execute_result"
    }
   ],
   "source": [
    "random_ten_elements = np.random.rand(10)\n",
    "#random_ten_elements = [random.rand() for number in random_ten_elements if number == 0]\n",
    "random_ten_elements"
   ]
  },
  {
   "cell_type": "markdown",
   "id": "a63cf83d",
   "metadata": {},
   "source": [
    "Task 2 - create matrix 5 x 5 where value in rows are equal and in columns is 0, 1, 2, 3, 4."
   ]
  },
  {
   "cell_type": "code",
   "execution_count": 65,
   "id": "f650be85",
   "metadata": {},
   "outputs": [
    {
     "data": {
      "text/plain": [
       "matrix([[ 0,  1,  2,  3,  4],\n",
       "        [ 5,  6,  7,  8,  9],\n",
       "        [10, 11, 12, 13, 14],\n",
       "        [15, 16, 17, 18, 19],\n",
       "        [20, 21, 22, 23, 24]])"
      ]
     },
     "execution_count": 65,
     "metadata": {},
     "output_type": "execute_result"
    }
   ],
   "source": [
    "np.matrix(np.arange(25).reshape(5,5))"
   ]
  },
  {
   "cell_type": "code",
   "execution_count": 88,
   "id": "9358e762",
   "metadata": {},
   "outputs": [],
   "source": [
    "row = np.arange(5)"
   ]
  },
  {
   "cell_type": "code",
   "execution_count": 98,
   "id": "6aefc144",
   "metadata": {},
   "outputs": [],
   "source": [
    "matrix = np.matrix.repeat(row, 5, axis = 0)\n",
    "matrix2 = np.matrix([row, row, row, row, row])"
   ]
  },
  {
   "cell_type": "code",
   "execution_count": 99,
   "id": "a3ea525f",
   "metadata": {},
   "outputs": [
    {
     "data": {
      "text/plain": [
       "array([0, 0, 0, 0, 0, 1, 1, 1, 1, 1, 2, 2, 2, 2, 2, 3, 3, 3, 3, 3, 4, 4,\n",
       "       4, 4, 4])"
      ]
     },
     "execution_count": 99,
     "metadata": {},
     "output_type": "execute_result"
    }
   ],
   "source": [
    "matrix"
   ]
  },
  {
   "cell_type": "code",
   "execution_count": 97,
   "id": "e7e090f0",
   "metadata": {},
   "outputs": [
    {
     "data": {
      "text/plain": [
       "matrix([[0, 1, 2, 3, 4],\n",
       "        [0, 1, 2, 3, 4],\n",
       "        [0, 1, 2, 3, 4],\n",
       "        [0, 1, 2, 3, 4],\n",
       "        [0, 1, 2, 3, 4]])"
      ]
     },
     "execution_count": 97,
     "metadata": {},
     "output_type": "execute_result"
    }
   ],
   "source": [
    "matrix2"
   ]
  },
  {
   "cell_type": "code",
   "execution_count": 171,
   "id": "1430180e",
   "metadata": {},
   "outputs": [
    {
     "data": {
      "text/plain": [
       "array([[0, 1, 2, 3, 4],\n",
       "       [0, 1, 2, 3, 4],\n",
       "       [0, 1, 2, 3, 4],\n",
       "       [0, 1, 2, 3, 4],\n",
       "       [0, 1, 2, 3, 4]])"
      ]
     },
     "execution_count": 171,
     "metadata": {},
     "output_type": "execute_result"
    }
   ],
   "source": [
    "matrix_3 = np.zeros((5,5), dtype=np.int8) + np.arange(5)\n",
    "matrix_3"
   ]
  },
  {
   "cell_type": "markdown",
   "id": "420fc0c2",
   "metadata": {},
   "source": [
    "##Module 7.5 - ndarray operations"
   ]
  },
  {
   "cell_type": "code",
   "execution_count": 100,
   "id": "c9a28a70",
   "metadata": {},
   "outputs": [
    {
     "data": {
      "text/plain": [
       "array([ 0,  1,  2,  3,  4,  5,  6,  7,  8,  9, 10, 11, 12, 13, 14, 15, 16,\n",
       "       17, 18, 19, 20])"
      ]
     },
     "execution_count": 100,
     "metadata": {},
     "output_type": "execute_result"
    }
   ],
   "source": [
    "my_arr = np.arange(21)\n",
    "my_arr"
   ]
  },
  {
   "cell_type": "code",
   "execution_count": 101,
   "id": "4dd4c8e4",
   "metadata": {},
   "outputs": [
    {
     "data": {
      "text/plain": [
       "10"
      ]
     },
     "execution_count": 101,
     "metadata": {},
     "output_type": "execute_result"
    }
   ],
   "source": [
    "my_arr[10]"
   ]
  },
  {
   "cell_type": "code",
   "execution_count": 103,
   "id": "71cd6640",
   "metadata": {},
   "outputs": [
    {
     "data": {
      "text/plain": [
       "array([ 5,  6,  7,  8,  9, 10, 11, 12, 13, 14])"
      ]
     },
     "execution_count": 103,
     "metadata": {},
     "output_type": "execute_result"
    }
   ],
   "source": [
    "my_arr[5:15]"
   ]
  },
  {
   "cell_type": "code",
   "execution_count": 105,
   "id": "9a0fa815",
   "metadata": {},
   "outputs": [
    {
     "data": {
      "text/plain": [
       "array([ 5, 10])"
      ]
     },
     "execution_count": 105,
     "metadata": {},
     "output_type": "execute_result"
    }
   ],
   "source": [
    "my_arr[5:15:5]"
   ]
  },
  {
   "cell_type": "code",
   "execution_count": 106,
   "id": "2ba84e7f",
   "metadata": {},
   "outputs": [
    {
     "data": {
      "text/plain": [
       "array([[  0,  10,  20],\n",
       "       [  5,  15,  25],\n",
       "       [100, 200, 300]])"
      ]
     },
     "execution_count": 106,
     "metadata": {},
     "output_type": "execute_result"
    }
   ],
   "source": [
    "two_dim = np.array([[0,10,20],[5,15,25],[100,200,300]])\n",
    "two_dim"
   ]
  },
  {
   "cell_type": "code",
   "execution_count": 107,
   "id": "60195def",
   "metadata": {},
   "outputs": [
    {
     "data": {
      "text/plain": [
       "array([ 0, 10, 20])"
      ]
     },
     "execution_count": 107,
     "metadata": {},
     "output_type": "execute_result"
    }
   ],
   "source": [
    "two_dim[0]"
   ]
  },
  {
   "cell_type": "code",
   "execution_count": 108,
   "id": "7c66cf39",
   "metadata": {},
   "outputs": [
    {
     "data": {
      "text/plain": [
       "5"
      ]
     },
     "execution_count": 108,
     "metadata": {},
     "output_type": "execute_result"
    }
   ],
   "source": [
    "two_dim[1][0]"
   ]
  },
  {
   "cell_type": "code",
   "execution_count": 109,
   "id": "a7766d75",
   "metadata": {},
   "outputs": [
    {
     "data": {
      "text/plain": [
       "array([[  5,  15],\n",
       "       [100, 200]])"
      ]
     },
     "execution_count": 109,
     "metadata": {},
     "output_type": "execute_result"
    }
   ],
   "source": [
    "two_dim[1:3,:2]"
   ]
  },
  {
   "cell_type": "code",
   "execution_count": 110,
   "id": "4fe3ffb0",
   "metadata": {},
   "outputs": [
    {
     "data": {
      "text/plain": [
       "array([[ 0,  1,  2,  3,  4],\n",
       "       [ 5,  6,  7,  8,  9],\n",
       "       [10, 11, 12, 13, 14],\n",
       "       [15, 16, 17, 18, 19],\n",
       "       [20, 21, 22, 23, 24]])"
      ]
     },
     "execution_count": 110,
     "metadata": {},
     "output_type": "execute_result"
    }
   ],
   "source": [
    "my_arr = np.arange(25).reshape(5,5)\n",
    "my_arr"
   ]
  },
  {
   "cell_type": "code",
   "execution_count": 111,
   "id": "53bdc9ac",
   "metadata": {},
   "outputs": [
    {
     "data": {
      "text/plain": [
       "1"
      ]
     },
     "execution_count": 111,
     "metadata": {},
     "output_type": "execute_result"
    }
   ],
   "source": [
    "my_arr[(0,1)]"
   ]
  },
  {
   "cell_type": "code",
   "execution_count": 112,
   "id": "3070c755",
   "metadata": {},
   "outputs": [
    {
     "data": {
      "text/plain": [
       "array([[0, 1, 2, 3, 4],\n",
       "       [5, 6, 7, 8, 9]])"
      ]
     },
     "execution_count": 112,
     "metadata": {},
     "output_type": "execute_result"
    }
   ],
   "source": [
    "my_arr[(0,1),]"
   ]
  },
  {
   "cell_type": "code",
   "execution_count": 113,
   "id": "a32b014f",
   "metadata": {},
   "outputs": [
    {
     "data": {
      "text/plain": [
       "array([0, 9])"
      ]
     },
     "execution_count": 113,
     "metadata": {},
     "output_type": "execute_result"
    }
   ],
   "source": [
    "my_arr[[0,1],[0,4]]"
   ]
  },
  {
   "cell_type": "code",
   "execution_count": 114,
   "id": "38915d76",
   "metadata": {},
   "outputs": [
    {
     "data": {
      "text/plain": [
       "array([[0, 0, 2],\n",
       "       [2, 1, 0],\n",
       "       [0, 2, 1],\n",
       "       [0, 1, 0]])"
      ]
     },
     "execution_count": 114,
     "metadata": {},
     "output_type": "execute_result"
    }
   ],
   "source": [
    "vals = np.array([100,5,0])\n",
    "select = np.random.randint(0,3,size=(4,3))\n",
    "select"
   ]
  },
  {
   "cell_type": "code",
   "execution_count": 115,
   "id": "137a9bba",
   "metadata": {},
   "outputs": [
    {
     "data": {
      "text/plain": [
       "array([[100, 100,   0],\n",
       "       [  0,   5, 100],\n",
       "       [100,   0,   5],\n",
       "       [100,   5, 100]])"
      ]
     },
     "execution_count": 115,
     "metadata": {},
     "output_type": "execute_result"
    }
   ],
   "source": [
    "vals[select]"
   ]
  },
  {
   "cell_type": "code",
   "execution_count": 116,
   "id": "94ea429b",
   "metadata": {},
   "outputs": [
    {
     "data": {
      "text/plain": [
       "array([  5, 100,   0])"
      ]
     },
     "execution_count": 116,
     "metadata": {},
     "output_type": "execute_result"
    }
   ],
   "source": [
    "vals[[1,0,2]]"
   ]
  },
  {
   "cell_type": "code",
   "execution_count": 117,
   "id": "7cf7fae5",
   "metadata": {},
   "outputs": [
    {
     "data": {
      "text/plain": [
       "array([0, 1, 2, 3, 4, 5, 6, 7, 8, 9])"
      ]
     },
     "execution_count": 117,
     "metadata": {},
     "output_type": "execute_result"
    }
   ],
   "source": [
    "arr = np.arange(10)\n",
    "arr"
   ]
  },
  {
   "cell_type": "code",
   "execution_count": 118,
   "id": "30ed4ce1",
   "metadata": {},
   "outputs": [
    {
     "data": {
      "text/plain": [
       "array([0, 1, 2, 3, 4])"
      ]
     },
     "execution_count": 118,
     "metadata": {},
     "output_type": "execute_result"
    }
   ],
   "source": [
    "slice_of_arr = arr[:5]\n",
    "slice_of_arr"
   ]
  },
  {
   "cell_type": "code",
   "execution_count": 119,
   "id": "8005aaa5",
   "metadata": {},
   "outputs": [
    {
     "data": {
      "text/plain": [
       "array([100, 100, 100, 100, 100])"
      ]
     },
     "execution_count": 119,
     "metadata": {},
     "output_type": "execute_result"
    }
   ],
   "source": [
    "slice_of_arr[:] = 100\n",
    "slice_of_arr"
   ]
  },
  {
   "cell_type": "code",
   "execution_count": 120,
   "id": "3030a5bb",
   "metadata": {},
   "outputs": [
    {
     "data": {
      "text/plain": [
       "array([100, 100, 100, 100, 100,   5,   6,   7,   8,   9])"
      ]
     },
     "execution_count": 120,
     "metadata": {},
     "output_type": "execute_result"
    }
   ],
   "source": [
    "arr"
   ]
  },
  {
   "cell_type": "code",
   "execution_count": 121,
   "id": "a55a6314",
   "metadata": {},
   "outputs": [
    {
     "data": {
      "text/plain": [
       "array([0, 1, 2, 3, 4, 5, 6, 7, 8, 9])"
      ]
     },
     "execution_count": 121,
     "metadata": {},
     "output_type": "execute_result"
    }
   ],
   "source": [
    "fancy_arr = np.arange(10)\n",
    "fancy_arr"
   ]
  },
  {
   "cell_type": "code",
   "execution_count": 122,
   "id": "cb0cbe47",
   "metadata": {},
   "outputs": [
    {
     "data": {
      "text/plain": [
       "array([0, 1, 2, 3, 4])"
      ]
     },
     "execution_count": 122,
     "metadata": {},
     "output_type": "execute_result"
    }
   ],
   "source": [
    "fancy_index_arr = fancy_arr[np.arange(5)]\n",
    "fancy_index_arr"
   ]
  },
  {
   "cell_type": "code",
   "execution_count": 123,
   "id": "77609e20",
   "metadata": {},
   "outputs": [
    {
     "data": {
      "text/plain": [
       "array([100, 100, 100, 100, 100])"
      ]
     },
     "execution_count": 123,
     "metadata": {},
     "output_type": "execute_result"
    }
   ],
   "source": [
    "fancy_index_arr[:] = 100\n",
    "fancy_index_arr"
   ]
  },
  {
   "cell_type": "code",
   "execution_count": 124,
   "id": "e57b90ce",
   "metadata": {},
   "outputs": [
    {
     "data": {
      "text/plain": [
       "array([0, 1, 2, 3, 4, 5, 6, 7, 8, 9])"
      ]
     },
     "execution_count": 124,
     "metadata": {},
     "output_type": "execute_result"
    }
   ],
   "source": [
    "fancy_arr"
   ]
  },
  {
   "cell_type": "code",
   "execution_count": 125,
   "id": "353aa82a",
   "metadata": {},
   "outputs": [
    {
     "data": {
      "text/plain": [
       "False"
      ]
     },
     "execution_count": 125,
     "metadata": {},
     "output_type": "execute_result"
    }
   ],
   "source": [
    "slice_of_arr.base is None"
   ]
  },
  {
   "cell_type": "code",
   "execution_count": 126,
   "id": "1b37223f",
   "metadata": {},
   "outputs": [
    {
     "data": {
      "text/plain": [
       "True"
      ]
     },
     "execution_count": 126,
     "metadata": {},
     "output_type": "execute_result"
    }
   ],
   "source": [
    "fancy_index_arr.base is None"
   ]
  },
  {
   "cell_type": "code",
   "execution_count": 127,
   "id": "f640db92",
   "metadata": {},
   "outputs": [
    {
     "data": {
      "text/plain": [
       "True"
      ]
     },
     "execution_count": 127,
     "metadata": {},
     "output_type": "execute_result"
    }
   ],
   "source": [
    "slice_of_arr.base is arr"
   ]
  },
  {
   "cell_type": "code",
   "execution_count": 128,
   "id": "1d349a89",
   "metadata": {},
   "outputs": [
    {
     "name": "stdout",
     "output_type": "stream",
     "text": [
      "arr\n",
      "[0 1 2 3 4 5 6 7 8 9]\n",
      "slice_of_arr\n",
      "[0 1 2 3 4]\n",
      "slice_of_arr\n",
      "[100 100 100 100 100]\n",
      "arr\n",
      "[0 1 2 3 4 5 6 7 8 9]\n"
     ]
    }
   ],
   "source": [
    "arr = np.arange(10)\n",
    "print('arr')\n",
    "print(arr)\n",
    "\n",
    "slice_of_arr = arr[:5].copy()\n",
    "print('slice_of_arr')\n",
    "print(slice_of_arr)\n",
    "\n",
    "slice_of_arr[:] = 100\n",
    "print('slice_of_arr')\n",
    "print(slice_of_arr)\n",
    "\n",
    "print('arr')\n",
    "print(arr)"
   ]
  },
  {
   "cell_type": "code",
   "execution_count": 129,
   "id": "4afc9a32",
   "metadata": {},
   "outputs": [
    {
     "data": {
      "text/plain": [
       "False"
      ]
     },
     "execution_count": 129,
     "metadata": {},
     "output_type": "execute_result"
    }
   ],
   "source": [
    "slice_of_arr is arr"
   ]
  },
  {
   "cell_type": "code",
   "execution_count": 130,
   "id": "0a8bf2cd",
   "metadata": {},
   "outputs": [
    {
     "name": "stdout",
     "output_type": "stream",
     "text": [
      "[[0 1 2]\n",
      " [3 4 5]\n",
      " [6 7 8]]\n",
      "\n",
      " [[0 1 2]\n",
      " [3 0 0]\n",
      " [6 0 0]]\n"
     ]
    }
   ],
   "source": [
    "macierz = np.arange(9).reshape(3, 3)\n",
    "print(macierz)\n",
    "macierz[-1, -1] = 999\n",
    "macierz[1:, 1:] = 0\n",
    "print('\\n', macierz)"
   ]
  },
  {
   "cell_type": "markdown",
   "id": "b71f1eec",
   "metadata": {},
   "source": [
    "Task - find index of elements equals zero"
   ]
  },
  {
   "cell_type": "code",
   "execution_count": 136,
   "id": "c71870b9",
   "metadata": {},
   "outputs": [
    {
     "name": "stdout",
     "output_type": "stream",
     "text": [
      "For index = (array([0, 1, 1, 2, 2]), array([0, 1, 2, 1, 2]))\n"
     ]
    }
   ],
   "source": [
    "index_elements_equels_zero = np.where(macierz == 0)\n",
    "print(f\"For index = {index_elements_equels_zero}\")"
   ]
  },
  {
   "cell_type": "code",
   "execution_count": 132,
   "id": "1d70c25a",
   "metadata": {},
   "outputs": [
    {
     "data": {
      "text/plain": [
       "array([ 0,  5, 10, 15, 20, 25, 30, 35, 40, 45])"
      ]
     },
     "execution_count": 132,
     "metadata": {},
     "output_type": "execute_result"
    }
   ],
   "source": [
    "arr = np.arange(0,50,5)\n",
    "arr"
   ]
  },
  {
   "cell_type": "code",
   "execution_count": 133,
   "id": "a25c2f6e",
   "metadata": {},
   "outputs": [
    {
     "data": {
      "text/plain": [
       "array([False, False, False, False,  True,  True,  True,  True,  True,\n",
       "        True])"
      ]
     },
     "execution_count": 133,
     "metadata": {},
     "output_type": "execute_result"
    }
   ],
   "source": [
    "arr>15"
   ]
  },
  {
   "cell_type": "code",
   "execution_count": 137,
   "id": "799c6bc6",
   "metadata": {},
   "outputs": [
    {
     "data": {
      "text/plain": [
       "array([20, 25, 30, 35, 40, 45])"
      ]
     },
     "execution_count": 137,
     "metadata": {},
     "output_type": "execute_result"
    }
   ],
   "source": [
    "arr[arr>15]"
   ]
  },
  {
   "cell_type": "code",
   "execution_count": 138,
   "id": "f9b0f8b8",
   "metadata": {},
   "outputs": [
    {
     "data": {
      "text/plain": [
       "array([False, False, False, False,  True,  True,  True,  True, False,\n",
       "        True])"
      ]
     },
     "execution_count": 138,
     "metadata": {},
     "output_type": "execute_result"
    }
   ],
   "source": [
    "(arr>15) & (arr!=40)"
   ]
  },
  {
   "cell_type": "code",
   "execution_count": 139,
   "id": "112f2bee",
   "metadata": {},
   "outputs": [
    {
     "data": {
      "text/plain": [
       "array([20, 25, 30, 35, 45])"
      ]
     },
     "execution_count": 139,
     "metadata": {},
     "output_type": "execute_result"
    }
   ],
   "source": [
    "arr[(arr>15) & (arr!=40)]"
   ]
  },
  {
   "cell_type": "code",
   "execution_count": 140,
   "id": "6de7ae3b",
   "metadata": {},
   "outputs": [
    {
     "data": {
      "text/plain": [
       "array([ True,  True, False, False,  True,  True,  True,  True,  True,\n",
       "        True])"
      ]
     },
     "execution_count": 140,
     "metadata": {},
     "output_type": "execute_result"
    }
   ],
   "source": [
    "(arr<10) | (arr>=20)"
   ]
  },
  {
   "cell_type": "code",
   "execution_count": 141,
   "id": "c402ec8b",
   "metadata": {},
   "outputs": [
    {
     "data": {
      "text/plain": [
       "array([ 0,  5, 20, 25, 30, 35, 40, 45])"
      ]
     },
     "execution_count": 141,
     "metadata": {},
     "output_type": "execute_result"
    }
   ],
   "source": [
    "arr[(arr<10) | (arr>=20)]"
   ]
  },
  {
   "cell_type": "code",
   "execution_count": 142,
   "id": "00ae0670",
   "metadata": {},
   "outputs": [
    {
     "data": {
      "text/plain": [
       "array([ True,  True, False, False,  True,  True,  True,  True,  True,\n",
       "        True])"
      ]
     },
     "execution_count": 142,
     "metadata": {},
     "output_type": "execute_result"
    }
   ],
   "source": [
    "np.logical_or(arr<10,arr>=20)"
   ]
  },
  {
   "cell_type": "code",
   "execution_count": 143,
   "id": "087ea0d2",
   "metadata": {},
   "outputs": [
    {
     "data": {
      "text/plain": [
       "array([ 0,  5, 20, 25, 30, 35, 40, 45])"
      ]
     },
     "execution_count": 143,
     "metadata": {},
     "output_type": "execute_result"
    }
   ],
   "source": [
    "arr[np.logical_or(arr<10,arr>=20)]"
   ]
  },
  {
   "cell_type": "code",
   "execution_count": 146,
   "id": "cdbdcfe6",
   "metadata": {},
   "outputs": [
    {
     "data": {
      "text/plain": [
       "array([[  0,   5, 100],\n",
       "       [ 10,  15, 200],\n",
       "       [ 20,  25, 300]])"
      ]
     },
     "execution_count": 146,
     "metadata": {},
     "output_type": "execute_result"
    }
   ],
   "source": [
    "np.transpose(two_dim)"
   ]
  },
  {
   "cell_type": "markdown",
   "id": "7ccb72e0",
   "metadata": {},
   "source": [
    "Task - take from arr = np.arange(0,50,5) where elements are <10 or >=20 and != 40"
   ]
  },
  {
   "cell_type": "code",
   "execution_count": 147,
   "id": "bb4eeb46",
   "metadata": {},
   "outputs": [],
   "source": [
    "#todo"
   ]
  },
  {
   "cell_type": "markdown",
   "id": "8a9f1698",
   "metadata": {},
   "source": [
    "Task - create matrix 4x4 where diagonaly have \"false\" and rest is \"true\" using XOR"
   ]
  },
  {
   "cell_type": "code",
   "execution_count": 148,
   "id": "d57a5d52",
   "metadata": {},
   "outputs": [],
   "source": [
    "#todo"
   ]
  },
  {
   "cell_type": "markdown",
   "id": "cd80ae36",
   "metadata": {},
   "source": [
    "Module 7.5 - MIX"
   ]
  },
  {
   "cell_type": "code",
   "execution_count": 149,
   "id": "1abb6cdb",
   "metadata": {},
   "outputs": [
    {
     "data": {
      "text/plain": [
       "array([[ 0,  1,  2,  3,  4],\n",
       "       [ 5,  6,  7,  8,  9],\n",
       "       [10, 11, 12, 13, 14],\n",
       "       [15, 16, 17, 18, 19]])"
      ]
     },
     "execution_count": 149,
     "metadata": {},
     "output_type": "execute_result"
    }
   ],
   "source": [
    "arr = np.arange(20).reshape(4,5)\n",
    "arr"
   ]
  },
  {
   "cell_type": "code",
   "execution_count": 150,
   "id": "94cda39b",
   "metadata": {},
   "outputs": [
    {
     "data": {
      "text/plain": [
       "array([[15, 16, 17],\n",
       "       [ 0,  1,  2],\n",
       "       [ 5,  6,  7]])"
      ]
     },
     "execution_count": 150,
     "metadata": {},
     "output_type": "execute_result"
    }
   ],
   "source": [
    "arr[[3,0,1],:3]"
   ]
  },
  {
   "cell_type": "code",
   "execution_count": 151,
   "id": "dd825beb",
   "metadata": {},
   "outputs": [
    {
     "data": {
      "text/plain": [
       "190"
      ]
     },
     "execution_count": 151,
     "metadata": {},
     "output_type": "execute_result"
    }
   ],
   "source": [
    "arr.sum()"
   ]
  },
  {
   "cell_type": "code",
   "execution_count": 152,
   "id": "984cd5fb",
   "metadata": {},
   "outputs": [
    {
     "data": {
      "text/plain": [
       "array([[ 7,  8,  9],\n",
       "       [12, 13, 14],\n",
       "       [17, 18, 19]])"
      ]
     },
     "execution_count": 152,
     "metadata": {},
     "output_type": "execute_result"
    }
   ],
   "source": [
    "arr[arr.sum(axis=1)>10,2:]"
   ]
  },
  {
   "cell_type": "code",
   "execution_count": 153,
   "id": "336a26df",
   "metadata": {},
   "outputs": [
    {
     "data": {
      "text/plain": [
       "array([[ 5,  6,  7,  8,  9],\n",
       "       [10, 11, 12, 13, 14],\n",
       "       [15, 16, 17, 18, 19]])"
      ]
     },
     "execution_count": 153,
     "metadata": {},
     "output_type": "execute_result"
    }
   ],
   "source": [
    "arr[arr.sum(axis=1)>10]"
   ]
  },
  {
   "cell_type": "markdown",
   "id": "fcf76029",
   "metadata": {},
   "source": [
    "TASKS\n",
    "1. Zwróć z macierzy arr wiersz o indeksie nr 2, lecz tylko dla tych kolumn, których suma przekracza 30.\n",
    "2. Mamy dane dwie tablice: a i b. Stwórz program filtrujący wartości z b, które korespondują z elementami a i są większe od 100 i mniejsze od 110.\n",
    "    a = np.array([97,101,105,111,117,125])\n",
    "    b = np.array(['a','e','i','o','u','y'])\n",
    "3. Stwórz program, który ze wskazanej macierzy wyciągnie odpowiednio najmniejszą i największą wartość dla każdego wiersza.\n",
    "[[0 4 1]\n",
    "[2 0 4]]\n",
    "4. Mając tablicę np.arange(11), odwróć znak wszystkich elementów większych od 3 i mniejszych od 8."
   ]
  },
  {
   "cell_type": "markdown",
   "id": "b6965c85",
   "metadata": {},
   "source": [
    "Task 1"
   ]
  },
  {
   "cell_type": "code",
   "execution_count": 155,
   "id": "48c4263c",
   "metadata": {},
   "outputs": [],
   "source": [
    "#todo"
   ]
  },
  {
   "cell_type": "markdown",
   "id": "24aa6679",
   "metadata": {},
   "source": [
    "Task 2"
   ]
  },
  {
   "cell_type": "code",
   "execution_count": 156,
   "id": "26d1ca84",
   "metadata": {},
   "outputs": [],
   "source": [
    "#todo"
   ]
  },
  {
   "cell_type": "code",
   "execution_count": null,
   "id": "a463985f",
   "metadata": {},
   "outputs": [],
   "source": []
  },
  {
   "cell_type": "markdown",
   "id": "7aad6941",
   "metadata": {},
   "source": [
    "Task 3"
   ]
  },
  {
   "cell_type": "code",
   "execution_count": 157,
   "id": "ca7cd9f6",
   "metadata": {},
   "outputs": [],
   "source": [
    "#todo"
   ]
  },
  {
   "cell_type": "code",
   "execution_count": null,
   "id": "ee67ac7f",
   "metadata": {},
   "outputs": [],
   "source": []
  },
  {
   "cell_type": "markdown",
   "id": "e7d907c4",
   "metadata": {},
   "source": [
    "Taks 4"
   ]
  },
  {
   "cell_type": "code",
   "execution_count": 158,
   "id": "0e4fe4d0",
   "metadata": {},
   "outputs": [],
   "source": [
    "#todo"
   ]
  },
  {
   "cell_type": "markdown",
   "id": "b3d17c50",
   "metadata": {},
   "source": [
    "##Modul 7.5 - MATRIX"
   ]
  },
  {
   "cell_type": "code",
   "execution_count": 160,
   "id": "6a32c6cf",
   "metadata": {},
   "outputs": [
    {
     "name": "stdout",
     "output_type": "stream",
     "text": [
      "Macierz 1\n",
      "[[1 3 6]\n",
      " [7 1 1]\n",
      " [7 2 7]]\n",
      "Macierz 2\n",
      "[[-9  3  7]\n",
      " [ 7  3  1]\n",
      " [-1 -9  5]]\n"
     ]
    }
   ],
   "source": [
    "macierz_1 = np.array([[1,3,6],\n",
    "                      [7,1,1],\n",
    "                      [7,2,7]])\n",
    "\n",
    "print(f'Macierz 1\\n{macierz_1}')\n",
    "macierz_2 = np.array([[-9,3,7],\n",
    "                      [7,3,1],\n",
    "                      [-1,-9,5]])\n",
    "\n",
    "print(f'Macierz 2\\n{macierz_2}')"
   ]
  },
  {
   "cell_type": "code",
   "execution_count": 161,
   "id": "9131040d",
   "metadata": {},
   "outputs": [
    {
     "data": {
      "text/plain": [
       "array([[-8,  6, 13],\n",
       "       [14,  4,  2],\n",
       "       [ 6, -7, 12]])"
      ]
     },
     "execution_count": 161,
     "metadata": {},
     "output_type": "execute_result"
    }
   ],
   "source": [
    "macierz_1 + macierz_2"
   ]
  },
  {
   "cell_type": "code",
   "execution_count": 162,
   "id": "187df534",
   "metadata": {},
   "outputs": [
    {
     "data": {
      "text/plain": [
       "array([[-8,  6, 13],\n",
       "       [14,  4,  2],\n",
       "       [ 6, -7, 12]])"
      ]
     },
     "execution_count": 162,
     "metadata": {},
     "output_type": "execute_result"
    }
   ],
   "source": [
    "np.add(macierz_1, macierz_2)"
   ]
  },
  {
   "cell_type": "code",
   "execution_count": 163,
   "id": "b802dda2",
   "metadata": {},
   "outputs": [
    {
     "data": {
      "text/plain": [
       "array([[10,  0, -1],\n",
       "       [ 0, -2,  0],\n",
       "       [ 8, 11,  2]])"
      ]
     },
     "execution_count": 163,
     "metadata": {},
     "output_type": "execute_result"
    }
   ],
   "source": [
    "macierz_1 - macierz_2"
   ]
  },
  {
   "cell_type": "code",
   "execution_count": 164,
   "id": "81550a23",
   "metadata": {},
   "outputs": [
    {
     "data": {
      "text/plain": [
       "array([[10,  0, -1],\n",
       "       [ 0, -2,  0],\n",
       "       [ 8, 11,  2]])"
      ]
     },
     "execution_count": 164,
     "metadata": {},
     "output_type": "execute_result"
    }
   ],
   "source": [
    "np.subtract(macierz_1, macierz_2)"
   ]
  },
  {
   "cell_type": "code",
   "execution_count": 165,
   "id": "d60aaf52",
   "metadata": {},
   "outputs": [
    {
     "name": "stdout",
     "output_type": "stream",
     "text": [
      "[[10 30 60]\n",
      " [70 10 10]\n",
      " [70 20 70]]\n",
      "\n",
      "[[ -9   9  42]\n",
      " [ 49   3   1]\n",
      " [ -7 -18  35]]\n"
     ]
    }
   ],
   "source": [
    "print(macierz_1 * 10)\n",
    "print()\n",
    "print(macierz_1 * macierz_2)"
   ]
  },
  {
   "cell_type": "code",
   "execution_count": 166,
   "id": "649d301a",
   "metadata": {},
   "outputs": [
    {
     "data": {
      "text/plain": [
       "array([[  6, -42,  40],\n",
       "       [-57,  15,  55],\n",
       "       [-56, -36,  86]])"
      ]
     },
     "execution_count": 166,
     "metadata": {},
     "output_type": "execute_result"
    }
   ],
   "source": [
    "macierz_1.dot(macierz_2)"
   ]
  },
  {
   "cell_type": "code",
   "execution_count": 172,
   "id": "2b176405",
   "metadata": {},
   "outputs": [
    {
     "data": {
      "text/plain": [
       "array([[ 61, -10,  -2],\n",
       "       [ 35,  26,  52],\n",
       "       [-29,  -2,  20]])"
      ]
     },
     "execution_count": 172,
     "metadata": {},
     "output_type": "execute_result"
    }
   ],
   "source": [
    "macierz_2.dot(macierz_1)"
   ]
  },
  {
   "cell_type": "code",
   "execution_count": 173,
   "id": "5b9aeae7",
   "metadata": {},
   "outputs": [
    {
     "data": {
      "text/plain": [
       "array([  0,  10,  20,  30,  40,  50,  60,  70,  80,  90, 100])"
      ]
     },
     "execution_count": 173,
     "metadata": {},
     "output_type": "execute_result"
    }
   ],
   "source": [
    "arr = np.arange(0,101,10)\n",
    "arr"
   ]
  },
  {
   "cell_type": "code",
   "execution_count": 174,
   "id": "ca591fbd",
   "metadata": {},
   "outputs": [
    {
     "data": {
      "text/plain": [
       "array([  0,  20,  40,  60,  80, 100, 120, 140, 160, 180, 200])"
      ]
     },
     "execution_count": 174,
     "metadata": {},
     "output_type": "execute_result"
    }
   ],
   "source": [
    "arr + arr"
   ]
  },
  {
   "cell_type": "code",
   "execution_count": 175,
   "id": "95cb6172",
   "metadata": {},
   "outputs": [
    {
     "data": {
      "text/plain": [
       "array([    0,   100,   400,   900,  1600,  2500,  3600,  4900,  6400,\n",
       "        8100, 10000])"
      ]
     },
     "execution_count": 175,
     "metadata": {},
     "output_type": "execute_result"
    }
   ],
   "source": [
    "arr * arr"
   ]
  },
  {
   "cell_type": "code",
   "execution_count": 176,
   "id": "e4621faa",
   "metadata": {},
   "outputs": [
    {
     "data": {
      "text/plain": [
       "array([-5,  5, 15, 25, 35, 45, 55, 65, 75, 85, 95])"
      ]
     },
     "execution_count": 176,
     "metadata": {},
     "output_type": "execute_result"
    }
   ],
   "source": [
    "arr - 5"
   ]
  },
  {
   "cell_type": "code",
   "execution_count": 177,
   "id": "ce7f6921",
   "metadata": {},
   "outputs": [
    {
     "data": {
      "text/plain": [
       "array([[0, 1],\n",
       "       [2, 3],\n",
       "       [4, 5],\n",
       "       [6, 7],\n",
       "       [8, 9]])"
      ]
     },
     "execution_count": 177,
     "metadata": {},
     "output_type": "execute_result"
    }
   ],
   "source": [
    "left_ = np.arange(10).reshape(5,2)\n",
    "right_ = np.arange(5).reshape(5,1)\n",
    "\n",
    "left_"
   ]
  },
  {
   "cell_type": "code",
   "execution_count": 178,
   "id": "ed05f6d6",
   "metadata": {},
   "outputs": [
    {
     "data": {
      "text/plain": [
       "array([[0],\n",
       "       [1],\n",
       "       [2],\n",
       "       [3],\n",
       "       [4]])"
      ]
     },
     "execution_count": 178,
     "metadata": {},
     "output_type": "execute_result"
    }
   ],
   "source": [
    "right_"
   ]
  },
  {
   "cell_type": "code",
   "execution_count": 179,
   "id": "e0137198",
   "metadata": {},
   "outputs": [
    {
     "data": {
      "text/plain": [
       "array([[ 0,  0],\n",
       "       [ 2,  3],\n",
       "       [ 8, 10],\n",
       "       [18, 21],\n",
       "       [32, 36]])"
      ]
     },
     "execution_count": 179,
     "metadata": {},
     "output_type": "execute_result"
    }
   ],
   "source": [
    "right_ * left_"
   ]
  },
  {
   "cell_type": "code",
   "execution_count": 180,
   "id": "1eb1fe7a",
   "metadata": {},
   "outputs": [
    {
     "data": {
      "text/plain": [
       "array([[ 0,  0],\n",
       "       [ 2,  3],\n",
       "       [ 8, 10],\n",
       "       [18, 21],\n",
       "       [32, 36]])"
      ]
     },
     "execution_count": 180,
     "metadata": {},
     "output_type": "execute_result"
    }
   ],
   "source": [
    "left_ * right_"
   ]
  },
  {
   "cell_type": "code",
   "execution_count": 181,
   "id": "67f7e002",
   "metadata": {},
   "outputs": [
    {
     "data": {
      "text/plain": [
       "array([ 0.        ,  3.16227766,  4.47213595,  5.47722558,  6.32455532,\n",
       "        7.07106781,  7.74596669,  8.36660027,  8.94427191,  9.48683298,\n",
       "       10.        ])"
      ]
     },
     "execution_count": 181,
     "metadata": {},
     "output_type": "execute_result"
    }
   ],
   "source": [
    "arr = np.arange(0,101,10)\n",
    "\n",
    "np.sqrt(arr)"
   ]
  },
  {
   "cell_type": "code",
   "execution_count": 182,
   "id": "77c35c80",
   "metadata": {},
   "outputs": [
    {
     "data": {
      "text/plain": [
       "array([ 0.        , -0.54402111,  0.91294525, -0.98803162,  0.74511316,\n",
       "       -0.26237485, -0.30481062,  0.77389068, -0.99388865,  0.89399666,\n",
       "       -0.50636564])"
      ]
     },
     "execution_count": 182,
     "metadata": {},
     "output_type": "execute_result"
    }
   ],
   "source": [
    "np.sin(arr)"
   ]
  },
  {
   "cell_type": "code",
   "execution_count": 183,
   "id": "8ebe0524",
   "metadata": {},
   "outputs": [
    {
     "data": {
      "text/plain": [
       "array([  0,  20,  40,  60,  80, 100, 120, 140, 160, 180, 200])"
      ]
     },
     "execution_count": 183,
     "metadata": {},
     "output_type": "execute_result"
    }
   ],
   "source": [
    "np.multiply(arr,2)"
   ]
  },
  {
   "cell_type": "markdown",
   "id": "acbe8924",
   "metadata": {},
   "source": [
    "TASKS\n",
    "1. Stwórz program, który ze wskazanej macierzy wyciągnie odpowiednio najmniejszą i największą wartość dla każdego wiersza.\n",
    "    [[0 4 1]\n",
    "    [2 0 4]]\n",
    "2. Stwórz wektor Z według następującego wzoru: np.random.uniform(0,1,10). Następnie znajdź element, który jest najbliższy wartości 0.5.\n",
    "3. Stwórz wektor zawierający 20 losowych wartości, a następnie zamień jego największą wartość na 0.\n",
    "4. Znajdź części całkowite tablicy, wykorzystując przynajmniej dwa różne sposoby.\n",
    "    np.array([5, 0.0249139 , 0.11873564, 0., 0.72321586, 11308494, 0.29931472, 0.24439968, 0.61251754, 4])"
   ]
  },
  {
   "cell_type": "markdown",
   "id": "8d7e6866",
   "metadata": {},
   "source": [
    "Task 1"
   ]
  },
  {
   "cell_type": "code",
   "execution_count": 184,
   "id": "434e6cd9",
   "metadata": {},
   "outputs": [],
   "source": [
    "#todo"
   ]
  },
  {
   "cell_type": "markdown",
   "id": "3ce422fc",
   "metadata": {},
   "source": [
    "Task 2"
   ]
  },
  {
   "cell_type": "code",
   "execution_count": 185,
   "id": "1af17076",
   "metadata": {},
   "outputs": [],
   "source": [
    "#todo"
   ]
  },
  {
   "cell_type": "markdown",
   "id": "87b9ca0e",
   "metadata": {},
   "source": [
    "Task 3"
   ]
  },
  {
   "cell_type": "code",
   "execution_count": 186,
   "id": "0dca0c46",
   "metadata": {},
   "outputs": [],
   "source": [
    "#todo"
   ]
  },
  {
   "cell_type": "markdown",
   "id": "f07b8ab1",
   "metadata": {},
   "source": [
    "Task 4"
   ]
  },
  {
   "cell_type": "code",
   "execution_count": 187,
   "id": "3eb79062",
   "metadata": {},
   "outputs": [],
   "source": [
    "#todo"
   ]
  },
  {
   "cell_type": "markdown",
   "id": "2045472d",
   "metadata": {},
   "source": [
    "............................"
   ]
  },
  {
   "cell_type": "code",
   "execution_count": 192,
   "id": "96b0f3b6",
   "metadata": {},
   "outputs": [
    {
     "data": {
      "text/plain": [
       "array([  0,  10,  20,  30,  40,  50,  60,  70,  80,  90, 100])"
      ]
     },
     "execution_count": 192,
     "metadata": {},
     "output_type": "execute_result"
    }
   ],
   "source": [
    "arr = np.arange(0,101,10)\n",
    "arr"
   ]
  },
  {
   "cell_type": "code",
   "execution_count": 193,
   "id": "fae8af2a",
   "metadata": {},
   "outputs": [
    {
     "data": {
      "text/plain": [
       "550"
      ]
     },
     "execution_count": 193,
     "metadata": {},
     "output_type": "execute_result"
    }
   ],
   "source": [
    "arr.sum()"
   ]
  },
  {
   "cell_type": "code",
   "execution_count": 194,
   "id": "9e32bcec",
   "metadata": {},
   "outputs": [
    {
     "data": {
      "text/plain": [
       "50.0"
      ]
     },
     "execution_count": 194,
     "metadata": {},
     "output_type": "execute_result"
    }
   ],
   "source": [
    "arr.mean()"
   ]
  },
  {
   "cell_type": "code",
   "execution_count": 195,
   "id": "c960ac2b",
   "metadata": {},
   "outputs": [
    {
     "data": {
      "text/plain": [
       "0"
      ]
     },
     "execution_count": 195,
     "metadata": {},
     "output_type": "execute_result"
    }
   ],
   "source": [
    "arr.min()"
   ]
  },
  {
   "cell_type": "code",
   "execution_count": 196,
   "id": "e630c899",
   "metadata": {},
   "outputs": [
    {
     "data": {
      "text/plain": [
       "100"
      ]
     },
     "execution_count": 196,
     "metadata": {},
     "output_type": "execute_result"
    }
   ],
   "source": [
    "arr.max()"
   ]
  },
  {
   "cell_type": "code",
   "execution_count": 197,
   "id": "40fc9732",
   "metadata": {},
   "outputs": [
    {
     "name": "stdout",
     "output_type": "stream",
     "text": [
      "[[1 2 3]\n",
      " [4 5 6]\n",
      " [7 8 9]] \n",
      "\n",
      "[1 2 3] \n",
      "\n",
      "[1 4 7]\n"
     ]
    }
   ],
   "source": [
    "arr_2d = np.array([[1, 2, 3], [4, 5, 6], [7, 8, 9]])\n",
    "print(arr_2d, '\\n')\n",
    "print(arr_2d.min(axis=0), '\\n')\n",
    "print(arr_2d.min(axis=1))"
   ]
  },
  {
   "cell_type": "code",
   "execution_count": 198,
   "id": "92eb0561",
   "metadata": {},
   "outputs": [
    {
     "data": {
      "text/plain": [
       "50.0"
      ]
     },
     "execution_count": 198,
     "metadata": {},
     "output_type": "execute_result"
    }
   ],
   "source": [
    "np.median(arr)"
   ]
  },
  {
   "cell_type": "code",
   "execution_count": 200,
   "id": "99a7bc0e",
   "metadata": {},
   "outputs": [
    {
     "data": {
      "text/plain": [
       "1000.0"
      ]
     },
     "execution_count": 200,
     "metadata": {},
     "output_type": "execute_result"
    }
   ],
   "source": [
    "np.var(arr)"
   ]
  },
  {
   "cell_type": "code",
   "execution_count": 201,
   "id": "fde116db",
   "metadata": {},
   "outputs": [
    {
     "data": {
      "text/plain": [
       "31.622776601683793"
      ]
     },
     "execution_count": 201,
     "metadata": {},
     "output_type": "execute_result"
    }
   ],
   "source": [
    "np.std(arr)"
   ]
  },
  {
   "cell_type": "code",
   "execution_count": 202,
   "id": "1ff75d98",
   "metadata": {},
   "outputs": [
    {
     "name": "stderr",
     "output_type": "stream",
     "text": [
      "/var/folders/dl/n6r7g5t96w30wn8vg3gb44640000gn/T/ipykernel_9043/3001117470.py:1: RuntimeWarning: invalid value encountered in true_divide\n",
      "  arr / arr\n"
     ]
    },
    {
     "data": {
      "text/plain": [
       "array([nan,  1.,  1.,  1.,  1.,  1.,  1.,  1.,  1.,  1.,  1.])"
      ]
     },
     "execution_count": 202,
     "metadata": {},
     "output_type": "execute_result"
    }
   ],
   "source": [
    "arr / arr"
   ]
  },
  {
   "cell_type": "code",
   "execution_count": 203,
   "id": "7f102365",
   "metadata": {},
   "outputs": [],
   "source": [
    "defaults = np.seterr(all='ignore')"
   ]
  },
  {
   "cell_type": "code",
   "execution_count": 204,
   "id": "944f7cb9",
   "metadata": {},
   "outputs": [
    {
     "data": {
      "text/plain": [
       "array([nan,  1.,  1.,  1.,  1.,  1.,  1.,  1.,  1.,  1.,  1.])"
      ]
     },
     "execution_count": 204,
     "metadata": {},
     "output_type": "execute_result"
    }
   ],
   "source": [
    "arr / arr"
   ]
  },
  {
   "cell_type": "code",
   "execution_count": 205,
   "id": "838e92c5",
   "metadata": {},
   "outputs": [],
   "source": [
    "_ = np.seterr(**defaults)"
   ]
  },
  {
   "cell_type": "code",
   "execution_count": 206,
   "id": "7a1fbfb9",
   "metadata": {},
   "outputs": [
    {
     "name": "stderr",
     "output_type": "stream",
     "text": [
      "/var/folders/dl/n6r7g5t96w30wn8vg3gb44640000gn/T/ipykernel_9043/3001117470.py:1: RuntimeWarning: invalid value encountered in true_divide\n",
      "  arr / arr\n"
     ]
    },
    {
     "data": {
      "text/plain": [
       "array([nan,  1.,  1.,  1.,  1.,  1.,  1.,  1.,  1.,  1.,  1.])"
      ]
     },
     "execution_count": 206,
     "metadata": {},
     "output_type": "execute_result"
    }
   ],
   "source": [
    "arr / arr"
   ]
  },
  {
   "cell_type": "code",
   "execution_count": 207,
   "id": "ee2a55b3",
   "metadata": {},
   "outputs": [
    {
     "data": {
      "text/plain": [
       "array([26, 10, 30, 36, 26, 15, 21, 18, 15, 16])"
      ]
     },
     "execution_count": 207,
     "metadata": {},
     "output_type": "execute_result"
    }
   ],
   "source": [
    "arr = np.random.randint(1,40,10)\n",
    "arr"
   ]
  },
  {
   "cell_type": "code",
   "execution_count": 208,
   "id": "e5da2b24",
   "metadata": {},
   "outputs": [
    {
     "data": {
      "text/plain": [
       "array([10, 15, 15, 16, 18, 21, 26, 26, 30, 36])"
      ]
     },
     "execution_count": 208,
     "metadata": {},
     "output_type": "execute_result"
    }
   ],
   "source": [
    "np.sort(arr)"
   ]
  },
  {
   "cell_type": "code",
   "execution_count": 209,
   "id": "6aaa833b",
   "metadata": {},
   "outputs": [
    {
     "name": "stdout",
     "output_type": "stream",
     "text": [
      "[26 10 30 36 26 15 21 18 15 16]\n",
      "[26 10 30 36 26 15 21 18 15 16]\n",
      "[10 15 15 16 18 21 26 26 30 36]\n"
     ]
    }
   ],
   "source": [
    "print(arr)\n",
    "np.sort(arr)\n",
    "print(arr)\n",
    "arr = np.sort(arr)\n",
    "print(arr)"
   ]
  },
  {
   "cell_type": "code",
   "execution_count": 210,
   "id": "092a06c7",
   "metadata": {},
   "outputs": [
    {
     "data": {
      "text/plain": [
       "array([36, 30, 26, 26, 21, 18, 16, 15, 15, 10])"
      ]
     },
     "execution_count": 210,
     "metadata": {},
     "output_type": "execute_result"
    }
   ],
   "source": [
    "arr = np.sort(arr)[::-1]\n",
    "arr"
   ]
  },
  {
   "cell_type": "code",
   "execution_count": 211,
   "id": "916d704a",
   "metadata": {},
   "outputs": [
    {
     "name": "stdout",
     "output_type": "stream",
     "text": [
      "[36 30 26 26 21 18 16 15 15 10]\n",
      "[10 15 15 16 18 21 26 26 30 36]\n"
     ]
    }
   ],
   "source": [
    "print(arr)\n",
    "arr.sort()\n",
    "print(arr)"
   ]
  },
  {
   "cell_type": "code",
   "execution_count": 212,
   "id": "5bb17ed6",
   "metadata": {},
   "outputs": [
    {
     "data": {
      "text/plain": [
       "array([[1, 2],\n",
       "       [3, 4],\n",
       "       [5, 6],\n",
       "       [5, 4],\n",
       "       [3, 2]])"
      ]
     },
     "execution_count": 212,
     "metadata": {},
     "output_type": "execute_result"
    }
   ],
   "source": [
    "arr2d = np.array([np.arange(1,6),np.arange(6,1,-1)]).reshape(5,2)\n",
    "arr2d"
   ]
  },
  {
   "cell_type": "code",
   "execution_count": 213,
   "id": "5d72c5ad",
   "metadata": {},
   "outputs": [
    {
     "data": {
      "text/plain": [
       "array([[1, 2],\n",
       "       [3, 4],\n",
       "       [5, 6],\n",
       "       [4, 5],\n",
       "       [2, 3]])"
      ]
     },
     "execution_count": 213,
     "metadata": {},
     "output_type": "execute_result"
    }
   ],
   "source": [
    "np.sort(arr2d)"
   ]
  },
  {
   "cell_type": "code",
   "execution_count": 214,
   "id": "f9ad3dbc",
   "metadata": {},
   "outputs": [
    {
     "data": {
      "text/plain": [
       "array([[1, 2],\n",
       "       [3, 2],\n",
       "       [3, 4],\n",
       "       [5, 4],\n",
       "       [5, 6]])"
      ]
     },
     "execution_count": 214,
     "metadata": {},
     "output_type": "execute_result"
    }
   ],
   "source": [
    "np.sort(arr2d,axis=0)"
   ]
  },
  {
   "cell_type": "code",
   "execution_count": 215,
   "id": "f3c4ec88",
   "metadata": {},
   "outputs": [
    {
     "data": {
      "text/plain": [
       "array([(b'Student A', 89, 74), (b'Student B', 85, 56),\n",
       "       (b'Student C', 93, 44), (b'Student D', 83, 92)],\n",
       "      dtype=[('student', 'S10'), ('exam1', '<i8'), ('exam2', '<i8')])"
      ]
     },
     "execution_count": 215,
     "metadata": {},
     "output_type": "execute_result"
    }
   ],
   "source": [
    "dt = np.dtype([('student','S10'),('exam1',int),('exam2',int)])\n",
    "\n",
    "a = np.array([(\"Student A\",89,74),(\"Student B\",85,56),\n",
    "              (\"Student C\", 93,44), (\"Student D\",83,92)],dtype=dt)\n",
    "\n",
    "a"
   ]
  },
  {
   "cell_type": "code",
   "execution_count": 216,
   "id": "fb276161",
   "metadata": {},
   "outputs": [
    {
     "data": {
      "text/plain": [
       "array([(b'Student D', 83, 92), (b'Student B', 85, 56),\n",
       "       (b'Student A', 89, 74), (b'Student C', 93, 44)],\n",
       "      dtype=[('student', 'S10'), ('exam1', '<i8'), ('exam2', '<i8')])"
      ]
     },
     "execution_count": 216,
     "metadata": {},
     "output_type": "execute_result"
    }
   ],
   "source": [
    "np.sort(a,order='exam1')"
   ]
  },
  {
   "cell_type": "code",
   "execution_count": 217,
   "id": "44d95df7",
   "metadata": {},
   "outputs": [
    {
     "data": {
      "text/plain": [
       "array([(b'Student C', 93, 44), (b'Student B', 85, 56),\n",
       "       (b'Student A', 89, 74), (b'Student D', 83, 92)],\n",
       "      dtype=[('student', 'S10'), ('exam1', '<i8'), ('exam2', '<i8')])"
      ]
     },
     "execution_count": 217,
     "metadata": {},
     "output_type": "execute_result"
    }
   ],
   "source": [
    "np.sort(a,order='exam2')"
   ]
  },
  {
   "cell_type": "code",
   "execution_count": 218,
   "id": "611188db",
   "metadata": {},
   "outputs": [
    {
     "data": {
      "text/plain": [
       "b'Student D'"
      ]
     },
     "execution_count": 218,
     "metadata": {},
     "output_type": "execute_result"
    }
   ],
   "source": [
    "np.sort(a,order='exam2')[-1][0]"
   ]
  },
  {
   "cell_type": "code",
   "execution_count": 222,
   "id": "14e3b729",
   "metadata": {},
   "outputs": [
    {
     "data": {
      "text/plain": [
       "array([ 8, 21, 11, 20,  8,  6, 12,  5,  5, 16])"
      ]
     },
     "execution_count": 222,
     "metadata": {},
     "output_type": "execute_result"
    }
   ],
   "source": [
    "arr = np.random.randint(1,40,10)\n",
    "arr"
   ]
  },
  {
   "cell_type": "code",
   "execution_count": 223,
   "id": "9a647381",
   "metadata": {},
   "outputs": [
    {
     "data": {
      "text/plain": [
       "array([7, 8, 5, 0, 4, 2, 6, 9, 3, 1])"
      ]
     },
     "execution_count": 223,
     "metadata": {},
     "output_type": "execute_result"
    }
   ],
   "source": [
    "np.argsort(arr)"
   ]
  },
  {
   "cell_type": "markdown",
   "id": "695225c1",
   "metadata": {},
   "source": [
    "TASK - Posortuj wektor arr w sposób malejący, biorąc pod uwagę wyniki z drugiego egzaminu"
   ]
  },
  {
   "cell_type": "code",
   "execution_count": null,
   "id": "7336f6c0",
   "metadata": {},
   "outputs": [],
   "source": []
  }
 ],
 "metadata": {
  "kernelspec": {
   "display_name": "Python 3 (ipykernel)",
   "language": "python",
   "name": "python3"
  },
  "language_info": {
   "codemirror_mode": {
    "name": "ipython",
    "version": 3
   },
   "file_extension": ".py",
   "mimetype": "text/x-python",
   "name": "python",
   "nbconvert_exporter": "python",
   "pygments_lexer": "ipython3",
   "version": "3.9.13"
  }
 },
 "nbformat": 4,
 "nbformat_minor": 5
}
