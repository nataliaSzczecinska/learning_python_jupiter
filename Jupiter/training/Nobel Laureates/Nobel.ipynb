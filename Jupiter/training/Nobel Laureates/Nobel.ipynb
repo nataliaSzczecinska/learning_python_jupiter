{
 "cells": [
  {
   "cell_type": "markdown",
   "id": "8c971556",
   "metadata": {},
   "source": [
    "# Nobel Laureates 1901 - 2016\n",
    "Zestawienie danych pobranych z https://www.kaggle.com/datasets/nobelfoundation/nobel-laureates?select=archive.csv\n",
    "\n",
    "Analizie poddano zależność ilości kobiet wśród laureatów nagrody Nobla. W szczególności analizowan0:\n",
    "1. Zależność od kategorii, w której otrzymywana była nagroda od płci\n",
    "2. Zależność od kategorii jak i roku otrzymania nagrody od płci\n",
    "\n",
    "Na koniec podsumowano zestawienie i uwzględniono ogólno dostępne fakty wyjaśniające pradopodobne przyczyny takiego stanu."
   ]
  },
  {
   "cell_type": "code",
   "execution_count": 1,
   "id": "d4ee60b9",
   "metadata": {},
   "outputs": [
    {
     "data": {
      "text/html": [
       "        <script type=\"text/javascript\">\n",
       "        window.PlotlyConfig = {MathJaxConfig: 'local'};\n",
       "        if (window.MathJax && window.MathJax.Hub && window.MathJax.Hub.Config) {window.MathJax.Hub.Config({SVG: {font: \"STIX-Web\"}});}\n",
       "        if (typeof require !== 'undefined') {\n",
       "        require.undef(\"plotly\");\n",
       "        requirejs.config({\n",
       "            paths: {\n",
       "                'plotly': ['https://cdn.plot.ly/plotly-2.18.0.min']\n",
       "            }\n",
       "        });\n",
       "        require(['plotly'], function(Plotly) {\n",
       "            window._Plotly = Plotly;\n",
       "        });\n",
       "        }\n",
       "        </script>\n",
       "        "
      ]
     },
     "metadata": {},
     "output_type": "display_data"
    }
   ],
   "source": [
    "# import package to analysis\n",
    "import numpy as np\n",
    "import pandas as pd\n",
    "from plotly.offline import download_plotlyjs, init_notebook_mode, plot, iplot\n",
    "# init_notebook_mode - to show plotly in Notebook's output\n",
    "init_notebook_mode(connected = True)\n",
    "import matplotlib.pyplot as plt\n",
    "import plotly.offline as pyo\n",
    "import plotly.graph_objs as go\n",
    "from plotly import subplots\n",
    "import plotly.figure_factory as ff"
   ]
  },
  {
   "cell_type": "code",
   "execution_count": 2,
   "id": "6ee52e19",
   "metadata": {},
   "outputs": [
    {
     "name": "stdout",
     "output_type": "stream",
     "text": [
      "First rows in Nobel laureates dataset\n"
     ]
    },
    {
     "data": {
      "text/html": [
       "<div>\n",
       "<style scoped>\n",
       "    .dataframe tbody tr th:only-of-type {\n",
       "        vertical-align: middle;\n",
       "    }\n",
       "\n",
       "    .dataframe tbody tr th {\n",
       "        vertical-align: top;\n",
       "    }\n",
       "\n",
       "    .dataframe thead th {\n",
       "        text-align: right;\n",
       "    }\n",
       "</style>\n",
       "<table border=\"1\" class=\"dataframe\">\n",
       "  <thead>\n",
       "    <tr style=\"text-align: right;\">\n",
       "      <th></th>\n",
       "      <th>Year</th>\n",
       "      <th>Category</th>\n",
       "      <th>Prize</th>\n",
       "      <th>Motivation</th>\n",
       "      <th>Prize Share</th>\n",
       "      <th>Laureate ID</th>\n",
       "      <th>Laureate Type</th>\n",
       "      <th>Full Name</th>\n",
       "      <th>Birth Date</th>\n",
       "      <th>Birth City</th>\n",
       "      <th>Birth Country</th>\n",
       "      <th>Sex</th>\n",
       "      <th>Organization Name</th>\n",
       "      <th>Organization City</th>\n",
       "      <th>Organization Country</th>\n",
       "      <th>Death Date</th>\n",
       "      <th>Death City</th>\n",
       "      <th>Death Country</th>\n",
       "    </tr>\n",
       "  </thead>\n",
       "  <tbody>\n",
       "    <tr>\n",
       "      <th>0</th>\n",
       "      <td>1901</td>\n",
       "      <td>Chemistry</td>\n",
       "      <td>The Nobel Prize in Chemistry 1901</td>\n",
       "      <td>\"in recognition of the extraordinary services ...</td>\n",
       "      <td>1/1</td>\n",
       "      <td>160</td>\n",
       "      <td>Individual</td>\n",
       "      <td>Jacobus Henricus van 't Hoff</td>\n",
       "      <td>1852-08-30</td>\n",
       "      <td>Rotterdam</td>\n",
       "      <td>Netherlands</td>\n",
       "      <td>Male</td>\n",
       "      <td>Berlin University</td>\n",
       "      <td>Berlin</td>\n",
       "      <td>Germany</td>\n",
       "      <td>1911-03-01</td>\n",
       "      <td>Berlin</td>\n",
       "      <td>Germany</td>\n",
       "    </tr>\n",
       "    <tr>\n",
       "      <th>1</th>\n",
       "      <td>1901</td>\n",
       "      <td>Literature</td>\n",
       "      <td>The Nobel Prize in Literature 1901</td>\n",
       "      <td>\"in special recognition of his poetic composit...</td>\n",
       "      <td>1/1</td>\n",
       "      <td>569</td>\n",
       "      <td>Individual</td>\n",
       "      <td>Sully Prudhomme</td>\n",
       "      <td>1839-03-16</td>\n",
       "      <td>Paris</td>\n",
       "      <td>France</td>\n",
       "      <td>Male</td>\n",
       "      <td>NaN</td>\n",
       "      <td>NaN</td>\n",
       "      <td>NaN</td>\n",
       "      <td>1907-09-07</td>\n",
       "      <td>Châtenay</td>\n",
       "      <td>France</td>\n",
       "    </tr>\n",
       "    <tr>\n",
       "      <th>2</th>\n",
       "      <td>1901</td>\n",
       "      <td>Medicine</td>\n",
       "      <td>The Nobel Prize in Physiology or Medicine 1901</td>\n",
       "      <td>\"for his work on serum therapy, especially its...</td>\n",
       "      <td>1/1</td>\n",
       "      <td>293</td>\n",
       "      <td>Individual</td>\n",
       "      <td>Emil Adolf von Behring</td>\n",
       "      <td>1854-03-15</td>\n",
       "      <td>Hansdorf (Lawice)</td>\n",
       "      <td>Prussia (Poland)</td>\n",
       "      <td>Male</td>\n",
       "      <td>Marburg University</td>\n",
       "      <td>Marburg</td>\n",
       "      <td>Germany</td>\n",
       "      <td>1917-03-31</td>\n",
       "      <td>Marburg</td>\n",
       "      <td>Germany</td>\n",
       "    </tr>\n",
       "    <tr>\n",
       "      <th>3</th>\n",
       "      <td>1901</td>\n",
       "      <td>Peace</td>\n",
       "      <td>The Nobel Peace Prize 1901</td>\n",
       "      <td>NaN</td>\n",
       "      <td>1/2</td>\n",
       "      <td>462</td>\n",
       "      <td>Individual</td>\n",
       "      <td>Jean Henry Dunant</td>\n",
       "      <td>1828-05-08</td>\n",
       "      <td>Geneva</td>\n",
       "      <td>Switzerland</td>\n",
       "      <td>Male</td>\n",
       "      <td>NaN</td>\n",
       "      <td>NaN</td>\n",
       "      <td>NaN</td>\n",
       "      <td>1910-10-30</td>\n",
       "      <td>Heiden</td>\n",
       "      <td>Switzerland</td>\n",
       "    </tr>\n",
       "    <tr>\n",
       "      <th>4</th>\n",
       "      <td>1901</td>\n",
       "      <td>Peace</td>\n",
       "      <td>The Nobel Peace Prize 1901</td>\n",
       "      <td>NaN</td>\n",
       "      <td>1/2</td>\n",
       "      <td>463</td>\n",
       "      <td>Individual</td>\n",
       "      <td>Frédéric Passy</td>\n",
       "      <td>1822-05-20</td>\n",
       "      <td>Paris</td>\n",
       "      <td>France</td>\n",
       "      <td>Male</td>\n",
       "      <td>NaN</td>\n",
       "      <td>NaN</td>\n",
       "      <td>NaN</td>\n",
       "      <td>1912-06-12</td>\n",
       "      <td>Paris</td>\n",
       "      <td>France</td>\n",
       "    </tr>\n",
       "  </tbody>\n",
       "</table>\n",
       "</div>"
      ],
      "text/plain": [
       "   Year    Category                                           Prize  \\\n",
       "0  1901   Chemistry               The Nobel Prize in Chemistry 1901   \n",
       "1  1901  Literature              The Nobel Prize in Literature 1901   \n",
       "2  1901    Medicine  The Nobel Prize in Physiology or Medicine 1901   \n",
       "3  1901       Peace                      The Nobel Peace Prize 1901   \n",
       "4  1901       Peace                      The Nobel Peace Prize 1901   \n",
       "\n",
       "                                          Motivation Prize Share  Laureate ID  \\\n",
       "0  \"in recognition of the extraordinary services ...         1/1          160   \n",
       "1  \"in special recognition of his poetic composit...         1/1          569   \n",
       "2  \"for his work on serum therapy, especially its...         1/1          293   \n",
       "3                                                NaN         1/2          462   \n",
       "4                                                NaN         1/2          463   \n",
       "\n",
       "  Laureate Type                     Full Name  Birth Date         Birth City  \\\n",
       "0    Individual  Jacobus Henricus van 't Hoff  1852-08-30          Rotterdam   \n",
       "1    Individual               Sully Prudhomme  1839-03-16              Paris   \n",
       "2    Individual        Emil Adolf von Behring  1854-03-15  Hansdorf (Lawice)   \n",
       "3    Individual             Jean Henry Dunant  1828-05-08             Geneva   \n",
       "4    Individual                Frédéric Passy  1822-05-20              Paris   \n",
       "\n",
       "      Birth Country   Sex   Organization Name Organization City  \\\n",
       "0       Netherlands  Male   Berlin University            Berlin   \n",
       "1            France  Male                 NaN               NaN   \n",
       "2  Prussia (Poland)  Male  Marburg University           Marburg   \n",
       "3       Switzerland  Male                 NaN               NaN   \n",
       "4            France  Male                 NaN               NaN   \n",
       "\n",
       "  Organization Country  Death Date Death City Death Country  \n",
       "0              Germany  1911-03-01     Berlin       Germany  \n",
       "1                  NaN  1907-09-07   Châtenay        France  \n",
       "2              Germany  1917-03-31    Marburg       Germany  \n",
       "3                  NaN  1910-10-30     Heiden   Switzerland  \n",
       "4                  NaN  1912-06-12      Paris        France  "
      ]
     },
     "metadata": {},
     "output_type": "display_data"
    },
    {
     "name": "stdout",
     "output_type": "stream",
     "text": [
      "Description of Nobel laureates dataset\n"
     ]
    },
    {
     "data": {
      "text/html": [
       "<div>\n",
       "<style scoped>\n",
       "    .dataframe tbody tr th:only-of-type {\n",
       "        vertical-align: middle;\n",
       "    }\n",
       "\n",
       "    .dataframe tbody tr th {\n",
       "        vertical-align: top;\n",
       "    }\n",
       "\n",
       "    .dataframe thead th {\n",
       "        text-align: right;\n",
       "    }\n",
       "</style>\n",
       "<table border=\"1\" class=\"dataframe\">\n",
       "  <thead>\n",
       "    <tr style=\"text-align: right;\">\n",
       "      <th></th>\n",
       "      <th>Year</th>\n",
       "      <th>Laureate ID</th>\n",
       "    </tr>\n",
       "  </thead>\n",
       "  <tbody>\n",
       "    <tr>\n",
       "      <th>count</th>\n",
       "      <td>969.000000</td>\n",
       "      <td>969.000000</td>\n",
       "    </tr>\n",
       "    <tr>\n",
       "      <th>mean</th>\n",
       "      <td>1970.287926</td>\n",
       "      <td>470.152735</td>\n",
       "    </tr>\n",
       "    <tr>\n",
       "      <th>std</th>\n",
       "      <td>32.937498</td>\n",
       "      <td>274.586623</td>\n",
       "    </tr>\n",
       "    <tr>\n",
       "      <th>min</th>\n",
       "      <td>1901.000000</td>\n",
       "      <td>1.000000</td>\n",
       "    </tr>\n",
       "    <tr>\n",
       "      <th>25%</th>\n",
       "      <td>1947.000000</td>\n",
       "      <td>230.000000</td>\n",
       "    </tr>\n",
       "    <tr>\n",
       "      <th>50%</th>\n",
       "      <td>1976.000000</td>\n",
       "      <td>462.000000</td>\n",
       "    </tr>\n",
       "    <tr>\n",
       "      <th>75%</th>\n",
       "      <td>1999.000000</td>\n",
       "      <td>718.000000</td>\n",
       "    </tr>\n",
       "    <tr>\n",
       "      <th>max</th>\n",
       "      <td>2016.000000</td>\n",
       "      <td>937.000000</td>\n",
       "    </tr>\n",
       "  </tbody>\n",
       "</table>\n",
       "</div>"
      ],
      "text/plain": [
       "              Year  Laureate ID\n",
       "count   969.000000   969.000000\n",
       "mean   1970.287926   470.152735\n",
       "std      32.937498   274.586623\n",
       "min    1901.000000     1.000000\n",
       "25%    1947.000000   230.000000\n",
       "50%    1976.000000   462.000000\n",
       "75%    1999.000000   718.000000\n",
       "max    2016.000000   937.000000"
      ]
     },
     "metadata": {},
     "output_type": "display_data"
    },
    {
     "name": "stdout",
     "output_type": "stream",
     "text": [
      "Info of Nobel laureates dataset\n",
      "<class 'pandas.core.frame.DataFrame'>\n",
      "RangeIndex: 969 entries, 0 to 968\n",
      "Data columns (total 18 columns):\n",
      " #   Column                Non-Null Count  Dtype \n",
      "---  ------                --------------  ----- \n",
      " 0   Year                  969 non-null    int64 \n",
      " 1   Category              969 non-null    object\n",
      " 2   Prize                 969 non-null    object\n",
      " 3   Motivation            881 non-null    object\n",
      " 4   Prize Share           969 non-null    object\n",
      " 5   Laureate ID           969 non-null    int64 \n",
      " 6   Laureate Type         969 non-null    object\n",
      " 7   Full Name             969 non-null    object\n",
      " 8   Birth Date            940 non-null    object\n",
      " 9   Birth City            941 non-null    object\n",
      " 10  Birth Country         943 non-null    object\n",
      " 11  Sex                   943 non-null    object\n",
      " 12  Organization Name     722 non-null    object\n",
      " 13  Organization City     716 non-null    object\n",
      " 14  Organization Country  716 non-null    object\n",
      " 15  Death Date            617 non-null    object\n",
      " 16  Death City            599 non-null    object\n",
      " 17  Death Country         605 non-null    object\n",
      "dtypes: int64(2), object(16)\n",
      "memory usage: 136.4+ KB\n"
     ]
    },
    {
     "data": {
      "text/plain": [
       "None"
      ]
     },
     "metadata": {},
     "output_type": "display_data"
    }
   ],
   "source": [
    "# import nobel laureates dataset\n",
    "laureates = pd.read_csv('archive.csv', sep = ',')\n",
    "print(\"First rows in Nobel laureates dataset\")\n",
    "display(laureates.head())\n",
    "print(\"Description of Nobel laureates dataset\")\n",
    "display(laureates.describe())\n",
    "print(\"Info of Nobel laureates dataset\")\n",
    "display(laureates.info())"
   ]
  },
  {
   "cell_type": "markdown",
   "id": "9d8612f4",
   "metadata": {},
   "source": [
    "## 1. Podział na dyscypliny/kategorie nagrody z uwzględnieniem płci"
   ]
  },
  {
   "cell_type": "code",
   "execution_count": 3,
   "id": "a9d3edb7",
   "metadata": {},
   "outputs": [
    {
     "data": {
      "text/html": [
       "<div>\n",
       "<style scoped>\n",
       "    .dataframe tbody tr th:only-of-type {\n",
       "        vertical-align: middle;\n",
       "    }\n",
       "\n",
       "    .dataframe tbody tr th {\n",
       "        vertical-align: top;\n",
       "    }\n",
       "\n",
       "    .dataframe thead th {\n",
       "        text-align: right;\n",
       "    }\n",
       "</style>\n",
       "<table border=\"1\" class=\"dataframe\">\n",
       "  <thead>\n",
       "    <tr style=\"text-align: right;\">\n",
       "      <th></th>\n",
       "      <th>Sex</th>\n",
       "      <th>Category</th>\n",
       "      <th>Full Name</th>\n",
       "      <th>Year</th>\n",
       "    </tr>\n",
       "  </thead>\n",
       "  <tbody>\n",
       "    <tr>\n",
       "      <th>0</th>\n",
       "      <td>Male</td>\n",
       "      <td>Chemistry</td>\n",
       "      <td>Jacobus Henricus van 't Hoff</td>\n",
       "      <td>1901</td>\n",
       "    </tr>\n",
       "    <tr>\n",
       "      <th>1</th>\n",
       "      <td>Male</td>\n",
       "      <td>Literature</td>\n",
       "      <td>Sully Prudhomme</td>\n",
       "      <td>1901</td>\n",
       "    </tr>\n",
       "    <tr>\n",
       "      <th>2</th>\n",
       "      <td>Male</td>\n",
       "      <td>Medicine</td>\n",
       "      <td>Emil Adolf von Behring</td>\n",
       "      <td>1901</td>\n",
       "    </tr>\n",
       "    <tr>\n",
       "      <th>3</th>\n",
       "      <td>Male</td>\n",
       "      <td>Peace</td>\n",
       "      <td>Jean Henry Dunant</td>\n",
       "      <td>1901</td>\n",
       "    </tr>\n",
       "    <tr>\n",
       "      <th>4</th>\n",
       "      <td>Male</td>\n",
       "      <td>Peace</td>\n",
       "      <td>Frédéric Passy</td>\n",
       "      <td>1901</td>\n",
       "    </tr>\n",
       "  </tbody>\n",
       "</table>\n",
       "</div>"
      ],
      "text/plain": [
       "    Sex    Category                     Full Name  Year\n",
       "0  Male   Chemistry  Jacobus Henricus van 't Hoff  1901\n",
       "1  Male  Literature               Sully Prudhomme  1901\n",
       "2  Male    Medicine        Emil Adolf von Behring  1901\n",
       "3  Male       Peace             Jean Henry Dunant  1901\n",
       "4  Male       Peace                Frédéric Passy  1901"
      ]
     },
     "metadata": {},
     "output_type": "display_data"
    }
   ],
   "source": [
    "category_and_sex = laureates[['Sex', 'Category', 'Full Name', 'Year']]\n",
    "display(category_and_sex.head())"
   ]
  },
  {
   "cell_type": "code",
   "execution_count": 4,
   "id": "411aa703",
   "metadata": {},
   "outputs": [
    {
     "data": {
      "text/html": [
       "<div>\n",
       "<style scoped>\n",
       "    .dataframe tbody tr th:only-of-type {\n",
       "        vertical-align: middle;\n",
       "    }\n",
       "\n",
       "    .dataframe tbody tr th {\n",
       "        vertical-align: top;\n",
       "    }\n",
       "\n",
       "    .dataframe thead th {\n",
       "        text-align: right;\n",
       "    }\n",
       "</style>\n",
       "<table border=\"1\" class=\"dataframe\">\n",
       "  <thead>\n",
       "    <tr style=\"text-align: right;\">\n",
       "      <th></th>\n",
       "      <th>Category</th>\n",
       "      <th>Sex</th>\n",
       "      <th>number_of_prize</th>\n",
       "    </tr>\n",
       "  </thead>\n",
       "  <tbody>\n",
       "    <tr>\n",
       "      <th>0</th>\n",
       "      <td>Chemistry</td>\n",
       "      <td>Female</td>\n",
       "      <td>4</td>\n",
       "    </tr>\n",
       "    <tr>\n",
       "      <th>1</th>\n",
       "      <td>Chemistry</td>\n",
       "      <td>Male</td>\n",
       "      <td>190</td>\n",
       "    </tr>\n",
       "    <tr>\n",
       "      <th>2</th>\n",
       "      <td>Economics</td>\n",
       "      <td>Female</td>\n",
       "      <td>2</td>\n",
       "    </tr>\n",
       "    <tr>\n",
       "      <th>3</th>\n",
       "      <td>Economics</td>\n",
       "      <td>Male</td>\n",
       "      <td>81</td>\n",
       "    </tr>\n",
       "    <tr>\n",
       "      <th>4</th>\n",
       "      <td>Literature</td>\n",
       "      <td>Female</td>\n",
       "      <td>14</td>\n",
       "    </tr>\n",
       "    <tr>\n",
       "      <th>5</th>\n",
       "      <td>Literature</td>\n",
       "      <td>Male</td>\n",
       "      <td>99</td>\n",
       "    </tr>\n",
       "    <tr>\n",
       "      <th>6</th>\n",
       "      <td>Medicine</td>\n",
       "      <td>Female</td>\n",
       "      <td>12</td>\n",
       "    </tr>\n",
       "    <tr>\n",
       "      <th>7</th>\n",
       "      <td>Medicine</td>\n",
       "      <td>Male</td>\n",
       "      <td>215</td>\n",
       "    </tr>\n",
       "    <tr>\n",
       "      <th>8</th>\n",
       "      <td>Peace</td>\n",
       "      <td>Female</td>\n",
       "      <td>16</td>\n",
       "    </tr>\n",
       "    <tr>\n",
       "      <th>9</th>\n",
       "      <td>Peace</td>\n",
       "      <td>Male</td>\n",
       "      <td>88</td>\n",
       "    </tr>\n",
       "    <tr>\n",
       "      <th>10</th>\n",
       "      <td>Physics</td>\n",
       "      <td>Female</td>\n",
       "      <td>2</td>\n",
       "    </tr>\n",
       "    <tr>\n",
       "      <th>11</th>\n",
       "      <td>Physics</td>\n",
       "      <td>Male</td>\n",
       "      <td>220</td>\n",
       "    </tr>\n",
       "  </tbody>\n",
       "</table>\n",
       "</div>"
      ],
      "text/plain": [
       "      Category     Sex  number_of_prize\n",
       "0    Chemistry  Female                4\n",
       "1    Chemistry    Male              190\n",
       "2    Economics  Female                2\n",
       "3    Economics    Male               81\n",
       "4   Literature  Female               14\n",
       "5   Literature    Male               99\n",
       "6     Medicine  Female               12\n",
       "7     Medicine    Male              215\n",
       "8        Peace  Female               16\n",
       "9        Peace    Male               88\n",
       "10     Physics  Female                2\n",
       "11     Physics    Male              220"
      ]
     },
     "metadata": {},
     "output_type": "display_data"
    }
   ],
   "source": [
    "# analysis\n",
    "laureates_by_category_and_sex = category_and_sex.pivot_table(index = {'Category', 'Sex'}, aggfunc = 'count')['Year'].to_frame()\n",
    "laureates_by_category_and_sex.rename(columns = {'Year' : 'number_of_prize'}, inplace = True)\n",
    "laureates_by_category_and_sex.reset_index(inplace = True)\n",
    "display(laureates_by_category_and_sex)"
   ]
  },
  {
   "cell_type": "code",
   "execution_count": 5,
   "id": "7a4c08a0",
   "metadata": {},
   "outputs": [
    {
     "data": {
      "text/html": [
       "<div>\n",
       "<style scoped>\n",
       "    .dataframe tbody tr th:only-of-type {\n",
       "        vertical-align: middle;\n",
       "    }\n",
       "\n",
       "    .dataframe tbody tr th {\n",
       "        vertical-align: top;\n",
       "    }\n",
       "\n",
       "    .dataframe thead th {\n",
       "        text-align: right;\n",
       "    }\n",
       "</style>\n",
       "<table border=\"1\" class=\"dataframe\">\n",
       "  <thead>\n",
       "    <tr style=\"text-align: right;\">\n",
       "      <th></th>\n",
       "      <th>Category</th>\n",
       "      <th>Sex</th>\n",
       "      <th>number_of_prize</th>\n",
       "    </tr>\n",
       "  </thead>\n",
       "  <tbody>\n",
       "    <tr>\n",
       "      <th>0</th>\n",
       "      <td>Chemistry</td>\n",
       "      <td>Female</td>\n",
       "      <td>4</td>\n",
       "    </tr>\n",
       "    <tr>\n",
       "      <th>2</th>\n",
       "      <td>Economics</td>\n",
       "      <td>Female</td>\n",
       "      <td>2</td>\n",
       "    </tr>\n",
       "    <tr>\n",
       "      <th>4</th>\n",
       "      <td>Literature</td>\n",
       "      <td>Female</td>\n",
       "      <td>14</td>\n",
       "    </tr>\n",
       "    <tr>\n",
       "      <th>6</th>\n",
       "      <td>Medicine</td>\n",
       "      <td>Female</td>\n",
       "      <td>12</td>\n",
       "    </tr>\n",
       "    <tr>\n",
       "      <th>8</th>\n",
       "      <td>Peace</td>\n",
       "      <td>Female</td>\n",
       "      <td>16</td>\n",
       "    </tr>\n",
       "    <tr>\n",
       "      <th>10</th>\n",
       "      <td>Physics</td>\n",
       "      <td>Female</td>\n",
       "      <td>2</td>\n",
       "    </tr>\n",
       "  </tbody>\n",
       "</table>\n",
       "</div>"
      ],
      "text/plain": [
       "      Category     Sex  number_of_prize\n",
       "0    Chemistry  Female                4\n",
       "2    Economics  Female                2\n",
       "4   Literature  Female               14\n",
       "6     Medicine  Female               12\n",
       "8        Peace  Female               16\n",
       "10     Physics  Female                2"
      ]
     },
     "metadata": {},
     "output_type": "display_data"
    },
    {
     "data": {
      "text/html": [
       "<div>\n",
       "<style scoped>\n",
       "    .dataframe tbody tr th:only-of-type {\n",
       "        vertical-align: middle;\n",
       "    }\n",
       "\n",
       "    .dataframe tbody tr th {\n",
       "        vertical-align: top;\n",
       "    }\n",
       "\n",
       "    .dataframe thead th {\n",
       "        text-align: right;\n",
       "    }\n",
       "</style>\n",
       "<table border=\"1\" class=\"dataframe\">\n",
       "  <thead>\n",
       "    <tr style=\"text-align: right;\">\n",
       "      <th></th>\n",
       "      <th>Category</th>\n",
       "      <th>Sex</th>\n",
       "      <th>number_of_prize</th>\n",
       "    </tr>\n",
       "  </thead>\n",
       "  <tbody>\n",
       "    <tr>\n",
       "      <th>1</th>\n",
       "      <td>Chemistry</td>\n",
       "      <td>Male</td>\n",
       "      <td>190</td>\n",
       "    </tr>\n",
       "    <tr>\n",
       "      <th>3</th>\n",
       "      <td>Economics</td>\n",
       "      <td>Male</td>\n",
       "      <td>81</td>\n",
       "    </tr>\n",
       "    <tr>\n",
       "      <th>5</th>\n",
       "      <td>Literature</td>\n",
       "      <td>Male</td>\n",
       "      <td>99</td>\n",
       "    </tr>\n",
       "    <tr>\n",
       "      <th>7</th>\n",
       "      <td>Medicine</td>\n",
       "      <td>Male</td>\n",
       "      <td>215</td>\n",
       "    </tr>\n",
       "    <tr>\n",
       "      <th>9</th>\n",
       "      <td>Peace</td>\n",
       "      <td>Male</td>\n",
       "      <td>88</td>\n",
       "    </tr>\n",
       "    <tr>\n",
       "      <th>11</th>\n",
       "      <td>Physics</td>\n",
       "      <td>Male</td>\n",
       "      <td>220</td>\n",
       "    </tr>\n",
       "  </tbody>\n",
       "</table>\n",
       "</div>"
      ],
      "text/plain": [
       "      Category   Sex  number_of_prize\n",
       "1    Chemistry  Male              190\n",
       "3    Economics  Male               81\n",
       "5   Literature  Male               99\n",
       "7     Medicine  Male              215\n",
       "9        Peace  Male               88\n",
       "11     Physics  Male              220"
      ]
     },
     "metadata": {},
     "output_type": "display_data"
    }
   ],
   "source": [
    "female_laureates_by_category = laureates_by_category_and_sex[laureates_by_category_and_sex['Sex'] == 'Female']\n",
    "male_laureates_by_category = laureates_by_category_and_sex[laureates_by_category_and_sex['Sex'] == 'Male']\n",
    "display(female_laureates_by_category)\n",
    "display(male_laureates_by_category)"
   ]
  },
  {
   "cell_type": "code",
   "execution_count": 6,
   "id": "6a1f42ec",
   "metadata": {},
   "outputs": [
    {
     "data": {
      "text/html": [
       "<div>\n",
       "<style scoped>\n",
       "    .dataframe tbody tr th:only-of-type {\n",
       "        vertical-align: middle;\n",
       "    }\n",
       "\n",
       "    .dataframe tbody tr th {\n",
       "        vertical-align: top;\n",
       "    }\n",
       "\n",
       "    .dataframe thead th {\n",
       "        text-align: right;\n",
       "    }\n",
       "</style>\n",
       "<table border=\"1\" class=\"dataframe\">\n",
       "  <thead>\n",
       "    <tr style=\"text-align: right;\">\n",
       "      <th></th>\n",
       "      <th>Category</th>\n",
       "      <th>female</th>\n",
       "      <th>male</th>\n",
       "    </tr>\n",
       "  </thead>\n",
       "  <tbody>\n",
       "    <tr>\n",
       "      <th>0</th>\n",
       "      <td>Chemistry</td>\n",
       "      <td>4</td>\n",
       "      <td>190</td>\n",
       "    </tr>\n",
       "    <tr>\n",
       "      <th>1</th>\n",
       "      <td>Economics</td>\n",
       "      <td>2</td>\n",
       "      <td>81</td>\n",
       "    </tr>\n",
       "    <tr>\n",
       "      <th>2</th>\n",
       "      <td>Literature</td>\n",
       "      <td>14</td>\n",
       "      <td>99</td>\n",
       "    </tr>\n",
       "    <tr>\n",
       "      <th>3</th>\n",
       "      <td>Medicine</td>\n",
       "      <td>12</td>\n",
       "      <td>215</td>\n",
       "    </tr>\n",
       "    <tr>\n",
       "      <th>4</th>\n",
       "      <td>Peace</td>\n",
       "      <td>16</td>\n",
       "      <td>88</td>\n",
       "    </tr>\n",
       "    <tr>\n",
       "      <th>5</th>\n",
       "      <td>Physics</td>\n",
       "      <td>2</td>\n",
       "      <td>220</td>\n",
       "    </tr>\n",
       "  </tbody>\n",
       "</table>\n",
       "</div>"
      ],
      "text/plain": [
       "     Category  female  male\n",
       "0   Chemistry       4   190\n",
       "1   Economics       2    81\n",
       "2  Literature      14    99\n",
       "3    Medicine      12   215\n",
       "4       Peace      16    88\n",
       "5     Physics       2   220"
      ]
     },
     "metadata": {},
     "output_type": "display_data"
    }
   ],
   "source": [
    "laureates_all_categories_by_sex = female_laureates_by_category.merge(male_laureates_by_category, how = 'outer', on = 'Category')\n",
    "laureates_all_categories_by_sex.rename(columns = {'number_of_prize_x' : 'female', 'number_of_prize_y' : 'male'}, inplace = True)\n",
    "laureates_all_categories_by_sex.drop(columns = {'Sex_x', 'Sex_y'}, inplace = True)\n",
    "display(laureates_all_categories_by_sex)"
   ]
  },
  {
   "cell_type": "code",
   "execution_count": 7,
   "id": "11b15d0c",
   "metadata": {},
   "outputs": [
    {
     "data": {
      "application/vnd.plotly.v1+json": {
       "config": {
        "linkText": "Export to plot.ly",
        "plotlyServerURL": "https://plot.ly",
        "showLink": false
       },
       "data": [
        {
         "name": "female",
         "type": "bar",
         "x": [
          "Chemistry",
          "Economics",
          "Literature",
          "Medicine",
          "Peace",
          "Physics"
         ],
         "y": [
          4,
          2,
          14,
          12,
          16,
          2
         ]
        },
        {
         "name": "male",
         "type": "bar",
         "x": [
          "Chemistry",
          "Economics",
          "Literature",
          "Medicine",
          "Peace",
          "Physics"
         ],
         "y": [
          190,
          81,
          99,
          215,
          88,
          220
         ]
        }
       ],
       "layout": {
        "template": {
         "data": {
          "bar": [
           {
            "error_x": {
             "color": "#2a3f5f"
            },
            "error_y": {
             "color": "#2a3f5f"
            },
            "marker": {
             "line": {
              "color": "#E5ECF6",
              "width": 0.5
             },
             "pattern": {
              "fillmode": "overlay",
              "size": 10,
              "solidity": 0.2
             }
            },
            "type": "bar"
           }
          ],
          "barpolar": [
           {
            "marker": {
             "line": {
              "color": "#E5ECF6",
              "width": 0.5
             },
             "pattern": {
              "fillmode": "overlay",
              "size": 10,
              "solidity": 0.2
             }
            },
            "type": "barpolar"
           }
          ],
          "carpet": [
           {
            "aaxis": {
             "endlinecolor": "#2a3f5f",
             "gridcolor": "white",
             "linecolor": "white",
             "minorgridcolor": "white",
             "startlinecolor": "#2a3f5f"
            },
            "baxis": {
             "endlinecolor": "#2a3f5f",
             "gridcolor": "white",
             "linecolor": "white",
             "minorgridcolor": "white",
             "startlinecolor": "#2a3f5f"
            },
            "type": "carpet"
           }
          ],
          "choropleth": [
           {
            "colorbar": {
             "outlinewidth": 0,
             "ticks": ""
            },
            "type": "choropleth"
           }
          ],
          "contour": [
           {
            "colorbar": {
             "outlinewidth": 0,
             "ticks": ""
            },
            "colorscale": [
             [
              0,
              "#0d0887"
             ],
             [
              0.1111111111111111,
              "#46039f"
             ],
             [
              0.2222222222222222,
              "#7201a8"
             ],
             [
              0.3333333333333333,
              "#9c179e"
             ],
             [
              0.4444444444444444,
              "#bd3786"
             ],
             [
              0.5555555555555556,
              "#d8576b"
             ],
             [
              0.6666666666666666,
              "#ed7953"
             ],
             [
              0.7777777777777778,
              "#fb9f3a"
             ],
             [
              0.8888888888888888,
              "#fdca26"
             ],
             [
              1,
              "#f0f921"
             ]
            ],
            "type": "contour"
           }
          ],
          "contourcarpet": [
           {
            "colorbar": {
             "outlinewidth": 0,
             "ticks": ""
            },
            "type": "contourcarpet"
           }
          ],
          "heatmap": [
           {
            "colorbar": {
             "outlinewidth": 0,
             "ticks": ""
            },
            "colorscale": [
             [
              0,
              "#0d0887"
             ],
             [
              0.1111111111111111,
              "#46039f"
             ],
             [
              0.2222222222222222,
              "#7201a8"
             ],
             [
              0.3333333333333333,
              "#9c179e"
             ],
             [
              0.4444444444444444,
              "#bd3786"
             ],
             [
              0.5555555555555556,
              "#d8576b"
             ],
             [
              0.6666666666666666,
              "#ed7953"
             ],
             [
              0.7777777777777778,
              "#fb9f3a"
             ],
             [
              0.8888888888888888,
              "#fdca26"
             ],
             [
              1,
              "#f0f921"
             ]
            ],
            "type": "heatmap"
           }
          ],
          "heatmapgl": [
           {
            "colorbar": {
             "outlinewidth": 0,
             "ticks": ""
            },
            "colorscale": [
             [
              0,
              "#0d0887"
             ],
             [
              0.1111111111111111,
              "#46039f"
             ],
             [
              0.2222222222222222,
              "#7201a8"
             ],
             [
              0.3333333333333333,
              "#9c179e"
             ],
             [
              0.4444444444444444,
              "#bd3786"
             ],
             [
              0.5555555555555556,
              "#d8576b"
             ],
             [
              0.6666666666666666,
              "#ed7953"
             ],
             [
              0.7777777777777778,
              "#fb9f3a"
             ],
             [
              0.8888888888888888,
              "#fdca26"
             ],
             [
              1,
              "#f0f921"
             ]
            ],
            "type": "heatmapgl"
           }
          ],
          "histogram": [
           {
            "marker": {
             "pattern": {
              "fillmode": "overlay",
              "size": 10,
              "solidity": 0.2
             }
            },
            "type": "histogram"
           }
          ],
          "histogram2d": [
           {
            "colorbar": {
             "outlinewidth": 0,
             "ticks": ""
            },
            "colorscale": [
             [
              0,
              "#0d0887"
             ],
             [
              0.1111111111111111,
              "#46039f"
             ],
             [
              0.2222222222222222,
              "#7201a8"
             ],
             [
              0.3333333333333333,
              "#9c179e"
             ],
             [
              0.4444444444444444,
              "#bd3786"
             ],
             [
              0.5555555555555556,
              "#d8576b"
             ],
             [
              0.6666666666666666,
              "#ed7953"
             ],
             [
              0.7777777777777778,
              "#fb9f3a"
             ],
             [
              0.8888888888888888,
              "#fdca26"
             ],
             [
              1,
              "#f0f921"
             ]
            ],
            "type": "histogram2d"
           }
          ],
          "histogram2dcontour": [
           {
            "colorbar": {
             "outlinewidth": 0,
             "ticks": ""
            },
            "colorscale": [
             [
              0,
              "#0d0887"
             ],
             [
              0.1111111111111111,
              "#46039f"
             ],
             [
              0.2222222222222222,
              "#7201a8"
             ],
             [
              0.3333333333333333,
              "#9c179e"
             ],
             [
              0.4444444444444444,
              "#bd3786"
             ],
             [
              0.5555555555555556,
              "#d8576b"
             ],
             [
              0.6666666666666666,
              "#ed7953"
             ],
             [
              0.7777777777777778,
              "#fb9f3a"
             ],
             [
              0.8888888888888888,
              "#fdca26"
             ],
             [
              1,
              "#f0f921"
             ]
            ],
            "type": "histogram2dcontour"
           }
          ],
          "mesh3d": [
           {
            "colorbar": {
             "outlinewidth": 0,
             "ticks": ""
            },
            "type": "mesh3d"
           }
          ],
          "parcoords": [
           {
            "line": {
             "colorbar": {
              "outlinewidth": 0,
              "ticks": ""
             }
            },
            "type": "parcoords"
           }
          ],
          "pie": [
           {
            "automargin": true,
            "type": "pie"
           }
          ],
          "scatter": [
           {
            "fillpattern": {
             "fillmode": "overlay",
             "size": 10,
             "solidity": 0.2
            },
            "type": "scatter"
           }
          ],
          "scatter3d": [
           {
            "line": {
             "colorbar": {
              "outlinewidth": 0,
              "ticks": ""
             }
            },
            "marker": {
             "colorbar": {
              "outlinewidth": 0,
              "ticks": ""
             }
            },
            "type": "scatter3d"
           }
          ],
          "scattercarpet": [
           {
            "marker": {
             "colorbar": {
              "outlinewidth": 0,
              "ticks": ""
             }
            },
            "type": "scattercarpet"
           }
          ],
          "scattergeo": [
           {
            "marker": {
             "colorbar": {
              "outlinewidth": 0,
              "ticks": ""
             }
            },
            "type": "scattergeo"
           }
          ],
          "scattergl": [
           {
            "marker": {
             "colorbar": {
              "outlinewidth": 0,
              "ticks": ""
             }
            },
            "type": "scattergl"
           }
          ],
          "scattermapbox": [
           {
            "marker": {
             "colorbar": {
              "outlinewidth": 0,
              "ticks": ""
             }
            },
            "type": "scattermapbox"
           }
          ],
          "scatterpolar": [
           {
            "marker": {
             "colorbar": {
              "outlinewidth": 0,
              "ticks": ""
             }
            },
            "type": "scatterpolar"
           }
          ],
          "scatterpolargl": [
           {
            "marker": {
             "colorbar": {
              "outlinewidth": 0,
              "ticks": ""
             }
            },
            "type": "scatterpolargl"
           }
          ],
          "scatterternary": [
           {
            "marker": {
             "colorbar": {
              "outlinewidth": 0,
              "ticks": ""
             }
            },
            "type": "scatterternary"
           }
          ],
          "surface": [
           {
            "colorbar": {
             "outlinewidth": 0,
             "ticks": ""
            },
            "colorscale": [
             [
              0,
              "#0d0887"
             ],
             [
              0.1111111111111111,
              "#46039f"
             ],
             [
              0.2222222222222222,
              "#7201a8"
             ],
             [
              0.3333333333333333,
              "#9c179e"
             ],
             [
              0.4444444444444444,
              "#bd3786"
             ],
             [
              0.5555555555555556,
              "#d8576b"
             ],
             [
              0.6666666666666666,
              "#ed7953"
             ],
             [
              0.7777777777777778,
              "#fb9f3a"
             ],
             [
              0.8888888888888888,
              "#fdca26"
             ],
             [
              1,
              "#f0f921"
             ]
            ],
            "type": "surface"
           }
          ],
          "table": [
           {
            "cells": {
             "fill": {
              "color": "#EBF0F8"
             },
             "line": {
              "color": "white"
             }
            },
            "header": {
             "fill": {
              "color": "#C8D4E3"
             },
             "line": {
              "color": "white"
             }
            },
            "type": "table"
           }
          ]
         },
         "layout": {
          "annotationdefaults": {
           "arrowcolor": "#2a3f5f",
           "arrowhead": 0,
           "arrowwidth": 1
          },
          "autotypenumbers": "strict",
          "coloraxis": {
           "colorbar": {
            "outlinewidth": 0,
            "ticks": ""
           }
          },
          "colorscale": {
           "diverging": [
            [
             0,
             "#8e0152"
            ],
            [
             0.1,
             "#c51b7d"
            ],
            [
             0.2,
             "#de77ae"
            ],
            [
             0.3,
             "#f1b6da"
            ],
            [
             0.4,
             "#fde0ef"
            ],
            [
             0.5,
             "#f7f7f7"
            ],
            [
             0.6,
             "#e6f5d0"
            ],
            [
             0.7,
             "#b8e186"
            ],
            [
             0.8,
             "#7fbc41"
            ],
            [
             0.9,
             "#4d9221"
            ],
            [
             1,
             "#276419"
            ]
           ],
           "sequential": [
            [
             0,
             "#0d0887"
            ],
            [
             0.1111111111111111,
             "#46039f"
            ],
            [
             0.2222222222222222,
             "#7201a8"
            ],
            [
             0.3333333333333333,
             "#9c179e"
            ],
            [
             0.4444444444444444,
             "#bd3786"
            ],
            [
             0.5555555555555556,
             "#d8576b"
            ],
            [
             0.6666666666666666,
             "#ed7953"
            ],
            [
             0.7777777777777778,
             "#fb9f3a"
            ],
            [
             0.8888888888888888,
             "#fdca26"
            ],
            [
             1,
             "#f0f921"
            ]
           ],
           "sequentialminus": [
            [
             0,
             "#0d0887"
            ],
            [
             0.1111111111111111,
             "#46039f"
            ],
            [
             0.2222222222222222,
             "#7201a8"
            ],
            [
             0.3333333333333333,
             "#9c179e"
            ],
            [
             0.4444444444444444,
             "#bd3786"
            ],
            [
             0.5555555555555556,
             "#d8576b"
            ],
            [
             0.6666666666666666,
             "#ed7953"
            ],
            [
             0.7777777777777778,
             "#fb9f3a"
            ],
            [
             0.8888888888888888,
             "#fdca26"
            ],
            [
             1,
             "#f0f921"
            ]
           ]
          },
          "colorway": [
           "#636efa",
           "#EF553B",
           "#00cc96",
           "#ab63fa",
           "#FFA15A",
           "#19d3f3",
           "#FF6692",
           "#B6E880",
           "#FF97FF",
           "#FECB52"
          ],
          "font": {
           "color": "#2a3f5f"
          },
          "geo": {
           "bgcolor": "white",
           "lakecolor": "white",
           "landcolor": "#E5ECF6",
           "showlakes": true,
           "showland": true,
           "subunitcolor": "white"
          },
          "hoverlabel": {
           "align": "left"
          },
          "hovermode": "closest",
          "mapbox": {
           "style": "light"
          },
          "paper_bgcolor": "white",
          "plot_bgcolor": "#E5ECF6",
          "polar": {
           "angularaxis": {
            "gridcolor": "white",
            "linecolor": "white",
            "ticks": ""
           },
           "bgcolor": "#E5ECF6",
           "radialaxis": {
            "gridcolor": "white",
            "linecolor": "white",
            "ticks": ""
           }
          },
          "scene": {
           "xaxis": {
            "backgroundcolor": "#E5ECF6",
            "gridcolor": "white",
            "gridwidth": 2,
            "linecolor": "white",
            "showbackground": true,
            "ticks": "",
            "zerolinecolor": "white"
           },
           "yaxis": {
            "backgroundcolor": "#E5ECF6",
            "gridcolor": "white",
            "gridwidth": 2,
            "linecolor": "white",
            "showbackground": true,
            "ticks": "",
            "zerolinecolor": "white"
           },
           "zaxis": {
            "backgroundcolor": "#E5ECF6",
            "gridcolor": "white",
            "gridwidth": 2,
            "linecolor": "white",
            "showbackground": true,
            "ticks": "",
            "zerolinecolor": "white"
           }
          },
          "shapedefaults": {
           "line": {
            "color": "#2a3f5f"
           }
          },
          "ternary": {
           "aaxis": {
            "gridcolor": "white",
            "linecolor": "white",
            "ticks": ""
           },
           "baxis": {
            "gridcolor": "white",
            "linecolor": "white",
            "ticks": ""
           },
           "bgcolor": "#E5ECF6",
           "caxis": {
            "gridcolor": "white",
            "linecolor": "white",
            "ticks": ""
           }
          },
          "title": {
           "x": 0.05
          },
          "xaxis": {
           "automargin": true,
           "gridcolor": "white",
           "linecolor": "white",
           "ticks": "",
           "title": {
            "standoff": 15
           },
           "zerolinecolor": "white",
           "zerolinewidth": 2
          },
          "yaxis": {
           "automargin": true,
           "gridcolor": "white",
           "linecolor": "white",
           "ticks": "",
           "title": {
            "standoff": 15
           },
           "zerolinecolor": "white",
           "zerolinewidth": 2
          }
         }
        },
        "title": {
         "text": "Zestawienie danych 1901-2016 otrzymania nagrody Nobla dla różnych kategorii z uwzględnieniem płci"
        }
       }
      },
      "text/html": [
       "<div>                            <div id=\"c5909f8e-9302-424d-9b85-9e2b87384168\" class=\"plotly-graph-div\" style=\"height:525px; width:100%;\"></div>            <script type=\"text/javascript\">                require([\"plotly\"], function(Plotly) {                    window.PLOTLYENV=window.PLOTLYENV || {};                                    if (document.getElementById(\"c5909f8e-9302-424d-9b85-9e2b87384168\")) {                    Plotly.newPlot(                        \"c5909f8e-9302-424d-9b85-9e2b87384168\",                        [{\"name\":\"female\",\"x\":[\"Chemistry\",\"Economics\",\"Literature\",\"Medicine\",\"Peace\",\"Physics\"],\"y\":[4,2,14,12,16,2],\"type\":\"bar\"},{\"name\":\"male\",\"x\":[\"Chemistry\",\"Economics\",\"Literature\",\"Medicine\",\"Peace\",\"Physics\"],\"y\":[190,81,99,215,88,220],\"type\":\"bar\"}],                        {\"template\":{\"data\":{\"barpolar\":[{\"marker\":{\"line\":{\"color\":\"#E5ECF6\",\"width\":0.5},\"pattern\":{\"fillmode\":\"overlay\",\"size\":10,\"solidity\":0.2}},\"type\":\"barpolar\"}],\"bar\":[{\"error_x\":{\"color\":\"#2a3f5f\"},\"error_y\":{\"color\":\"#2a3f5f\"},\"marker\":{\"line\":{\"color\":\"#E5ECF6\",\"width\":0.5},\"pattern\":{\"fillmode\":\"overlay\",\"size\":10,\"solidity\":0.2}},\"type\":\"bar\"}],\"carpet\":[{\"aaxis\":{\"endlinecolor\":\"#2a3f5f\",\"gridcolor\":\"white\",\"linecolor\":\"white\",\"minorgridcolor\":\"white\",\"startlinecolor\":\"#2a3f5f\"},\"baxis\":{\"endlinecolor\":\"#2a3f5f\",\"gridcolor\":\"white\",\"linecolor\":\"white\",\"minorgridcolor\":\"white\",\"startlinecolor\":\"#2a3f5f\"},\"type\":\"carpet\"}],\"choropleth\":[{\"colorbar\":{\"outlinewidth\":0,\"ticks\":\"\"},\"type\":\"choropleth\"}],\"contourcarpet\":[{\"colorbar\":{\"outlinewidth\":0,\"ticks\":\"\"},\"type\":\"contourcarpet\"}],\"contour\":[{\"colorbar\":{\"outlinewidth\":0,\"ticks\":\"\"},\"colorscale\":[[0.0,\"#0d0887\"],[0.1111111111111111,\"#46039f\"],[0.2222222222222222,\"#7201a8\"],[0.3333333333333333,\"#9c179e\"],[0.4444444444444444,\"#bd3786\"],[0.5555555555555556,\"#d8576b\"],[0.6666666666666666,\"#ed7953\"],[0.7777777777777778,\"#fb9f3a\"],[0.8888888888888888,\"#fdca26\"],[1.0,\"#f0f921\"]],\"type\":\"contour\"}],\"heatmapgl\":[{\"colorbar\":{\"outlinewidth\":0,\"ticks\":\"\"},\"colorscale\":[[0.0,\"#0d0887\"],[0.1111111111111111,\"#46039f\"],[0.2222222222222222,\"#7201a8\"],[0.3333333333333333,\"#9c179e\"],[0.4444444444444444,\"#bd3786\"],[0.5555555555555556,\"#d8576b\"],[0.6666666666666666,\"#ed7953\"],[0.7777777777777778,\"#fb9f3a\"],[0.8888888888888888,\"#fdca26\"],[1.0,\"#f0f921\"]],\"type\":\"heatmapgl\"}],\"heatmap\":[{\"colorbar\":{\"outlinewidth\":0,\"ticks\":\"\"},\"colorscale\":[[0.0,\"#0d0887\"],[0.1111111111111111,\"#46039f\"],[0.2222222222222222,\"#7201a8\"],[0.3333333333333333,\"#9c179e\"],[0.4444444444444444,\"#bd3786\"],[0.5555555555555556,\"#d8576b\"],[0.6666666666666666,\"#ed7953\"],[0.7777777777777778,\"#fb9f3a\"],[0.8888888888888888,\"#fdca26\"],[1.0,\"#f0f921\"]],\"type\":\"heatmap\"}],\"histogram2dcontour\":[{\"colorbar\":{\"outlinewidth\":0,\"ticks\":\"\"},\"colorscale\":[[0.0,\"#0d0887\"],[0.1111111111111111,\"#46039f\"],[0.2222222222222222,\"#7201a8\"],[0.3333333333333333,\"#9c179e\"],[0.4444444444444444,\"#bd3786\"],[0.5555555555555556,\"#d8576b\"],[0.6666666666666666,\"#ed7953\"],[0.7777777777777778,\"#fb9f3a\"],[0.8888888888888888,\"#fdca26\"],[1.0,\"#f0f921\"]],\"type\":\"histogram2dcontour\"}],\"histogram2d\":[{\"colorbar\":{\"outlinewidth\":0,\"ticks\":\"\"},\"colorscale\":[[0.0,\"#0d0887\"],[0.1111111111111111,\"#46039f\"],[0.2222222222222222,\"#7201a8\"],[0.3333333333333333,\"#9c179e\"],[0.4444444444444444,\"#bd3786\"],[0.5555555555555556,\"#d8576b\"],[0.6666666666666666,\"#ed7953\"],[0.7777777777777778,\"#fb9f3a\"],[0.8888888888888888,\"#fdca26\"],[1.0,\"#f0f921\"]],\"type\":\"histogram2d\"}],\"histogram\":[{\"marker\":{\"pattern\":{\"fillmode\":\"overlay\",\"size\":10,\"solidity\":0.2}},\"type\":\"histogram\"}],\"mesh3d\":[{\"colorbar\":{\"outlinewidth\":0,\"ticks\":\"\"},\"type\":\"mesh3d\"}],\"parcoords\":[{\"line\":{\"colorbar\":{\"outlinewidth\":0,\"ticks\":\"\"}},\"type\":\"parcoords\"}],\"pie\":[{\"automargin\":true,\"type\":\"pie\"}],\"scatter3d\":[{\"line\":{\"colorbar\":{\"outlinewidth\":0,\"ticks\":\"\"}},\"marker\":{\"colorbar\":{\"outlinewidth\":0,\"ticks\":\"\"}},\"type\":\"scatter3d\"}],\"scattercarpet\":[{\"marker\":{\"colorbar\":{\"outlinewidth\":0,\"ticks\":\"\"}},\"type\":\"scattercarpet\"}],\"scattergeo\":[{\"marker\":{\"colorbar\":{\"outlinewidth\":0,\"ticks\":\"\"}},\"type\":\"scattergeo\"}],\"scattergl\":[{\"marker\":{\"colorbar\":{\"outlinewidth\":0,\"ticks\":\"\"}},\"type\":\"scattergl\"}],\"scattermapbox\":[{\"marker\":{\"colorbar\":{\"outlinewidth\":0,\"ticks\":\"\"}},\"type\":\"scattermapbox\"}],\"scatterpolargl\":[{\"marker\":{\"colorbar\":{\"outlinewidth\":0,\"ticks\":\"\"}},\"type\":\"scatterpolargl\"}],\"scatterpolar\":[{\"marker\":{\"colorbar\":{\"outlinewidth\":0,\"ticks\":\"\"}},\"type\":\"scatterpolar\"}],\"scatter\":[{\"fillpattern\":{\"fillmode\":\"overlay\",\"size\":10,\"solidity\":0.2},\"type\":\"scatter\"}],\"scatterternary\":[{\"marker\":{\"colorbar\":{\"outlinewidth\":0,\"ticks\":\"\"}},\"type\":\"scatterternary\"}],\"surface\":[{\"colorbar\":{\"outlinewidth\":0,\"ticks\":\"\"},\"colorscale\":[[0.0,\"#0d0887\"],[0.1111111111111111,\"#46039f\"],[0.2222222222222222,\"#7201a8\"],[0.3333333333333333,\"#9c179e\"],[0.4444444444444444,\"#bd3786\"],[0.5555555555555556,\"#d8576b\"],[0.6666666666666666,\"#ed7953\"],[0.7777777777777778,\"#fb9f3a\"],[0.8888888888888888,\"#fdca26\"],[1.0,\"#f0f921\"]],\"type\":\"surface\"}],\"table\":[{\"cells\":{\"fill\":{\"color\":\"#EBF0F8\"},\"line\":{\"color\":\"white\"}},\"header\":{\"fill\":{\"color\":\"#C8D4E3\"},\"line\":{\"color\":\"white\"}},\"type\":\"table\"}]},\"layout\":{\"annotationdefaults\":{\"arrowcolor\":\"#2a3f5f\",\"arrowhead\":0,\"arrowwidth\":1},\"autotypenumbers\":\"strict\",\"coloraxis\":{\"colorbar\":{\"outlinewidth\":0,\"ticks\":\"\"}},\"colorscale\":{\"diverging\":[[0,\"#8e0152\"],[0.1,\"#c51b7d\"],[0.2,\"#de77ae\"],[0.3,\"#f1b6da\"],[0.4,\"#fde0ef\"],[0.5,\"#f7f7f7\"],[0.6,\"#e6f5d0\"],[0.7,\"#b8e186\"],[0.8,\"#7fbc41\"],[0.9,\"#4d9221\"],[1,\"#276419\"]],\"sequential\":[[0.0,\"#0d0887\"],[0.1111111111111111,\"#46039f\"],[0.2222222222222222,\"#7201a8\"],[0.3333333333333333,\"#9c179e\"],[0.4444444444444444,\"#bd3786\"],[0.5555555555555556,\"#d8576b\"],[0.6666666666666666,\"#ed7953\"],[0.7777777777777778,\"#fb9f3a\"],[0.8888888888888888,\"#fdca26\"],[1.0,\"#f0f921\"]],\"sequentialminus\":[[0.0,\"#0d0887\"],[0.1111111111111111,\"#46039f\"],[0.2222222222222222,\"#7201a8\"],[0.3333333333333333,\"#9c179e\"],[0.4444444444444444,\"#bd3786\"],[0.5555555555555556,\"#d8576b\"],[0.6666666666666666,\"#ed7953\"],[0.7777777777777778,\"#fb9f3a\"],[0.8888888888888888,\"#fdca26\"],[1.0,\"#f0f921\"]]},\"colorway\":[\"#636efa\",\"#EF553B\",\"#00cc96\",\"#ab63fa\",\"#FFA15A\",\"#19d3f3\",\"#FF6692\",\"#B6E880\",\"#FF97FF\",\"#FECB52\"],\"font\":{\"color\":\"#2a3f5f\"},\"geo\":{\"bgcolor\":\"white\",\"lakecolor\":\"white\",\"landcolor\":\"#E5ECF6\",\"showlakes\":true,\"showland\":true,\"subunitcolor\":\"white\"},\"hoverlabel\":{\"align\":\"left\"},\"hovermode\":\"closest\",\"mapbox\":{\"style\":\"light\"},\"paper_bgcolor\":\"white\",\"plot_bgcolor\":\"#E5ECF6\",\"polar\":{\"angularaxis\":{\"gridcolor\":\"white\",\"linecolor\":\"white\",\"ticks\":\"\"},\"bgcolor\":\"#E5ECF6\",\"radialaxis\":{\"gridcolor\":\"white\",\"linecolor\":\"white\",\"ticks\":\"\"}},\"scene\":{\"xaxis\":{\"backgroundcolor\":\"#E5ECF6\",\"gridcolor\":\"white\",\"gridwidth\":2,\"linecolor\":\"white\",\"showbackground\":true,\"ticks\":\"\",\"zerolinecolor\":\"white\"},\"yaxis\":{\"backgroundcolor\":\"#E5ECF6\",\"gridcolor\":\"white\",\"gridwidth\":2,\"linecolor\":\"white\",\"showbackground\":true,\"ticks\":\"\",\"zerolinecolor\":\"white\"},\"zaxis\":{\"backgroundcolor\":\"#E5ECF6\",\"gridcolor\":\"white\",\"gridwidth\":2,\"linecolor\":\"white\",\"showbackground\":true,\"ticks\":\"\",\"zerolinecolor\":\"white\"}},\"shapedefaults\":{\"line\":{\"color\":\"#2a3f5f\"}},\"ternary\":{\"aaxis\":{\"gridcolor\":\"white\",\"linecolor\":\"white\",\"ticks\":\"\"},\"baxis\":{\"gridcolor\":\"white\",\"linecolor\":\"white\",\"ticks\":\"\"},\"bgcolor\":\"#E5ECF6\",\"caxis\":{\"gridcolor\":\"white\",\"linecolor\":\"white\",\"ticks\":\"\"}},\"title\":{\"x\":0.05},\"xaxis\":{\"automargin\":true,\"gridcolor\":\"white\",\"linecolor\":\"white\",\"ticks\":\"\",\"title\":{\"standoff\":15},\"zerolinecolor\":\"white\",\"zerolinewidth\":2},\"yaxis\":{\"automargin\":true,\"gridcolor\":\"white\",\"linecolor\":\"white\",\"ticks\":\"\",\"title\":{\"standoff\":15},\"zerolinecolor\":\"white\",\"zerolinewidth\":2}}},\"title\":{\"text\":\"Zestawienie danych 1901-2016 otrzymania nagrody Nobla dla r\\u00f3\\u017cnych kategorii z uwzgl\\u0119dnieniem p\\u0142ci\"}},                        {\"responsive\": true}                    ).then(function(){\n",
       "                            \n",
       "var gd = document.getElementById('c5909f8e-9302-424d-9b85-9e2b87384168');\n",
       "var x = new MutationObserver(function (mutations, observer) {{\n",
       "        var display = window.getComputedStyle(gd).display;\n",
       "        if (!display || display === 'none') {{\n",
       "            console.log([gd, 'removed!']);\n",
       "            Plotly.purge(gd);\n",
       "            observer.disconnect();\n",
       "        }}\n",
       "}});\n",
       "\n",
       "// Listen for the removal of the full notebook cells\n",
       "var notebookContainer = gd.closest('#notebook-container');\n",
       "if (notebookContainer) {{\n",
       "    x.observe(notebookContainer, {childList: true});\n",
       "}}\n",
       "\n",
       "// Listen for the clearing of the current output cell\n",
       "var outputEl = gd.closest('.output');\n",
       "if (outputEl) {{\n",
       "    x.observe(outputEl, {childList: true});\n",
       "}}\n",
       "\n",
       "                        })                };                });            </script>        </div>"
      ]
     },
     "metadata": {},
     "output_type": "display_data"
    }
   ],
   "source": [
    "# display as plots\n",
    "domain = laureates_all_categories_by_sex['Category']\n",
    "fig = go.Figure()\n",
    "fig.add_trace(go.Bar(x = domain, y = laureates_all_categories_by_sex['female'], name='female'))\n",
    "fig.add_trace(go.Bar(x = domain, y = laureates_all_categories_by_sex['male'], name = 'male'))\n",
    "fig.update_layout(title = 'Zestawienie danych 1901-2016 otrzymania nagrody Nobla dla różnych kategorii z uwzględnieniem płci')\n",
    "iplot(fig)"
   ]
  },
  {
   "cell_type": "code",
   "execution_count": 8,
   "id": "2372f2c1",
   "metadata": {},
   "outputs": [
    {
     "data": {
      "text/html": [
       "<div>\n",
       "<style scoped>\n",
       "    .dataframe tbody tr th:only-of-type {\n",
       "        vertical-align: middle;\n",
       "    }\n",
       "\n",
       "    .dataframe tbody tr th {\n",
       "        vertical-align: top;\n",
       "    }\n",
       "\n",
       "    .dataframe thead th {\n",
       "        text-align: right;\n",
       "    }\n",
       "</style>\n",
       "<table border=\"1\" class=\"dataframe\">\n",
       "  <thead>\n",
       "    <tr style=\"text-align: right;\">\n",
       "      <th></th>\n",
       "      <th>Category</th>\n",
       "      <th>female</th>\n",
       "      <th>male</th>\n",
       "      <th>all_laureates</th>\n",
       "    </tr>\n",
       "  </thead>\n",
       "  <tbody>\n",
       "    <tr>\n",
       "      <th>0</th>\n",
       "      <td>Chemistry</td>\n",
       "      <td>4</td>\n",
       "      <td>190</td>\n",
       "      <td>194</td>\n",
       "    </tr>\n",
       "    <tr>\n",
       "      <th>1</th>\n",
       "      <td>Economics</td>\n",
       "      <td>2</td>\n",
       "      <td>81</td>\n",
       "      <td>83</td>\n",
       "    </tr>\n",
       "    <tr>\n",
       "      <th>2</th>\n",
       "      <td>Literature</td>\n",
       "      <td>14</td>\n",
       "      <td>99</td>\n",
       "      <td>113</td>\n",
       "    </tr>\n",
       "    <tr>\n",
       "      <th>3</th>\n",
       "      <td>Medicine</td>\n",
       "      <td>12</td>\n",
       "      <td>215</td>\n",
       "      <td>227</td>\n",
       "    </tr>\n",
       "    <tr>\n",
       "      <th>4</th>\n",
       "      <td>Peace</td>\n",
       "      <td>16</td>\n",
       "      <td>88</td>\n",
       "      <td>104</td>\n",
       "    </tr>\n",
       "    <tr>\n",
       "      <th>5</th>\n",
       "      <td>Physics</td>\n",
       "      <td>2</td>\n",
       "      <td>220</td>\n",
       "      <td>222</td>\n",
       "    </tr>\n",
       "  </tbody>\n",
       "</table>\n",
       "</div>"
      ],
      "text/plain": [
       "     Category  female  male  all_laureates\n",
       "0   Chemistry       4   190            194\n",
       "1   Economics       2    81             83\n",
       "2  Literature      14    99            113\n",
       "3    Medicine      12   215            227\n",
       "4       Peace      16    88            104\n",
       "5     Physics       2   220            222"
      ]
     },
     "metadata": {},
     "output_type": "display_data"
    },
    {
     "data": {
      "text/html": [
       "<div>\n",
       "<style scoped>\n",
       "    .dataframe tbody tr th:only-of-type {\n",
       "        vertical-align: middle;\n",
       "    }\n",
       "\n",
       "    .dataframe tbody tr th {\n",
       "        vertical-align: top;\n",
       "    }\n",
       "\n",
       "    .dataframe thead th {\n",
       "        text-align: right;\n",
       "    }\n",
       "</style>\n",
       "<table border=\"1\" class=\"dataframe\">\n",
       "  <thead>\n",
       "    <tr style=\"text-align: right;\">\n",
       "      <th></th>\n",
       "      <th>Category</th>\n",
       "      <th>female</th>\n",
       "      <th>male</th>\n",
       "      <th>all_laureates</th>\n",
       "      <th>percent_of_female</th>\n",
       "      <th>percent_of_male</th>\n",
       "    </tr>\n",
       "  </thead>\n",
       "  <tbody>\n",
       "    <tr>\n",
       "      <th>0</th>\n",
       "      <td>Chemistry</td>\n",
       "      <td>4</td>\n",
       "      <td>190</td>\n",
       "      <td>194</td>\n",
       "      <td>2.061856</td>\n",
       "      <td>97.938144</td>\n",
       "    </tr>\n",
       "    <tr>\n",
       "      <th>1</th>\n",
       "      <td>Economics</td>\n",
       "      <td>2</td>\n",
       "      <td>81</td>\n",
       "      <td>83</td>\n",
       "      <td>2.409639</td>\n",
       "      <td>97.590361</td>\n",
       "    </tr>\n",
       "    <tr>\n",
       "      <th>2</th>\n",
       "      <td>Literature</td>\n",
       "      <td>14</td>\n",
       "      <td>99</td>\n",
       "      <td>113</td>\n",
       "      <td>12.389381</td>\n",
       "      <td>87.610619</td>\n",
       "    </tr>\n",
       "    <tr>\n",
       "      <th>3</th>\n",
       "      <td>Medicine</td>\n",
       "      <td>12</td>\n",
       "      <td>215</td>\n",
       "      <td>227</td>\n",
       "      <td>5.286344</td>\n",
       "      <td>94.713656</td>\n",
       "    </tr>\n",
       "    <tr>\n",
       "      <th>4</th>\n",
       "      <td>Peace</td>\n",
       "      <td>16</td>\n",
       "      <td>88</td>\n",
       "      <td>104</td>\n",
       "      <td>15.384615</td>\n",
       "      <td>84.615385</td>\n",
       "    </tr>\n",
       "    <tr>\n",
       "      <th>5</th>\n",
       "      <td>Physics</td>\n",
       "      <td>2</td>\n",
       "      <td>220</td>\n",
       "      <td>222</td>\n",
       "      <td>0.900901</td>\n",
       "      <td>99.099099</td>\n",
       "    </tr>\n",
       "  </tbody>\n",
       "</table>\n",
       "</div>"
      ],
      "text/plain": [
       "     Category  female  male  all_laureates  percent_of_female  percent_of_male\n",
       "0   Chemistry       4   190            194           2.061856        97.938144\n",
       "1   Economics       2    81             83           2.409639        97.590361\n",
       "2  Literature      14    99            113          12.389381        87.610619\n",
       "3    Medicine      12   215            227           5.286344        94.713656\n",
       "4       Peace      16    88            104          15.384615        84.615385\n",
       "5     Physics       2   220            222           0.900901        99.099099"
      ]
     },
     "metadata": {},
     "output_type": "display_data"
    }
   ],
   "source": [
    "# add columns all_laureates oraz percent_of_female/male\n",
    "def all_laureates(row):\n",
    "    row['all_laureates'] = row['female'] + row['male']\n",
    "    return row\n",
    "\n",
    "def percent_of_sex(row, sex):\n",
    "    row[f'percent_of_{sex}'] = (row[sex] * 100) / row['all_laureates']\n",
    "    return row\n",
    "\n",
    "laureates_all_categories_by_sex = laureates_all_categories_by_sex.apply(lambda x: all_laureates(x), axis = 1)\n",
    "display(laureates_all_categories_by_sex)\n",
    "laureates_all_categories_by_sex = laureates_all_categories_by_sex.apply(lambda x: percent_of_sex(x, 'female'), axis = 1)\n",
    "laureates_all_categories_by_sex = laureates_all_categories_by_sex.apply(lambda x: percent_of_sex(x, 'male'), axis = 1)\n",
    "display(laureates_all_categories_by_sex)"
   ]
  },
  {
   "cell_type": "code",
   "execution_count": 9,
   "id": "15a71aa1",
   "metadata": {},
   "outputs": [
    {
     "data": {
      "application/vnd.plotly.v1+json": {
       "config": {
        "linkText": "Export to plot.ly",
        "plotlyServerURL": "https://plot.ly",
        "showLink": false
       },
       "data": [
        {
         "name": "female",
         "type": "bar",
         "x": [
          "Chemistry",
          "Economics",
          "Literature",
          "Medicine",
          "Peace",
          "Physics"
         ],
         "y": [
          2.0618556701030926,
          2.4096385542168677,
          12.389380530973451,
          5.286343612334802,
          15.384615384615385,
          0.9009009009009009
         ]
        },
        {
         "name": "male",
         "type": "bar",
         "x": [
          "Chemistry",
          "Economics",
          "Literature",
          "Medicine",
          "Peace",
          "Physics"
         ],
         "y": [
          97.9381443298969,
          97.59036144578313,
          87.61061946902655,
          94.7136563876652,
          84.61538461538461,
          99.09909909909909
         ]
        }
       ],
       "layout": {
        "template": {
         "data": {
          "bar": [
           {
            "error_x": {
             "color": "#2a3f5f"
            },
            "error_y": {
             "color": "#2a3f5f"
            },
            "marker": {
             "line": {
              "color": "#E5ECF6",
              "width": 0.5
             },
             "pattern": {
              "fillmode": "overlay",
              "size": 10,
              "solidity": 0.2
             }
            },
            "type": "bar"
           }
          ],
          "barpolar": [
           {
            "marker": {
             "line": {
              "color": "#E5ECF6",
              "width": 0.5
             },
             "pattern": {
              "fillmode": "overlay",
              "size": 10,
              "solidity": 0.2
             }
            },
            "type": "barpolar"
           }
          ],
          "carpet": [
           {
            "aaxis": {
             "endlinecolor": "#2a3f5f",
             "gridcolor": "white",
             "linecolor": "white",
             "minorgridcolor": "white",
             "startlinecolor": "#2a3f5f"
            },
            "baxis": {
             "endlinecolor": "#2a3f5f",
             "gridcolor": "white",
             "linecolor": "white",
             "minorgridcolor": "white",
             "startlinecolor": "#2a3f5f"
            },
            "type": "carpet"
           }
          ],
          "choropleth": [
           {
            "colorbar": {
             "outlinewidth": 0,
             "ticks": ""
            },
            "type": "choropleth"
           }
          ],
          "contour": [
           {
            "colorbar": {
             "outlinewidth": 0,
             "ticks": ""
            },
            "colorscale": [
             [
              0,
              "#0d0887"
             ],
             [
              0.1111111111111111,
              "#46039f"
             ],
             [
              0.2222222222222222,
              "#7201a8"
             ],
             [
              0.3333333333333333,
              "#9c179e"
             ],
             [
              0.4444444444444444,
              "#bd3786"
             ],
             [
              0.5555555555555556,
              "#d8576b"
             ],
             [
              0.6666666666666666,
              "#ed7953"
             ],
             [
              0.7777777777777778,
              "#fb9f3a"
             ],
             [
              0.8888888888888888,
              "#fdca26"
             ],
             [
              1,
              "#f0f921"
             ]
            ],
            "type": "contour"
           }
          ],
          "contourcarpet": [
           {
            "colorbar": {
             "outlinewidth": 0,
             "ticks": ""
            },
            "type": "contourcarpet"
           }
          ],
          "heatmap": [
           {
            "colorbar": {
             "outlinewidth": 0,
             "ticks": ""
            },
            "colorscale": [
             [
              0,
              "#0d0887"
             ],
             [
              0.1111111111111111,
              "#46039f"
             ],
             [
              0.2222222222222222,
              "#7201a8"
             ],
             [
              0.3333333333333333,
              "#9c179e"
             ],
             [
              0.4444444444444444,
              "#bd3786"
             ],
             [
              0.5555555555555556,
              "#d8576b"
             ],
             [
              0.6666666666666666,
              "#ed7953"
             ],
             [
              0.7777777777777778,
              "#fb9f3a"
             ],
             [
              0.8888888888888888,
              "#fdca26"
             ],
             [
              1,
              "#f0f921"
             ]
            ],
            "type": "heatmap"
           }
          ],
          "heatmapgl": [
           {
            "colorbar": {
             "outlinewidth": 0,
             "ticks": ""
            },
            "colorscale": [
             [
              0,
              "#0d0887"
             ],
             [
              0.1111111111111111,
              "#46039f"
             ],
             [
              0.2222222222222222,
              "#7201a8"
             ],
             [
              0.3333333333333333,
              "#9c179e"
             ],
             [
              0.4444444444444444,
              "#bd3786"
             ],
             [
              0.5555555555555556,
              "#d8576b"
             ],
             [
              0.6666666666666666,
              "#ed7953"
             ],
             [
              0.7777777777777778,
              "#fb9f3a"
             ],
             [
              0.8888888888888888,
              "#fdca26"
             ],
             [
              1,
              "#f0f921"
             ]
            ],
            "type": "heatmapgl"
           }
          ],
          "histogram": [
           {
            "marker": {
             "pattern": {
              "fillmode": "overlay",
              "size": 10,
              "solidity": 0.2
             }
            },
            "type": "histogram"
           }
          ],
          "histogram2d": [
           {
            "colorbar": {
             "outlinewidth": 0,
             "ticks": ""
            },
            "colorscale": [
             [
              0,
              "#0d0887"
             ],
             [
              0.1111111111111111,
              "#46039f"
             ],
             [
              0.2222222222222222,
              "#7201a8"
             ],
             [
              0.3333333333333333,
              "#9c179e"
             ],
             [
              0.4444444444444444,
              "#bd3786"
             ],
             [
              0.5555555555555556,
              "#d8576b"
             ],
             [
              0.6666666666666666,
              "#ed7953"
             ],
             [
              0.7777777777777778,
              "#fb9f3a"
             ],
             [
              0.8888888888888888,
              "#fdca26"
             ],
             [
              1,
              "#f0f921"
             ]
            ],
            "type": "histogram2d"
           }
          ],
          "histogram2dcontour": [
           {
            "colorbar": {
             "outlinewidth": 0,
             "ticks": ""
            },
            "colorscale": [
             [
              0,
              "#0d0887"
             ],
             [
              0.1111111111111111,
              "#46039f"
             ],
             [
              0.2222222222222222,
              "#7201a8"
             ],
             [
              0.3333333333333333,
              "#9c179e"
             ],
             [
              0.4444444444444444,
              "#bd3786"
             ],
             [
              0.5555555555555556,
              "#d8576b"
             ],
             [
              0.6666666666666666,
              "#ed7953"
             ],
             [
              0.7777777777777778,
              "#fb9f3a"
             ],
             [
              0.8888888888888888,
              "#fdca26"
             ],
             [
              1,
              "#f0f921"
             ]
            ],
            "type": "histogram2dcontour"
           }
          ],
          "mesh3d": [
           {
            "colorbar": {
             "outlinewidth": 0,
             "ticks": ""
            },
            "type": "mesh3d"
           }
          ],
          "parcoords": [
           {
            "line": {
             "colorbar": {
              "outlinewidth": 0,
              "ticks": ""
             }
            },
            "type": "parcoords"
           }
          ],
          "pie": [
           {
            "automargin": true,
            "type": "pie"
           }
          ],
          "scatter": [
           {
            "fillpattern": {
             "fillmode": "overlay",
             "size": 10,
             "solidity": 0.2
            },
            "type": "scatter"
           }
          ],
          "scatter3d": [
           {
            "line": {
             "colorbar": {
              "outlinewidth": 0,
              "ticks": ""
             }
            },
            "marker": {
             "colorbar": {
              "outlinewidth": 0,
              "ticks": ""
             }
            },
            "type": "scatter3d"
           }
          ],
          "scattercarpet": [
           {
            "marker": {
             "colorbar": {
              "outlinewidth": 0,
              "ticks": ""
             }
            },
            "type": "scattercarpet"
           }
          ],
          "scattergeo": [
           {
            "marker": {
             "colorbar": {
              "outlinewidth": 0,
              "ticks": ""
             }
            },
            "type": "scattergeo"
           }
          ],
          "scattergl": [
           {
            "marker": {
             "colorbar": {
              "outlinewidth": 0,
              "ticks": ""
             }
            },
            "type": "scattergl"
           }
          ],
          "scattermapbox": [
           {
            "marker": {
             "colorbar": {
              "outlinewidth": 0,
              "ticks": ""
             }
            },
            "type": "scattermapbox"
           }
          ],
          "scatterpolar": [
           {
            "marker": {
             "colorbar": {
              "outlinewidth": 0,
              "ticks": ""
             }
            },
            "type": "scatterpolar"
           }
          ],
          "scatterpolargl": [
           {
            "marker": {
             "colorbar": {
              "outlinewidth": 0,
              "ticks": ""
             }
            },
            "type": "scatterpolargl"
           }
          ],
          "scatterternary": [
           {
            "marker": {
             "colorbar": {
              "outlinewidth": 0,
              "ticks": ""
             }
            },
            "type": "scatterternary"
           }
          ],
          "surface": [
           {
            "colorbar": {
             "outlinewidth": 0,
             "ticks": ""
            },
            "colorscale": [
             [
              0,
              "#0d0887"
             ],
             [
              0.1111111111111111,
              "#46039f"
             ],
             [
              0.2222222222222222,
              "#7201a8"
             ],
             [
              0.3333333333333333,
              "#9c179e"
             ],
             [
              0.4444444444444444,
              "#bd3786"
             ],
             [
              0.5555555555555556,
              "#d8576b"
             ],
             [
              0.6666666666666666,
              "#ed7953"
             ],
             [
              0.7777777777777778,
              "#fb9f3a"
             ],
             [
              0.8888888888888888,
              "#fdca26"
             ],
             [
              1,
              "#f0f921"
             ]
            ],
            "type": "surface"
           }
          ],
          "table": [
           {
            "cells": {
             "fill": {
              "color": "#EBF0F8"
             },
             "line": {
              "color": "white"
             }
            },
            "header": {
             "fill": {
              "color": "#C8D4E3"
             },
             "line": {
              "color": "white"
             }
            },
            "type": "table"
           }
          ]
         },
         "layout": {
          "annotationdefaults": {
           "arrowcolor": "#2a3f5f",
           "arrowhead": 0,
           "arrowwidth": 1
          },
          "autotypenumbers": "strict",
          "coloraxis": {
           "colorbar": {
            "outlinewidth": 0,
            "ticks": ""
           }
          },
          "colorscale": {
           "diverging": [
            [
             0,
             "#8e0152"
            ],
            [
             0.1,
             "#c51b7d"
            ],
            [
             0.2,
             "#de77ae"
            ],
            [
             0.3,
             "#f1b6da"
            ],
            [
             0.4,
             "#fde0ef"
            ],
            [
             0.5,
             "#f7f7f7"
            ],
            [
             0.6,
             "#e6f5d0"
            ],
            [
             0.7,
             "#b8e186"
            ],
            [
             0.8,
             "#7fbc41"
            ],
            [
             0.9,
             "#4d9221"
            ],
            [
             1,
             "#276419"
            ]
           ],
           "sequential": [
            [
             0,
             "#0d0887"
            ],
            [
             0.1111111111111111,
             "#46039f"
            ],
            [
             0.2222222222222222,
             "#7201a8"
            ],
            [
             0.3333333333333333,
             "#9c179e"
            ],
            [
             0.4444444444444444,
             "#bd3786"
            ],
            [
             0.5555555555555556,
             "#d8576b"
            ],
            [
             0.6666666666666666,
             "#ed7953"
            ],
            [
             0.7777777777777778,
             "#fb9f3a"
            ],
            [
             0.8888888888888888,
             "#fdca26"
            ],
            [
             1,
             "#f0f921"
            ]
           ],
           "sequentialminus": [
            [
             0,
             "#0d0887"
            ],
            [
             0.1111111111111111,
             "#46039f"
            ],
            [
             0.2222222222222222,
             "#7201a8"
            ],
            [
             0.3333333333333333,
             "#9c179e"
            ],
            [
             0.4444444444444444,
             "#bd3786"
            ],
            [
             0.5555555555555556,
             "#d8576b"
            ],
            [
             0.6666666666666666,
             "#ed7953"
            ],
            [
             0.7777777777777778,
             "#fb9f3a"
            ],
            [
             0.8888888888888888,
             "#fdca26"
            ],
            [
             1,
             "#f0f921"
            ]
           ]
          },
          "colorway": [
           "#636efa",
           "#EF553B",
           "#00cc96",
           "#ab63fa",
           "#FFA15A",
           "#19d3f3",
           "#FF6692",
           "#B6E880",
           "#FF97FF",
           "#FECB52"
          ],
          "font": {
           "color": "#2a3f5f"
          },
          "geo": {
           "bgcolor": "white",
           "lakecolor": "white",
           "landcolor": "#E5ECF6",
           "showlakes": true,
           "showland": true,
           "subunitcolor": "white"
          },
          "hoverlabel": {
           "align": "left"
          },
          "hovermode": "closest",
          "mapbox": {
           "style": "light"
          },
          "paper_bgcolor": "white",
          "plot_bgcolor": "#E5ECF6",
          "polar": {
           "angularaxis": {
            "gridcolor": "white",
            "linecolor": "white",
            "ticks": ""
           },
           "bgcolor": "#E5ECF6",
           "radialaxis": {
            "gridcolor": "white",
            "linecolor": "white",
            "ticks": ""
           }
          },
          "scene": {
           "xaxis": {
            "backgroundcolor": "#E5ECF6",
            "gridcolor": "white",
            "gridwidth": 2,
            "linecolor": "white",
            "showbackground": true,
            "ticks": "",
            "zerolinecolor": "white"
           },
           "yaxis": {
            "backgroundcolor": "#E5ECF6",
            "gridcolor": "white",
            "gridwidth": 2,
            "linecolor": "white",
            "showbackground": true,
            "ticks": "",
            "zerolinecolor": "white"
           },
           "zaxis": {
            "backgroundcolor": "#E5ECF6",
            "gridcolor": "white",
            "gridwidth": 2,
            "linecolor": "white",
            "showbackground": true,
            "ticks": "",
            "zerolinecolor": "white"
           }
          },
          "shapedefaults": {
           "line": {
            "color": "#2a3f5f"
           }
          },
          "ternary": {
           "aaxis": {
            "gridcolor": "white",
            "linecolor": "white",
            "ticks": ""
           },
           "baxis": {
            "gridcolor": "white",
            "linecolor": "white",
            "ticks": ""
           },
           "bgcolor": "#E5ECF6",
           "caxis": {
            "gridcolor": "white",
            "linecolor": "white",
            "ticks": ""
           }
          },
          "title": {
           "x": 0.05
          },
          "xaxis": {
           "automargin": true,
           "gridcolor": "white",
           "linecolor": "white",
           "ticks": "",
           "title": {
            "standoff": 15
           },
           "zerolinecolor": "white",
           "zerolinewidth": 2
          },
          "yaxis": {
           "automargin": true,
           "gridcolor": "white",
           "linecolor": "white",
           "ticks": "",
           "title": {
            "standoff": 15
           },
           "zerolinecolor": "white",
           "zerolinewidth": 2
          }
         }
        },
        "title": {
         "text": "Zestawienie danych 1901-2016 otrzymania nagrody Nobla dla różnych kategorii z uwzględnieniem płci"
        }
       }
      },
      "text/html": [
       "<div>                            <div id=\"6757deee-ec8e-4200-b553-8c315db76878\" class=\"plotly-graph-div\" style=\"height:525px; width:100%;\"></div>            <script type=\"text/javascript\">                require([\"plotly\"], function(Plotly) {                    window.PLOTLYENV=window.PLOTLYENV || {};                                    if (document.getElementById(\"6757deee-ec8e-4200-b553-8c315db76878\")) {                    Plotly.newPlot(                        \"6757deee-ec8e-4200-b553-8c315db76878\",                        [{\"name\":\"female\",\"x\":[\"Chemistry\",\"Economics\",\"Literature\",\"Medicine\",\"Peace\",\"Physics\"],\"y\":[2.0618556701030926,2.4096385542168677,12.389380530973451,5.286343612334802,15.384615384615385,0.9009009009009009],\"type\":\"bar\"},{\"name\":\"male\",\"x\":[\"Chemistry\",\"Economics\",\"Literature\",\"Medicine\",\"Peace\",\"Physics\"],\"y\":[97.9381443298969,97.59036144578313,87.61061946902655,94.7136563876652,84.61538461538461,99.09909909909909],\"type\":\"bar\"}],                        {\"template\":{\"data\":{\"barpolar\":[{\"marker\":{\"line\":{\"color\":\"#E5ECF6\",\"width\":0.5},\"pattern\":{\"fillmode\":\"overlay\",\"size\":10,\"solidity\":0.2}},\"type\":\"barpolar\"}],\"bar\":[{\"error_x\":{\"color\":\"#2a3f5f\"},\"error_y\":{\"color\":\"#2a3f5f\"},\"marker\":{\"line\":{\"color\":\"#E5ECF6\",\"width\":0.5},\"pattern\":{\"fillmode\":\"overlay\",\"size\":10,\"solidity\":0.2}},\"type\":\"bar\"}],\"carpet\":[{\"aaxis\":{\"endlinecolor\":\"#2a3f5f\",\"gridcolor\":\"white\",\"linecolor\":\"white\",\"minorgridcolor\":\"white\",\"startlinecolor\":\"#2a3f5f\"},\"baxis\":{\"endlinecolor\":\"#2a3f5f\",\"gridcolor\":\"white\",\"linecolor\":\"white\",\"minorgridcolor\":\"white\",\"startlinecolor\":\"#2a3f5f\"},\"type\":\"carpet\"}],\"choropleth\":[{\"colorbar\":{\"outlinewidth\":0,\"ticks\":\"\"},\"type\":\"choropleth\"}],\"contourcarpet\":[{\"colorbar\":{\"outlinewidth\":0,\"ticks\":\"\"},\"type\":\"contourcarpet\"}],\"contour\":[{\"colorbar\":{\"outlinewidth\":0,\"ticks\":\"\"},\"colorscale\":[[0.0,\"#0d0887\"],[0.1111111111111111,\"#46039f\"],[0.2222222222222222,\"#7201a8\"],[0.3333333333333333,\"#9c179e\"],[0.4444444444444444,\"#bd3786\"],[0.5555555555555556,\"#d8576b\"],[0.6666666666666666,\"#ed7953\"],[0.7777777777777778,\"#fb9f3a\"],[0.8888888888888888,\"#fdca26\"],[1.0,\"#f0f921\"]],\"type\":\"contour\"}],\"heatmapgl\":[{\"colorbar\":{\"outlinewidth\":0,\"ticks\":\"\"},\"colorscale\":[[0.0,\"#0d0887\"],[0.1111111111111111,\"#46039f\"],[0.2222222222222222,\"#7201a8\"],[0.3333333333333333,\"#9c179e\"],[0.4444444444444444,\"#bd3786\"],[0.5555555555555556,\"#d8576b\"],[0.6666666666666666,\"#ed7953\"],[0.7777777777777778,\"#fb9f3a\"],[0.8888888888888888,\"#fdca26\"],[1.0,\"#f0f921\"]],\"type\":\"heatmapgl\"}],\"heatmap\":[{\"colorbar\":{\"outlinewidth\":0,\"ticks\":\"\"},\"colorscale\":[[0.0,\"#0d0887\"],[0.1111111111111111,\"#46039f\"],[0.2222222222222222,\"#7201a8\"],[0.3333333333333333,\"#9c179e\"],[0.4444444444444444,\"#bd3786\"],[0.5555555555555556,\"#d8576b\"],[0.6666666666666666,\"#ed7953\"],[0.7777777777777778,\"#fb9f3a\"],[0.8888888888888888,\"#fdca26\"],[1.0,\"#f0f921\"]],\"type\":\"heatmap\"}],\"histogram2dcontour\":[{\"colorbar\":{\"outlinewidth\":0,\"ticks\":\"\"},\"colorscale\":[[0.0,\"#0d0887\"],[0.1111111111111111,\"#46039f\"],[0.2222222222222222,\"#7201a8\"],[0.3333333333333333,\"#9c179e\"],[0.4444444444444444,\"#bd3786\"],[0.5555555555555556,\"#d8576b\"],[0.6666666666666666,\"#ed7953\"],[0.7777777777777778,\"#fb9f3a\"],[0.8888888888888888,\"#fdca26\"],[1.0,\"#f0f921\"]],\"type\":\"histogram2dcontour\"}],\"histogram2d\":[{\"colorbar\":{\"outlinewidth\":0,\"ticks\":\"\"},\"colorscale\":[[0.0,\"#0d0887\"],[0.1111111111111111,\"#46039f\"],[0.2222222222222222,\"#7201a8\"],[0.3333333333333333,\"#9c179e\"],[0.4444444444444444,\"#bd3786\"],[0.5555555555555556,\"#d8576b\"],[0.6666666666666666,\"#ed7953\"],[0.7777777777777778,\"#fb9f3a\"],[0.8888888888888888,\"#fdca26\"],[1.0,\"#f0f921\"]],\"type\":\"histogram2d\"}],\"histogram\":[{\"marker\":{\"pattern\":{\"fillmode\":\"overlay\",\"size\":10,\"solidity\":0.2}},\"type\":\"histogram\"}],\"mesh3d\":[{\"colorbar\":{\"outlinewidth\":0,\"ticks\":\"\"},\"type\":\"mesh3d\"}],\"parcoords\":[{\"line\":{\"colorbar\":{\"outlinewidth\":0,\"ticks\":\"\"}},\"type\":\"parcoords\"}],\"pie\":[{\"automargin\":true,\"type\":\"pie\"}],\"scatter3d\":[{\"line\":{\"colorbar\":{\"outlinewidth\":0,\"ticks\":\"\"}},\"marker\":{\"colorbar\":{\"outlinewidth\":0,\"ticks\":\"\"}},\"type\":\"scatter3d\"}],\"scattercarpet\":[{\"marker\":{\"colorbar\":{\"outlinewidth\":0,\"ticks\":\"\"}},\"type\":\"scattercarpet\"}],\"scattergeo\":[{\"marker\":{\"colorbar\":{\"outlinewidth\":0,\"ticks\":\"\"}},\"type\":\"scattergeo\"}],\"scattergl\":[{\"marker\":{\"colorbar\":{\"outlinewidth\":0,\"ticks\":\"\"}},\"type\":\"scattergl\"}],\"scattermapbox\":[{\"marker\":{\"colorbar\":{\"outlinewidth\":0,\"ticks\":\"\"}},\"type\":\"scattermapbox\"}],\"scatterpolargl\":[{\"marker\":{\"colorbar\":{\"outlinewidth\":0,\"ticks\":\"\"}},\"type\":\"scatterpolargl\"}],\"scatterpolar\":[{\"marker\":{\"colorbar\":{\"outlinewidth\":0,\"ticks\":\"\"}},\"type\":\"scatterpolar\"}],\"scatter\":[{\"fillpattern\":{\"fillmode\":\"overlay\",\"size\":10,\"solidity\":0.2},\"type\":\"scatter\"}],\"scatterternary\":[{\"marker\":{\"colorbar\":{\"outlinewidth\":0,\"ticks\":\"\"}},\"type\":\"scatterternary\"}],\"surface\":[{\"colorbar\":{\"outlinewidth\":0,\"ticks\":\"\"},\"colorscale\":[[0.0,\"#0d0887\"],[0.1111111111111111,\"#46039f\"],[0.2222222222222222,\"#7201a8\"],[0.3333333333333333,\"#9c179e\"],[0.4444444444444444,\"#bd3786\"],[0.5555555555555556,\"#d8576b\"],[0.6666666666666666,\"#ed7953\"],[0.7777777777777778,\"#fb9f3a\"],[0.8888888888888888,\"#fdca26\"],[1.0,\"#f0f921\"]],\"type\":\"surface\"}],\"table\":[{\"cells\":{\"fill\":{\"color\":\"#EBF0F8\"},\"line\":{\"color\":\"white\"}},\"header\":{\"fill\":{\"color\":\"#C8D4E3\"},\"line\":{\"color\":\"white\"}},\"type\":\"table\"}]},\"layout\":{\"annotationdefaults\":{\"arrowcolor\":\"#2a3f5f\",\"arrowhead\":0,\"arrowwidth\":1},\"autotypenumbers\":\"strict\",\"coloraxis\":{\"colorbar\":{\"outlinewidth\":0,\"ticks\":\"\"}},\"colorscale\":{\"diverging\":[[0,\"#8e0152\"],[0.1,\"#c51b7d\"],[0.2,\"#de77ae\"],[0.3,\"#f1b6da\"],[0.4,\"#fde0ef\"],[0.5,\"#f7f7f7\"],[0.6,\"#e6f5d0\"],[0.7,\"#b8e186\"],[0.8,\"#7fbc41\"],[0.9,\"#4d9221\"],[1,\"#276419\"]],\"sequential\":[[0.0,\"#0d0887\"],[0.1111111111111111,\"#46039f\"],[0.2222222222222222,\"#7201a8\"],[0.3333333333333333,\"#9c179e\"],[0.4444444444444444,\"#bd3786\"],[0.5555555555555556,\"#d8576b\"],[0.6666666666666666,\"#ed7953\"],[0.7777777777777778,\"#fb9f3a\"],[0.8888888888888888,\"#fdca26\"],[1.0,\"#f0f921\"]],\"sequentialminus\":[[0.0,\"#0d0887\"],[0.1111111111111111,\"#46039f\"],[0.2222222222222222,\"#7201a8\"],[0.3333333333333333,\"#9c179e\"],[0.4444444444444444,\"#bd3786\"],[0.5555555555555556,\"#d8576b\"],[0.6666666666666666,\"#ed7953\"],[0.7777777777777778,\"#fb9f3a\"],[0.8888888888888888,\"#fdca26\"],[1.0,\"#f0f921\"]]},\"colorway\":[\"#636efa\",\"#EF553B\",\"#00cc96\",\"#ab63fa\",\"#FFA15A\",\"#19d3f3\",\"#FF6692\",\"#B6E880\",\"#FF97FF\",\"#FECB52\"],\"font\":{\"color\":\"#2a3f5f\"},\"geo\":{\"bgcolor\":\"white\",\"lakecolor\":\"white\",\"landcolor\":\"#E5ECF6\",\"showlakes\":true,\"showland\":true,\"subunitcolor\":\"white\"},\"hoverlabel\":{\"align\":\"left\"},\"hovermode\":\"closest\",\"mapbox\":{\"style\":\"light\"},\"paper_bgcolor\":\"white\",\"plot_bgcolor\":\"#E5ECF6\",\"polar\":{\"angularaxis\":{\"gridcolor\":\"white\",\"linecolor\":\"white\",\"ticks\":\"\"},\"bgcolor\":\"#E5ECF6\",\"radialaxis\":{\"gridcolor\":\"white\",\"linecolor\":\"white\",\"ticks\":\"\"}},\"scene\":{\"xaxis\":{\"backgroundcolor\":\"#E5ECF6\",\"gridcolor\":\"white\",\"gridwidth\":2,\"linecolor\":\"white\",\"showbackground\":true,\"ticks\":\"\",\"zerolinecolor\":\"white\"},\"yaxis\":{\"backgroundcolor\":\"#E5ECF6\",\"gridcolor\":\"white\",\"gridwidth\":2,\"linecolor\":\"white\",\"showbackground\":true,\"ticks\":\"\",\"zerolinecolor\":\"white\"},\"zaxis\":{\"backgroundcolor\":\"#E5ECF6\",\"gridcolor\":\"white\",\"gridwidth\":2,\"linecolor\":\"white\",\"showbackground\":true,\"ticks\":\"\",\"zerolinecolor\":\"white\"}},\"shapedefaults\":{\"line\":{\"color\":\"#2a3f5f\"}},\"ternary\":{\"aaxis\":{\"gridcolor\":\"white\",\"linecolor\":\"white\",\"ticks\":\"\"},\"baxis\":{\"gridcolor\":\"white\",\"linecolor\":\"white\",\"ticks\":\"\"},\"bgcolor\":\"#E5ECF6\",\"caxis\":{\"gridcolor\":\"white\",\"linecolor\":\"white\",\"ticks\":\"\"}},\"title\":{\"x\":0.05},\"xaxis\":{\"automargin\":true,\"gridcolor\":\"white\",\"linecolor\":\"white\",\"ticks\":\"\",\"title\":{\"standoff\":15},\"zerolinecolor\":\"white\",\"zerolinewidth\":2},\"yaxis\":{\"automargin\":true,\"gridcolor\":\"white\",\"linecolor\":\"white\",\"ticks\":\"\",\"title\":{\"standoff\":15},\"zerolinecolor\":\"white\",\"zerolinewidth\":2}}},\"title\":{\"text\":\"Zestawienie danych 1901-2016 otrzymania nagrody Nobla dla r\\u00f3\\u017cnych kategorii z uwzgl\\u0119dnieniem p\\u0142ci\"}},                        {\"responsive\": true}                    ).then(function(){\n",
       "                            \n",
       "var gd = document.getElementById('6757deee-ec8e-4200-b553-8c315db76878');\n",
       "var x = new MutationObserver(function (mutations, observer) {{\n",
       "        var display = window.getComputedStyle(gd).display;\n",
       "        if (!display || display === 'none') {{\n",
       "            console.log([gd, 'removed!']);\n",
       "            Plotly.purge(gd);\n",
       "            observer.disconnect();\n",
       "        }}\n",
       "}});\n",
       "\n",
       "// Listen for the removal of the full notebook cells\n",
       "var notebookContainer = gd.closest('#notebook-container');\n",
       "if (notebookContainer) {{\n",
       "    x.observe(notebookContainer, {childList: true});\n",
       "}}\n",
       "\n",
       "// Listen for the clearing of the current output cell\n",
       "var outputEl = gd.closest('.output');\n",
       "if (outputEl) {{\n",
       "    x.observe(outputEl, {childList: true});\n",
       "}}\n",
       "\n",
       "                        })                };                });            </script>        </div>"
      ]
     },
     "metadata": {},
     "output_type": "display_data"
    }
   ],
   "source": [
    "# display as plots\n",
    "domain = laureates_all_categories_by_sex['Category']\n",
    "fig = go.Figure()\n",
    "fig.add_trace(go.Bar(x = domain, y = laureates_all_categories_by_sex['percent_of_female'], name='female'))\n",
    "fig.add_trace(go.Bar(x = domain, y = laureates_all_categories_by_sex['percent_of_male'], name = 'male'))\n",
    "fig.update_layout(title = 'Zestawienie danych 1901-2016 otrzymania nagrody Nobla dla różnych kategorii z uwzględnieniem płci')\n",
    "iplot(fig)"
   ]
  },
  {
   "cell_type": "code",
   "execution_count": 10,
   "id": "96acabe7",
   "metadata": {},
   "outputs": [
    {
     "data": {
      "text/html": [
       "<div>\n",
       "<style scoped>\n",
       "    .dataframe tbody tr th:only-of-type {\n",
       "        vertical-align: middle;\n",
       "    }\n",
       "\n",
       "    .dataframe tbody tr th {\n",
       "        vertical-align: top;\n",
       "    }\n",
       "\n",
       "    .dataframe thead th {\n",
       "        text-align: right;\n",
       "    }\n",
       "</style>\n",
       "<table border=\"1\" class=\"dataframe\">\n",
       "  <thead>\n",
       "    <tr style=\"text-align: right;\">\n",
       "      <th></th>\n",
       "      <th>Year</th>\n",
       "      <th>Category</th>\n",
       "      <th>Prize</th>\n",
       "      <th>Motivation</th>\n",
       "      <th>Prize Share</th>\n",
       "      <th>Laureate ID</th>\n",
       "      <th>Laureate Type</th>\n",
       "      <th>Full Name</th>\n",
       "      <th>Birth Date</th>\n",
       "      <th>Birth City</th>\n",
       "      <th>Birth Country</th>\n",
       "      <th>Sex</th>\n",
       "      <th>Organization Name</th>\n",
       "      <th>Organization City</th>\n",
       "      <th>Organization Country</th>\n",
       "      <th>Death Date</th>\n",
       "      <th>Death City</th>\n",
       "      <th>Death Country</th>\n",
       "    </tr>\n",
       "  </thead>\n",
       "  <tbody>\n",
       "    <tr>\n",
       "      <th>19</th>\n",
       "      <td>1903</td>\n",
       "      <td>Physics</td>\n",
       "      <td>The Nobel Prize in Physics 1903</td>\n",
       "      <td>\"in recognition of the extraordinary services ...</td>\n",
       "      <td>1/4</td>\n",
       "      <td>6</td>\n",
       "      <td>Individual</td>\n",
       "      <td>Marie Curie, née Sklodowska</td>\n",
       "      <td>1867-11-07</td>\n",
       "      <td>Warsaw</td>\n",
       "      <td>Russian Empire (Poland)</td>\n",
       "      <td>Female</td>\n",
       "      <td>NaN</td>\n",
       "      <td>NaN</td>\n",
       "      <td>NaN</td>\n",
       "      <td>1934-07-04</td>\n",
       "      <td>Sallanches</td>\n",
       "      <td>France</td>\n",
       "    </tr>\n",
       "    <tr>\n",
       "      <th>368</th>\n",
       "      <td>1963</td>\n",
       "      <td>Physics</td>\n",
       "      <td>The Nobel Prize in Physics 1963</td>\n",
       "      <td>\"for their discoveries concerning nuclear shel...</td>\n",
       "      <td>1/4</td>\n",
       "      <td>79</td>\n",
       "      <td>Individual</td>\n",
       "      <td>Maria Goeppert Mayer</td>\n",
       "      <td>1906-06-28</td>\n",
       "      <td>Kattowitz (Katowice)</td>\n",
       "      <td>Germany (Poland)</td>\n",
       "      <td>Female</td>\n",
       "      <td>University of California</td>\n",
       "      <td>San Diego, CA</td>\n",
       "      <td>United States of America</td>\n",
       "      <td>1972-02-20</td>\n",
       "      <td>San Diego, CA</td>\n",
       "      <td>United States of America</td>\n",
       "    </tr>\n",
       "  </tbody>\n",
       "</table>\n",
       "</div>"
      ],
      "text/plain": [
       "     Year Category                            Prize  \\\n",
       "19   1903  Physics  The Nobel Prize in Physics 1903   \n",
       "368  1963  Physics  The Nobel Prize in Physics 1963   \n",
       "\n",
       "                                            Motivation Prize Share  \\\n",
       "19   \"in recognition of the extraordinary services ...         1/4   \n",
       "368  \"for their discoveries concerning nuclear shel...         1/4   \n",
       "\n",
       "     Laureate ID Laureate Type                    Full Name  Birth Date  \\\n",
       "19             6    Individual  Marie Curie, née Sklodowska  1867-11-07   \n",
       "368           79    Individual         Maria Goeppert Mayer  1906-06-28   \n",
       "\n",
       "               Birth City            Birth Country     Sex  \\\n",
       "19                 Warsaw  Russian Empire (Poland)  Female   \n",
       "368  Kattowitz (Katowice)         Germany (Poland)  Female   \n",
       "\n",
       "            Organization Name Organization City      Organization Country  \\\n",
       "19                        NaN               NaN                       NaN   \n",
       "368  University of California     San Diego, CA  United States of America   \n",
       "\n",
       "     Death Date     Death City             Death Country  \n",
       "19   1934-07-04     Sallanches                    France  \n",
       "368  1972-02-20  San Diego, CA  United States of America  "
      ]
     },
     "execution_count": 10,
     "metadata": {},
     "output_type": "execute_result"
    }
   ],
   "source": [
    "female_physics = laureates[((laureates['Sex'] == 'Female')  & (laureates['Category'] == 'Physics'))]\n",
    "female_physics"
   ]
  },
  {
   "cell_type": "markdown",
   "id": "f5648508",
   "metadata": {},
   "source": [
    "## Analiza ze względu na kategorię i płeć\n",
    "Z powyższych zestawień jasno wynika, że mężczyźni dominują znacząco jako laureacie każdej kategorii nagrody Nobla. Największa przewaga jest widoczna w fizyce, gdzie tylko dwie kobiety otrzymały nagrodę Nobla: w 1903 roku Maria Sklodowska-Curie oraz w 1963 Maria Goeppert Mayer. Pierwsza była polką urodzoną w Warszawie, wówczas zaborze Rosyjskim, druga niemką, co ciekawe również urodzoną na terenie obecnej Polski, w Katowicach, wówczas był to zabór Niemiecki. Pani Maria Goeppert Mayer swoje badania prowadziła w USA, natomiast Maria Sklodowska-Curie we Francji (co nie zostalo zaznaczone w tym zestawieniu). Zestawienie to nie uwzględnia również dwóch innych laureatek nagrody Nobla w dziedzinie fizyki, kanadyjki Donna Strickland, która otrzymała go w 2018 oraz Andrea Ghez, która otrzymała go dwa lata później, bo w 2020.\n",
    "Tylko w dwóch kategoriach: Literatura oraz Pokojowa Nagorda Nobla kobiety stanowią ponad 10% wszystkich nagrodzonych w tych kategoriach. W medycynie stanowią niewiele ponad 5% wszystkich laureatów. W pozostałych kategoriach stanowi to ok. 2%, poza fizyką, gdzie kobiety nie przekroczyły nawet 1%.\n",
    "Aby mieć szerszy pogląd na to dlaczego jest zauważalna tak duża dysproporcja przeanalizowany zostanie jeszcze roku uzyskania nagrody dla każdej z płci."
   ]
  },
  {
   "cell_type": "markdown",
   "id": "b0f50a0e",
   "metadata": {},
   "source": [
    "## 2. Podział na dyscypliny/kategorie nagrody z uwzględnieniem płci i roku otrzymania nagrody"
   ]
  },
  {
   "cell_type": "code",
   "execution_count": 11,
   "id": "33030511",
   "metadata": {},
   "outputs": [
    {
     "data": {
      "text/html": [
       "<div>\n",
       "<style scoped>\n",
       "    .dataframe tbody tr th:only-of-type {\n",
       "        vertical-align: middle;\n",
       "    }\n",
       "\n",
       "    .dataframe tbody tr th {\n",
       "        vertical-align: top;\n",
       "    }\n",
       "\n",
       "    .dataframe thead th {\n",
       "        text-align: right;\n",
       "    }\n",
       "</style>\n",
       "<table border=\"1\" class=\"dataframe\">\n",
       "  <thead>\n",
       "    <tr style=\"text-align: right;\">\n",
       "      <th></th>\n",
       "      <th>Category</th>\n",
       "      <th>Sex</th>\n",
       "      <th>Year</th>\n",
       "      <th>number_of_prize</th>\n",
       "    </tr>\n",
       "  </thead>\n",
       "  <tbody>\n",
       "    <tr>\n",
       "      <th>0</th>\n",
       "      <td>Chemistry</td>\n",
       "      <td>Female</td>\n",
       "      <td>1911</td>\n",
       "      <td>1</td>\n",
       "    </tr>\n",
       "    <tr>\n",
       "      <th>1</th>\n",
       "      <td>Chemistry</td>\n",
       "      <td>Female</td>\n",
       "      <td>1935</td>\n",
       "      <td>1</td>\n",
       "    </tr>\n",
       "    <tr>\n",
       "      <th>2</th>\n",
       "      <td>Chemistry</td>\n",
       "      <td>Female</td>\n",
       "      <td>1964</td>\n",
       "      <td>1</td>\n",
       "    </tr>\n",
       "    <tr>\n",
       "      <th>3</th>\n",
       "      <td>Chemistry</td>\n",
       "      <td>Female</td>\n",
       "      <td>2009</td>\n",
       "      <td>1</td>\n",
       "    </tr>\n",
       "    <tr>\n",
       "      <th>4</th>\n",
       "      <td>Chemistry</td>\n",
       "      <td>Male</td>\n",
       "      <td>1901</td>\n",
       "      <td>1</td>\n",
       "    </tr>\n",
       "    <tr>\n",
       "      <th>...</th>\n",
       "      <td>...</td>\n",
       "      <td>...</td>\n",
       "      <td>...</td>\n",
       "      <td>...</td>\n",
       "    </tr>\n",
       "    <tr>\n",
       "      <th>576</th>\n",
       "      <td>Physics</td>\n",
       "      <td>Male</td>\n",
       "      <td>2012</td>\n",
       "      <td>4</td>\n",
       "    </tr>\n",
       "    <tr>\n",
       "      <th>577</th>\n",
       "      <td>Physics</td>\n",
       "      <td>Male</td>\n",
       "      <td>2013</td>\n",
       "      <td>2</td>\n",
       "    </tr>\n",
       "    <tr>\n",
       "      <th>578</th>\n",
       "      <td>Physics</td>\n",
       "      <td>Male</td>\n",
       "      <td>2014</td>\n",
       "      <td>4</td>\n",
       "    </tr>\n",
       "    <tr>\n",
       "      <th>579</th>\n",
       "      <td>Physics</td>\n",
       "      <td>Male</td>\n",
       "      <td>2015</td>\n",
       "      <td>2</td>\n",
       "    </tr>\n",
       "    <tr>\n",
       "      <th>580</th>\n",
       "      <td>Physics</td>\n",
       "      <td>Male</td>\n",
       "      <td>2016</td>\n",
       "      <td>3</td>\n",
       "    </tr>\n",
       "  </tbody>\n",
       "</table>\n",
       "<p>581 rows × 4 columns</p>\n",
       "</div>"
      ],
      "text/plain": [
       "      Category     Sex  Year  number_of_prize\n",
       "0    Chemistry  Female  1911                1\n",
       "1    Chemistry  Female  1935                1\n",
       "2    Chemistry  Female  1964                1\n",
       "3    Chemistry  Female  2009                1\n",
       "4    Chemistry    Male  1901                1\n",
       "..         ...     ...   ...              ...\n",
       "576    Physics    Male  2012                4\n",
       "577    Physics    Male  2013                2\n",
       "578    Physics    Male  2014                4\n",
       "579    Physics    Male  2015                2\n",
       "580    Physics    Male  2016                3\n",
       "\n",
       "[581 rows x 4 columns]"
      ]
     },
     "metadata": {},
     "output_type": "display_data"
    }
   ],
   "source": [
    "# analysis\n",
    "laureates_by_category_sex_year = category_and_sex.pivot_table(index = {'Category', 'Year', 'Sex'}, aggfunc = 'count')\n",
    "laureates_by_category_sex_year.rename(columns = {'Full Name' : 'number_of_prize'}, inplace = True)\n",
    "laureates_by_category_sex_year.reset_index(inplace = True)\n",
    "display(laureates_by_category_sex_year)"
   ]
  },
  {
   "cell_type": "code",
   "execution_count": 12,
   "id": "9723f891",
   "metadata": {},
   "outputs": [
    {
     "data": {
      "text/html": [
       "<div>\n",
       "<style scoped>\n",
       "    .dataframe tbody tr th:only-of-type {\n",
       "        vertical-align: middle;\n",
       "    }\n",
       "\n",
       "    .dataframe tbody tr th {\n",
       "        vertical-align: top;\n",
       "    }\n",
       "\n",
       "    .dataframe thead th {\n",
       "        text-align: right;\n",
       "    }\n",
       "</style>\n",
       "<table border=\"1\" class=\"dataframe\">\n",
       "  <thead>\n",
       "    <tr style=\"text-align: right;\">\n",
       "      <th></th>\n",
       "      <th>Category</th>\n",
       "      <th>Sex</th>\n",
       "      <th>Year</th>\n",
       "      <th>number_of_prize</th>\n",
       "    </tr>\n",
       "  </thead>\n",
       "  <tbody>\n",
       "    <tr>\n",
       "      <th>0</th>\n",
       "      <td>Chemistry</td>\n",
       "      <td>Female</td>\n",
       "      <td>1911</td>\n",
       "      <td>1</td>\n",
       "    </tr>\n",
       "    <tr>\n",
       "      <th>1</th>\n",
       "      <td>Chemistry</td>\n",
       "      <td>Female</td>\n",
       "      <td>1935</td>\n",
       "      <td>1</td>\n",
       "    </tr>\n",
       "    <tr>\n",
       "      <th>2</th>\n",
       "      <td>Chemistry</td>\n",
       "      <td>Female</td>\n",
       "      <td>1964</td>\n",
       "      <td>1</td>\n",
       "    </tr>\n",
       "    <tr>\n",
       "      <th>3</th>\n",
       "      <td>Chemistry</td>\n",
       "      <td>Female</td>\n",
       "      <td>2009</td>\n",
       "      <td>1</td>\n",
       "    </tr>\n",
       "    <tr>\n",
       "      <th>110</th>\n",
       "      <td>Economics</td>\n",
       "      <td>Female</td>\n",
       "      <td>2009</td>\n",
       "      <td>2</td>\n",
       "    </tr>\n",
       "  </tbody>\n",
       "</table>\n",
       "</div>"
      ],
      "text/plain": [
       "      Category     Sex  Year  number_of_prize\n",
       "0    Chemistry  Female  1911                1\n",
       "1    Chemistry  Female  1935                1\n",
       "2    Chemistry  Female  1964                1\n",
       "3    Chemistry  Female  2009                1\n",
       "110  Economics  Female  2009                2"
      ]
     },
     "metadata": {},
     "output_type": "display_data"
    },
    {
     "data": {
      "text/html": [
       "<div>\n",
       "<style scoped>\n",
       "    .dataframe tbody tr th:only-of-type {\n",
       "        vertical-align: middle;\n",
       "    }\n",
       "\n",
       "    .dataframe tbody tr th {\n",
       "        vertical-align: top;\n",
       "    }\n",
       "\n",
       "    .dataframe thead th {\n",
       "        text-align: right;\n",
       "    }\n",
       "</style>\n",
       "<table border=\"1\" class=\"dataframe\">\n",
       "  <thead>\n",
       "    <tr style=\"text-align: right;\">\n",
       "      <th></th>\n",
       "      <th>Category</th>\n",
       "      <th>Sex</th>\n",
       "      <th>Year</th>\n",
       "      <th>number_of_prize</th>\n",
       "    </tr>\n",
       "  </thead>\n",
       "  <tbody>\n",
       "    <tr>\n",
       "      <th>4</th>\n",
       "      <td>Chemistry</td>\n",
       "      <td>Male</td>\n",
       "      <td>1901</td>\n",
       "      <td>1</td>\n",
       "    </tr>\n",
       "    <tr>\n",
       "      <th>5</th>\n",
       "      <td>Chemistry</td>\n",
       "      <td>Male</td>\n",
       "      <td>1902</td>\n",
       "      <td>1</td>\n",
       "    </tr>\n",
       "    <tr>\n",
       "      <th>6</th>\n",
       "      <td>Chemistry</td>\n",
       "      <td>Male</td>\n",
       "      <td>1903</td>\n",
       "      <td>1</td>\n",
       "    </tr>\n",
       "    <tr>\n",
       "      <th>7</th>\n",
       "      <td>Chemistry</td>\n",
       "      <td>Male</td>\n",
       "      <td>1904</td>\n",
       "      <td>1</td>\n",
       "    </tr>\n",
       "    <tr>\n",
       "      <th>8</th>\n",
       "      <td>Chemistry</td>\n",
       "      <td>Male</td>\n",
       "      <td>1905</td>\n",
       "      <td>1</td>\n",
       "    </tr>\n",
       "  </tbody>\n",
       "</table>\n",
       "</div>"
      ],
      "text/plain": [
       "    Category   Sex  Year  number_of_prize\n",
       "4  Chemistry  Male  1901                1\n",
       "5  Chemistry  Male  1902                1\n",
       "6  Chemistry  Male  1903                1\n",
       "7  Chemistry  Male  1904                1\n",
       "8  Chemistry  Male  1905                1"
      ]
     },
     "metadata": {},
     "output_type": "display_data"
    }
   ],
   "source": [
    "female = laureates_by_category_sex_year[laureates_by_category_sex_year['Sex'] == 'Female']\n",
    "male = laureates_by_category_sex_year[laureates_by_category_sex_year['Sex'] == 'Male']\n",
    "display(female.head())\n",
    "display(male.head())"
   ]
  },
  {
   "cell_type": "code",
   "execution_count": 13,
   "id": "2405dff6",
   "metadata": {},
   "outputs": [
    {
     "data": {
      "text/html": [
       "<div>\n",
       "<style scoped>\n",
       "    .dataframe tbody tr th:only-of-type {\n",
       "        vertical-align: middle;\n",
       "    }\n",
       "\n",
       "    .dataframe tbody tr th {\n",
       "        vertical-align: top;\n",
       "    }\n",
       "\n",
       "    .dataframe thead th {\n",
       "        text-align: right;\n",
       "    }\n",
       "</style>\n",
       "<table border=\"1\" class=\"dataframe\">\n",
       "  <thead>\n",
       "    <tr style=\"text-align: right;\">\n",
       "      <th></th>\n",
       "      <th>Category</th>\n",
       "      <th>Year</th>\n",
       "      <th>female</th>\n",
       "      <th>male</th>\n",
       "    </tr>\n",
       "  </thead>\n",
       "  <tbody>\n",
       "    <tr>\n",
       "      <th>196</th>\n",
       "      <td>Literature</td>\n",
       "      <td>1901</td>\n",
       "      <td>0.0</td>\n",
       "      <td>1.0</td>\n",
       "    </tr>\n",
       "    <tr>\n",
       "      <th>291</th>\n",
       "      <td>Medicine</td>\n",
       "      <td>1901</td>\n",
       "      <td>0.0</td>\n",
       "      <td>1.0</td>\n",
       "    </tr>\n",
       "    <tr>\n",
       "      <th>453</th>\n",
       "      <td>Physics</td>\n",
       "      <td>1901</td>\n",
       "      <td>0.0</td>\n",
       "      <td>1.0</td>\n",
       "    </tr>\n",
       "    <tr>\n",
       "      <th>45</th>\n",
       "      <td>Chemistry</td>\n",
       "      <td>1901</td>\n",
       "      <td>0.0</td>\n",
       "      <td>1.0</td>\n",
       "    </tr>\n",
       "    <tr>\n",
       "      <th>387</th>\n",
       "      <td>Peace</td>\n",
       "      <td>1901</td>\n",
       "      <td>0.0</td>\n",
       "      <td>2.0</td>\n",
       "    </tr>\n",
       "  </tbody>\n",
       "</table>\n",
       "</div>"
      ],
      "text/plain": [
       "       Category  Year  female  male\n",
       "196  Literature  1901     0.0   1.0\n",
       "291    Medicine  1901     0.0   1.0\n",
       "453     Physics  1901     0.0   1.0\n",
       "45    Chemistry  1901     0.0   1.0\n",
       "387       Peace  1901     0.0   2.0"
      ]
     },
     "metadata": {},
     "output_type": "display_data"
    }
   ],
   "source": [
    "nobel = female.merge(male, how = 'outer', on = ['Category', 'Year'])\n",
    "nobel.rename(columns = {'number_of_prize_x' : 'female', 'number_of_prize_y' : 'male'}, inplace = True)\n",
    "nobel.drop(columns = {'Sex_x', 'Sex_y'}, inplace = True)\n",
    "nobel.fillna(0.0, inplace = True)\n",
    "nobel_sort_by_year = nobel.sort_values(by = ['Year'])\n",
    "display(nobel_sort_by_year.head())"
   ]
  },
  {
   "cell_type": "code",
   "execution_count": 14,
   "id": "06f10643",
   "metadata": {},
   "outputs": [
    {
     "data": {
      "text/html": [
       "<div>\n",
       "<style scoped>\n",
       "    .dataframe tbody tr th:only-of-type {\n",
       "        vertical-align: middle;\n",
       "    }\n",
       "\n",
       "    .dataframe tbody tr th {\n",
       "        vertical-align: top;\n",
       "    }\n",
       "\n",
       "    .dataframe thead th {\n",
       "        text-align: right;\n",
       "    }\n",
       "</style>\n",
       "<table border=\"1\" class=\"dataframe\">\n",
       "  <thead>\n",
       "    <tr style=\"text-align: right;\">\n",
       "      <th></th>\n",
       "      <th>Category</th>\n",
       "      <th>Year</th>\n",
       "      <th>female</th>\n",
       "      <th>male</th>\n",
       "      <th>all_laureates</th>\n",
       "    </tr>\n",
       "  </thead>\n",
       "  <tbody>\n",
       "    <tr>\n",
       "      <th>196</th>\n",
       "      <td>Literature</td>\n",
       "      <td>1901</td>\n",
       "      <td>0.0</td>\n",
       "      <td>1.0</td>\n",
       "      <td>1.0</td>\n",
       "    </tr>\n",
       "    <tr>\n",
       "      <th>291</th>\n",
       "      <td>Medicine</td>\n",
       "      <td>1901</td>\n",
       "      <td>0.0</td>\n",
       "      <td>1.0</td>\n",
       "      <td>1.0</td>\n",
       "    </tr>\n",
       "    <tr>\n",
       "      <th>453</th>\n",
       "      <td>Physics</td>\n",
       "      <td>1901</td>\n",
       "      <td>0.0</td>\n",
       "      <td>1.0</td>\n",
       "      <td>1.0</td>\n",
       "    </tr>\n",
       "    <tr>\n",
       "      <th>45</th>\n",
       "      <td>Chemistry</td>\n",
       "      <td>1901</td>\n",
       "      <td>0.0</td>\n",
       "      <td>1.0</td>\n",
       "      <td>1.0</td>\n",
       "    </tr>\n",
       "    <tr>\n",
       "      <th>387</th>\n",
       "      <td>Peace</td>\n",
       "      <td>1901</td>\n",
       "      <td>0.0</td>\n",
       "      <td>2.0</td>\n",
       "      <td>2.0</td>\n",
       "    </tr>\n",
       "  </tbody>\n",
       "</table>\n",
       "</div>"
      ],
      "text/plain": [
       "       Category  Year  female  male  all_laureates\n",
       "196  Literature  1901     0.0   1.0            1.0\n",
       "291    Medicine  1901     0.0   1.0            1.0\n",
       "453     Physics  1901     0.0   1.0            1.0\n",
       "45    Chemistry  1901     0.0   1.0            1.0\n",
       "387       Peace  1901     0.0   2.0            2.0"
      ]
     },
     "metadata": {},
     "output_type": "display_data"
    },
    {
     "data": {
      "text/html": [
       "<div>\n",
       "<style scoped>\n",
       "    .dataframe tbody tr th:only-of-type {\n",
       "        vertical-align: middle;\n",
       "    }\n",
       "\n",
       "    .dataframe tbody tr th {\n",
       "        vertical-align: top;\n",
       "    }\n",
       "\n",
       "    .dataframe thead th {\n",
       "        text-align: right;\n",
       "    }\n",
       "</style>\n",
       "<table border=\"1\" class=\"dataframe\">\n",
       "  <thead>\n",
       "    <tr style=\"text-align: right;\">\n",
       "      <th></th>\n",
       "      <th>Category</th>\n",
       "      <th>Year</th>\n",
       "      <th>female</th>\n",
       "      <th>male</th>\n",
       "      <th>all_laureates</th>\n",
       "      <th>percent_of_female</th>\n",
       "      <th>percent_of_male</th>\n",
       "    </tr>\n",
       "  </thead>\n",
       "  <tbody>\n",
       "    <tr>\n",
       "      <th>196</th>\n",
       "      <td>Literature</td>\n",
       "      <td>1901</td>\n",
       "      <td>0.0</td>\n",
       "      <td>1.0</td>\n",
       "      <td>1.0</td>\n",
       "      <td>0.0</td>\n",
       "      <td>100.0</td>\n",
       "    </tr>\n",
       "    <tr>\n",
       "      <th>291</th>\n",
       "      <td>Medicine</td>\n",
       "      <td>1901</td>\n",
       "      <td>0.0</td>\n",
       "      <td>1.0</td>\n",
       "      <td>1.0</td>\n",
       "      <td>0.0</td>\n",
       "      <td>100.0</td>\n",
       "    </tr>\n",
       "    <tr>\n",
       "      <th>453</th>\n",
       "      <td>Physics</td>\n",
       "      <td>1901</td>\n",
       "      <td>0.0</td>\n",
       "      <td>1.0</td>\n",
       "      <td>1.0</td>\n",
       "      <td>0.0</td>\n",
       "      <td>100.0</td>\n",
       "    </tr>\n",
       "    <tr>\n",
       "      <th>45</th>\n",
       "      <td>Chemistry</td>\n",
       "      <td>1901</td>\n",
       "      <td>0.0</td>\n",
       "      <td>1.0</td>\n",
       "      <td>1.0</td>\n",
       "      <td>0.0</td>\n",
       "      <td>100.0</td>\n",
       "    </tr>\n",
       "    <tr>\n",
       "      <th>387</th>\n",
       "      <td>Peace</td>\n",
       "      <td>1901</td>\n",
       "      <td>0.0</td>\n",
       "      <td>2.0</td>\n",
       "      <td>2.0</td>\n",
       "      <td>0.0</td>\n",
       "      <td>100.0</td>\n",
       "    </tr>\n",
       "  </tbody>\n",
       "</table>\n",
       "</div>"
      ],
      "text/plain": [
       "       Category  Year  female  male  all_laureates  percent_of_female  \\\n",
       "196  Literature  1901     0.0   1.0            1.0                0.0   \n",
       "291    Medicine  1901     0.0   1.0            1.0                0.0   \n",
       "453     Physics  1901     0.0   1.0            1.0                0.0   \n",
       "45    Chemistry  1901     0.0   1.0            1.0                0.0   \n",
       "387       Peace  1901     0.0   2.0            2.0                0.0   \n",
       "\n",
       "     percent_of_male  \n",
       "196            100.0  \n",
       "291            100.0  \n",
       "453            100.0  \n",
       "45             100.0  \n",
       "387            100.0  "
      ]
     },
     "metadata": {},
     "output_type": "display_data"
    }
   ],
   "source": [
    "nobel_laureates = nobel_sort_by_year.apply(lambda x: all_laureates(x), axis = 1)\n",
    "display(nobel_laureates.head())\n",
    "nobel_laureates = nobel_laureates.apply(lambda x: percent_of_sex(x, 'female'), axis = 1)\n",
    "nobel_laureates = nobel_laureates.apply(lambda x: percent_of_sex(x, 'male'), axis = 1)\n",
    "display(nobel_laureates.head())"
   ]
  },
  {
   "cell_type": "code",
   "execution_count": 15,
   "id": "7fe97139",
   "metadata": {},
   "outputs": [
    {
     "data": {
      "application/vnd.plotly.v1+json": {
       "config": {
        "linkText": "Export to plot.ly",
        "plotlyServerURL": "https://plot.ly",
        "showLink": false
       },
       "data": [
        {
         "type": "heatmap",
         "x": [
          1901,
          1901,
          1901,
          1901,
          1901,
          1902,
          1902,
          1902,
          1902,
          1902,
          1903,
          1903,
          1903,
          1903,
          1903,
          1904,
          1904,
          1904,
          1904,
          1905,
          1905,
          1905,
          1905,
          1905,
          1906,
          1906,
          1906,
          1906,
          1906,
          1907,
          1907,
          1907,
          1907,
          1907,
          1908,
          1908,
          1908,
          1908,
          1908,
          1909,
          1909,
          1909,
          1909,
          1909,
          1910,
          1910,
          1910,
          1910,
          1911,
          1911,
          1911,
          1911,
          1911,
          1912,
          1912,
          1912,
          1912,
          1912,
          1913,
          1913,
          1913,
          1913,
          1913,
          1914,
          1914,
          1914,
          1915,
          1915,
          1915,
          1916,
          1917,
          1917,
          1918,
          1918,
          1919,
          1919,
          1919,
          1919,
          1920,
          1920,
          1920,
          1920,
          1920,
          1921,
          1921,
          1921,
          1921,
          1922,
          1922,
          1922,
          1922,
          1922,
          1923,
          1923,
          1923,
          1923,
          1924,
          1924,
          1924,
          1925,
          1925,
          1925,
          1925,
          1926,
          1926,
          1926,
          1926,
          1926,
          1927,
          1927,
          1927,
          1927,
          1927,
          1928,
          1928,
          1928,
          1928,
          1929,
          1929,
          1929,
          1929,
          1929,
          1930,
          1930,
          1930,
          1930,
          1930,
          1931,
          1931,
          1931,
          1931,
          1932,
          1932,
          1932,
          1932,
          1933,
          1933,
          1933,
          1933,
          1934,
          1934,
          1934,
          1934,
          1935,
          1935,
          1935,
          1935,
          1936,
          1936,
          1936,
          1936,
          1936,
          1937,
          1937,
          1937,
          1937,
          1937,
          1938,
          1938,
          1938,
          1938,
          1939,
          1939,
          1939,
          1939,
          1943,
          1943,
          1943,
          1944,
          1944,
          1944,
          1944,
          1945,
          1945,
          1945,
          1945,
          1945,
          1946,
          1946,
          1946,
          1946,
          1946,
          1947,
          1947,
          1947,
          1947,
          1948,
          1948,
          1948,
          1948,
          1949,
          1949,
          1949,
          1949,
          1949,
          1950,
          1950,
          1950,
          1950,
          1950,
          1951,
          1951,
          1951,
          1951,
          1951,
          1952,
          1952,
          1952,
          1952,
          1952,
          1953,
          1953,
          1953,
          1953,
          1953,
          1954,
          1954,
          1954,
          1954,
          1955,
          1955,
          1955,
          1955,
          1956,
          1956,
          1956,
          1956,
          1957,
          1957,
          1957,
          1957,
          1957,
          1958,
          1958,
          1958,
          1958,
          1958,
          1959,
          1959,
          1959,
          1959,
          1959,
          1960,
          1960,
          1960,
          1960,
          1960,
          1961,
          1961,
          1961,
          1961,
          1961,
          1962,
          1962,
          1962,
          1962,
          1962,
          1963,
          1963,
          1963,
          1963,
          1964,
          1964,
          1964,
          1964,
          1964,
          1965,
          1965,
          1965,
          1965,
          1966,
          1966,
          1966,
          1966,
          1967,
          1967,
          1967,
          1967,
          1968,
          1968,
          1968,
          1968,
          1968,
          1969,
          1969,
          1969,
          1969,
          1969,
          1970,
          1970,
          1970,
          1970,
          1970,
          1970,
          1971,
          1971,
          1971,
          1971,
          1971,
          1971,
          1972,
          1972,
          1972,
          1972,
          1972,
          1973,
          1973,
          1973,
          1973,
          1973,
          1973,
          1974,
          1974,
          1974,
          1974,
          1974,
          1974,
          1975,
          1975,
          1975,
          1975,
          1975,
          1975,
          1976,
          1976,
          1976,
          1976,
          1976,
          1976,
          1977,
          1977,
          1977,
          1977,
          1977,
          1978,
          1978,
          1978,
          1978,
          1978,
          1978,
          1979,
          1979,
          1979,
          1979,
          1979,
          1979,
          1980,
          1980,
          1980,
          1980,
          1980,
          1980,
          1981,
          1981,
          1981,
          1981,
          1981,
          1982,
          1982,
          1982,
          1982,
          1982,
          1982,
          1983,
          1983,
          1983,
          1983,
          1983,
          1983,
          1984,
          1984,
          1984,
          1984,
          1984,
          1984,
          1985,
          1985,
          1985,
          1985,
          1985,
          1986,
          1986,
          1986,
          1986,
          1986,
          1986,
          1987,
          1987,
          1987,
          1987,
          1987,
          1987,
          1988,
          1988,
          1988,
          1988,
          1988,
          1989,
          1989,
          1989,
          1989,
          1989,
          1989,
          1990,
          1990,
          1990,
          1990,
          1990,
          1990,
          1991,
          1991,
          1991,
          1991,
          1991,
          1991,
          1992,
          1992,
          1992,
          1992,
          1992,
          1992,
          1993,
          1993,
          1993,
          1993,
          1993,
          1993,
          1994,
          1994,
          1994,
          1994,
          1994,
          1994,
          1995,
          1995,
          1995,
          1995,
          1995,
          1995,
          1996,
          1996,
          1996,
          1996,
          1996,
          1996,
          1997,
          1997,
          1997,
          1997,
          1997,
          1997,
          1998,
          1998,
          1998,
          1998,
          1998,
          1998,
          1999,
          1999,
          1999,
          1999,
          1999,
          2000,
          2000,
          2000,
          2000,
          2000,
          2000,
          2001,
          2001,
          2001,
          2001,
          2001,
          2001,
          2002,
          2002,
          2002,
          2002,
          2002,
          2002,
          2003,
          2003,
          2003,
          2003,
          2003,
          2003,
          2004,
          2004,
          2004,
          2004,
          2004,
          2004,
          2005,
          2005,
          2005,
          2005,
          2005,
          2005,
          2006,
          2006,
          2006,
          2006,
          2006,
          2006,
          2007,
          2007,
          2007,
          2007,
          2007,
          2007,
          2008,
          2008,
          2008,
          2008,
          2008,
          2008,
          2009,
          2009,
          2009,
          2009,
          2009,
          2009,
          2010,
          2010,
          2010,
          2010,
          2010,
          2010,
          2011,
          2011,
          2011,
          2011,
          2011,
          2011,
          2012,
          2012,
          2012,
          2012,
          2012,
          2013,
          2013,
          2013,
          2013,
          2013,
          2014,
          2014,
          2014,
          2014,
          2014,
          2014,
          2015,
          2015,
          2015,
          2015,
          2015,
          2016,
          2016,
          2016,
          2016,
          2016,
          2016
         ],
         "y": [
          "Literature",
          "Medicine",
          "Physics",
          "Chemistry",
          "Peace",
          "Chemistry",
          "Peace",
          "Physics",
          "Literature",
          "Medicine",
          "Peace",
          "Chemistry",
          "Physics",
          "Literature",
          "Medicine",
          "Literature",
          "Chemistry",
          "Physics",
          "Medicine",
          "Peace",
          "Physics",
          "Literature",
          "Chemistry",
          "Medicine",
          "Literature",
          "Chemistry",
          "Medicine",
          "Physics",
          "Peace",
          "Chemistry",
          "Physics",
          "Medicine",
          "Peace",
          "Literature",
          "Medicine",
          "Chemistry",
          "Peace",
          "Physics",
          "Literature",
          "Physics",
          "Peace",
          "Chemistry",
          "Medicine",
          "Literature",
          "Literature",
          "Physics",
          "Medicine",
          "Chemistry",
          "Literature",
          "Physics",
          "Chemistry",
          "Medicine",
          "Peace",
          "Literature",
          "Physics",
          "Medicine",
          "Chemistry",
          "Peace",
          "Physics",
          "Literature",
          "Medicine",
          "Chemistry",
          "Peace",
          "Medicine",
          "Chemistry",
          "Physics",
          "Chemistry",
          "Physics",
          "Literature",
          "Literature",
          "Physics",
          "Literature",
          "Physics",
          "Chemistry",
          "Medicine",
          "Physics",
          "Literature",
          "Peace",
          "Physics",
          "Literature",
          "Chemistry",
          "Medicine",
          "Peace",
          "Chemistry",
          "Literature",
          "Peace",
          "Physics",
          "Medicine",
          "Chemistry",
          "Physics",
          "Peace",
          "Literature",
          "Literature",
          "Physics",
          "Chemistry",
          "Medicine",
          "Medicine",
          "Physics",
          "Literature",
          "Chemistry",
          "Peace",
          "Physics",
          "Literature",
          "Chemistry",
          "Literature",
          "Medicine",
          "Physics",
          "Peace",
          "Chemistry",
          "Medicine",
          "Peace",
          "Literature",
          "Physics",
          "Medicine",
          "Chemistry",
          "Literature",
          "Physics",
          "Peace",
          "Chemistry",
          "Medicine",
          "Physics",
          "Literature",
          "Physics",
          "Peace",
          "Chemistry",
          "Literature",
          "Medicine",
          "Chemistry",
          "Peace",
          "Literature",
          "Medicine",
          "Literature",
          "Medicine",
          "Chemistry",
          "Physics",
          "Literature",
          "Medicine",
          "Physics",
          "Peace",
          "Chemistry",
          "Peace",
          "Literature",
          "Medicine",
          "Peace",
          "Chemistry",
          "Physics",
          "Medicine",
          "Literature",
          "Chemistry",
          "Peace",
          "Physics",
          "Medicine",
          "Medicine",
          "Chemistry",
          "Peace",
          "Physics",
          "Literature",
          "Medicine",
          "Chemistry",
          "Literature",
          "Physics",
          "Chemistry",
          "Physics",
          "Literature",
          "Medicine",
          "Medicine",
          "Chemistry",
          "Physics",
          "Physics",
          "Literature",
          "Medicine",
          "Chemistry",
          "Literature",
          "Chemistry",
          "Physics",
          "Medicine",
          "Peace",
          "Literature",
          "Chemistry",
          "Physics",
          "Peace",
          "Medicine",
          "Chemistry",
          "Medicine",
          "Literature",
          "Physics",
          "Chemistry",
          "Medicine",
          "Physics",
          "Literature",
          "Peace",
          "Chemistry",
          "Physics",
          "Literature",
          "Medicine",
          "Physics",
          "Chemistry",
          "Literature",
          "Medicine",
          "Peace",
          "Physics",
          "Peace",
          "Medicine",
          "Literature",
          "Chemistry",
          "Literature",
          "Chemistry",
          "Peace",
          "Medicine",
          "Physics",
          "Chemistry",
          "Peace",
          "Literature",
          "Medicine",
          "Physics",
          "Chemistry",
          "Literature",
          "Physics",
          "Medicine",
          "Literature",
          "Medicine",
          "Chemistry",
          "Physics",
          "Literature",
          "Chemistry",
          "Physics",
          "Medicine",
          "Peace",
          "Physics",
          "Medicine",
          "Literature",
          "Chemistry",
          "Physics",
          "Medicine",
          "Peace",
          "Literature",
          "Chemistry",
          "Chemistry",
          "Medicine",
          "Literature",
          "Peace",
          "Physics",
          "Chemistry",
          "Literature",
          "Medicine",
          "Peace",
          "Physics",
          "Physics",
          "Literature",
          "Medicine",
          "Chemistry",
          "Peace",
          "Medicine",
          "Physics",
          "Chemistry",
          "Peace",
          "Literature",
          "Physics",
          "Chemistry",
          "Medicine",
          "Literature",
          "Chemistry",
          "Physics",
          "Peace",
          "Medicine",
          "Literature",
          "Medicine",
          "Chemistry",
          "Physics",
          "Literature",
          "Chemistry",
          "Physics",
          "Medicine",
          "Literature",
          "Physics",
          "Medicine",
          "Chemistry",
          "Literature",
          "Medicine",
          "Peace",
          "Literature",
          "Chemistry",
          "Physics",
          "Economics",
          "Chemistry",
          "Literature",
          "Physics",
          "Medicine",
          "Peace",
          "Physics",
          "Chemistry",
          "Medicine",
          "Economics",
          "Literature",
          "Medicine",
          "Physics",
          "Chemistry",
          "Peace",
          "Economics",
          "Literature",
          "Literature",
          "Medicine",
          "Economics",
          "Chemistry",
          "Physics",
          "Physics",
          "Chemistry",
          "Peace",
          "Medicine",
          "Literature",
          "Economics",
          "Chemistry",
          "Physics",
          "Literature",
          "Economics",
          "Peace",
          "Medicine",
          "Literature",
          "Peace",
          "Physics",
          "Medicine",
          "Economics",
          "Chemistry",
          "Physics",
          "Literature",
          "Medicine",
          "Economics",
          "Chemistry",
          "Peace",
          "Chemistry",
          "Economics",
          "Literature",
          "Physics",
          "Medicine",
          "Economics",
          "Chemistry",
          "Literature",
          "Peace",
          "Medicine",
          "Physics",
          "Literature",
          "Economics",
          "Medicine",
          "Peace",
          "Chemistry",
          "Physics",
          "Medicine",
          "Economics",
          "Peace",
          "Literature",
          "Chemistry",
          "Physics",
          "Chemistry",
          "Economics",
          "Literature",
          "Medicine",
          "Physics",
          "Chemistry",
          "Medicine",
          "Literature",
          "Peace",
          "Physics",
          "Economics",
          "Medicine",
          "Chemistry",
          "Physics",
          "Economics",
          "Literature",
          "Peace",
          "Chemistry",
          "Physics",
          "Economics",
          "Peace",
          "Literature",
          "Medicine",
          "Economics",
          "Literature",
          "Physics",
          "Medicine",
          "Chemistry",
          "Physics",
          "Peace",
          "Economics",
          "Literature",
          "Medicine",
          "Chemistry",
          "Physics",
          "Economics",
          "Literature",
          "Peace",
          "Chemistry",
          "Medicine",
          "Literature",
          "Medicine",
          "Chemistry",
          "Physics",
          "Economics",
          "Physics",
          "Medicine",
          "Economics",
          "Chemistry",
          "Peace",
          "Literature",
          "Physics",
          "Medicine",
          "Peace",
          "Literature",
          "Chemistry",
          "Economics",
          "Physics",
          "Literature",
          "Chemistry",
          "Medicine",
          "Economics",
          "Peace",
          "Literature",
          "Chemistry",
          "Medicine",
          "Peace",
          "Economics",
          "Physics",
          "Peace",
          "Literature",
          "Economics",
          "Chemistry",
          "Medicine",
          "Physics",
          "Literature",
          "Physics",
          "Chemistry",
          "Economics",
          "Medicine",
          "Peace",
          "Physics",
          "Economics",
          "Chemistry",
          "Literature",
          "Peace",
          "Medicine",
          "Medicine",
          "Physics",
          "Peace",
          "Chemistry",
          "Economics",
          "Literature",
          "Physics",
          "Literature",
          "Chemistry",
          "Peace",
          "Medicine",
          "Economics",
          "Chemistry",
          "Physics",
          "Medicine",
          "Peace",
          "Literature",
          "Economics",
          "Economics",
          "Physics",
          "Medicine",
          "Literature",
          "Chemistry",
          "Medicine",
          "Economics",
          "Literature",
          "Peace",
          "Physics",
          "Chemistry",
          "Physics",
          "Literature",
          "Medicine",
          "Chemistry",
          "Economics",
          "Peace",
          "Chemistry",
          "Literature",
          "Physics",
          "Economics",
          "Medicine",
          "Peace",
          "Chemistry",
          "Physics",
          "Peace",
          "Literature",
          "Medicine",
          "Economics",
          "Literature",
          "Peace",
          "Medicine",
          "Economics",
          "Physics",
          "Chemistry",
          "Physics",
          "Peace",
          "Chemistry",
          "Literature",
          "Medicine",
          "Economics",
          "Economics",
          "Chemistry",
          "Literature",
          "Peace",
          "Physics",
          "Medicine",
          "Literature",
          "Peace",
          "Physics",
          "Economics",
          "Medicine",
          "Chemistry",
          "Literature",
          "Physics",
          "Medicine",
          "Peace",
          "Economics",
          "Chemistry",
          "Chemistry",
          "Economics",
          "Literature",
          "Physics",
          "Medicine",
          "Peace",
          "Peace",
          "Physics",
          "Medicine",
          "Literature",
          "Chemistry",
          "Economics",
          "Medicine",
          "Literature",
          "Economics",
          "Chemistry",
          "Peace",
          "Physics",
          "Chemistry",
          "Economics",
          "Literature",
          "Medicine",
          "Physics",
          "Physics",
          "Literature",
          "Medicine",
          "Economics",
          "Chemistry",
          "Economics",
          "Chemistry",
          "Medicine",
          "Literature",
          "Physics",
          "Peace",
          "Chemistry",
          "Literature",
          "Medicine",
          "Physics",
          "Economics",
          "Chemistry",
          "Economics",
          "Literature",
          "Medicine",
          "Peace",
          "Physics"
         ],
         "z": [
          0,
          0,
          0,
          0,
          0,
          0,
          0,
          0,
          0,
          0,
          0,
          0,
          1,
          0,
          0,
          0,
          0,
          0,
          0,
          1,
          0,
          0,
          0,
          0,
          0,
          0,
          0,
          0,
          0,
          0,
          0,
          0,
          0,
          0,
          0,
          0,
          0,
          0,
          0,
          0,
          0,
          0,
          0,
          1,
          0,
          0,
          0,
          0,
          0,
          0,
          1,
          0,
          0,
          0,
          0,
          0,
          0,
          0,
          0,
          0,
          0,
          0,
          0,
          0,
          0,
          0,
          0,
          0,
          0,
          0,
          0,
          0,
          0,
          0,
          0,
          0,
          0,
          0,
          0,
          0,
          0,
          0,
          0,
          0,
          0,
          0,
          0,
          0,
          0,
          0,
          0,
          0,
          0,
          0,
          0,
          0,
          0,
          0,
          0,
          0,
          0,
          0,
          0,
          0,
          1,
          0,
          0,
          0,
          0,
          0,
          0,
          0,
          0,
          0,
          0,
          1,
          0,
          0,
          0,
          0,
          0,
          0,
          0,
          0,
          0,
          0,
          0,
          0,
          1,
          0,
          0,
          0,
          0,
          0,
          0,
          0,
          0,
          0,
          0,
          0,
          0,
          0,
          0,
          0,
          1,
          0,
          0,
          0,
          0,
          0,
          0,
          0,
          0,
          0,
          0,
          0,
          0,
          0,
          0,
          1,
          0,
          0,
          0,
          0,
          0,
          0,
          0,
          0,
          0,
          0,
          0,
          0,
          1,
          0,
          0,
          0,
          0,
          0,
          0,
          0,
          1,
          0,
          0,
          1,
          0,
          0,
          0,
          0,
          0,
          0,
          0,
          0,
          0,
          0,
          0,
          0,
          0,
          0,
          0,
          0,
          0,
          0,
          0,
          0,
          0,
          0,
          0,
          0,
          0,
          0,
          0,
          0,
          0,
          0,
          0,
          0,
          0,
          0,
          0,
          0,
          0,
          0,
          0,
          0,
          0,
          0,
          0,
          0,
          0,
          0,
          0,
          0,
          0,
          0,
          0,
          0,
          0,
          0,
          0,
          0,
          0,
          0,
          0,
          0,
          0,
          0,
          0,
          0,
          0,
          0,
          0,
          0,
          0,
          0,
          0,
          0,
          0,
          1,
          0,
          0,
          0,
          1,
          0,
          0,
          0,
          0,
          0,
          0,
          0,
          0,
          0,
          0,
          0,
          1,
          0,
          0,
          0,
          0,
          0,
          0,
          0,
          0,
          0,
          0,
          0,
          0,
          0,
          0,
          0,
          0,
          0,
          0,
          0,
          0,
          0,
          0,
          0,
          0,
          0,
          0,
          0,
          0,
          0,
          0,
          0,
          0,
          0,
          0,
          0,
          0,
          0,
          0,
          0,
          0,
          0,
          0,
          0,
          0,
          0,
          0,
          0,
          0,
          0,
          0,
          0,
          0,
          0,
          0,
          2,
          0,
          0,
          0,
          0,
          1,
          0,
          0,
          0,
          0,
          0,
          0,
          0,
          0,
          0,
          1,
          0,
          0,
          0,
          0,
          0,
          0,
          0,
          0,
          0,
          0,
          0,
          0,
          0,
          0,
          0,
          0,
          1,
          0,
          0,
          1,
          0,
          0,
          0,
          0,
          0,
          0,
          0,
          0,
          0,
          0,
          0,
          0,
          0,
          0,
          0,
          0,
          0,
          0,
          0,
          0,
          1,
          0,
          0,
          0,
          0,
          0,
          0,
          0,
          0,
          1,
          0,
          0,
          0,
          0,
          0,
          0,
          0,
          0,
          0,
          0,
          0,
          0,
          0,
          0,
          0,
          0,
          1,
          0,
          0,
          0,
          1,
          0,
          0,
          0,
          1,
          0,
          0,
          0,
          1,
          0,
          0,
          0,
          0,
          0,
          0,
          0,
          0,
          0,
          0,
          0,
          0,
          0,
          0,
          0,
          1,
          0,
          0,
          0,
          0,
          0,
          1,
          0,
          0,
          0,
          1,
          0,
          0,
          0,
          0,
          0,
          0,
          0,
          0,
          0,
          0,
          0,
          0,
          0,
          0,
          0,
          0,
          0,
          0,
          0,
          0,
          0,
          0,
          0,
          0,
          0,
          0,
          0,
          0,
          0,
          0,
          0,
          0,
          0,
          1,
          0,
          0,
          0,
          1,
          1,
          1,
          0,
          0,
          0,
          0,
          0,
          0,
          0,
          0,
          0,
          0,
          0,
          0,
          0,
          0,
          0,
          1,
          0,
          0,
          0,
          0,
          0,
          0,
          0,
          1,
          0,
          0,
          0,
          1,
          2,
          1,
          0,
          2,
          0,
          0,
          0,
          0,
          0,
          0,
          0,
          0,
          0,
          0,
          0,
          3,
          0,
          0,
          0,
          0,
          0,
          0,
          0,
          1,
          0,
          0,
          0,
          0,
          0,
          1,
          0,
          0,
          1,
          0,
          1,
          1,
          0,
          0,
          0,
          0,
          0,
          0,
          0,
          0
         ]
        }
       ],
       "layout": {
        "template": {
         "data": {
          "bar": [
           {
            "error_x": {
             "color": "#2a3f5f"
            },
            "error_y": {
             "color": "#2a3f5f"
            },
            "marker": {
             "line": {
              "color": "#E5ECF6",
              "width": 0.5
             },
             "pattern": {
              "fillmode": "overlay",
              "size": 10,
              "solidity": 0.2
             }
            },
            "type": "bar"
           }
          ],
          "barpolar": [
           {
            "marker": {
             "line": {
              "color": "#E5ECF6",
              "width": 0.5
             },
             "pattern": {
              "fillmode": "overlay",
              "size": 10,
              "solidity": 0.2
             }
            },
            "type": "barpolar"
           }
          ],
          "carpet": [
           {
            "aaxis": {
             "endlinecolor": "#2a3f5f",
             "gridcolor": "white",
             "linecolor": "white",
             "minorgridcolor": "white",
             "startlinecolor": "#2a3f5f"
            },
            "baxis": {
             "endlinecolor": "#2a3f5f",
             "gridcolor": "white",
             "linecolor": "white",
             "minorgridcolor": "white",
             "startlinecolor": "#2a3f5f"
            },
            "type": "carpet"
           }
          ],
          "choropleth": [
           {
            "colorbar": {
             "outlinewidth": 0,
             "ticks": ""
            },
            "type": "choropleth"
           }
          ],
          "contour": [
           {
            "colorbar": {
             "outlinewidth": 0,
             "ticks": ""
            },
            "colorscale": [
             [
              0,
              "#0d0887"
             ],
             [
              0.1111111111111111,
              "#46039f"
             ],
             [
              0.2222222222222222,
              "#7201a8"
             ],
             [
              0.3333333333333333,
              "#9c179e"
             ],
             [
              0.4444444444444444,
              "#bd3786"
             ],
             [
              0.5555555555555556,
              "#d8576b"
             ],
             [
              0.6666666666666666,
              "#ed7953"
             ],
             [
              0.7777777777777778,
              "#fb9f3a"
             ],
             [
              0.8888888888888888,
              "#fdca26"
             ],
             [
              1,
              "#f0f921"
             ]
            ],
            "type": "contour"
           }
          ],
          "contourcarpet": [
           {
            "colorbar": {
             "outlinewidth": 0,
             "ticks": ""
            },
            "type": "contourcarpet"
           }
          ],
          "heatmap": [
           {
            "colorbar": {
             "outlinewidth": 0,
             "ticks": ""
            },
            "colorscale": [
             [
              0,
              "#0d0887"
             ],
             [
              0.1111111111111111,
              "#46039f"
             ],
             [
              0.2222222222222222,
              "#7201a8"
             ],
             [
              0.3333333333333333,
              "#9c179e"
             ],
             [
              0.4444444444444444,
              "#bd3786"
             ],
             [
              0.5555555555555556,
              "#d8576b"
             ],
             [
              0.6666666666666666,
              "#ed7953"
             ],
             [
              0.7777777777777778,
              "#fb9f3a"
             ],
             [
              0.8888888888888888,
              "#fdca26"
             ],
             [
              1,
              "#f0f921"
             ]
            ],
            "type": "heatmap"
           }
          ],
          "heatmapgl": [
           {
            "colorbar": {
             "outlinewidth": 0,
             "ticks": ""
            },
            "colorscale": [
             [
              0,
              "#0d0887"
             ],
             [
              0.1111111111111111,
              "#46039f"
             ],
             [
              0.2222222222222222,
              "#7201a8"
             ],
             [
              0.3333333333333333,
              "#9c179e"
             ],
             [
              0.4444444444444444,
              "#bd3786"
             ],
             [
              0.5555555555555556,
              "#d8576b"
             ],
             [
              0.6666666666666666,
              "#ed7953"
             ],
             [
              0.7777777777777778,
              "#fb9f3a"
             ],
             [
              0.8888888888888888,
              "#fdca26"
             ],
             [
              1,
              "#f0f921"
             ]
            ],
            "type": "heatmapgl"
           }
          ],
          "histogram": [
           {
            "marker": {
             "pattern": {
              "fillmode": "overlay",
              "size": 10,
              "solidity": 0.2
             }
            },
            "type": "histogram"
           }
          ],
          "histogram2d": [
           {
            "colorbar": {
             "outlinewidth": 0,
             "ticks": ""
            },
            "colorscale": [
             [
              0,
              "#0d0887"
             ],
             [
              0.1111111111111111,
              "#46039f"
             ],
             [
              0.2222222222222222,
              "#7201a8"
             ],
             [
              0.3333333333333333,
              "#9c179e"
             ],
             [
              0.4444444444444444,
              "#bd3786"
             ],
             [
              0.5555555555555556,
              "#d8576b"
             ],
             [
              0.6666666666666666,
              "#ed7953"
             ],
             [
              0.7777777777777778,
              "#fb9f3a"
             ],
             [
              0.8888888888888888,
              "#fdca26"
             ],
             [
              1,
              "#f0f921"
             ]
            ],
            "type": "histogram2d"
           }
          ],
          "histogram2dcontour": [
           {
            "colorbar": {
             "outlinewidth": 0,
             "ticks": ""
            },
            "colorscale": [
             [
              0,
              "#0d0887"
             ],
             [
              0.1111111111111111,
              "#46039f"
             ],
             [
              0.2222222222222222,
              "#7201a8"
             ],
             [
              0.3333333333333333,
              "#9c179e"
             ],
             [
              0.4444444444444444,
              "#bd3786"
             ],
             [
              0.5555555555555556,
              "#d8576b"
             ],
             [
              0.6666666666666666,
              "#ed7953"
             ],
             [
              0.7777777777777778,
              "#fb9f3a"
             ],
             [
              0.8888888888888888,
              "#fdca26"
             ],
             [
              1,
              "#f0f921"
             ]
            ],
            "type": "histogram2dcontour"
           }
          ],
          "mesh3d": [
           {
            "colorbar": {
             "outlinewidth": 0,
             "ticks": ""
            },
            "type": "mesh3d"
           }
          ],
          "parcoords": [
           {
            "line": {
             "colorbar": {
              "outlinewidth": 0,
              "ticks": ""
             }
            },
            "type": "parcoords"
           }
          ],
          "pie": [
           {
            "automargin": true,
            "type": "pie"
           }
          ],
          "scatter": [
           {
            "fillpattern": {
             "fillmode": "overlay",
             "size": 10,
             "solidity": 0.2
            },
            "type": "scatter"
           }
          ],
          "scatter3d": [
           {
            "line": {
             "colorbar": {
              "outlinewidth": 0,
              "ticks": ""
             }
            },
            "marker": {
             "colorbar": {
              "outlinewidth": 0,
              "ticks": ""
             }
            },
            "type": "scatter3d"
           }
          ],
          "scattercarpet": [
           {
            "marker": {
             "colorbar": {
              "outlinewidth": 0,
              "ticks": ""
             }
            },
            "type": "scattercarpet"
           }
          ],
          "scattergeo": [
           {
            "marker": {
             "colorbar": {
              "outlinewidth": 0,
              "ticks": ""
             }
            },
            "type": "scattergeo"
           }
          ],
          "scattergl": [
           {
            "marker": {
             "colorbar": {
              "outlinewidth": 0,
              "ticks": ""
             }
            },
            "type": "scattergl"
           }
          ],
          "scattermapbox": [
           {
            "marker": {
             "colorbar": {
              "outlinewidth": 0,
              "ticks": ""
             }
            },
            "type": "scattermapbox"
           }
          ],
          "scatterpolar": [
           {
            "marker": {
             "colorbar": {
              "outlinewidth": 0,
              "ticks": ""
             }
            },
            "type": "scatterpolar"
           }
          ],
          "scatterpolargl": [
           {
            "marker": {
             "colorbar": {
              "outlinewidth": 0,
              "ticks": ""
             }
            },
            "type": "scatterpolargl"
           }
          ],
          "scatterternary": [
           {
            "marker": {
             "colorbar": {
              "outlinewidth": 0,
              "ticks": ""
             }
            },
            "type": "scatterternary"
           }
          ],
          "surface": [
           {
            "colorbar": {
             "outlinewidth": 0,
             "ticks": ""
            },
            "colorscale": [
             [
              0,
              "#0d0887"
             ],
             [
              0.1111111111111111,
              "#46039f"
             ],
             [
              0.2222222222222222,
              "#7201a8"
             ],
             [
              0.3333333333333333,
              "#9c179e"
             ],
             [
              0.4444444444444444,
              "#bd3786"
             ],
             [
              0.5555555555555556,
              "#d8576b"
             ],
             [
              0.6666666666666666,
              "#ed7953"
             ],
             [
              0.7777777777777778,
              "#fb9f3a"
             ],
             [
              0.8888888888888888,
              "#fdca26"
             ],
             [
              1,
              "#f0f921"
             ]
            ],
            "type": "surface"
           }
          ],
          "table": [
           {
            "cells": {
             "fill": {
              "color": "#EBF0F8"
             },
             "line": {
              "color": "white"
             }
            },
            "header": {
             "fill": {
              "color": "#C8D4E3"
             },
             "line": {
              "color": "white"
             }
            },
            "type": "table"
           }
          ]
         },
         "layout": {
          "annotationdefaults": {
           "arrowcolor": "#2a3f5f",
           "arrowhead": 0,
           "arrowwidth": 1
          },
          "autotypenumbers": "strict",
          "coloraxis": {
           "colorbar": {
            "outlinewidth": 0,
            "ticks": ""
           }
          },
          "colorscale": {
           "diverging": [
            [
             0,
             "#8e0152"
            ],
            [
             0.1,
             "#c51b7d"
            ],
            [
             0.2,
             "#de77ae"
            ],
            [
             0.3,
             "#f1b6da"
            ],
            [
             0.4,
             "#fde0ef"
            ],
            [
             0.5,
             "#f7f7f7"
            ],
            [
             0.6,
             "#e6f5d0"
            ],
            [
             0.7,
             "#b8e186"
            ],
            [
             0.8,
             "#7fbc41"
            ],
            [
             0.9,
             "#4d9221"
            ],
            [
             1,
             "#276419"
            ]
           ],
           "sequential": [
            [
             0,
             "#0d0887"
            ],
            [
             0.1111111111111111,
             "#46039f"
            ],
            [
             0.2222222222222222,
             "#7201a8"
            ],
            [
             0.3333333333333333,
             "#9c179e"
            ],
            [
             0.4444444444444444,
             "#bd3786"
            ],
            [
             0.5555555555555556,
             "#d8576b"
            ],
            [
             0.6666666666666666,
             "#ed7953"
            ],
            [
             0.7777777777777778,
             "#fb9f3a"
            ],
            [
             0.8888888888888888,
             "#fdca26"
            ],
            [
             1,
             "#f0f921"
            ]
           ],
           "sequentialminus": [
            [
             0,
             "#0d0887"
            ],
            [
             0.1111111111111111,
             "#46039f"
            ],
            [
             0.2222222222222222,
             "#7201a8"
            ],
            [
             0.3333333333333333,
             "#9c179e"
            ],
            [
             0.4444444444444444,
             "#bd3786"
            ],
            [
             0.5555555555555556,
             "#d8576b"
            ],
            [
             0.6666666666666666,
             "#ed7953"
            ],
            [
             0.7777777777777778,
             "#fb9f3a"
            ],
            [
             0.8888888888888888,
             "#fdca26"
            ],
            [
             1,
             "#f0f921"
            ]
           ]
          },
          "colorway": [
           "#636efa",
           "#EF553B",
           "#00cc96",
           "#ab63fa",
           "#FFA15A",
           "#19d3f3",
           "#FF6692",
           "#B6E880",
           "#FF97FF",
           "#FECB52"
          ],
          "font": {
           "color": "#2a3f5f"
          },
          "geo": {
           "bgcolor": "white",
           "lakecolor": "white",
           "landcolor": "#E5ECF6",
           "showlakes": true,
           "showland": true,
           "subunitcolor": "white"
          },
          "hoverlabel": {
           "align": "left"
          },
          "hovermode": "closest",
          "mapbox": {
           "style": "light"
          },
          "paper_bgcolor": "white",
          "plot_bgcolor": "#E5ECF6",
          "polar": {
           "angularaxis": {
            "gridcolor": "white",
            "linecolor": "white",
            "ticks": ""
           },
           "bgcolor": "#E5ECF6",
           "radialaxis": {
            "gridcolor": "white",
            "linecolor": "white",
            "ticks": ""
           }
          },
          "scene": {
           "xaxis": {
            "backgroundcolor": "#E5ECF6",
            "gridcolor": "white",
            "gridwidth": 2,
            "linecolor": "white",
            "showbackground": true,
            "ticks": "",
            "zerolinecolor": "white"
           },
           "yaxis": {
            "backgroundcolor": "#E5ECF6",
            "gridcolor": "white",
            "gridwidth": 2,
            "linecolor": "white",
            "showbackground": true,
            "ticks": "",
            "zerolinecolor": "white"
           },
           "zaxis": {
            "backgroundcolor": "#E5ECF6",
            "gridcolor": "white",
            "gridwidth": 2,
            "linecolor": "white",
            "showbackground": true,
            "ticks": "",
            "zerolinecolor": "white"
           }
          },
          "shapedefaults": {
           "line": {
            "color": "#2a3f5f"
           }
          },
          "ternary": {
           "aaxis": {
            "gridcolor": "white",
            "linecolor": "white",
            "ticks": ""
           },
           "baxis": {
            "gridcolor": "white",
            "linecolor": "white",
            "ticks": ""
           },
           "bgcolor": "#E5ECF6",
           "caxis": {
            "gridcolor": "white",
            "linecolor": "white",
            "ticks": ""
           }
          },
          "title": {
           "x": 0.05
          },
          "xaxis": {
           "automargin": true,
           "gridcolor": "white",
           "linecolor": "white",
           "ticks": "",
           "title": {
            "standoff": 15
           },
           "zerolinecolor": "white",
           "zerolinewidth": 2
          },
          "yaxis": {
           "automargin": true,
           "gridcolor": "white",
           "linecolor": "white",
           "ticks": "",
           "title": {
            "standoff": 15
           },
           "zerolinecolor": "white",
           "zerolinewidth": 2
          }
         }
        },
        "title": {
         "text": "Zestawienie ilości kobiet, które otrzymały nagrodę Nobla w zależności od roku oraz kategorii"
        }
       }
      },
      "text/html": [
       "<div>                            <div id=\"444f3a56-ab9a-48e2-8edc-652aa73941aa\" class=\"plotly-graph-div\" style=\"height:525px; width:100%;\"></div>            <script type=\"text/javascript\">                require([\"plotly\"], function(Plotly) {                    window.PLOTLYENV=window.PLOTLYENV || {};                                    if (document.getElementById(\"444f3a56-ab9a-48e2-8edc-652aa73941aa\")) {                    Plotly.newPlot(                        \"444f3a56-ab9a-48e2-8edc-652aa73941aa\",                        [{\"x\":[1901,1901,1901,1901,1901,1902,1902,1902,1902,1902,1903,1903,1903,1903,1903,1904,1904,1904,1904,1905,1905,1905,1905,1905,1906,1906,1906,1906,1906,1907,1907,1907,1907,1907,1908,1908,1908,1908,1908,1909,1909,1909,1909,1909,1910,1910,1910,1910,1911,1911,1911,1911,1911,1912,1912,1912,1912,1912,1913,1913,1913,1913,1913,1914,1914,1914,1915,1915,1915,1916,1917,1917,1918,1918,1919,1919,1919,1919,1920,1920,1920,1920,1920,1921,1921,1921,1921,1922,1922,1922,1922,1922,1923,1923,1923,1923,1924,1924,1924,1925,1925,1925,1925,1926,1926,1926,1926,1926,1927,1927,1927,1927,1927,1928,1928,1928,1928,1929,1929,1929,1929,1929,1930,1930,1930,1930,1930,1931,1931,1931,1931,1932,1932,1932,1932,1933,1933,1933,1933,1934,1934,1934,1934,1935,1935,1935,1935,1936,1936,1936,1936,1936,1937,1937,1937,1937,1937,1938,1938,1938,1938,1939,1939,1939,1939,1943,1943,1943,1944,1944,1944,1944,1945,1945,1945,1945,1945,1946,1946,1946,1946,1946,1947,1947,1947,1947,1948,1948,1948,1948,1949,1949,1949,1949,1949,1950,1950,1950,1950,1950,1951,1951,1951,1951,1951,1952,1952,1952,1952,1952,1953,1953,1953,1953,1953,1954,1954,1954,1954,1955,1955,1955,1955,1956,1956,1956,1956,1957,1957,1957,1957,1957,1958,1958,1958,1958,1958,1959,1959,1959,1959,1959,1960,1960,1960,1960,1960,1961,1961,1961,1961,1961,1962,1962,1962,1962,1962,1963,1963,1963,1963,1964,1964,1964,1964,1964,1965,1965,1965,1965,1966,1966,1966,1966,1967,1967,1967,1967,1968,1968,1968,1968,1968,1969,1969,1969,1969,1969,1970,1970,1970,1970,1970,1970,1971,1971,1971,1971,1971,1971,1972,1972,1972,1972,1972,1973,1973,1973,1973,1973,1973,1974,1974,1974,1974,1974,1974,1975,1975,1975,1975,1975,1975,1976,1976,1976,1976,1976,1976,1977,1977,1977,1977,1977,1978,1978,1978,1978,1978,1978,1979,1979,1979,1979,1979,1979,1980,1980,1980,1980,1980,1980,1981,1981,1981,1981,1981,1982,1982,1982,1982,1982,1982,1983,1983,1983,1983,1983,1983,1984,1984,1984,1984,1984,1984,1985,1985,1985,1985,1985,1986,1986,1986,1986,1986,1986,1987,1987,1987,1987,1987,1987,1988,1988,1988,1988,1988,1989,1989,1989,1989,1989,1989,1990,1990,1990,1990,1990,1990,1991,1991,1991,1991,1991,1991,1992,1992,1992,1992,1992,1992,1993,1993,1993,1993,1993,1993,1994,1994,1994,1994,1994,1994,1995,1995,1995,1995,1995,1995,1996,1996,1996,1996,1996,1996,1997,1997,1997,1997,1997,1997,1998,1998,1998,1998,1998,1998,1999,1999,1999,1999,1999,2000,2000,2000,2000,2000,2000,2001,2001,2001,2001,2001,2001,2002,2002,2002,2002,2002,2002,2003,2003,2003,2003,2003,2003,2004,2004,2004,2004,2004,2004,2005,2005,2005,2005,2005,2005,2006,2006,2006,2006,2006,2006,2007,2007,2007,2007,2007,2007,2008,2008,2008,2008,2008,2008,2009,2009,2009,2009,2009,2009,2010,2010,2010,2010,2010,2010,2011,2011,2011,2011,2011,2011,2012,2012,2012,2012,2012,2013,2013,2013,2013,2013,2014,2014,2014,2014,2014,2014,2015,2015,2015,2015,2015,2016,2016,2016,2016,2016,2016],\"y\":[\"Literature\",\"Medicine\",\"Physics\",\"Chemistry\",\"Peace\",\"Chemistry\",\"Peace\",\"Physics\",\"Literature\",\"Medicine\",\"Peace\",\"Chemistry\",\"Physics\",\"Literature\",\"Medicine\",\"Literature\",\"Chemistry\",\"Physics\",\"Medicine\",\"Peace\",\"Physics\",\"Literature\",\"Chemistry\",\"Medicine\",\"Literature\",\"Chemistry\",\"Medicine\",\"Physics\",\"Peace\",\"Chemistry\",\"Physics\",\"Medicine\",\"Peace\",\"Literature\",\"Medicine\",\"Chemistry\",\"Peace\",\"Physics\",\"Literature\",\"Physics\",\"Peace\",\"Chemistry\",\"Medicine\",\"Literature\",\"Literature\",\"Physics\",\"Medicine\",\"Chemistry\",\"Literature\",\"Physics\",\"Chemistry\",\"Medicine\",\"Peace\",\"Literature\",\"Physics\",\"Medicine\",\"Chemistry\",\"Peace\",\"Physics\",\"Literature\",\"Medicine\",\"Chemistry\",\"Peace\",\"Medicine\",\"Chemistry\",\"Physics\",\"Chemistry\",\"Physics\",\"Literature\",\"Literature\",\"Physics\",\"Literature\",\"Physics\",\"Chemistry\",\"Medicine\",\"Physics\",\"Literature\",\"Peace\",\"Physics\",\"Literature\",\"Chemistry\",\"Medicine\",\"Peace\",\"Chemistry\",\"Literature\",\"Peace\",\"Physics\",\"Medicine\",\"Chemistry\",\"Physics\",\"Peace\",\"Literature\",\"Literature\",\"Physics\",\"Chemistry\",\"Medicine\",\"Medicine\",\"Physics\",\"Literature\",\"Chemistry\",\"Peace\",\"Physics\",\"Literature\",\"Chemistry\",\"Literature\",\"Medicine\",\"Physics\",\"Peace\",\"Chemistry\",\"Medicine\",\"Peace\",\"Literature\",\"Physics\",\"Medicine\",\"Chemistry\",\"Literature\",\"Physics\",\"Peace\",\"Chemistry\",\"Medicine\",\"Physics\",\"Literature\",\"Physics\",\"Peace\",\"Chemistry\",\"Literature\",\"Medicine\",\"Chemistry\",\"Peace\",\"Literature\",\"Medicine\",\"Literature\",\"Medicine\",\"Chemistry\",\"Physics\",\"Literature\",\"Medicine\",\"Physics\",\"Peace\",\"Chemistry\",\"Peace\",\"Literature\",\"Medicine\",\"Peace\",\"Chemistry\",\"Physics\",\"Medicine\",\"Literature\",\"Chemistry\",\"Peace\",\"Physics\",\"Medicine\",\"Medicine\",\"Chemistry\",\"Peace\",\"Physics\",\"Literature\",\"Medicine\",\"Chemistry\",\"Literature\",\"Physics\",\"Chemistry\",\"Physics\",\"Literature\",\"Medicine\",\"Medicine\",\"Chemistry\",\"Physics\",\"Physics\",\"Literature\",\"Medicine\",\"Chemistry\",\"Literature\",\"Chemistry\",\"Physics\",\"Medicine\",\"Peace\",\"Literature\",\"Chemistry\",\"Physics\",\"Peace\",\"Medicine\",\"Chemistry\",\"Medicine\",\"Literature\",\"Physics\",\"Chemistry\",\"Medicine\",\"Physics\",\"Literature\",\"Peace\",\"Chemistry\",\"Physics\",\"Literature\",\"Medicine\",\"Physics\",\"Chemistry\",\"Literature\",\"Medicine\",\"Peace\",\"Physics\",\"Peace\",\"Medicine\",\"Literature\",\"Chemistry\",\"Literature\",\"Chemistry\",\"Peace\",\"Medicine\",\"Physics\",\"Chemistry\",\"Peace\",\"Literature\",\"Medicine\",\"Physics\",\"Chemistry\",\"Literature\",\"Physics\",\"Medicine\",\"Literature\",\"Medicine\",\"Chemistry\",\"Physics\",\"Literature\",\"Chemistry\",\"Physics\",\"Medicine\",\"Peace\",\"Physics\",\"Medicine\",\"Literature\",\"Chemistry\",\"Physics\",\"Medicine\",\"Peace\",\"Literature\",\"Chemistry\",\"Chemistry\",\"Medicine\",\"Literature\",\"Peace\",\"Physics\",\"Chemistry\",\"Literature\",\"Medicine\",\"Peace\",\"Physics\",\"Physics\",\"Literature\",\"Medicine\",\"Chemistry\",\"Peace\",\"Medicine\",\"Physics\",\"Chemistry\",\"Peace\",\"Literature\",\"Physics\",\"Chemistry\",\"Medicine\",\"Literature\",\"Chemistry\",\"Physics\",\"Peace\",\"Medicine\",\"Literature\",\"Medicine\",\"Chemistry\",\"Physics\",\"Literature\",\"Chemistry\",\"Physics\",\"Medicine\",\"Literature\",\"Physics\",\"Medicine\",\"Chemistry\",\"Literature\",\"Medicine\",\"Peace\",\"Literature\",\"Chemistry\",\"Physics\",\"Economics\",\"Chemistry\",\"Literature\",\"Physics\",\"Medicine\",\"Peace\",\"Physics\",\"Chemistry\",\"Medicine\",\"Economics\",\"Literature\",\"Medicine\",\"Physics\",\"Chemistry\",\"Peace\",\"Economics\",\"Literature\",\"Literature\",\"Medicine\",\"Economics\",\"Chemistry\",\"Physics\",\"Physics\",\"Chemistry\",\"Peace\",\"Medicine\",\"Literature\",\"Economics\",\"Chemistry\",\"Physics\",\"Literature\",\"Economics\",\"Peace\",\"Medicine\",\"Literature\",\"Peace\",\"Physics\",\"Medicine\",\"Economics\",\"Chemistry\",\"Physics\",\"Literature\",\"Medicine\",\"Economics\",\"Chemistry\",\"Peace\",\"Chemistry\",\"Economics\",\"Literature\",\"Physics\",\"Medicine\",\"Economics\",\"Chemistry\",\"Literature\",\"Peace\",\"Medicine\",\"Physics\",\"Literature\",\"Economics\",\"Medicine\",\"Peace\",\"Chemistry\",\"Physics\",\"Medicine\",\"Economics\",\"Peace\",\"Literature\",\"Chemistry\",\"Physics\",\"Chemistry\",\"Economics\",\"Literature\",\"Medicine\",\"Physics\",\"Chemistry\",\"Medicine\",\"Literature\",\"Peace\",\"Physics\",\"Economics\",\"Medicine\",\"Chemistry\",\"Physics\",\"Economics\",\"Literature\",\"Peace\",\"Chemistry\",\"Physics\",\"Economics\",\"Peace\",\"Literature\",\"Medicine\",\"Economics\",\"Literature\",\"Physics\",\"Medicine\",\"Chemistry\",\"Physics\",\"Peace\",\"Economics\",\"Literature\",\"Medicine\",\"Chemistry\",\"Physics\",\"Economics\",\"Literature\",\"Peace\",\"Chemistry\",\"Medicine\",\"Literature\",\"Medicine\",\"Chemistry\",\"Physics\",\"Economics\",\"Physics\",\"Medicine\",\"Economics\",\"Chemistry\",\"Peace\",\"Literature\",\"Physics\",\"Medicine\",\"Peace\",\"Literature\",\"Chemistry\",\"Economics\",\"Physics\",\"Literature\",\"Chemistry\",\"Medicine\",\"Economics\",\"Peace\",\"Literature\",\"Chemistry\",\"Medicine\",\"Peace\",\"Economics\",\"Physics\",\"Peace\",\"Literature\",\"Economics\",\"Chemistry\",\"Medicine\",\"Physics\",\"Literature\",\"Physics\",\"Chemistry\",\"Economics\",\"Medicine\",\"Peace\",\"Physics\",\"Economics\",\"Chemistry\",\"Literature\",\"Peace\",\"Medicine\",\"Medicine\",\"Physics\",\"Peace\",\"Chemistry\",\"Economics\",\"Literature\",\"Physics\",\"Literature\",\"Chemistry\",\"Peace\",\"Medicine\",\"Economics\",\"Chemistry\",\"Physics\",\"Medicine\",\"Peace\",\"Literature\",\"Economics\",\"Economics\",\"Physics\",\"Medicine\",\"Literature\",\"Chemistry\",\"Medicine\",\"Economics\",\"Literature\",\"Peace\",\"Physics\",\"Chemistry\",\"Physics\",\"Literature\",\"Medicine\",\"Chemistry\",\"Economics\",\"Peace\",\"Chemistry\",\"Literature\",\"Physics\",\"Economics\",\"Medicine\",\"Peace\",\"Chemistry\",\"Physics\",\"Peace\",\"Literature\",\"Medicine\",\"Economics\",\"Literature\",\"Peace\",\"Medicine\",\"Economics\",\"Physics\",\"Chemistry\",\"Physics\",\"Peace\",\"Chemistry\",\"Literature\",\"Medicine\",\"Economics\",\"Economics\",\"Chemistry\",\"Literature\",\"Peace\",\"Physics\",\"Medicine\",\"Literature\",\"Peace\",\"Physics\",\"Economics\",\"Medicine\",\"Chemistry\",\"Literature\",\"Physics\",\"Medicine\",\"Peace\",\"Economics\",\"Chemistry\",\"Chemistry\",\"Economics\",\"Literature\",\"Physics\",\"Medicine\",\"Peace\",\"Peace\",\"Physics\",\"Medicine\",\"Literature\",\"Chemistry\",\"Economics\",\"Medicine\",\"Literature\",\"Economics\",\"Chemistry\",\"Peace\",\"Physics\",\"Chemistry\",\"Economics\",\"Literature\",\"Medicine\",\"Physics\",\"Physics\",\"Literature\",\"Medicine\",\"Economics\",\"Chemistry\",\"Economics\",\"Chemistry\",\"Medicine\",\"Literature\",\"Physics\",\"Peace\",\"Chemistry\",\"Literature\",\"Medicine\",\"Physics\",\"Economics\",\"Chemistry\",\"Economics\",\"Literature\",\"Medicine\",\"Peace\",\"Physics\"],\"z\":[0.0,0.0,0.0,0.0,0.0,0.0,0.0,0.0,0.0,0.0,0.0,0.0,1.0,0.0,0.0,0.0,0.0,0.0,0.0,1.0,0.0,0.0,0.0,0.0,0.0,0.0,0.0,0.0,0.0,0.0,0.0,0.0,0.0,0.0,0.0,0.0,0.0,0.0,0.0,0.0,0.0,0.0,0.0,1.0,0.0,0.0,0.0,0.0,0.0,0.0,1.0,0.0,0.0,0.0,0.0,0.0,0.0,0.0,0.0,0.0,0.0,0.0,0.0,0.0,0.0,0.0,0.0,0.0,0.0,0.0,0.0,0.0,0.0,0.0,0.0,0.0,0.0,0.0,0.0,0.0,0.0,0.0,0.0,0.0,0.0,0.0,0.0,0.0,0.0,0.0,0.0,0.0,0.0,0.0,0.0,0.0,0.0,0.0,0.0,0.0,0.0,0.0,0.0,0.0,1.0,0.0,0.0,0.0,0.0,0.0,0.0,0.0,0.0,0.0,0.0,1.0,0.0,0.0,0.0,0.0,0.0,0.0,0.0,0.0,0.0,0.0,0.0,0.0,1.0,0.0,0.0,0.0,0.0,0.0,0.0,0.0,0.0,0.0,0.0,0.0,0.0,0.0,0.0,0.0,1.0,0.0,0.0,0.0,0.0,0.0,0.0,0.0,0.0,0.0,0.0,0.0,0.0,0.0,0.0,1.0,0.0,0.0,0.0,0.0,0.0,0.0,0.0,0.0,0.0,0.0,0.0,0.0,1.0,0.0,0.0,0.0,0.0,0.0,0.0,0.0,1.0,0.0,0.0,1.0,0.0,0.0,0.0,0.0,0.0,0.0,0.0,0.0,0.0,0.0,0.0,0.0,0.0,0.0,0.0,0.0,0.0,0.0,0.0,0.0,0.0,0.0,0.0,0.0,0.0,0.0,0.0,0.0,0.0,0.0,0.0,0.0,0.0,0.0,0.0,0.0,0.0,0.0,0.0,0.0,0.0,0.0,0.0,0.0,0.0,0.0,0.0,0.0,0.0,0.0,0.0,0.0,0.0,0.0,0.0,0.0,0.0,0.0,0.0,0.0,0.0,0.0,0.0,0.0,0.0,0.0,0.0,0.0,0.0,0.0,0.0,0.0,0.0,1.0,0.0,0.0,0.0,1.0,0.0,0.0,0.0,0.0,0.0,0.0,0.0,0.0,0.0,0.0,0.0,1.0,0.0,0.0,0.0,0.0,0.0,0.0,0.0,0.0,0.0,0.0,0.0,0.0,0.0,0.0,0.0,0.0,0.0,0.0,0.0,0.0,0.0,0.0,0.0,0.0,0.0,0.0,0.0,0.0,0.0,0.0,0.0,0.0,0.0,0.0,0.0,0.0,0.0,0.0,0.0,0.0,0.0,0.0,0.0,0.0,0.0,0.0,0.0,0.0,0.0,0.0,0.0,0.0,0.0,0.0,2.0,0.0,0.0,0.0,0.0,1.0,0.0,0.0,0.0,0.0,0.0,0.0,0.0,0.0,0.0,1.0,0.0,0.0,0.0,0.0,0.0,0.0,0.0,0.0,0.0,0.0,0.0,0.0,0.0,0.0,0.0,0.0,1.0,0.0,0.0,1.0,0.0,0.0,0.0,0.0,0.0,0.0,0.0,0.0,0.0,0.0,0.0,0.0,0.0,0.0,0.0,0.0,0.0,0.0,0.0,0.0,1.0,0.0,0.0,0.0,0.0,0.0,0.0,0.0,0.0,1.0,0.0,0.0,0.0,0.0,0.0,0.0,0.0,0.0,0.0,0.0,0.0,0.0,0.0,0.0,0.0,0.0,1.0,0.0,0.0,0.0,1.0,0.0,0.0,0.0,1.0,0.0,0.0,0.0,1.0,0.0,0.0,0.0,0.0,0.0,0.0,0.0,0.0,0.0,0.0,0.0,0.0,0.0,0.0,0.0,1.0,0.0,0.0,0.0,0.0,0.0,1.0,0.0,0.0,0.0,1.0,0.0,0.0,0.0,0.0,0.0,0.0,0.0,0.0,0.0,0.0,0.0,0.0,0.0,0.0,0.0,0.0,0.0,0.0,0.0,0.0,0.0,0.0,0.0,0.0,0.0,0.0,0.0,0.0,0.0,0.0,0.0,0.0,0.0,1.0,0.0,0.0,0.0,1.0,1.0,1.0,0.0,0.0,0.0,0.0,0.0,0.0,0.0,0.0,0.0,0.0,0.0,0.0,0.0,0.0,0.0,1.0,0.0,0.0,0.0,0.0,0.0,0.0,0.0,1.0,0.0,0.0,0.0,1.0,2.0,1.0,0.0,2.0,0.0,0.0,0.0,0.0,0.0,0.0,0.0,0.0,0.0,0.0,0.0,3.0,0.0,0.0,0.0,0.0,0.0,0.0,0.0,1.0,0.0,0.0,0.0,0.0,0.0,1.0,0.0,0.0,1.0,0.0,1.0,1.0,0.0,0.0,0.0,0.0,0.0,0.0,0.0,0.0],\"type\":\"heatmap\"}],                        {\"template\":{\"data\":{\"barpolar\":[{\"marker\":{\"line\":{\"color\":\"#E5ECF6\",\"width\":0.5},\"pattern\":{\"fillmode\":\"overlay\",\"size\":10,\"solidity\":0.2}},\"type\":\"barpolar\"}],\"bar\":[{\"error_x\":{\"color\":\"#2a3f5f\"},\"error_y\":{\"color\":\"#2a3f5f\"},\"marker\":{\"line\":{\"color\":\"#E5ECF6\",\"width\":0.5},\"pattern\":{\"fillmode\":\"overlay\",\"size\":10,\"solidity\":0.2}},\"type\":\"bar\"}],\"carpet\":[{\"aaxis\":{\"endlinecolor\":\"#2a3f5f\",\"gridcolor\":\"white\",\"linecolor\":\"white\",\"minorgridcolor\":\"white\",\"startlinecolor\":\"#2a3f5f\"},\"baxis\":{\"endlinecolor\":\"#2a3f5f\",\"gridcolor\":\"white\",\"linecolor\":\"white\",\"minorgridcolor\":\"white\",\"startlinecolor\":\"#2a3f5f\"},\"type\":\"carpet\"}],\"choropleth\":[{\"colorbar\":{\"outlinewidth\":0,\"ticks\":\"\"},\"type\":\"choropleth\"}],\"contourcarpet\":[{\"colorbar\":{\"outlinewidth\":0,\"ticks\":\"\"},\"type\":\"contourcarpet\"}],\"contour\":[{\"colorbar\":{\"outlinewidth\":0,\"ticks\":\"\"},\"colorscale\":[[0.0,\"#0d0887\"],[0.1111111111111111,\"#46039f\"],[0.2222222222222222,\"#7201a8\"],[0.3333333333333333,\"#9c179e\"],[0.4444444444444444,\"#bd3786\"],[0.5555555555555556,\"#d8576b\"],[0.6666666666666666,\"#ed7953\"],[0.7777777777777778,\"#fb9f3a\"],[0.8888888888888888,\"#fdca26\"],[1.0,\"#f0f921\"]],\"type\":\"contour\"}],\"heatmapgl\":[{\"colorbar\":{\"outlinewidth\":0,\"ticks\":\"\"},\"colorscale\":[[0.0,\"#0d0887\"],[0.1111111111111111,\"#46039f\"],[0.2222222222222222,\"#7201a8\"],[0.3333333333333333,\"#9c179e\"],[0.4444444444444444,\"#bd3786\"],[0.5555555555555556,\"#d8576b\"],[0.6666666666666666,\"#ed7953\"],[0.7777777777777778,\"#fb9f3a\"],[0.8888888888888888,\"#fdca26\"],[1.0,\"#f0f921\"]],\"type\":\"heatmapgl\"}],\"heatmap\":[{\"colorbar\":{\"outlinewidth\":0,\"ticks\":\"\"},\"colorscale\":[[0.0,\"#0d0887\"],[0.1111111111111111,\"#46039f\"],[0.2222222222222222,\"#7201a8\"],[0.3333333333333333,\"#9c179e\"],[0.4444444444444444,\"#bd3786\"],[0.5555555555555556,\"#d8576b\"],[0.6666666666666666,\"#ed7953\"],[0.7777777777777778,\"#fb9f3a\"],[0.8888888888888888,\"#fdca26\"],[1.0,\"#f0f921\"]],\"type\":\"heatmap\"}],\"histogram2dcontour\":[{\"colorbar\":{\"outlinewidth\":0,\"ticks\":\"\"},\"colorscale\":[[0.0,\"#0d0887\"],[0.1111111111111111,\"#46039f\"],[0.2222222222222222,\"#7201a8\"],[0.3333333333333333,\"#9c179e\"],[0.4444444444444444,\"#bd3786\"],[0.5555555555555556,\"#d8576b\"],[0.6666666666666666,\"#ed7953\"],[0.7777777777777778,\"#fb9f3a\"],[0.8888888888888888,\"#fdca26\"],[1.0,\"#f0f921\"]],\"type\":\"histogram2dcontour\"}],\"histogram2d\":[{\"colorbar\":{\"outlinewidth\":0,\"ticks\":\"\"},\"colorscale\":[[0.0,\"#0d0887\"],[0.1111111111111111,\"#46039f\"],[0.2222222222222222,\"#7201a8\"],[0.3333333333333333,\"#9c179e\"],[0.4444444444444444,\"#bd3786\"],[0.5555555555555556,\"#d8576b\"],[0.6666666666666666,\"#ed7953\"],[0.7777777777777778,\"#fb9f3a\"],[0.8888888888888888,\"#fdca26\"],[1.0,\"#f0f921\"]],\"type\":\"histogram2d\"}],\"histogram\":[{\"marker\":{\"pattern\":{\"fillmode\":\"overlay\",\"size\":10,\"solidity\":0.2}},\"type\":\"histogram\"}],\"mesh3d\":[{\"colorbar\":{\"outlinewidth\":0,\"ticks\":\"\"},\"type\":\"mesh3d\"}],\"parcoords\":[{\"line\":{\"colorbar\":{\"outlinewidth\":0,\"ticks\":\"\"}},\"type\":\"parcoords\"}],\"pie\":[{\"automargin\":true,\"type\":\"pie\"}],\"scatter3d\":[{\"line\":{\"colorbar\":{\"outlinewidth\":0,\"ticks\":\"\"}},\"marker\":{\"colorbar\":{\"outlinewidth\":0,\"ticks\":\"\"}},\"type\":\"scatter3d\"}],\"scattercarpet\":[{\"marker\":{\"colorbar\":{\"outlinewidth\":0,\"ticks\":\"\"}},\"type\":\"scattercarpet\"}],\"scattergeo\":[{\"marker\":{\"colorbar\":{\"outlinewidth\":0,\"ticks\":\"\"}},\"type\":\"scattergeo\"}],\"scattergl\":[{\"marker\":{\"colorbar\":{\"outlinewidth\":0,\"ticks\":\"\"}},\"type\":\"scattergl\"}],\"scattermapbox\":[{\"marker\":{\"colorbar\":{\"outlinewidth\":0,\"ticks\":\"\"}},\"type\":\"scattermapbox\"}],\"scatterpolargl\":[{\"marker\":{\"colorbar\":{\"outlinewidth\":0,\"ticks\":\"\"}},\"type\":\"scatterpolargl\"}],\"scatterpolar\":[{\"marker\":{\"colorbar\":{\"outlinewidth\":0,\"ticks\":\"\"}},\"type\":\"scatterpolar\"}],\"scatter\":[{\"fillpattern\":{\"fillmode\":\"overlay\",\"size\":10,\"solidity\":0.2},\"type\":\"scatter\"}],\"scatterternary\":[{\"marker\":{\"colorbar\":{\"outlinewidth\":0,\"ticks\":\"\"}},\"type\":\"scatterternary\"}],\"surface\":[{\"colorbar\":{\"outlinewidth\":0,\"ticks\":\"\"},\"colorscale\":[[0.0,\"#0d0887\"],[0.1111111111111111,\"#46039f\"],[0.2222222222222222,\"#7201a8\"],[0.3333333333333333,\"#9c179e\"],[0.4444444444444444,\"#bd3786\"],[0.5555555555555556,\"#d8576b\"],[0.6666666666666666,\"#ed7953\"],[0.7777777777777778,\"#fb9f3a\"],[0.8888888888888888,\"#fdca26\"],[1.0,\"#f0f921\"]],\"type\":\"surface\"}],\"table\":[{\"cells\":{\"fill\":{\"color\":\"#EBF0F8\"},\"line\":{\"color\":\"white\"}},\"header\":{\"fill\":{\"color\":\"#C8D4E3\"},\"line\":{\"color\":\"white\"}},\"type\":\"table\"}]},\"layout\":{\"annotationdefaults\":{\"arrowcolor\":\"#2a3f5f\",\"arrowhead\":0,\"arrowwidth\":1},\"autotypenumbers\":\"strict\",\"coloraxis\":{\"colorbar\":{\"outlinewidth\":0,\"ticks\":\"\"}},\"colorscale\":{\"diverging\":[[0,\"#8e0152\"],[0.1,\"#c51b7d\"],[0.2,\"#de77ae\"],[0.3,\"#f1b6da\"],[0.4,\"#fde0ef\"],[0.5,\"#f7f7f7\"],[0.6,\"#e6f5d0\"],[0.7,\"#b8e186\"],[0.8,\"#7fbc41\"],[0.9,\"#4d9221\"],[1,\"#276419\"]],\"sequential\":[[0.0,\"#0d0887\"],[0.1111111111111111,\"#46039f\"],[0.2222222222222222,\"#7201a8\"],[0.3333333333333333,\"#9c179e\"],[0.4444444444444444,\"#bd3786\"],[0.5555555555555556,\"#d8576b\"],[0.6666666666666666,\"#ed7953\"],[0.7777777777777778,\"#fb9f3a\"],[0.8888888888888888,\"#fdca26\"],[1.0,\"#f0f921\"]],\"sequentialminus\":[[0.0,\"#0d0887\"],[0.1111111111111111,\"#46039f\"],[0.2222222222222222,\"#7201a8\"],[0.3333333333333333,\"#9c179e\"],[0.4444444444444444,\"#bd3786\"],[0.5555555555555556,\"#d8576b\"],[0.6666666666666666,\"#ed7953\"],[0.7777777777777778,\"#fb9f3a\"],[0.8888888888888888,\"#fdca26\"],[1.0,\"#f0f921\"]]},\"colorway\":[\"#636efa\",\"#EF553B\",\"#00cc96\",\"#ab63fa\",\"#FFA15A\",\"#19d3f3\",\"#FF6692\",\"#B6E880\",\"#FF97FF\",\"#FECB52\"],\"font\":{\"color\":\"#2a3f5f\"},\"geo\":{\"bgcolor\":\"white\",\"lakecolor\":\"white\",\"landcolor\":\"#E5ECF6\",\"showlakes\":true,\"showland\":true,\"subunitcolor\":\"white\"},\"hoverlabel\":{\"align\":\"left\"},\"hovermode\":\"closest\",\"mapbox\":{\"style\":\"light\"},\"paper_bgcolor\":\"white\",\"plot_bgcolor\":\"#E5ECF6\",\"polar\":{\"angularaxis\":{\"gridcolor\":\"white\",\"linecolor\":\"white\",\"ticks\":\"\"},\"bgcolor\":\"#E5ECF6\",\"radialaxis\":{\"gridcolor\":\"white\",\"linecolor\":\"white\",\"ticks\":\"\"}},\"scene\":{\"xaxis\":{\"backgroundcolor\":\"#E5ECF6\",\"gridcolor\":\"white\",\"gridwidth\":2,\"linecolor\":\"white\",\"showbackground\":true,\"ticks\":\"\",\"zerolinecolor\":\"white\"},\"yaxis\":{\"backgroundcolor\":\"#E5ECF6\",\"gridcolor\":\"white\",\"gridwidth\":2,\"linecolor\":\"white\",\"showbackground\":true,\"ticks\":\"\",\"zerolinecolor\":\"white\"},\"zaxis\":{\"backgroundcolor\":\"#E5ECF6\",\"gridcolor\":\"white\",\"gridwidth\":2,\"linecolor\":\"white\",\"showbackground\":true,\"ticks\":\"\",\"zerolinecolor\":\"white\"}},\"shapedefaults\":{\"line\":{\"color\":\"#2a3f5f\"}},\"ternary\":{\"aaxis\":{\"gridcolor\":\"white\",\"linecolor\":\"white\",\"ticks\":\"\"},\"baxis\":{\"gridcolor\":\"white\",\"linecolor\":\"white\",\"ticks\":\"\"},\"bgcolor\":\"#E5ECF6\",\"caxis\":{\"gridcolor\":\"white\",\"linecolor\":\"white\",\"ticks\":\"\"}},\"title\":{\"x\":0.05},\"xaxis\":{\"automargin\":true,\"gridcolor\":\"white\",\"linecolor\":\"white\",\"ticks\":\"\",\"title\":{\"standoff\":15},\"zerolinecolor\":\"white\",\"zerolinewidth\":2},\"yaxis\":{\"automargin\":true,\"gridcolor\":\"white\",\"linecolor\":\"white\",\"ticks\":\"\",\"title\":{\"standoff\":15},\"zerolinecolor\":\"white\",\"zerolinewidth\":2}}},\"title\":{\"text\":\"Zestawienie ilo\\u015bci kobiet, kt\\u00f3re otrzyma\\u0142y nagrod\\u0119 Nobla w zale\\u017cno\\u015bci od roku oraz kategorii\"}},                        {\"responsive\": true}                    ).then(function(){\n",
       "                            \n",
       "var gd = document.getElementById('444f3a56-ab9a-48e2-8edc-652aa73941aa');\n",
       "var x = new MutationObserver(function (mutations, observer) {{\n",
       "        var display = window.getComputedStyle(gd).display;\n",
       "        if (!display || display === 'none') {{\n",
       "            console.log([gd, 'removed!']);\n",
       "            Plotly.purge(gd);\n",
       "            observer.disconnect();\n",
       "        }}\n",
       "}});\n",
       "\n",
       "// Listen for the removal of the full notebook cells\n",
       "var notebookContainer = gd.closest('#notebook-container');\n",
       "if (notebookContainer) {{\n",
       "    x.observe(notebookContainer, {childList: true});\n",
       "}}\n",
       "\n",
       "// Listen for the clearing of the current output cell\n",
       "var outputEl = gd.closest('.output');\n",
       "if (outputEl) {{\n",
       "    x.observe(outputEl, {childList: true});\n",
       "}}\n",
       "\n",
       "                        })                };                });            </script>        </div>"
      ]
     },
     "metadata": {},
     "output_type": "display_data"
    },
    {
     "data": {
      "application/vnd.plotly.v1+json": {
       "config": {
        "linkText": "Export to plot.ly",
        "plotlyServerURL": "https://plot.ly",
        "showLink": false
       },
       "data": [
        {
         "type": "heatmap",
         "x": [
          1901,
          1901,
          1901,
          1901,
          1901,
          1902,
          1902,
          1902,
          1902,
          1902,
          1903,
          1903,
          1903,
          1903,
          1903,
          1904,
          1904,
          1904,
          1904,
          1905,
          1905,
          1905,
          1905,
          1905,
          1906,
          1906,
          1906,
          1906,
          1906,
          1907,
          1907,
          1907,
          1907,
          1907,
          1908,
          1908,
          1908,
          1908,
          1908,
          1909,
          1909,
          1909,
          1909,
          1909,
          1910,
          1910,
          1910,
          1910,
          1911,
          1911,
          1911,
          1911,
          1911,
          1912,
          1912,
          1912,
          1912,
          1912,
          1913,
          1913,
          1913,
          1913,
          1913,
          1914,
          1914,
          1914,
          1915,
          1915,
          1915,
          1916,
          1917,
          1917,
          1918,
          1918,
          1919,
          1919,
          1919,
          1919,
          1920,
          1920,
          1920,
          1920,
          1920,
          1921,
          1921,
          1921,
          1921,
          1922,
          1922,
          1922,
          1922,
          1922,
          1923,
          1923,
          1923,
          1923,
          1924,
          1924,
          1924,
          1925,
          1925,
          1925,
          1925,
          1926,
          1926,
          1926,
          1926,
          1926,
          1927,
          1927,
          1927,
          1927,
          1927,
          1928,
          1928,
          1928,
          1928,
          1929,
          1929,
          1929,
          1929,
          1929,
          1930,
          1930,
          1930,
          1930,
          1930,
          1931,
          1931,
          1931,
          1931,
          1932,
          1932,
          1932,
          1932,
          1933,
          1933,
          1933,
          1933,
          1934,
          1934,
          1934,
          1934,
          1935,
          1935,
          1935,
          1935,
          1936,
          1936,
          1936,
          1936,
          1936,
          1937,
          1937,
          1937,
          1937,
          1937,
          1938,
          1938,
          1938,
          1938,
          1939,
          1939,
          1939,
          1939,
          1943,
          1943,
          1943,
          1944,
          1944,
          1944,
          1944,
          1945,
          1945,
          1945,
          1945,
          1945,
          1946,
          1946,
          1946,
          1946,
          1946,
          1947,
          1947,
          1947,
          1947,
          1948,
          1948,
          1948,
          1948,
          1949,
          1949,
          1949,
          1949,
          1949,
          1950,
          1950,
          1950,
          1950,
          1950,
          1951,
          1951,
          1951,
          1951,
          1951,
          1952,
          1952,
          1952,
          1952,
          1952,
          1953,
          1953,
          1953,
          1953,
          1953,
          1954,
          1954,
          1954,
          1954,
          1955,
          1955,
          1955,
          1955,
          1956,
          1956,
          1956,
          1956,
          1957,
          1957,
          1957,
          1957,
          1957,
          1958,
          1958,
          1958,
          1958,
          1958,
          1959,
          1959,
          1959,
          1959,
          1959,
          1960,
          1960,
          1960,
          1960,
          1960,
          1961,
          1961,
          1961,
          1961,
          1961,
          1962,
          1962,
          1962,
          1962,
          1962,
          1963,
          1963,
          1963,
          1963,
          1964,
          1964,
          1964,
          1964,
          1964,
          1965,
          1965,
          1965,
          1965,
          1966,
          1966,
          1966,
          1966,
          1967,
          1967,
          1967,
          1967,
          1968,
          1968,
          1968,
          1968,
          1968,
          1969,
          1969,
          1969,
          1969,
          1969,
          1970,
          1970,
          1970,
          1970,
          1970,
          1970,
          1971,
          1971,
          1971,
          1971,
          1971,
          1971,
          1972,
          1972,
          1972,
          1972,
          1972,
          1973,
          1973,
          1973,
          1973,
          1973,
          1973,
          1974,
          1974,
          1974,
          1974,
          1974,
          1974,
          1975,
          1975,
          1975,
          1975,
          1975,
          1975,
          1976,
          1976,
          1976,
          1976,
          1976,
          1976,
          1977,
          1977,
          1977,
          1977,
          1977,
          1978,
          1978,
          1978,
          1978,
          1978,
          1978,
          1979,
          1979,
          1979,
          1979,
          1979,
          1979,
          1980,
          1980,
          1980,
          1980,
          1980,
          1980,
          1981,
          1981,
          1981,
          1981,
          1981,
          1982,
          1982,
          1982,
          1982,
          1982,
          1982,
          1983,
          1983,
          1983,
          1983,
          1983,
          1983,
          1984,
          1984,
          1984,
          1984,
          1984,
          1984,
          1985,
          1985,
          1985,
          1985,
          1985,
          1986,
          1986,
          1986,
          1986,
          1986,
          1986,
          1987,
          1987,
          1987,
          1987,
          1987,
          1987,
          1988,
          1988,
          1988,
          1988,
          1988,
          1989,
          1989,
          1989,
          1989,
          1989,
          1989,
          1990,
          1990,
          1990,
          1990,
          1990,
          1990,
          1991,
          1991,
          1991,
          1991,
          1991,
          1991,
          1992,
          1992,
          1992,
          1992,
          1992,
          1992,
          1993,
          1993,
          1993,
          1993,
          1993,
          1993,
          1994,
          1994,
          1994,
          1994,
          1994,
          1994,
          1995,
          1995,
          1995,
          1995,
          1995,
          1995,
          1996,
          1996,
          1996,
          1996,
          1996,
          1996,
          1997,
          1997,
          1997,
          1997,
          1997,
          1997,
          1998,
          1998,
          1998,
          1998,
          1998,
          1998,
          1999,
          1999,
          1999,
          1999,
          1999,
          2000,
          2000,
          2000,
          2000,
          2000,
          2000,
          2001,
          2001,
          2001,
          2001,
          2001,
          2001,
          2002,
          2002,
          2002,
          2002,
          2002,
          2002,
          2003,
          2003,
          2003,
          2003,
          2003,
          2003,
          2004,
          2004,
          2004,
          2004,
          2004,
          2004,
          2005,
          2005,
          2005,
          2005,
          2005,
          2005,
          2006,
          2006,
          2006,
          2006,
          2006,
          2006,
          2007,
          2007,
          2007,
          2007,
          2007,
          2007,
          2008,
          2008,
          2008,
          2008,
          2008,
          2008,
          2009,
          2009,
          2009,
          2009,
          2009,
          2009,
          2010,
          2010,
          2010,
          2010,
          2010,
          2010,
          2011,
          2011,
          2011,
          2011,
          2011,
          2011,
          2012,
          2012,
          2012,
          2012,
          2012,
          2013,
          2013,
          2013,
          2013,
          2013,
          2014,
          2014,
          2014,
          2014,
          2014,
          2014,
          2015,
          2015,
          2015,
          2015,
          2015,
          2016,
          2016,
          2016,
          2016,
          2016,
          2016
         ],
         "y": [
          "Literature",
          "Medicine",
          "Physics",
          "Chemistry",
          "Peace",
          "Chemistry",
          "Peace",
          "Physics",
          "Literature",
          "Medicine",
          "Peace",
          "Chemistry",
          "Physics",
          "Literature",
          "Medicine",
          "Literature",
          "Chemistry",
          "Physics",
          "Medicine",
          "Peace",
          "Physics",
          "Literature",
          "Chemistry",
          "Medicine",
          "Literature",
          "Chemistry",
          "Medicine",
          "Physics",
          "Peace",
          "Chemistry",
          "Physics",
          "Medicine",
          "Peace",
          "Literature",
          "Medicine",
          "Chemistry",
          "Peace",
          "Physics",
          "Literature",
          "Physics",
          "Peace",
          "Chemistry",
          "Medicine",
          "Literature",
          "Literature",
          "Physics",
          "Medicine",
          "Chemistry",
          "Literature",
          "Physics",
          "Chemistry",
          "Medicine",
          "Peace",
          "Literature",
          "Physics",
          "Medicine",
          "Chemistry",
          "Peace",
          "Physics",
          "Literature",
          "Medicine",
          "Chemistry",
          "Peace",
          "Medicine",
          "Chemistry",
          "Physics",
          "Chemistry",
          "Physics",
          "Literature",
          "Literature",
          "Physics",
          "Literature",
          "Physics",
          "Chemistry",
          "Medicine",
          "Physics",
          "Literature",
          "Peace",
          "Physics",
          "Literature",
          "Chemistry",
          "Medicine",
          "Peace",
          "Chemistry",
          "Literature",
          "Peace",
          "Physics",
          "Medicine",
          "Chemistry",
          "Physics",
          "Peace",
          "Literature",
          "Literature",
          "Physics",
          "Chemistry",
          "Medicine",
          "Medicine",
          "Physics",
          "Literature",
          "Chemistry",
          "Peace",
          "Physics",
          "Literature",
          "Chemistry",
          "Literature",
          "Medicine",
          "Physics",
          "Peace",
          "Chemistry",
          "Medicine",
          "Peace",
          "Literature",
          "Physics",
          "Medicine",
          "Chemistry",
          "Literature",
          "Physics",
          "Peace",
          "Chemistry",
          "Medicine",
          "Physics",
          "Literature",
          "Physics",
          "Peace",
          "Chemistry",
          "Literature",
          "Medicine",
          "Chemistry",
          "Peace",
          "Literature",
          "Medicine",
          "Literature",
          "Medicine",
          "Chemistry",
          "Physics",
          "Literature",
          "Medicine",
          "Physics",
          "Peace",
          "Chemistry",
          "Peace",
          "Literature",
          "Medicine",
          "Peace",
          "Chemistry",
          "Physics",
          "Medicine",
          "Literature",
          "Chemistry",
          "Peace",
          "Physics",
          "Medicine",
          "Medicine",
          "Chemistry",
          "Peace",
          "Physics",
          "Literature",
          "Medicine",
          "Chemistry",
          "Literature",
          "Physics",
          "Chemistry",
          "Physics",
          "Literature",
          "Medicine",
          "Medicine",
          "Chemistry",
          "Physics",
          "Physics",
          "Literature",
          "Medicine",
          "Chemistry",
          "Literature",
          "Chemistry",
          "Physics",
          "Medicine",
          "Peace",
          "Literature",
          "Chemistry",
          "Physics",
          "Peace",
          "Medicine",
          "Chemistry",
          "Medicine",
          "Literature",
          "Physics",
          "Chemistry",
          "Medicine",
          "Physics",
          "Literature",
          "Peace",
          "Chemistry",
          "Physics",
          "Literature",
          "Medicine",
          "Physics",
          "Chemistry",
          "Literature",
          "Medicine",
          "Peace",
          "Physics",
          "Peace",
          "Medicine",
          "Literature",
          "Chemistry",
          "Literature",
          "Chemistry",
          "Peace",
          "Medicine",
          "Physics",
          "Chemistry",
          "Peace",
          "Literature",
          "Medicine",
          "Physics",
          "Chemistry",
          "Literature",
          "Physics",
          "Medicine",
          "Literature",
          "Medicine",
          "Chemistry",
          "Physics",
          "Literature",
          "Chemistry",
          "Physics",
          "Medicine",
          "Peace",
          "Physics",
          "Medicine",
          "Literature",
          "Chemistry",
          "Physics",
          "Medicine",
          "Peace",
          "Literature",
          "Chemistry",
          "Chemistry",
          "Medicine",
          "Literature",
          "Peace",
          "Physics",
          "Chemistry",
          "Literature",
          "Medicine",
          "Peace",
          "Physics",
          "Physics",
          "Literature",
          "Medicine",
          "Chemistry",
          "Peace",
          "Medicine",
          "Physics",
          "Chemistry",
          "Peace",
          "Literature",
          "Physics",
          "Chemistry",
          "Medicine",
          "Literature",
          "Chemistry",
          "Physics",
          "Peace",
          "Medicine",
          "Literature",
          "Medicine",
          "Chemistry",
          "Physics",
          "Literature",
          "Chemistry",
          "Physics",
          "Medicine",
          "Literature",
          "Physics",
          "Medicine",
          "Chemistry",
          "Literature",
          "Medicine",
          "Peace",
          "Literature",
          "Chemistry",
          "Physics",
          "Economics",
          "Chemistry",
          "Literature",
          "Physics",
          "Medicine",
          "Peace",
          "Physics",
          "Chemistry",
          "Medicine",
          "Economics",
          "Literature",
          "Medicine",
          "Physics",
          "Chemistry",
          "Peace",
          "Economics",
          "Literature",
          "Literature",
          "Medicine",
          "Economics",
          "Chemistry",
          "Physics",
          "Physics",
          "Chemistry",
          "Peace",
          "Medicine",
          "Literature",
          "Economics",
          "Chemistry",
          "Physics",
          "Literature",
          "Economics",
          "Peace",
          "Medicine",
          "Literature",
          "Peace",
          "Physics",
          "Medicine",
          "Economics",
          "Chemistry",
          "Physics",
          "Literature",
          "Medicine",
          "Economics",
          "Chemistry",
          "Peace",
          "Chemistry",
          "Economics",
          "Literature",
          "Physics",
          "Medicine",
          "Economics",
          "Chemistry",
          "Literature",
          "Peace",
          "Medicine",
          "Physics",
          "Literature",
          "Economics",
          "Medicine",
          "Peace",
          "Chemistry",
          "Physics",
          "Medicine",
          "Economics",
          "Peace",
          "Literature",
          "Chemistry",
          "Physics",
          "Chemistry",
          "Economics",
          "Literature",
          "Medicine",
          "Physics",
          "Chemistry",
          "Medicine",
          "Literature",
          "Peace",
          "Physics",
          "Economics",
          "Medicine",
          "Chemistry",
          "Physics",
          "Economics",
          "Literature",
          "Peace",
          "Chemistry",
          "Physics",
          "Economics",
          "Peace",
          "Literature",
          "Medicine",
          "Economics",
          "Literature",
          "Physics",
          "Medicine",
          "Chemistry",
          "Physics",
          "Peace",
          "Economics",
          "Literature",
          "Medicine",
          "Chemistry",
          "Physics",
          "Economics",
          "Literature",
          "Peace",
          "Chemistry",
          "Medicine",
          "Literature",
          "Medicine",
          "Chemistry",
          "Physics",
          "Economics",
          "Physics",
          "Medicine",
          "Economics",
          "Chemistry",
          "Peace",
          "Literature",
          "Physics",
          "Medicine",
          "Peace",
          "Literature",
          "Chemistry",
          "Economics",
          "Physics",
          "Literature",
          "Chemistry",
          "Medicine",
          "Economics",
          "Peace",
          "Literature",
          "Chemistry",
          "Medicine",
          "Peace",
          "Economics",
          "Physics",
          "Peace",
          "Literature",
          "Economics",
          "Chemistry",
          "Medicine",
          "Physics",
          "Literature",
          "Physics",
          "Chemistry",
          "Economics",
          "Medicine",
          "Peace",
          "Physics",
          "Economics",
          "Chemistry",
          "Literature",
          "Peace",
          "Medicine",
          "Medicine",
          "Physics",
          "Peace",
          "Chemistry",
          "Economics",
          "Literature",
          "Physics",
          "Literature",
          "Chemistry",
          "Peace",
          "Medicine",
          "Economics",
          "Chemistry",
          "Physics",
          "Medicine",
          "Peace",
          "Literature",
          "Economics",
          "Economics",
          "Physics",
          "Medicine",
          "Literature",
          "Chemistry",
          "Medicine",
          "Economics",
          "Literature",
          "Peace",
          "Physics",
          "Chemistry",
          "Physics",
          "Literature",
          "Medicine",
          "Chemistry",
          "Economics",
          "Peace",
          "Chemistry",
          "Literature",
          "Physics",
          "Economics",
          "Medicine",
          "Peace",
          "Chemistry",
          "Physics",
          "Peace",
          "Literature",
          "Medicine",
          "Economics",
          "Literature",
          "Peace",
          "Medicine",
          "Economics",
          "Physics",
          "Chemistry",
          "Physics",
          "Peace",
          "Chemistry",
          "Literature",
          "Medicine",
          "Economics",
          "Economics",
          "Chemistry",
          "Literature",
          "Peace",
          "Physics",
          "Medicine",
          "Literature",
          "Peace",
          "Physics",
          "Economics",
          "Medicine",
          "Chemistry",
          "Literature",
          "Physics",
          "Medicine",
          "Peace",
          "Economics",
          "Chemistry",
          "Chemistry",
          "Economics",
          "Literature",
          "Physics",
          "Medicine",
          "Peace",
          "Peace",
          "Physics",
          "Medicine",
          "Literature",
          "Chemistry",
          "Economics",
          "Medicine",
          "Literature",
          "Economics",
          "Chemistry",
          "Peace",
          "Physics",
          "Chemistry",
          "Economics",
          "Literature",
          "Medicine",
          "Physics",
          "Physics",
          "Literature",
          "Medicine",
          "Economics",
          "Chemistry",
          "Economics",
          "Chemistry",
          "Medicine",
          "Literature",
          "Physics",
          "Peace",
          "Chemistry",
          "Literature",
          "Medicine",
          "Physics",
          "Economics",
          "Chemistry",
          "Economics",
          "Literature",
          "Medicine",
          "Peace",
          "Physics"
         ],
         "z": [
          1,
          1,
          1,
          1,
          2,
          1,
          2,
          2,
          1,
          1,
          1,
          1,
          2,
          1,
          1,
          2,
          1,
          1,
          1,
          0,
          1,
          1,
          1,
          1,
          1,
          1,
          2,
          1,
          1,
          1,
          1,
          1,
          2,
          1,
          3,
          1,
          2,
          1,
          1,
          2,
          2,
          1,
          1,
          0,
          1,
          1,
          1,
          1,
          1,
          1,
          0,
          1,
          2,
          1,
          1,
          1,
          2,
          1,
          1,
          1,
          1,
          1,
          1,
          1,
          1,
          1,
          1,
          2,
          1,
          1,
          1,
          2,
          1,
          1,
          1,
          1,
          1,
          1,
          1,
          1,
          1,
          1,
          1,
          1,
          1,
          2,
          1,
          2,
          1,
          1,
          1,
          1,
          1,
          1,
          1,
          2,
          1,
          1,
          1,
          1,
          2,
          2,
          1,
          1,
          0,
          1,
          1,
          2,
          1,
          1,
          2,
          1,
          2,
          1,
          1,
          0,
          1,
          1,
          2,
          2,
          1,
          1,
          1,
          1,
          1,
          1,
          1,
          4,
          1,
          1,
          1,
          1,
          2,
          1,
          1,
          1,
          1,
          2,
          1,
          1,
          1,
          1,
          4,
          1,
          1,
          1,
          1,
          1,
          2,
          1,
          2,
          2,
          1,
          2,
          1,
          2,
          1,
          1,
          2,
          0,
          1,
          3,
          1,
          1,
          1,
          2,
          1,
          1,
          1,
          1,
          2,
          1,
          0,
          1,
          1,
          3,
          1,
          1,
          3,
          1,
          1,
          1,
          1,
          2,
          1,
          1,
          1,
          1,
          1,
          1,
          1,
          1,
          2,
          1,
          3,
          1,
          2,
          1,
          3,
          1,
          2,
          1,
          1,
          1,
          2,
          1,
          2,
          1,
          1,
          2,
          2,
          1,
          1,
          3,
          1,
          1,
          1,
          3,
          4,
          1,
          1,
          1,
          2,
          1,
          2,
          3,
          4,
          1,
          2,
          1,
          1,
          1,
          5,
          3,
          1,
          1,
          1,
          1,
          2,
          1,
          1,
          2,
          1,
          1,
          2,
          1,
          1,
          3,
          1,
          1,
          1,
          1,
          3,
          1,
          2,
          1,
          1,
          2,
          2,
          3,
          1,
          0,
          3,
          1,
          2,
          1,
          3,
          1,
          3,
          1,
          1,
          1,
          2,
          1,
          1,
          3,
          3,
          1,
          3,
          1,
          1,
          1,
          1,
          2,
          2,
          1,
          1,
          3,
          1,
          2,
          1,
          3,
          1,
          1,
          1,
          1,
          1,
          1,
          1,
          1,
          1,
          2,
          2,
          3,
          3,
          3,
          2,
          2,
          3,
          1,
          1,
          1,
          2,
          2,
          2,
          2,
          4,
          1,
          1,
          3,
          3,
          2,
          2,
          2,
          1,
          2,
          1,
          1,
          0,
          2,
          2,
          1,
          3,
          2,
          1,
          1,
          1,
          2,
          3,
          3,
          1,
          2,
          2,
          0,
          2,
          4,
          3,
          1,
          1,
          1,
          3,
          2,
          2,
          1,
          1,
          3,
          3,
          1,
          3,
          1,
          1,
          1,
          1,
          0,
          1,
          2,
          1,
          1,
          1,
          1,
          2,
          1,
          1,
          1,
          3,
          1,
          1,
          1,
          2,
          2,
          3,
          1,
          1,
          1,
          1,
          3,
          2,
          1,
          1,
          1,
          4,
          1,
          1,
          2,
          4,
          3,
          1,
          3,
          2,
          1,
          2,
          1,
          1,
          3,
          2,
          1,
          1,
          1,
          3,
          1,
          0,
          1,
          2,
          1,
          0,
          1,
          1,
          2,
          0,
          1,
          2,
          2,
          0,
          2,
          2,
          2,
          2,
          1,
          2,
          1,
          3,
          2,
          3,
          2,
          1,
          3,
          1,
          1,
          2,
          2,
          3,
          2,
          3,
          2,
          0,
          4,
          1,
          3,
          0,
          1,
          2,
          2,
          3,
          3,
          2,
          1,
          1,
          1,
          2,
          2,
          1,
          1,
          3,
          2,
          1,
          1,
          3,
          3,
          3,
          1,
          3,
          3,
          3,
          1,
          4,
          1,
          3,
          2,
          3,
          1,
          3,
          3,
          0,
          1,
          2,
          2,
          0,
          0,
          1,
          4,
          3,
          3,
          5,
          1,
          3,
          1,
          3,
          2,
          1,
          1,
          1,
          1,
          2,
          2,
          0,
          1,
          3,
          3,
          4,
          1,
          1,
          4,
          2,
          1,
          1,
          5,
          3,
          1,
          0,
          4,
          3,
          1,
          1,
          2,
          1,
          1,
          3,
          4,
          4,
          1,
          2,
          1,
          0,
          5,
          3,
          3,
          1,
          3,
          4,
          2,
          0,
          5,
          3,
          4,
          1,
          4,
          2,
          1,
          4,
          1,
          5,
          0,
          2,
          2,
          1,
          3,
          2,
          1,
          1,
          1,
          3
         ]
        }
       ],
       "layout": {
        "template": {
         "data": {
          "bar": [
           {
            "error_x": {
             "color": "#2a3f5f"
            },
            "error_y": {
             "color": "#2a3f5f"
            },
            "marker": {
             "line": {
              "color": "#E5ECF6",
              "width": 0.5
             },
             "pattern": {
              "fillmode": "overlay",
              "size": 10,
              "solidity": 0.2
             }
            },
            "type": "bar"
           }
          ],
          "barpolar": [
           {
            "marker": {
             "line": {
              "color": "#E5ECF6",
              "width": 0.5
             },
             "pattern": {
              "fillmode": "overlay",
              "size": 10,
              "solidity": 0.2
             }
            },
            "type": "barpolar"
           }
          ],
          "carpet": [
           {
            "aaxis": {
             "endlinecolor": "#2a3f5f",
             "gridcolor": "white",
             "linecolor": "white",
             "minorgridcolor": "white",
             "startlinecolor": "#2a3f5f"
            },
            "baxis": {
             "endlinecolor": "#2a3f5f",
             "gridcolor": "white",
             "linecolor": "white",
             "minorgridcolor": "white",
             "startlinecolor": "#2a3f5f"
            },
            "type": "carpet"
           }
          ],
          "choropleth": [
           {
            "colorbar": {
             "outlinewidth": 0,
             "ticks": ""
            },
            "type": "choropleth"
           }
          ],
          "contour": [
           {
            "colorbar": {
             "outlinewidth": 0,
             "ticks": ""
            },
            "colorscale": [
             [
              0,
              "#0d0887"
             ],
             [
              0.1111111111111111,
              "#46039f"
             ],
             [
              0.2222222222222222,
              "#7201a8"
             ],
             [
              0.3333333333333333,
              "#9c179e"
             ],
             [
              0.4444444444444444,
              "#bd3786"
             ],
             [
              0.5555555555555556,
              "#d8576b"
             ],
             [
              0.6666666666666666,
              "#ed7953"
             ],
             [
              0.7777777777777778,
              "#fb9f3a"
             ],
             [
              0.8888888888888888,
              "#fdca26"
             ],
             [
              1,
              "#f0f921"
             ]
            ],
            "type": "contour"
           }
          ],
          "contourcarpet": [
           {
            "colorbar": {
             "outlinewidth": 0,
             "ticks": ""
            },
            "type": "contourcarpet"
           }
          ],
          "heatmap": [
           {
            "colorbar": {
             "outlinewidth": 0,
             "ticks": ""
            },
            "colorscale": [
             [
              0,
              "#0d0887"
             ],
             [
              0.1111111111111111,
              "#46039f"
             ],
             [
              0.2222222222222222,
              "#7201a8"
             ],
             [
              0.3333333333333333,
              "#9c179e"
             ],
             [
              0.4444444444444444,
              "#bd3786"
             ],
             [
              0.5555555555555556,
              "#d8576b"
             ],
             [
              0.6666666666666666,
              "#ed7953"
             ],
             [
              0.7777777777777778,
              "#fb9f3a"
             ],
             [
              0.8888888888888888,
              "#fdca26"
             ],
             [
              1,
              "#f0f921"
             ]
            ],
            "type": "heatmap"
           }
          ],
          "heatmapgl": [
           {
            "colorbar": {
             "outlinewidth": 0,
             "ticks": ""
            },
            "colorscale": [
             [
              0,
              "#0d0887"
             ],
             [
              0.1111111111111111,
              "#46039f"
             ],
             [
              0.2222222222222222,
              "#7201a8"
             ],
             [
              0.3333333333333333,
              "#9c179e"
             ],
             [
              0.4444444444444444,
              "#bd3786"
             ],
             [
              0.5555555555555556,
              "#d8576b"
             ],
             [
              0.6666666666666666,
              "#ed7953"
             ],
             [
              0.7777777777777778,
              "#fb9f3a"
             ],
             [
              0.8888888888888888,
              "#fdca26"
             ],
             [
              1,
              "#f0f921"
             ]
            ],
            "type": "heatmapgl"
           }
          ],
          "histogram": [
           {
            "marker": {
             "pattern": {
              "fillmode": "overlay",
              "size": 10,
              "solidity": 0.2
             }
            },
            "type": "histogram"
           }
          ],
          "histogram2d": [
           {
            "colorbar": {
             "outlinewidth": 0,
             "ticks": ""
            },
            "colorscale": [
             [
              0,
              "#0d0887"
             ],
             [
              0.1111111111111111,
              "#46039f"
             ],
             [
              0.2222222222222222,
              "#7201a8"
             ],
             [
              0.3333333333333333,
              "#9c179e"
             ],
             [
              0.4444444444444444,
              "#bd3786"
             ],
             [
              0.5555555555555556,
              "#d8576b"
             ],
             [
              0.6666666666666666,
              "#ed7953"
             ],
             [
              0.7777777777777778,
              "#fb9f3a"
             ],
             [
              0.8888888888888888,
              "#fdca26"
             ],
             [
              1,
              "#f0f921"
             ]
            ],
            "type": "histogram2d"
           }
          ],
          "histogram2dcontour": [
           {
            "colorbar": {
             "outlinewidth": 0,
             "ticks": ""
            },
            "colorscale": [
             [
              0,
              "#0d0887"
             ],
             [
              0.1111111111111111,
              "#46039f"
             ],
             [
              0.2222222222222222,
              "#7201a8"
             ],
             [
              0.3333333333333333,
              "#9c179e"
             ],
             [
              0.4444444444444444,
              "#bd3786"
             ],
             [
              0.5555555555555556,
              "#d8576b"
             ],
             [
              0.6666666666666666,
              "#ed7953"
             ],
             [
              0.7777777777777778,
              "#fb9f3a"
             ],
             [
              0.8888888888888888,
              "#fdca26"
             ],
             [
              1,
              "#f0f921"
             ]
            ],
            "type": "histogram2dcontour"
           }
          ],
          "mesh3d": [
           {
            "colorbar": {
             "outlinewidth": 0,
             "ticks": ""
            },
            "type": "mesh3d"
           }
          ],
          "parcoords": [
           {
            "line": {
             "colorbar": {
              "outlinewidth": 0,
              "ticks": ""
             }
            },
            "type": "parcoords"
           }
          ],
          "pie": [
           {
            "automargin": true,
            "type": "pie"
           }
          ],
          "scatter": [
           {
            "fillpattern": {
             "fillmode": "overlay",
             "size": 10,
             "solidity": 0.2
            },
            "type": "scatter"
           }
          ],
          "scatter3d": [
           {
            "line": {
             "colorbar": {
              "outlinewidth": 0,
              "ticks": ""
             }
            },
            "marker": {
             "colorbar": {
              "outlinewidth": 0,
              "ticks": ""
             }
            },
            "type": "scatter3d"
           }
          ],
          "scattercarpet": [
           {
            "marker": {
             "colorbar": {
              "outlinewidth": 0,
              "ticks": ""
             }
            },
            "type": "scattercarpet"
           }
          ],
          "scattergeo": [
           {
            "marker": {
             "colorbar": {
              "outlinewidth": 0,
              "ticks": ""
             }
            },
            "type": "scattergeo"
           }
          ],
          "scattergl": [
           {
            "marker": {
             "colorbar": {
              "outlinewidth": 0,
              "ticks": ""
             }
            },
            "type": "scattergl"
           }
          ],
          "scattermapbox": [
           {
            "marker": {
             "colorbar": {
              "outlinewidth": 0,
              "ticks": ""
             }
            },
            "type": "scattermapbox"
           }
          ],
          "scatterpolar": [
           {
            "marker": {
             "colorbar": {
              "outlinewidth": 0,
              "ticks": ""
             }
            },
            "type": "scatterpolar"
           }
          ],
          "scatterpolargl": [
           {
            "marker": {
             "colorbar": {
              "outlinewidth": 0,
              "ticks": ""
             }
            },
            "type": "scatterpolargl"
           }
          ],
          "scatterternary": [
           {
            "marker": {
             "colorbar": {
              "outlinewidth": 0,
              "ticks": ""
             }
            },
            "type": "scatterternary"
           }
          ],
          "surface": [
           {
            "colorbar": {
             "outlinewidth": 0,
             "ticks": ""
            },
            "colorscale": [
             [
              0,
              "#0d0887"
             ],
             [
              0.1111111111111111,
              "#46039f"
             ],
             [
              0.2222222222222222,
              "#7201a8"
             ],
             [
              0.3333333333333333,
              "#9c179e"
             ],
             [
              0.4444444444444444,
              "#bd3786"
             ],
             [
              0.5555555555555556,
              "#d8576b"
             ],
             [
              0.6666666666666666,
              "#ed7953"
             ],
             [
              0.7777777777777778,
              "#fb9f3a"
             ],
             [
              0.8888888888888888,
              "#fdca26"
             ],
             [
              1,
              "#f0f921"
             ]
            ],
            "type": "surface"
           }
          ],
          "table": [
           {
            "cells": {
             "fill": {
              "color": "#EBF0F8"
             },
             "line": {
              "color": "white"
             }
            },
            "header": {
             "fill": {
              "color": "#C8D4E3"
             },
             "line": {
              "color": "white"
             }
            },
            "type": "table"
           }
          ]
         },
         "layout": {
          "annotationdefaults": {
           "arrowcolor": "#2a3f5f",
           "arrowhead": 0,
           "arrowwidth": 1
          },
          "autotypenumbers": "strict",
          "coloraxis": {
           "colorbar": {
            "outlinewidth": 0,
            "ticks": ""
           }
          },
          "colorscale": {
           "diverging": [
            [
             0,
             "#8e0152"
            ],
            [
             0.1,
             "#c51b7d"
            ],
            [
             0.2,
             "#de77ae"
            ],
            [
             0.3,
             "#f1b6da"
            ],
            [
             0.4,
             "#fde0ef"
            ],
            [
             0.5,
             "#f7f7f7"
            ],
            [
             0.6,
             "#e6f5d0"
            ],
            [
             0.7,
             "#b8e186"
            ],
            [
             0.8,
             "#7fbc41"
            ],
            [
             0.9,
             "#4d9221"
            ],
            [
             1,
             "#276419"
            ]
           ],
           "sequential": [
            [
             0,
             "#0d0887"
            ],
            [
             0.1111111111111111,
             "#46039f"
            ],
            [
             0.2222222222222222,
             "#7201a8"
            ],
            [
             0.3333333333333333,
             "#9c179e"
            ],
            [
             0.4444444444444444,
             "#bd3786"
            ],
            [
             0.5555555555555556,
             "#d8576b"
            ],
            [
             0.6666666666666666,
             "#ed7953"
            ],
            [
             0.7777777777777778,
             "#fb9f3a"
            ],
            [
             0.8888888888888888,
             "#fdca26"
            ],
            [
             1,
             "#f0f921"
            ]
           ],
           "sequentialminus": [
            [
             0,
             "#0d0887"
            ],
            [
             0.1111111111111111,
             "#46039f"
            ],
            [
             0.2222222222222222,
             "#7201a8"
            ],
            [
             0.3333333333333333,
             "#9c179e"
            ],
            [
             0.4444444444444444,
             "#bd3786"
            ],
            [
             0.5555555555555556,
             "#d8576b"
            ],
            [
             0.6666666666666666,
             "#ed7953"
            ],
            [
             0.7777777777777778,
             "#fb9f3a"
            ],
            [
             0.8888888888888888,
             "#fdca26"
            ],
            [
             1,
             "#f0f921"
            ]
           ]
          },
          "colorway": [
           "#636efa",
           "#EF553B",
           "#00cc96",
           "#ab63fa",
           "#FFA15A",
           "#19d3f3",
           "#FF6692",
           "#B6E880",
           "#FF97FF",
           "#FECB52"
          ],
          "font": {
           "color": "#2a3f5f"
          },
          "geo": {
           "bgcolor": "white",
           "lakecolor": "white",
           "landcolor": "#E5ECF6",
           "showlakes": true,
           "showland": true,
           "subunitcolor": "white"
          },
          "hoverlabel": {
           "align": "left"
          },
          "hovermode": "closest",
          "mapbox": {
           "style": "light"
          },
          "paper_bgcolor": "white",
          "plot_bgcolor": "#E5ECF6",
          "polar": {
           "angularaxis": {
            "gridcolor": "white",
            "linecolor": "white",
            "ticks": ""
           },
           "bgcolor": "#E5ECF6",
           "radialaxis": {
            "gridcolor": "white",
            "linecolor": "white",
            "ticks": ""
           }
          },
          "scene": {
           "xaxis": {
            "backgroundcolor": "#E5ECF6",
            "gridcolor": "white",
            "gridwidth": 2,
            "linecolor": "white",
            "showbackground": true,
            "ticks": "",
            "zerolinecolor": "white"
           },
           "yaxis": {
            "backgroundcolor": "#E5ECF6",
            "gridcolor": "white",
            "gridwidth": 2,
            "linecolor": "white",
            "showbackground": true,
            "ticks": "",
            "zerolinecolor": "white"
           },
           "zaxis": {
            "backgroundcolor": "#E5ECF6",
            "gridcolor": "white",
            "gridwidth": 2,
            "linecolor": "white",
            "showbackground": true,
            "ticks": "",
            "zerolinecolor": "white"
           }
          },
          "shapedefaults": {
           "line": {
            "color": "#2a3f5f"
           }
          },
          "ternary": {
           "aaxis": {
            "gridcolor": "white",
            "linecolor": "white",
            "ticks": ""
           },
           "baxis": {
            "gridcolor": "white",
            "linecolor": "white",
            "ticks": ""
           },
           "bgcolor": "#E5ECF6",
           "caxis": {
            "gridcolor": "white",
            "linecolor": "white",
            "ticks": ""
           }
          },
          "title": {
           "x": 0.05
          },
          "xaxis": {
           "automargin": true,
           "gridcolor": "white",
           "linecolor": "white",
           "ticks": "",
           "title": {
            "standoff": 15
           },
           "zerolinecolor": "white",
           "zerolinewidth": 2
          },
          "yaxis": {
           "automargin": true,
           "gridcolor": "white",
           "linecolor": "white",
           "ticks": "",
           "title": {
            "standoff": 15
           },
           "zerolinecolor": "white",
           "zerolinewidth": 2
          }
         }
        },
        "title": {
         "text": "Zestawienie ilości mężczyzn, którzy otrzymali nagrodę Nobla w zależności od roku oraz kategorii"
        }
       }
      },
      "text/html": [
       "<div>                            <div id=\"a5c165a5-92c6-480b-87d9-b97322f2f232\" class=\"plotly-graph-div\" style=\"height:525px; width:100%;\"></div>            <script type=\"text/javascript\">                require([\"plotly\"], function(Plotly) {                    window.PLOTLYENV=window.PLOTLYENV || {};                                    if (document.getElementById(\"a5c165a5-92c6-480b-87d9-b97322f2f232\")) {                    Plotly.newPlot(                        \"a5c165a5-92c6-480b-87d9-b97322f2f232\",                        [{\"x\":[1901,1901,1901,1901,1901,1902,1902,1902,1902,1902,1903,1903,1903,1903,1903,1904,1904,1904,1904,1905,1905,1905,1905,1905,1906,1906,1906,1906,1906,1907,1907,1907,1907,1907,1908,1908,1908,1908,1908,1909,1909,1909,1909,1909,1910,1910,1910,1910,1911,1911,1911,1911,1911,1912,1912,1912,1912,1912,1913,1913,1913,1913,1913,1914,1914,1914,1915,1915,1915,1916,1917,1917,1918,1918,1919,1919,1919,1919,1920,1920,1920,1920,1920,1921,1921,1921,1921,1922,1922,1922,1922,1922,1923,1923,1923,1923,1924,1924,1924,1925,1925,1925,1925,1926,1926,1926,1926,1926,1927,1927,1927,1927,1927,1928,1928,1928,1928,1929,1929,1929,1929,1929,1930,1930,1930,1930,1930,1931,1931,1931,1931,1932,1932,1932,1932,1933,1933,1933,1933,1934,1934,1934,1934,1935,1935,1935,1935,1936,1936,1936,1936,1936,1937,1937,1937,1937,1937,1938,1938,1938,1938,1939,1939,1939,1939,1943,1943,1943,1944,1944,1944,1944,1945,1945,1945,1945,1945,1946,1946,1946,1946,1946,1947,1947,1947,1947,1948,1948,1948,1948,1949,1949,1949,1949,1949,1950,1950,1950,1950,1950,1951,1951,1951,1951,1951,1952,1952,1952,1952,1952,1953,1953,1953,1953,1953,1954,1954,1954,1954,1955,1955,1955,1955,1956,1956,1956,1956,1957,1957,1957,1957,1957,1958,1958,1958,1958,1958,1959,1959,1959,1959,1959,1960,1960,1960,1960,1960,1961,1961,1961,1961,1961,1962,1962,1962,1962,1962,1963,1963,1963,1963,1964,1964,1964,1964,1964,1965,1965,1965,1965,1966,1966,1966,1966,1967,1967,1967,1967,1968,1968,1968,1968,1968,1969,1969,1969,1969,1969,1970,1970,1970,1970,1970,1970,1971,1971,1971,1971,1971,1971,1972,1972,1972,1972,1972,1973,1973,1973,1973,1973,1973,1974,1974,1974,1974,1974,1974,1975,1975,1975,1975,1975,1975,1976,1976,1976,1976,1976,1976,1977,1977,1977,1977,1977,1978,1978,1978,1978,1978,1978,1979,1979,1979,1979,1979,1979,1980,1980,1980,1980,1980,1980,1981,1981,1981,1981,1981,1982,1982,1982,1982,1982,1982,1983,1983,1983,1983,1983,1983,1984,1984,1984,1984,1984,1984,1985,1985,1985,1985,1985,1986,1986,1986,1986,1986,1986,1987,1987,1987,1987,1987,1987,1988,1988,1988,1988,1988,1989,1989,1989,1989,1989,1989,1990,1990,1990,1990,1990,1990,1991,1991,1991,1991,1991,1991,1992,1992,1992,1992,1992,1992,1993,1993,1993,1993,1993,1993,1994,1994,1994,1994,1994,1994,1995,1995,1995,1995,1995,1995,1996,1996,1996,1996,1996,1996,1997,1997,1997,1997,1997,1997,1998,1998,1998,1998,1998,1998,1999,1999,1999,1999,1999,2000,2000,2000,2000,2000,2000,2001,2001,2001,2001,2001,2001,2002,2002,2002,2002,2002,2002,2003,2003,2003,2003,2003,2003,2004,2004,2004,2004,2004,2004,2005,2005,2005,2005,2005,2005,2006,2006,2006,2006,2006,2006,2007,2007,2007,2007,2007,2007,2008,2008,2008,2008,2008,2008,2009,2009,2009,2009,2009,2009,2010,2010,2010,2010,2010,2010,2011,2011,2011,2011,2011,2011,2012,2012,2012,2012,2012,2013,2013,2013,2013,2013,2014,2014,2014,2014,2014,2014,2015,2015,2015,2015,2015,2016,2016,2016,2016,2016,2016],\"y\":[\"Literature\",\"Medicine\",\"Physics\",\"Chemistry\",\"Peace\",\"Chemistry\",\"Peace\",\"Physics\",\"Literature\",\"Medicine\",\"Peace\",\"Chemistry\",\"Physics\",\"Literature\",\"Medicine\",\"Literature\",\"Chemistry\",\"Physics\",\"Medicine\",\"Peace\",\"Physics\",\"Literature\",\"Chemistry\",\"Medicine\",\"Literature\",\"Chemistry\",\"Medicine\",\"Physics\",\"Peace\",\"Chemistry\",\"Physics\",\"Medicine\",\"Peace\",\"Literature\",\"Medicine\",\"Chemistry\",\"Peace\",\"Physics\",\"Literature\",\"Physics\",\"Peace\",\"Chemistry\",\"Medicine\",\"Literature\",\"Literature\",\"Physics\",\"Medicine\",\"Chemistry\",\"Literature\",\"Physics\",\"Chemistry\",\"Medicine\",\"Peace\",\"Literature\",\"Physics\",\"Medicine\",\"Chemistry\",\"Peace\",\"Physics\",\"Literature\",\"Medicine\",\"Chemistry\",\"Peace\",\"Medicine\",\"Chemistry\",\"Physics\",\"Chemistry\",\"Physics\",\"Literature\",\"Literature\",\"Physics\",\"Literature\",\"Physics\",\"Chemistry\",\"Medicine\",\"Physics\",\"Literature\",\"Peace\",\"Physics\",\"Literature\",\"Chemistry\",\"Medicine\",\"Peace\",\"Chemistry\",\"Literature\",\"Peace\",\"Physics\",\"Medicine\",\"Chemistry\",\"Physics\",\"Peace\",\"Literature\",\"Literature\",\"Physics\",\"Chemistry\",\"Medicine\",\"Medicine\",\"Physics\",\"Literature\",\"Chemistry\",\"Peace\",\"Physics\",\"Literature\",\"Chemistry\",\"Literature\",\"Medicine\",\"Physics\",\"Peace\",\"Chemistry\",\"Medicine\",\"Peace\",\"Literature\",\"Physics\",\"Medicine\",\"Chemistry\",\"Literature\",\"Physics\",\"Peace\",\"Chemistry\",\"Medicine\",\"Physics\",\"Literature\",\"Physics\",\"Peace\",\"Chemistry\",\"Literature\",\"Medicine\",\"Chemistry\",\"Peace\",\"Literature\",\"Medicine\",\"Literature\",\"Medicine\",\"Chemistry\",\"Physics\",\"Literature\",\"Medicine\",\"Physics\",\"Peace\",\"Chemistry\",\"Peace\",\"Literature\",\"Medicine\",\"Peace\",\"Chemistry\",\"Physics\",\"Medicine\",\"Literature\",\"Chemistry\",\"Peace\",\"Physics\",\"Medicine\",\"Medicine\",\"Chemistry\",\"Peace\",\"Physics\",\"Literature\",\"Medicine\",\"Chemistry\",\"Literature\",\"Physics\",\"Chemistry\",\"Physics\",\"Literature\",\"Medicine\",\"Medicine\",\"Chemistry\",\"Physics\",\"Physics\",\"Literature\",\"Medicine\",\"Chemistry\",\"Literature\",\"Chemistry\",\"Physics\",\"Medicine\",\"Peace\",\"Literature\",\"Chemistry\",\"Physics\",\"Peace\",\"Medicine\",\"Chemistry\",\"Medicine\",\"Literature\",\"Physics\",\"Chemistry\",\"Medicine\",\"Physics\",\"Literature\",\"Peace\",\"Chemistry\",\"Physics\",\"Literature\",\"Medicine\",\"Physics\",\"Chemistry\",\"Literature\",\"Medicine\",\"Peace\",\"Physics\",\"Peace\",\"Medicine\",\"Literature\",\"Chemistry\",\"Literature\",\"Chemistry\",\"Peace\",\"Medicine\",\"Physics\",\"Chemistry\",\"Peace\",\"Literature\",\"Medicine\",\"Physics\",\"Chemistry\",\"Literature\",\"Physics\",\"Medicine\",\"Literature\",\"Medicine\",\"Chemistry\",\"Physics\",\"Literature\",\"Chemistry\",\"Physics\",\"Medicine\",\"Peace\",\"Physics\",\"Medicine\",\"Literature\",\"Chemistry\",\"Physics\",\"Medicine\",\"Peace\",\"Literature\",\"Chemistry\",\"Chemistry\",\"Medicine\",\"Literature\",\"Peace\",\"Physics\",\"Chemistry\",\"Literature\",\"Medicine\",\"Peace\",\"Physics\",\"Physics\",\"Literature\",\"Medicine\",\"Chemistry\",\"Peace\",\"Medicine\",\"Physics\",\"Chemistry\",\"Peace\",\"Literature\",\"Physics\",\"Chemistry\",\"Medicine\",\"Literature\",\"Chemistry\",\"Physics\",\"Peace\",\"Medicine\",\"Literature\",\"Medicine\",\"Chemistry\",\"Physics\",\"Literature\",\"Chemistry\",\"Physics\",\"Medicine\",\"Literature\",\"Physics\",\"Medicine\",\"Chemistry\",\"Literature\",\"Medicine\",\"Peace\",\"Literature\",\"Chemistry\",\"Physics\",\"Economics\",\"Chemistry\",\"Literature\",\"Physics\",\"Medicine\",\"Peace\",\"Physics\",\"Chemistry\",\"Medicine\",\"Economics\",\"Literature\",\"Medicine\",\"Physics\",\"Chemistry\",\"Peace\",\"Economics\",\"Literature\",\"Literature\",\"Medicine\",\"Economics\",\"Chemistry\",\"Physics\",\"Physics\",\"Chemistry\",\"Peace\",\"Medicine\",\"Literature\",\"Economics\",\"Chemistry\",\"Physics\",\"Literature\",\"Economics\",\"Peace\",\"Medicine\",\"Literature\",\"Peace\",\"Physics\",\"Medicine\",\"Economics\",\"Chemistry\",\"Physics\",\"Literature\",\"Medicine\",\"Economics\",\"Chemistry\",\"Peace\",\"Chemistry\",\"Economics\",\"Literature\",\"Physics\",\"Medicine\",\"Economics\",\"Chemistry\",\"Literature\",\"Peace\",\"Medicine\",\"Physics\",\"Literature\",\"Economics\",\"Medicine\",\"Peace\",\"Chemistry\",\"Physics\",\"Medicine\",\"Economics\",\"Peace\",\"Literature\",\"Chemistry\",\"Physics\",\"Chemistry\",\"Economics\",\"Literature\",\"Medicine\",\"Physics\",\"Chemistry\",\"Medicine\",\"Literature\",\"Peace\",\"Physics\",\"Economics\",\"Medicine\",\"Chemistry\",\"Physics\",\"Economics\",\"Literature\",\"Peace\",\"Chemistry\",\"Physics\",\"Economics\",\"Peace\",\"Literature\",\"Medicine\",\"Economics\",\"Literature\",\"Physics\",\"Medicine\",\"Chemistry\",\"Physics\",\"Peace\",\"Economics\",\"Literature\",\"Medicine\",\"Chemistry\",\"Physics\",\"Economics\",\"Literature\",\"Peace\",\"Chemistry\",\"Medicine\",\"Literature\",\"Medicine\",\"Chemistry\",\"Physics\",\"Economics\",\"Physics\",\"Medicine\",\"Economics\",\"Chemistry\",\"Peace\",\"Literature\",\"Physics\",\"Medicine\",\"Peace\",\"Literature\",\"Chemistry\",\"Economics\",\"Physics\",\"Literature\",\"Chemistry\",\"Medicine\",\"Economics\",\"Peace\",\"Literature\",\"Chemistry\",\"Medicine\",\"Peace\",\"Economics\",\"Physics\",\"Peace\",\"Literature\",\"Economics\",\"Chemistry\",\"Medicine\",\"Physics\",\"Literature\",\"Physics\",\"Chemistry\",\"Economics\",\"Medicine\",\"Peace\",\"Physics\",\"Economics\",\"Chemistry\",\"Literature\",\"Peace\",\"Medicine\",\"Medicine\",\"Physics\",\"Peace\",\"Chemistry\",\"Economics\",\"Literature\",\"Physics\",\"Literature\",\"Chemistry\",\"Peace\",\"Medicine\",\"Economics\",\"Chemistry\",\"Physics\",\"Medicine\",\"Peace\",\"Literature\",\"Economics\",\"Economics\",\"Physics\",\"Medicine\",\"Literature\",\"Chemistry\",\"Medicine\",\"Economics\",\"Literature\",\"Peace\",\"Physics\",\"Chemistry\",\"Physics\",\"Literature\",\"Medicine\",\"Chemistry\",\"Economics\",\"Peace\",\"Chemistry\",\"Literature\",\"Physics\",\"Economics\",\"Medicine\",\"Peace\",\"Chemistry\",\"Physics\",\"Peace\",\"Literature\",\"Medicine\",\"Economics\",\"Literature\",\"Peace\",\"Medicine\",\"Economics\",\"Physics\",\"Chemistry\",\"Physics\",\"Peace\",\"Chemistry\",\"Literature\",\"Medicine\",\"Economics\",\"Economics\",\"Chemistry\",\"Literature\",\"Peace\",\"Physics\",\"Medicine\",\"Literature\",\"Peace\",\"Physics\",\"Economics\",\"Medicine\",\"Chemistry\",\"Literature\",\"Physics\",\"Medicine\",\"Peace\",\"Economics\",\"Chemistry\",\"Chemistry\",\"Economics\",\"Literature\",\"Physics\",\"Medicine\",\"Peace\",\"Peace\",\"Physics\",\"Medicine\",\"Literature\",\"Chemistry\",\"Economics\",\"Medicine\",\"Literature\",\"Economics\",\"Chemistry\",\"Peace\",\"Physics\",\"Chemistry\",\"Economics\",\"Literature\",\"Medicine\",\"Physics\",\"Physics\",\"Literature\",\"Medicine\",\"Economics\",\"Chemistry\",\"Economics\",\"Chemistry\",\"Medicine\",\"Literature\",\"Physics\",\"Peace\",\"Chemistry\",\"Literature\",\"Medicine\",\"Physics\",\"Economics\",\"Chemistry\",\"Economics\",\"Literature\",\"Medicine\",\"Peace\",\"Physics\"],\"z\":[1.0,1.0,1.0,1.0,2.0,1.0,2.0,2.0,1.0,1.0,1.0,1.0,2.0,1.0,1.0,2.0,1.0,1.0,1.0,0.0,1.0,1.0,1.0,1.0,1.0,1.0,2.0,1.0,1.0,1.0,1.0,1.0,2.0,1.0,3.0,1.0,2.0,1.0,1.0,2.0,2.0,1.0,1.0,0.0,1.0,1.0,1.0,1.0,1.0,1.0,0.0,1.0,2.0,1.0,1.0,1.0,2.0,1.0,1.0,1.0,1.0,1.0,1.0,1.0,1.0,1.0,1.0,2.0,1.0,1.0,1.0,2.0,1.0,1.0,1.0,1.0,1.0,1.0,1.0,1.0,1.0,1.0,1.0,1.0,1.0,2.0,1.0,2.0,1.0,1.0,1.0,1.0,1.0,1.0,1.0,2.0,1.0,1.0,1.0,1.0,2.0,2.0,1.0,1.0,0.0,1.0,1.0,2.0,1.0,1.0,2.0,1.0,2.0,1.0,1.0,0.0,1.0,1.0,2.0,2.0,1.0,1.0,1.0,1.0,1.0,1.0,1.0,4.0,1.0,1.0,1.0,1.0,2.0,1.0,1.0,1.0,1.0,2.0,1.0,1.0,1.0,1.0,4.0,1.0,1.0,1.0,1.0,1.0,2.0,1.0,2.0,2.0,1.0,2.0,1.0,2.0,1.0,1.0,2.0,0.0,1.0,3.0,1.0,1.0,1.0,2.0,1.0,1.0,1.0,1.0,2.0,1.0,0.0,1.0,1.0,3.0,1.0,1.0,3.0,1.0,1.0,1.0,1.0,2.0,1.0,1.0,1.0,1.0,1.0,1.0,1.0,1.0,2.0,1.0,3.0,1.0,2.0,1.0,3.0,1.0,2.0,1.0,1.0,1.0,2.0,1.0,2.0,1.0,1.0,2.0,2.0,1.0,1.0,3.0,1.0,1.0,1.0,3.0,4.0,1.0,1.0,1.0,2.0,1.0,2.0,3.0,4.0,1.0,2.0,1.0,1.0,1.0,5.0,3.0,1.0,1.0,1.0,1.0,2.0,1.0,1.0,2.0,1.0,1.0,2.0,1.0,1.0,3.0,1.0,1.0,1.0,1.0,3.0,1.0,2.0,1.0,1.0,2.0,2.0,3.0,1.0,0.0,3.0,1.0,2.0,1.0,3.0,1.0,3.0,1.0,1.0,1.0,2.0,1.0,1.0,3.0,3.0,1.0,3.0,1.0,1.0,1.0,1.0,2.0,2.0,1.0,1.0,3.0,1.0,2.0,1.0,3.0,1.0,1.0,1.0,1.0,1.0,1.0,1.0,1.0,1.0,2.0,2.0,3.0,3.0,3.0,2.0,2.0,3.0,1.0,1.0,1.0,2.0,2.0,2.0,2.0,4.0,1.0,1.0,3.0,3.0,2.0,2.0,2.0,1.0,2.0,1.0,1.0,0.0,2.0,2.0,1.0,3.0,2.0,1.0,1.0,1.0,2.0,3.0,3.0,1.0,2.0,2.0,0.0,2.0,4.0,3.0,1.0,1.0,1.0,3.0,2.0,2.0,1.0,1.0,3.0,3.0,1.0,3.0,1.0,1.0,1.0,1.0,0.0,1.0,2.0,1.0,1.0,1.0,1.0,2.0,1.0,1.0,1.0,3.0,1.0,1.0,1.0,2.0,2.0,3.0,1.0,1.0,1.0,1.0,3.0,2.0,1.0,1.0,1.0,4.0,1.0,1.0,2.0,4.0,3.0,1.0,3.0,2.0,1.0,2.0,1.0,1.0,3.0,2.0,1.0,1.0,1.0,3.0,1.0,0.0,1.0,2.0,1.0,0.0,1.0,1.0,2.0,0.0,1.0,2.0,2.0,0.0,2.0,2.0,2.0,2.0,1.0,2.0,1.0,3.0,2.0,3.0,2.0,1.0,3.0,1.0,1.0,2.0,2.0,3.0,2.0,3.0,2.0,0.0,4.0,1.0,3.0,0.0,1.0,2.0,2.0,3.0,3.0,2.0,1.0,1.0,1.0,2.0,2.0,1.0,1.0,3.0,2.0,1.0,1.0,3.0,3.0,3.0,1.0,3.0,3.0,3.0,1.0,4.0,1.0,3.0,2.0,3.0,1.0,3.0,3.0,0.0,1.0,2.0,2.0,0.0,0.0,1.0,4.0,3.0,3.0,5.0,1.0,3.0,1.0,3.0,2.0,1.0,1.0,1.0,1.0,2.0,2.0,0.0,1.0,3.0,3.0,4.0,1.0,1.0,4.0,2.0,1.0,1.0,5.0,3.0,1.0,0.0,4.0,3.0,1.0,1.0,2.0,1.0,1.0,3.0,4.0,4.0,1.0,2.0,1.0,0.0,5.0,3.0,3.0,1.0,3.0,4.0,2.0,0.0,5.0,3.0,4.0,1.0,4.0,2.0,1.0,4.0,1.0,5.0,0.0,2.0,2.0,1.0,3.0,2.0,1.0,1.0,1.0,3.0],\"type\":\"heatmap\"}],                        {\"template\":{\"data\":{\"barpolar\":[{\"marker\":{\"line\":{\"color\":\"#E5ECF6\",\"width\":0.5},\"pattern\":{\"fillmode\":\"overlay\",\"size\":10,\"solidity\":0.2}},\"type\":\"barpolar\"}],\"bar\":[{\"error_x\":{\"color\":\"#2a3f5f\"},\"error_y\":{\"color\":\"#2a3f5f\"},\"marker\":{\"line\":{\"color\":\"#E5ECF6\",\"width\":0.5},\"pattern\":{\"fillmode\":\"overlay\",\"size\":10,\"solidity\":0.2}},\"type\":\"bar\"}],\"carpet\":[{\"aaxis\":{\"endlinecolor\":\"#2a3f5f\",\"gridcolor\":\"white\",\"linecolor\":\"white\",\"minorgridcolor\":\"white\",\"startlinecolor\":\"#2a3f5f\"},\"baxis\":{\"endlinecolor\":\"#2a3f5f\",\"gridcolor\":\"white\",\"linecolor\":\"white\",\"minorgridcolor\":\"white\",\"startlinecolor\":\"#2a3f5f\"},\"type\":\"carpet\"}],\"choropleth\":[{\"colorbar\":{\"outlinewidth\":0,\"ticks\":\"\"},\"type\":\"choropleth\"}],\"contourcarpet\":[{\"colorbar\":{\"outlinewidth\":0,\"ticks\":\"\"},\"type\":\"contourcarpet\"}],\"contour\":[{\"colorbar\":{\"outlinewidth\":0,\"ticks\":\"\"},\"colorscale\":[[0.0,\"#0d0887\"],[0.1111111111111111,\"#46039f\"],[0.2222222222222222,\"#7201a8\"],[0.3333333333333333,\"#9c179e\"],[0.4444444444444444,\"#bd3786\"],[0.5555555555555556,\"#d8576b\"],[0.6666666666666666,\"#ed7953\"],[0.7777777777777778,\"#fb9f3a\"],[0.8888888888888888,\"#fdca26\"],[1.0,\"#f0f921\"]],\"type\":\"contour\"}],\"heatmapgl\":[{\"colorbar\":{\"outlinewidth\":0,\"ticks\":\"\"},\"colorscale\":[[0.0,\"#0d0887\"],[0.1111111111111111,\"#46039f\"],[0.2222222222222222,\"#7201a8\"],[0.3333333333333333,\"#9c179e\"],[0.4444444444444444,\"#bd3786\"],[0.5555555555555556,\"#d8576b\"],[0.6666666666666666,\"#ed7953\"],[0.7777777777777778,\"#fb9f3a\"],[0.8888888888888888,\"#fdca26\"],[1.0,\"#f0f921\"]],\"type\":\"heatmapgl\"}],\"heatmap\":[{\"colorbar\":{\"outlinewidth\":0,\"ticks\":\"\"},\"colorscale\":[[0.0,\"#0d0887\"],[0.1111111111111111,\"#46039f\"],[0.2222222222222222,\"#7201a8\"],[0.3333333333333333,\"#9c179e\"],[0.4444444444444444,\"#bd3786\"],[0.5555555555555556,\"#d8576b\"],[0.6666666666666666,\"#ed7953\"],[0.7777777777777778,\"#fb9f3a\"],[0.8888888888888888,\"#fdca26\"],[1.0,\"#f0f921\"]],\"type\":\"heatmap\"}],\"histogram2dcontour\":[{\"colorbar\":{\"outlinewidth\":0,\"ticks\":\"\"},\"colorscale\":[[0.0,\"#0d0887\"],[0.1111111111111111,\"#46039f\"],[0.2222222222222222,\"#7201a8\"],[0.3333333333333333,\"#9c179e\"],[0.4444444444444444,\"#bd3786\"],[0.5555555555555556,\"#d8576b\"],[0.6666666666666666,\"#ed7953\"],[0.7777777777777778,\"#fb9f3a\"],[0.8888888888888888,\"#fdca26\"],[1.0,\"#f0f921\"]],\"type\":\"histogram2dcontour\"}],\"histogram2d\":[{\"colorbar\":{\"outlinewidth\":0,\"ticks\":\"\"},\"colorscale\":[[0.0,\"#0d0887\"],[0.1111111111111111,\"#46039f\"],[0.2222222222222222,\"#7201a8\"],[0.3333333333333333,\"#9c179e\"],[0.4444444444444444,\"#bd3786\"],[0.5555555555555556,\"#d8576b\"],[0.6666666666666666,\"#ed7953\"],[0.7777777777777778,\"#fb9f3a\"],[0.8888888888888888,\"#fdca26\"],[1.0,\"#f0f921\"]],\"type\":\"histogram2d\"}],\"histogram\":[{\"marker\":{\"pattern\":{\"fillmode\":\"overlay\",\"size\":10,\"solidity\":0.2}},\"type\":\"histogram\"}],\"mesh3d\":[{\"colorbar\":{\"outlinewidth\":0,\"ticks\":\"\"},\"type\":\"mesh3d\"}],\"parcoords\":[{\"line\":{\"colorbar\":{\"outlinewidth\":0,\"ticks\":\"\"}},\"type\":\"parcoords\"}],\"pie\":[{\"automargin\":true,\"type\":\"pie\"}],\"scatter3d\":[{\"line\":{\"colorbar\":{\"outlinewidth\":0,\"ticks\":\"\"}},\"marker\":{\"colorbar\":{\"outlinewidth\":0,\"ticks\":\"\"}},\"type\":\"scatter3d\"}],\"scattercarpet\":[{\"marker\":{\"colorbar\":{\"outlinewidth\":0,\"ticks\":\"\"}},\"type\":\"scattercarpet\"}],\"scattergeo\":[{\"marker\":{\"colorbar\":{\"outlinewidth\":0,\"ticks\":\"\"}},\"type\":\"scattergeo\"}],\"scattergl\":[{\"marker\":{\"colorbar\":{\"outlinewidth\":0,\"ticks\":\"\"}},\"type\":\"scattergl\"}],\"scattermapbox\":[{\"marker\":{\"colorbar\":{\"outlinewidth\":0,\"ticks\":\"\"}},\"type\":\"scattermapbox\"}],\"scatterpolargl\":[{\"marker\":{\"colorbar\":{\"outlinewidth\":0,\"ticks\":\"\"}},\"type\":\"scatterpolargl\"}],\"scatterpolar\":[{\"marker\":{\"colorbar\":{\"outlinewidth\":0,\"ticks\":\"\"}},\"type\":\"scatterpolar\"}],\"scatter\":[{\"fillpattern\":{\"fillmode\":\"overlay\",\"size\":10,\"solidity\":0.2},\"type\":\"scatter\"}],\"scatterternary\":[{\"marker\":{\"colorbar\":{\"outlinewidth\":0,\"ticks\":\"\"}},\"type\":\"scatterternary\"}],\"surface\":[{\"colorbar\":{\"outlinewidth\":0,\"ticks\":\"\"},\"colorscale\":[[0.0,\"#0d0887\"],[0.1111111111111111,\"#46039f\"],[0.2222222222222222,\"#7201a8\"],[0.3333333333333333,\"#9c179e\"],[0.4444444444444444,\"#bd3786\"],[0.5555555555555556,\"#d8576b\"],[0.6666666666666666,\"#ed7953\"],[0.7777777777777778,\"#fb9f3a\"],[0.8888888888888888,\"#fdca26\"],[1.0,\"#f0f921\"]],\"type\":\"surface\"}],\"table\":[{\"cells\":{\"fill\":{\"color\":\"#EBF0F8\"},\"line\":{\"color\":\"white\"}},\"header\":{\"fill\":{\"color\":\"#C8D4E3\"},\"line\":{\"color\":\"white\"}},\"type\":\"table\"}]},\"layout\":{\"annotationdefaults\":{\"arrowcolor\":\"#2a3f5f\",\"arrowhead\":0,\"arrowwidth\":1},\"autotypenumbers\":\"strict\",\"coloraxis\":{\"colorbar\":{\"outlinewidth\":0,\"ticks\":\"\"}},\"colorscale\":{\"diverging\":[[0,\"#8e0152\"],[0.1,\"#c51b7d\"],[0.2,\"#de77ae\"],[0.3,\"#f1b6da\"],[0.4,\"#fde0ef\"],[0.5,\"#f7f7f7\"],[0.6,\"#e6f5d0\"],[0.7,\"#b8e186\"],[0.8,\"#7fbc41\"],[0.9,\"#4d9221\"],[1,\"#276419\"]],\"sequential\":[[0.0,\"#0d0887\"],[0.1111111111111111,\"#46039f\"],[0.2222222222222222,\"#7201a8\"],[0.3333333333333333,\"#9c179e\"],[0.4444444444444444,\"#bd3786\"],[0.5555555555555556,\"#d8576b\"],[0.6666666666666666,\"#ed7953\"],[0.7777777777777778,\"#fb9f3a\"],[0.8888888888888888,\"#fdca26\"],[1.0,\"#f0f921\"]],\"sequentialminus\":[[0.0,\"#0d0887\"],[0.1111111111111111,\"#46039f\"],[0.2222222222222222,\"#7201a8\"],[0.3333333333333333,\"#9c179e\"],[0.4444444444444444,\"#bd3786\"],[0.5555555555555556,\"#d8576b\"],[0.6666666666666666,\"#ed7953\"],[0.7777777777777778,\"#fb9f3a\"],[0.8888888888888888,\"#fdca26\"],[1.0,\"#f0f921\"]]},\"colorway\":[\"#636efa\",\"#EF553B\",\"#00cc96\",\"#ab63fa\",\"#FFA15A\",\"#19d3f3\",\"#FF6692\",\"#B6E880\",\"#FF97FF\",\"#FECB52\"],\"font\":{\"color\":\"#2a3f5f\"},\"geo\":{\"bgcolor\":\"white\",\"lakecolor\":\"white\",\"landcolor\":\"#E5ECF6\",\"showlakes\":true,\"showland\":true,\"subunitcolor\":\"white\"},\"hoverlabel\":{\"align\":\"left\"},\"hovermode\":\"closest\",\"mapbox\":{\"style\":\"light\"},\"paper_bgcolor\":\"white\",\"plot_bgcolor\":\"#E5ECF6\",\"polar\":{\"angularaxis\":{\"gridcolor\":\"white\",\"linecolor\":\"white\",\"ticks\":\"\"},\"bgcolor\":\"#E5ECF6\",\"radialaxis\":{\"gridcolor\":\"white\",\"linecolor\":\"white\",\"ticks\":\"\"}},\"scene\":{\"xaxis\":{\"backgroundcolor\":\"#E5ECF6\",\"gridcolor\":\"white\",\"gridwidth\":2,\"linecolor\":\"white\",\"showbackground\":true,\"ticks\":\"\",\"zerolinecolor\":\"white\"},\"yaxis\":{\"backgroundcolor\":\"#E5ECF6\",\"gridcolor\":\"white\",\"gridwidth\":2,\"linecolor\":\"white\",\"showbackground\":true,\"ticks\":\"\",\"zerolinecolor\":\"white\"},\"zaxis\":{\"backgroundcolor\":\"#E5ECF6\",\"gridcolor\":\"white\",\"gridwidth\":2,\"linecolor\":\"white\",\"showbackground\":true,\"ticks\":\"\",\"zerolinecolor\":\"white\"}},\"shapedefaults\":{\"line\":{\"color\":\"#2a3f5f\"}},\"ternary\":{\"aaxis\":{\"gridcolor\":\"white\",\"linecolor\":\"white\",\"ticks\":\"\"},\"baxis\":{\"gridcolor\":\"white\",\"linecolor\":\"white\",\"ticks\":\"\"},\"bgcolor\":\"#E5ECF6\",\"caxis\":{\"gridcolor\":\"white\",\"linecolor\":\"white\",\"ticks\":\"\"}},\"title\":{\"x\":0.05},\"xaxis\":{\"automargin\":true,\"gridcolor\":\"white\",\"linecolor\":\"white\",\"ticks\":\"\",\"title\":{\"standoff\":15},\"zerolinecolor\":\"white\",\"zerolinewidth\":2},\"yaxis\":{\"automargin\":true,\"gridcolor\":\"white\",\"linecolor\":\"white\",\"ticks\":\"\",\"title\":{\"standoff\":15},\"zerolinecolor\":\"white\",\"zerolinewidth\":2}}},\"title\":{\"text\":\"Zestawienie ilo\\u015bci m\\u0119\\u017cczyzn, kt\\u00f3rzy otrzymali nagrod\\u0119 Nobla w zale\\u017cno\\u015bci od roku oraz kategorii\"}},                        {\"responsive\": true}                    ).then(function(){\n",
       "                            \n",
       "var gd = document.getElementById('a5c165a5-92c6-480b-87d9-b97322f2f232');\n",
       "var x = new MutationObserver(function (mutations, observer) {{\n",
       "        var display = window.getComputedStyle(gd).display;\n",
       "        if (!display || display === 'none') {{\n",
       "            console.log([gd, 'removed!']);\n",
       "            Plotly.purge(gd);\n",
       "            observer.disconnect();\n",
       "        }}\n",
       "}});\n",
       "\n",
       "// Listen for the removal of the full notebook cells\n",
       "var notebookContainer = gd.closest('#notebook-container');\n",
       "if (notebookContainer) {{\n",
       "    x.observe(notebookContainer, {childList: true});\n",
       "}}\n",
       "\n",
       "// Listen for the clearing of the current output cell\n",
       "var outputEl = gd.closest('.output');\n",
       "if (outputEl) {{\n",
       "    x.observe(outputEl, {childList: true});\n",
       "}}\n",
       "\n",
       "                        })                };                });            </script>        </div>"
      ]
     },
     "metadata": {},
     "output_type": "display_data"
    }
   ],
   "source": [
    "# prepared plot\n",
    "x = nobel_laureates['Year']\n",
    "y = nobel_laureates['Category']\n",
    "z_female = nobel_laureates['female']\n",
    "z_male = nobel_laureates['male']\n",
    "\n",
    "#female map\n",
    "fig = go.Figure()\n",
    "fig.add_trace(go.Heatmap(x = x,\n",
    "                         y = y,\n",
    "                         z = z_female))\n",
    "fig.update_layout(title = 'Zestawienie ilości kobiet, które otrzymały nagrodę Nobla w zależności od roku oraz kategorii')\n",
    "iplot(fig)\n",
    "\n",
    "#male map\n",
    "fig = go.Figure()\n",
    "fig.add_trace(go.Heatmap(x = x,\n",
    "                         y = y,\n",
    "                         z = z_male))\n",
    "fig.update_layout(title = 'Zestawienie ilości mężczyzn, którzy otrzymali nagrodę Nobla w zależności od roku oraz kategorii')\n",
    "iplot(fig)"
   ]
  },
  {
   "cell_type": "markdown",
   "id": "37670f96",
   "metadata": {},
   "source": [
    "### UWAGA!\n",
    "Puste pola oznaczają, że w danym roku nie było laureata nagrody w danej kategorii"
   ]
  },
  {
   "cell_type": "code",
   "execution_count": 16,
   "id": "349ce7e7",
   "metadata": {},
   "outputs": [
    {
     "data": {
      "application/vnd.plotly.v1+json": {
       "config": {
        "linkText": "Export to plot.ly",
        "plotlyServerURL": "https://plot.ly",
        "showLink": false
       },
       "data": [
        {
         "type": "heatmap",
         "x": [
          1901,
          1901,
          1901,
          1901,
          1901,
          1902,
          1902,
          1902,
          1902,
          1902,
          1903,
          1903,
          1903,
          1903,
          1903,
          1904,
          1904,
          1904,
          1904,
          1905,
          1905,
          1905,
          1905,
          1905,
          1906,
          1906,
          1906,
          1906,
          1906,
          1907,
          1907,
          1907,
          1907,
          1907,
          1908,
          1908,
          1908,
          1908,
          1908,
          1909,
          1909,
          1909,
          1909,
          1909,
          1910,
          1910,
          1910,
          1910,
          1911,
          1911,
          1911,
          1911,
          1911,
          1912,
          1912,
          1912,
          1912,
          1912,
          1913,
          1913,
          1913,
          1913,
          1913,
          1914,
          1914,
          1914,
          1915,
          1915,
          1915,
          1916,
          1917,
          1917,
          1918,
          1918,
          1919,
          1919,
          1919,
          1919,
          1920,
          1920,
          1920,
          1920,
          1920,
          1921,
          1921,
          1921,
          1921,
          1922,
          1922,
          1922,
          1922,
          1922,
          1923,
          1923,
          1923,
          1923,
          1924,
          1924,
          1924,
          1925,
          1925,
          1925,
          1925,
          1926,
          1926,
          1926,
          1926,
          1926,
          1927,
          1927,
          1927,
          1927,
          1927,
          1928,
          1928,
          1928,
          1928,
          1929,
          1929,
          1929,
          1929,
          1929,
          1930,
          1930,
          1930,
          1930,
          1930,
          1931,
          1931,
          1931,
          1931,
          1932,
          1932,
          1932,
          1932,
          1933,
          1933,
          1933,
          1933,
          1934,
          1934,
          1934,
          1934,
          1935,
          1935,
          1935,
          1935,
          1936,
          1936,
          1936,
          1936,
          1936,
          1937,
          1937,
          1937,
          1937,
          1937,
          1938,
          1938,
          1938,
          1938,
          1939,
          1939,
          1939,
          1939,
          1943,
          1943,
          1943,
          1944,
          1944,
          1944,
          1944,
          1945,
          1945,
          1945,
          1945,
          1945,
          1946,
          1946,
          1946,
          1946,
          1946,
          1947,
          1947,
          1947,
          1947,
          1948,
          1948,
          1948,
          1948,
          1949,
          1949,
          1949,
          1949,
          1949,
          1950,
          1950,
          1950,
          1950,
          1950,
          1951,
          1951,
          1951,
          1951,
          1951,
          1952,
          1952,
          1952,
          1952,
          1952,
          1953,
          1953,
          1953,
          1953,
          1953,
          1954,
          1954,
          1954,
          1954,
          1955,
          1955,
          1955,
          1955,
          1956,
          1956,
          1956,
          1956,
          1957,
          1957,
          1957,
          1957,
          1957,
          1958,
          1958,
          1958,
          1958,
          1958,
          1959,
          1959,
          1959,
          1959,
          1959,
          1960,
          1960,
          1960,
          1960,
          1960,
          1961,
          1961,
          1961,
          1961,
          1961,
          1962,
          1962,
          1962,
          1962,
          1962,
          1963,
          1963,
          1963,
          1963,
          1964,
          1964,
          1964,
          1964,
          1964,
          1965,
          1965,
          1965,
          1965,
          1966,
          1966,
          1966,
          1966,
          1967,
          1967,
          1967,
          1967,
          1968,
          1968,
          1968,
          1968,
          1968,
          1969,
          1969,
          1969,
          1969,
          1969,
          1970,
          1970,
          1970,
          1970,
          1970,
          1970,
          1971,
          1971,
          1971,
          1971,
          1971,
          1971,
          1972,
          1972,
          1972,
          1972,
          1972,
          1973,
          1973,
          1973,
          1973,
          1973,
          1973,
          1974,
          1974,
          1974,
          1974,
          1974,
          1974,
          1975,
          1975,
          1975,
          1975,
          1975,
          1975,
          1976,
          1976,
          1976,
          1976,
          1976,
          1976,
          1977,
          1977,
          1977,
          1977,
          1977,
          1978,
          1978,
          1978,
          1978,
          1978,
          1978,
          1979,
          1979,
          1979,
          1979,
          1979,
          1979,
          1980,
          1980,
          1980,
          1980,
          1980,
          1980,
          1981,
          1981,
          1981,
          1981,
          1981,
          1982,
          1982,
          1982,
          1982,
          1982,
          1982,
          1983,
          1983,
          1983,
          1983,
          1983,
          1983,
          1984,
          1984,
          1984,
          1984,
          1984,
          1984,
          1985,
          1985,
          1985,
          1985,
          1985,
          1986,
          1986,
          1986,
          1986,
          1986,
          1986,
          1987,
          1987,
          1987,
          1987,
          1987,
          1987,
          1988,
          1988,
          1988,
          1988,
          1988,
          1989,
          1989,
          1989,
          1989,
          1989,
          1989,
          1990,
          1990,
          1990,
          1990,
          1990,
          1990,
          1991,
          1991,
          1991,
          1991,
          1991,
          1991,
          1992,
          1992,
          1992,
          1992,
          1992,
          1992,
          1993,
          1993,
          1993,
          1993,
          1993,
          1993,
          1994,
          1994,
          1994,
          1994,
          1994,
          1994,
          1995,
          1995,
          1995,
          1995,
          1995,
          1995,
          1996,
          1996,
          1996,
          1996,
          1996,
          1996,
          1997,
          1997,
          1997,
          1997,
          1997,
          1997,
          1998,
          1998,
          1998,
          1998,
          1998,
          1998,
          1999,
          1999,
          1999,
          1999,
          1999,
          2000,
          2000,
          2000,
          2000,
          2000,
          2000,
          2001,
          2001,
          2001,
          2001,
          2001,
          2001,
          2002,
          2002,
          2002,
          2002,
          2002,
          2002,
          2003,
          2003,
          2003,
          2003,
          2003,
          2003,
          2004,
          2004,
          2004,
          2004,
          2004,
          2004,
          2005,
          2005,
          2005,
          2005,
          2005,
          2005,
          2006,
          2006,
          2006,
          2006,
          2006,
          2006,
          2007,
          2007,
          2007,
          2007,
          2007,
          2007,
          2008,
          2008,
          2008,
          2008,
          2008,
          2008,
          2009,
          2009,
          2009,
          2009,
          2009,
          2009,
          2010,
          2010,
          2010,
          2010,
          2010,
          2010,
          2011,
          2011,
          2011,
          2011,
          2011,
          2011,
          2012,
          2012,
          2012,
          2012,
          2012,
          2013,
          2013,
          2013,
          2013,
          2013,
          2014,
          2014,
          2014,
          2014,
          2014,
          2014,
          2015,
          2015,
          2015,
          2015,
          2015,
          2016,
          2016,
          2016,
          2016,
          2016,
          2016
         ],
         "y": [
          "Literature",
          "Medicine",
          "Physics",
          "Chemistry",
          "Peace",
          "Chemistry",
          "Peace",
          "Physics",
          "Literature",
          "Medicine",
          "Peace",
          "Chemistry",
          "Physics",
          "Literature",
          "Medicine",
          "Literature",
          "Chemistry",
          "Physics",
          "Medicine",
          "Peace",
          "Physics",
          "Literature",
          "Chemistry",
          "Medicine",
          "Literature",
          "Chemistry",
          "Medicine",
          "Physics",
          "Peace",
          "Chemistry",
          "Physics",
          "Medicine",
          "Peace",
          "Literature",
          "Medicine",
          "Chemistry",
          "Peace",
          "Physics",
          "Literature",
          "Physics",
          "Peace",
          "Chemistry",
          "Medicine",
          "Literature",
          "Literature",
          "Physics",
          "Medicine",
          "Chemistry",
          "Literature",
          "Physics",
          "Chemistry",
          "Medicine",
          "Peace",
          "Literature",
          "Physics",
          "Medicine",
          "Chemistry",
          "Peace",
          "Physics",
          "Literature",
          "Medicine",
          "Chemistry",
          "Peace",
          "Medicine",
          "Chemistry",
          "Physics",
          "Chemistry",
          "Physics",
          "Literature",
          "Literature",
          "Physics",
          "Literature",
          "Physics",
          "Chemistry",
          "Medicine",
          "Physics",
          "Literature",
          "Peace",
          "Physics",
          "Literature",
          "Chemistry",
          "Medicine",
          "Peace",
          "Chemistry",
          "Literature",
          "Peace",
          "Physics",
          "Medicine",
          "Chemistry",
          "Physics",
          "Peace",
          "Literature",
          "Literature",
          "Physics",
          "Chemistry",
          "Medicine",
          "Medicine",
          "Physics",
          "Literature",
          "Chemistry",
          "Peace",
          "Physics",
          "Literature",
          "Chemistry",
          "Literature",
          "Medicine",
          "Physics",
          "Peace",
          "Chemistry",
          "Medicine",
          "Peace",
          "Literature",
          "Physics",
          "Medicine",
          "Chemistry",
          "Literature",
          "Physics",
          "Peace",
          "Chemistry",
          "Medicine",
          "Physics",
          "Literature",
          "Physics",
          "Peace",
          "Chemistry",
          "Literature",
          "Medicine",
          "Chemistry",
          "Peace",
          "Literature",
          "Medicine",
          "Literature",
          "Medicine",
          "Chemistry",
          "Physics",
          "Literature",
          "Medicine",
          "Physics",
          "Peace",
          "Chemistry",
          "Peace",
          "Literature",
          "Medicine",
          "Peace",
          "Chemistry",
          "Physics",
          "Medicine",
          "Literature",
          "Chemistry",
          "Peace",
          "Physics",
          "Medicine",
          "Medicine",
          "Chemistry",
          "Peace",
          "Physics",
          "Literature",
          "Medicine",
          "Chemistry",
          "Literature",
          "Physics",
          "Chemistry",
          "Physics",
          "Literature",
          "Medicine",
          "Medicine",
          "Chemistry",
          "Physics",
          "Physics",
          "Literature",
          "Medicine",
          "Chemistry",
          "Literature",
          "Chemistry",
          "Physics",
          "Medicine",
          "Peace",
          "Literature",
          "Chemistry",
          "Physics",
          "Peace",
          "Medicine",
          "Chemistry",
          "Medicine",
          "Literature",
          "Physics",
          "Chemistry",
          "Medicine",
          "Physics",
          "Literature",
          "Peace",
          "Chemistry",
          "Physics",
          "Literature",
          "Medicine",
          "Physics",
          "Chemistry",
          "Literature",
          "Medicine",
          "Peace",
          "Physics",
          "Peace",
          "Medicine",
          "Literature",
          "Chemistry",
          "Literature",
          "Chemistry",
          "Peace",
          "Medicine",
          "Physics",
          "Chemistry",
          "Peace",
          "Literature",
          "Medicine",
          "Physics",
          "Chemistry",
          "Literature",
          "Physics",
          "Medicine",
          "Literature",
          "Medicine",
          "Chemistry",
          "Physics",
          "Literature",
          "Chemistry",
          "Physics",
          "Medicine",
          "Peace",
          "Physics",
          "Medicine",
          "Literature",
          "Chemistry",
          "Physics",
          "Medicine",
          "Peace",
          "Literature",
          "Chemistry",
          "Chemistry",
          "Medicine",
          "Literature",
          "Peace",
          "Physics",
          "Chemistry",
          "Literature",
          "Medicine",
          "Peace",
          "Physics",
          "Physics",
          "Literature",
          "Medicine",
          "Chemistry",
          "Peace",
          "Medicine",
          "Physics",
          "Chemistry",
          "Peace",
          "Literature",
          "Physics",
          "Chemistry",
          "Medicine",
          "Literature",
          "Chemistry",
          "Physics",
          "Peace",
          "Medicine",
          "Literature",
          "Medicine",
          "Chemistry",
          "Physics",
          "Literature",
          "Chemistry",
          "Physics",
          "Medicine",
          "Literature",
          "Physics",
          "Medicine",
          "Chemistry",
          "Literature",
          "Medicine",
          "Peace",
          "Literature",
          "Chemistry",
          "Physics",
          "Economics",
          "Chemistry",
          "Literature",
          "Physics",
          "Medicine",
          "Peace",
          "Physics",
          "Chemistry",
          "Medicine",
          "Economics",
          "Literature",
          "Medicine",
          "Physics",
          "Chemistry",
          "Peace",
          "Economics",
          "Literature",
          "Literature",
          "Medicine",
          "Economics",
          "Chemistry",
          "Physics",
          "Physics",
          "Chemistry",
          "Peace",
          "Medicine",
          "Literature",
          "Economics",
          "Chemistry",
          "Physics",
          "Literature",
          "Economics",
          "Peace",
          "Medicine",
          "Literature",
          "Peace",
          "Physics",
          "Medicine",
          "Economics",
          "Chemistry",
          "Physics",
          "Literature",
          "Medicine",
          "Economics",
          "Chemistry",
          "Peace",
          "Chemistry",
          "Economics",
          "Literature",
          "Physics",
          "Medicine",
          "Economics",
          "Chemistry",
          "Literature",
          "Peace",
          "Medicine",
          "Physics",
          "Literature",
          "Economics",
          "Medicine",
          "Peace",
          "Chemistry",
          "Physics",
          "Medicine",
          "Economics",
          "Peace",
          "Literature",
          "Chemistry",
          "Physics",
          "Chemistry",
          "Economics",
          "Literature",
          "Medicine",
          "Physics",
          "Chemistry",
          "Medicine",
          "Literature",
          "Peace",
          "Physics",
          "Economics",
          "Medicine",
          "Chemistry",
          "Physics",
          "Economics",
          "Literature",
          "Peace",
          "Chemistry",
          "Physics",
          "Economics",
          "Peace",
          "Literature",
          "Medicine",
          "Economics",
          "Literature",
          "Physics",
          "Medicine",
          "Chemistry",
          "Physics",
          "Peace",
          "Economics",
          "Literature",
          "Medicine",
          "Chemistry",
          "Physics",
          "Economics",
          "Literature",
          "Peace",
          "Chemistry",
          "Medicine",
          "Literature",
          "Medicine",
          "Chemistry",
          "Physics",
          "Economics",
          "Physics",
          "Medicine",
          "Economics",
          "Chemistry",
          "Peace",
          "Literature",
          "Physics",
          "Medicine",
          "Peace",
          "Literature",
          "Chemistry",
          "Economics",
          "Physics",
          "Literature",
          "Chemistry",
          "Medicine",
          "Economics",
          "Peace",
          "Literature",
          "Chemistry",
          "Medicine",
          "Peace",
          "Economics",
          "Physics",
          "Peace",
          "Literature",
          "Economics",
          "Chemistry",
          "Medicine",
          "Physics",
          "Literature",
          "Physics",
          "Chemistry",
          "Economics",
          "Medicine",
          "Peace",
          "Physics",
          "Economics",
          "Chemistry",
          "Literature",
          "Peace",
          "Medicine",
          "Medicine",
          "Physics",
          "Peace",
          "Chemistry",
          "Economics",
          "Literature",
          "Physics",
          "Literature",
          "Chemistry",
          "Peace",
          "Medicine",
          "Economics",
          "Chemistry",
          "Physics",
          "Medicine",
          "Peace",
          "Literature",
          "Economics",
          "Economics",
          "Physics",
          "Medicine",
          "Literature",
          "Chemistry",
          "Medicine",
          "Economics",
          "Literature",
          "Peace",
          "Physics",
          "Chemistry",
          "Physics",
          "Literature",
          "Medicine",
          "Chemistry",
          "Economics",
          "Peace",
          "Chemistry",
          "Literature",
          "Physics",
          "Economics",
          "Medicine",
          "Peace",
          "Chemistry",
          "Physics",
          "Peace",
          "Literature",
          "Medicine",
          "Economics",
          "Literature",
          "Peace",
          "Medicine",
          "Economics",
          "Physics",
          "Chemistry",
          "Physics",
          "Peace",
          "Chemistry",
          "Literature",
          "Medicine",
          "Economics",
          "Economics",
          "Chemistry",
          "Literature",
          "Peace",
          "Physics",
          "Medicine",
          "Literature",
          "Peace",
          "Physics",
          "Economics",
          "Medicine",
          "Chemistry",
          "Literature",
          "Physics",
          "Medicine",
          "Peace",
          "Economics",
          "Chemistry",
          "Chemistry",
          "Economics",
          "Literature",
          "Physics",
          "Medicine",
          "Peace",
          "Peace",
          "Physics",
          "Medicine",
          "Literature",
          "Chemistry",
          "Economics",
          "Medicine",
          "Literature",
          "Economics",
          "Chemistry",
          "Peace",
          "Physics",
          "Chemistry",
          "Economics",
          "Literature",
          "Medicine",
          "Physics",
          "Physics",
          "Literature",
          "Medicine",
          "Economics",
          "Chemistry",
          "Economics",
          "Chemistry",
          "Medicine",
          "Literature",
          "Physics",
          "Peace",
          "Chemistry",
          "Literature",
          "Medicine",
          "Physics",
          "Economics",
          "Chemistry",
          "Economics",
          "Literature",
          "Medicine",
          "Peace",
          "Physics"
         ],
         "z": [
          0,
          0,
          0,
          0,
          0,
          0,
          0,
          0,
          0,
          0,
          0,
          0,
          33.333333333333336,
          0,
          0,
          0,
          0,
          0,
          0,
          100,
          0,
          0,
          0,
          0,
          0,
          0,
          0,
          0,
          0,
          0,
          0,
          0,
          0,
          0,
          0,
          0,
          0,
          0,
          0,
          0,
          0,
          0,
          0,
          100,
          0,
          0,
          0,
          0,
          0,
          0,
          100,
          0,
          0,
          0,
          0,
          0,
          0,
          0,
          0,
          0,
          0,
          0,
          0,
          0,
          0,
          0,
          0,
          0,
          0,
          0,
          0,
          0,
          0,
          0,
          0,
          0,
          0,
          0,
          0,
          0,
          0,
          0,
          0,
          0,
          0,
          0,
          0,
          0,
          0,
          0,
          0,
          0,
          0,
          0,
          0,
          0,
          0,
          0,
          0,
          0,
          0,
          0,
          0,
          0,
          100,
          0,
          0,
          0,
          0,
          0,
          0,
          0,
          0,
          0,
          0,
          100,
          0,
          0,
          0,
          0,
          0,
          0,
          0,
          0,
          0,
          0,
          0,
          0,
          50,
          0,
          0,
          0,
          0,
          0,
          0,
          0,
          0,
          0,
          0,
          0,
          0,
          0,
          0,
          0,
          50,
          0,
          0,
          0,
          0,
          0,
          0,
          0,
          0,
          0,
          0,
          0,
          0,
          0,
          0,
          100,
          0,
          0,
          0,
          0,
          0,
          0,
          0,
          0,
          0,
          0,
          0,
          0,
          100,
          0,
          0,
          0,
          0,
          0,
          0,
          0,
          50,
          0,
          0,
          33.333333333333336,
          0,
          0,
          0,
          0,
          0,
          0,
          0,
          0,
          0,
          0,
          0,
          0,
          0,
          0,
          0,
          0,
          0,
          0,
          0,
          0,
          0,
          0,
          0,
          0,
          0,
          0,
          0,
          0,
          0,
          0,
          0,
          0,
          0,
          0,
          0,
          0,
          0,
          0,
          0,
          0,
          0,
          0,
          0,
          0,
          0,
          0,
          0,
          0,
          0,
          0,
          0,
          0,
          0,
          0,
          0,
          0,
          0,
          0,
          0,
          0,
          0,
          0,
          0,
          0,
          0,
          0,
          0,
          0,
          0,
          0,
          0,
          0,
          0,
          33.333333333333336,
          0,
          0,
          0,
          100,
          0,
          0,
          0,
          0,
          0,
          0,
          0,
          0,
          0,
          0,
          0,
          50,
          0,
          0,
          0,
          0,
          0,
          0,
          0,
          0,
          0,
          0,
          0,
          0,
          0,
          0,
          0,
          0,
          0,
          0,
          0,
          0,
          0,
          0,
          0,
          0,
          0,
          0,
          0,
          0,
          0,
          0,
          0,
          0,
          0,
          0,
          0,
          0,
          0,
          0,
          0,
          0,
          0,
          0,
          0,
          0,
          0,
          0,
          0,
          0,
          0,
          0,
          0,
          0,
          0,
          0,
          100,
          0,
          0,
          0,
          0,
          33.333333333333336,
          0,
          0,
          0,
          0,
          0,
          0,
          0,
          0,
          0,
          100,
          0,
          0,
          0,
          0,
          0,
          0,
          0,
          0,
          0,
          0,
          0,
          0,
          0,
          0,
          0,
          0,
          50,
          0,
          0,
          100,
          0,
          0,
          0,
          0,
          0,
          0,
          0,
          0,
          0,
          0,
          0,
          0,
          0,
          0,
          0,
          0,
          0,
          0,
          0,
          0,
          50,
          0,
          0,
          0,
          0,
          0,
          0,
          0,
          0,
          33.333333333333336,
          0,
          0,
          0,
          0,
          0,
          0,
          0,
          0,
          0,
          0,
          0,
          0,
          0,
          0,
          0,
          0,
          100,
          0,
          0,
          0,
          100,
          0,
          0,
          0,
          100,
          0,
          0,
          0,
          100,
          0,
          0,
          0,
          0,
          0,
          0,
          0,
          0,
          0,
          0,
          0,
          0,
          0,
          0,
          0,
          33.333333333333336,
          0,
          0,
          0,
          0,
          0,
          100,
          0,
          0,
          0,
          100,
          0,
          0,
          0,
          0,
          0,
          0,
          0,
          0,
          0,
          0,
          0,
          0,
          0,
          0,
          0,
          0,
          0,
          0,
          0,
          0,
          0,
          0,
          0,
          0,
          0,
          0,
          0,
          0,
          0,
          0,
          0,
          0,
          0,
          100,
          0,
          0,
          0,
          100,
          100,
          50,
          0,
          0,
          0,
          0,
          0,
          0,
          0,
          0,
          0,
          0,
          0,
          0,
          0,
          0,
          0,
          100,
          0,
          0,
          0,
          0,
          0,
          0,
          0,
          33.333333333333336,
          0,
          0,
          0,
          25,
          66.66666666666667,
          100,
          0,
          40,
          0,
          0,
          0,
          0,
          0,
          0,
          0,
          0,
          0,
          0,
          0,
          100,
          0,
          0,
          0,
          0,
          0,
          0,
          0,
          100,
          0,
          0,
          0,
          0,
          0,
          33.333333333333336,
          0,
          0,
          50,
          0,
          100,
          33.333333333333336,
          0,
          0,
          0,
          0,
          0,
          0,
          0,
          0
         ]
        }
       ],
       "layout": {
        "template": {
         "data": {
          "bar": [
           {
            "error_x": {
             "color": "#2a3f5f"
            },
            "error_y": {
             "color": "#2a3f5f"
            },
            "marker": {
             "line": {
              "color": "#E5ECF6",
              "width": 0.5
             },
             "pattern": {
              "fillmode": "overlay",
              "size": 10,
              "solidity": 0.2
             }
            },
            "type": "bar"
           }
          ],
          "barpolar": [
           {
            "marker": {
             "line": {
              "color": "#E5ECF6",
              "width": 0.5
             },
             "pattern": {
              "fillmode": "overlay",
              "size": 10,
              "solidity": 0.2
             }
            },
            "type": "barpolar"
           }
          ],
          "carpet": [
           {
            "aaxis": {
             "endlinecolor": "#2a3f5f",
             "gridcolor": "white",
             "linecolor": "white",
             "minorgridcolor": "white",
             "startlinecolor": "#2a3f5f"
            },
            "baxis": {
             "endlinecolor": "#2a3f5f",
             "gridcolor": "white",
             "linecolor": "white",
             "minorgridcolor": "white",
             "startlinecolor": "#2a3f5f"
            },
            "type": "carpet"
           }
          ],
          "choropleth": [
           {
            "colorbar": {
             "outlinewidth": 0,
             "ticks": ""
            },
            "type": "choropleth"
           }
          ],
          "contour": [
           {
            "colorbar": {
             "outlinewidth": 0,
             "ticks": ""
            },
            "colorscale": [
             [
              0,
              "#0d0887"
             ],
             [
              0.1111111111111111,
              "#46039f"
             ],
             [
              0.2222222222222222,
              "#7201a8"
             ],
             [
              0.3333333333333333,
              "#9c179e"
             ],
             [
              0.4444444444444444,
              "#bd3786"
             ],
             [
              0.5555555555555556,
              "#d8576b"
             ],
             [
              0.6666666666666666,
              "#ed7953"
             ],
             [
              0.7777777777777778,
              "#fb9f3a"
             ],
             [
              0.8888888888888888,
              "#fdca26"
             ],
             [
              1,
              "#f0f921"
             ]
            ],
            "type": "contour"
           }
          ],
          "contourcarpet": [
           {
            "colorbar": {
             "outlinewidth": 0,
             "ticks": ""
            },
            "type": "contourcarpet"
           }
          ],
          "heatmap": [
           {
            "colorbar": {
             "outlinewidth": 0,
             "ticks": ""
            },
            "colorscale": [
             [
              0,
              "#0d0887"
             ],
             [
              0.1111111111111111,
              "#46039f"
             ],
             [
              0.2222222222222222,
              "#7201a8"
             ],
             [
              0.3333333333333333,
              "#9c179e"
             ],
             [
              0.4444444444444444,
              "#bd3786"
             ],
             [
              0.5555555555555556,
              "#d8576b"
             ],
             [
              0.6666666666666666,
              "#ed7953"
             ],
             [
              0.7777777777777778,
              "#fb9f3a"
             ],
             [
              0.8888888888888888,
              "#fdca26"
             ],
             [
              1,
              "#f0f921"
             ]
            ],
            "type": "heatmap"
           }
          ],
          "heatmapgl": [
           {
            "colorbar": {
             "outlinewidth": 0,
             "ticks": ""
            },
            "colorscale": [
             [
              0,
              "#0d0887"
             ],
             [
              0.1111111111111111,
              "#46039f"
             ],
             [
              0.2222222222222222,
              "#7201a8"
             ],
             [
              0.3333333333333333,
              "#9c179e"
             ],
             [
              0.4444444444444444,
              "#bd3786"
             ],
             [
              0.5555555555555556,
              "#d8576b"
             ],
             [
              0.6666666666666666,
              "#ed7953"
             ],
             [
              0.7777777777777778,
              "#fb9f3a"
             ],
             [
              0.8888888888888888,
              "#fdca26"
             ],
             [
              1,
              "#f0f921"
             ]
            ],
            "type": "heatmapgl"
           }
          ],
          "histogram": [
           {
            "marker": {
             "pattern": {
              "fillmode": "overlay",
              "size": 10,
              "solidity": 0.2
             }
            },
            "type": "histogram"
           }
          ],
          "histogram2d": [
           {
            "colorbar": {
             "outlinewidth": 0,
             "ticks": ""
            },
            "colorscale": [
             [
              0,
              "#0d0887"
             ],
             [
              0.1111111111111111,
              "#46039f"
             ],
             [
              0.2222222222222222,
              "#7201a8"
             ],
             [
              0.3333333333333333,
              "#9c179e"
             ],
             [
              0.4444444444444444,
              "#bd3786"
             ],
             [
              0.5555555555555556,
              "#d8576b"
             ],
             [
              0.6666666666666666,
              "#ed7953"
             ],
             [
              0.7777777777777778,
              "#fb9f3a"
             ],
             [
              0.8888888888888888,
              "#fdca26"
             ],
             [
              1,
              "#f0f921"
             ]
            ],
            "type": "histogram2d"
           }
          ],
          "histogram2dcontour": [
           {
            "colorbar": {
             "outlinewidth": 0,
             "ticks": ""
            },
            "colorscale": [
             [
              0,
              "#0d0887"
             ],
             [
              0.1111111111111111,
              "#46039f"
             ],
             [
              0.2222222222222222,
              "#7201a8"
             ],
             [
              0.3333333333333333,
              "#9c179e"
             ],
             [
              0.4444444444444444,
              "#bd3786"
             ],
             [
              0.5555555555555556,
              "#d8576b"
             ],
             [
              0.6666666666666666,
              "#ed7953"
             ],
             [
              0.7777777777777778,
              "#fb9f3a"
             ],
             [
              0.8888888888888888,
              "#fdca26"
             ],
             [
              1,
              "#f0f921"
             ]
            ],
            "type": "histogram2dcontour"
           }
          ],
          "mesh3d": [
           {
            "colorbar": {
             "outlinewidth": 0,
             "ticks": ""
            },
            "type": "mesh3d"
           }
          ],
          "parcoords": [
           {
            "line": {
             "colorbar": {
              "outlinewidth": 0,
              "ticks": ""
             }
            },
            "type": "parcoords"
           }
          ],
          "pie": [
           {
            "automargin": true,
            "type": "pie"
           }
          ],
          "scatter": [
           {
            "fillpattern": {
             "fillmode": "overlay",
             "size": 10,
             "solidity": 0.2
            },
            "type": "scatter"
           }
          ],
          "scatter3d": [
           {
            "line": {
             "colorbar": {
              "outlinewidth": 0,
              "ticks": ""
             }
            },
            "marker": {
             "colorbar": {
              "outlinewidth": 0,
              "ticks": ""
             }
            },
            "type": "scatter3d"
           }
          ],
          "scattercarpet": [
           {
            "marker": {
             "colorbar": {
              "outlinewidth": 0,
              "ticks": ""
             }
            },
            "type": "scattercarpet"
           }
          ],
          "scattergeo": [
           {
            "marker": {
             "colorbar": {
              "outlinewidth": 0,
              "ticks": ""
             }
            },
            "type": "scattergeo"
           }
          ],
          "scattergl": [
           {
            "marker": {
             "colorbar": {
              "outlinewidth": 0,
              "ticks": ""
             }
            },
            "type": "scattergl"
           }
          ],
          "scattermapbox": [
           {
            "marker": {
             "colorbar": {
              "outlinewidth": 0,
              "ticks": ""
             }
            },
            "type": "scattermapbox"
           }
          ],
          "scatterpolar": [
           {
            "marker": {
             "colorbar": {
              "outlinewidth": 0,
              "ticks": ""
             }
            },
            "type": "scatterpolar"
           }
          ],
          "scatterpolargl": [
           {
            "marker": {
             "colorbar": {
              "outlinewidth": 0,
              "ticks": ""
             }
            },
            "type": "scatterpolargl"
           }
          ],
          "scatterternary": [
           {
            "marker": {
             "colorbar": {
              "outlinewidth": 0,
              "ticks": ""
             }
            },
            "type": "scatterternary"
           }
          ],
          "surface": [
           {
            "colorbar": {
             "outlinewidth": 0,
             "ticks": ""
            },
            "colorscale": [
             [
              0,
              "#0d0887"
             ],
             [
              0.1111111111111111,
              "#46039f"
             ],
             [
              0.2222222222222222,
              "#7201a8"
             ],
             [
              0.3333333333333333,
              "#9c179e"
             ],
             [
              0.4444444444444444,
              "#bd3786"
             ],
             [
              0.5555555555555556,
              "#d8576b"
             ],
             [
              0.6666666666666666,
              "#ed7953"
             ],
             [
              0.7777777777777778,
              "#fb9f3a"
             ],
             [
              0.8888888888888888,
              "#fdca26"
             ],
             [
              1,
              "#f0f921"
             ]
            ],
            "type": "surface"
           }
          ],
          "table": [
           {
            "cells": {
             "fill": {
              "color": "#EBF0F8"
             },
             "line": {
              "color": "white"
             }
            },
            "header": {
             "fill": {
              "color": "#C8D4E3"
             },
             "line": {
              "color": "white"
             }
            },
            "type": "table"
           }
          ]
         },
         "layout": {
          "annotationdefaults": {
           "arrowcolor": "#2a3f5f",
           "arrowhead": 0,
           "arrowwidth": 1
          },
          "autotypenumbers": "strict",
          "coloraxis": {
           "colorbar": {
            "outlinewidth": 0,
            "ticks": ""
           }
          },
          "colorscale": {
           "diverging": [
            [
             0,
             "#8e0152"
            ],
            [
             0.1,
             "#c51b7d"
            ],
            [
             0.2,
             "#de77ae"
            ],
            [
             0.3,
             "#f1b6da"
            ],
            [
             0.4,
             "#fde0ef"
            ],
            [
             0.5,
             "#f7f7f7"
            ],
            [
             0.6,
             "#e6f5d0"
            ],
            [
             0.7,
             "#b8e186"
            ],
            [
             0.8,
             "#7fbc41"
            ],
            [
             0.9,
             "#4d9221"
            ],
            [
             1,
             "#276419"
            ]
           ],
           "sequential": [
            [
             0,
             "#0d0887"
            ],
            [
             0.1111111111111111,
             "#46039f"
            ],
            [
             0.2222222222222222,
             "#7201a8"
            ],
            [
             0.3333333333333333,
             "#9c179e"
            ],
            [
             0.4444444444444444,
             "#bd3786"
            ],
            [
             0.5555555555555556,
             "#d8576b"
            ],
            [
             0.6666666666666666,
             "#ed7953"
            ],
            [
             0.7777777777777778,
             "#fb9f3a"
            ],
            [
             0.8888888888888888,
             "#fdca26"
            ],
            [
             1,
             "#f0f921"
            ]
           ],
           "sequentialminus": [
            [
             0,
             "#0d0887"
            ],
            [
             0.1111111111111111,
             "#46039f"
            ],
            [
             0.2222222222222222,
             "#7201a8"
            ],
            [
             0.3333333333333333,
             "#9c179e"
            ],
            [
             0.4444444444444444,
             "#bd3786"
            ],
            [
             0.5555555555555556,
             "#d8576b"
            ],
            [
             0.6666666666666666,
             "#ed7953"
            ],
            [
             0.7777777777777778,
             "#fb9f3a"
            ],
            [
             0.8888888888888888,
             "#fdca26"
            ],
            [
             1,
             "#f0f921"
            ]
           ]
          },
          "colorway": [
           "#636efa",
           "#EF553B",
           "#00cc96",
           "#ab63fa",
           "#FFA15A",
           "#19d3f3",
           "#FF6692",
           "#B6E880",
           "#FF97FF",
           "#FECB52"
          ],
          "font": {
           "color": "#2a3f5f"
          },
          "geo": {
           "bgcolor": "white",
           "lakecolor": "white",
           "landcolor": "#E5ECF6",
           "showlakes": true,
           "showland": true,
           "subunitcolor": "white"
          },
          "hoverlabel": {
           "align": "left"
          },
          "hovermode": "closest",
          "mapbox": {
           "style": "light"
          },
          "paper_bgcolor": "white",
          "plot_bgcolor": "#E5ECF6",
          "polar": {
           "angularaxis": {
            "gridcolor": "white",
            "linecolor": "white",
            "ticks": ""
           },
           "bgcolor": "#E5ECF6",
           "radialaxis": {
            "gridcolor": "white",
            "linecolor": "white",
            "ticks": ""
           }
          },
          "scene": {
           "xaxis": {
            "backgroundcolor": "#E5ECF6",
            "gridcolor": "white",
            "gridwidth": 2,
            "linecolor": "white",
            "showbackground": true,
            "ticks": "",
            "zerolinecolor": "white"
           },
           "yaxis": {
            "backgroundcolor": "#E5ECF6",
            "gridcolor": "white",
            "gridwidth": 2,
            "linecolor": "white",
            "showbackground": true,
            "ticks": "",
            "zerolinecolor": "white"
           },
           "zaxis": {
            "backgroundcolor": "#E5ECF6",
            "gridcolor": "white",
            "gridwidth": 2,
            "linecolor": "white",
            "showbackground": true,
            "ticks": "",
            "zerolinecolor": "white"
           }
          },
          "shapedefaults": {
           "line": {
            "color": "#2a3f5f"
           }
          },
          "ternary": {
           "aaxis": {
            "gridcolor": "white",
            "linecolor": "white",
            "ticks": ""
           },
           "baxis": {
            "gridcolor": "white",
            "linecolor": "white",
            "ticks": ""
           },
           "bgcolor": "#E5ECF6",
           "caxis": {
            "gridcolor": "white",
            "linecolor": "white",
            "ticks": ""
           }
          },
          "title": {
           "x": 0.05
          },
          "xaxis": {
           "automargin": true,
           "gridcolor": "white",
           "linecolor": "white",
           "ticks": "",
           "title": {
            "standoff": 15
           },
           "zerolinecolor": "white",
           "zerolinewidth": 2
          },
          "yaxis": {
           "automargin": true,
           "gridcolor": "white",
           "linecolor": "white",
           "ticks": "",
           "title": {
            "standoff": 15
           },
           "zerolinecolor": "white",
           "zerolinewidth": 2
          }
         }
        },
        "title": {
         "text": "Zestawienie procentowej ilości kobiet, które otrzymały nagrodę Nobla w zależności od roku oraz kategorii"
        }
       }
      },
      "text/html": [
       "<div>                            <div id=\"5ef44d7b-caa5-4d3a-a484-acefb20901e3\" class=\"plotly-graph-div\" style=\"height:525px; width:100%;\"></div>            <script type=\"text/javascript\">                require([\"plotly\"], function(Plotly) {                    window.PLOTLYENV=window.PLOTLYENV || {};                                    if (document.getElementById(\"5ef44d7b-caa5-4d3a-a484-acefb20901e3\")) {                    Plotly.newPlot(                        \"5ef44d7b-caa5-4d3a-a484-acefb20901e3\",                        [{\"x\":[1901,1901,1901,1901,1901,1902,1902,1902,1902,1902,1903,1903,1903,1903,1903,1904,1904,1904,1904,1905,1905,1905,1905,1905,1906,1906,1906,1906,1906,1907,1907,1907,1907,1907,1908,1908,1908,1908,1908,1909,1909,1909,1909,1909,1910,1910,1910,1910,1911,1911,1911,1911,1911,1912,1912,1912,1912,1912,1913,1913,1913,1913,1913,1914,1914,1914,1915,1915,1915,1916,1917,1917,1918,1918,1919,1919,1919,1919,1920,1920,1920,1920,1920,1921,1921,1921,1921,1922,1922,1922,1922,1922,1923,1923,1923,1923,1924,1924,1924,1925,1925,1925,1925,1926,1926,1926,1926,1926,1927,1927,1927,1927,1927,1928,1928,1928,1928,1929,1929,1929,1929,1929,1930,1930,1930,1930,1930,1931,1931,1931,1931,1932,1932,1932,1932,1933,1933,1933,1933,1934,1934,1934,1934,1935,1935,1935,1935,1936,1936,1936,1936,1936,1937,1937,1937,1937,1937,1938,1938,1938,1938,1939,1939,1939,1939,1943,1943,1943,1944,1944,1944,1944,1945,1945,1945,1945,1945,1946,1946,1946,1946,1946,1947,1947,1947,1947,1948,1948,1948,1948,1949,1949,1949,1949,1949,1950,1950,1950,1950,1950,1951,1951,1951,1951,1951,1952,1952,1952,1952,1952,1953,1953,1953,1953,1953,1954,1954,1954,1954,1955,1955,1955,1955,1956,1956,1956,1956,1957,1957,1957,1957,1957,1958,1958,1958,1958,1958,1959,1959,1959,1959,1959,1960,1960,1960,1960,1960,1961,1961,1961,1961,1961,1962,1962,1962,1962,1962,1963,1963,1963,1963,1964,1964,1964,1964,1964,1965,1965,1965,1965,1966,1966,1966,1966,1967,1967,1967,1967,1968,1968,1968,1968,1968,1969,1969,1969,1969,1969,1970,1970,1970,1970,1970,1970,1971,1971,1971,1971,1971,1971,1972,1972,1972,1972,1972,1973,1973,1973,1973,1973,1973,1974,1974,1974,1974,1974,1974,1975,1975,1975,1975,1975,1975,1976,1976,1976,1976,1976,1976,1977,1977,1977,1977,1977,1978,1978,1978,1978,1978,1978,1979,1979,1979,1979,1979,1979,1980,1980,1980,1980,1980,1980,1981,1981,1981,1981,1981,1982,1982,1982,1982,1982,1982,1983,1983,1983,1983,1983,1983,1984,1984,1984,1984,1984,1984,1985,1985,1985,1985,1985,1986,1986,1986,1986,1986,1986,1987,1987,1987,1987,1987,1987,1988,1988,1988,1988,1988,1989,1989,1989,1989,1989,1989,1990,1990,1990,1990,1990,1990,1991,1991,1991,1991,1991,1991,1992,1992,1992,1992,1992,1992,1993,1993,1993,1993,1993,1993,1994,1994,1994,1994,1994,1994,1995,1995,1995,1995,1995,1995,1996,1996,1996,1996,1996,1996,1997,1997,1997,1997,1997,1997,1998,1998,1998,1998,1998,1998,1999,1999,1999,1999,1999,2000,2000,2000,2000,2000,2000,2001,2001,2001,2001,2001,2001,2002,2002,2002,2002,2002,2002,2003,2003,2003,2003,2003,2003,2004,2004,2004,2004,2004,2004,2005,2005,2005,2005,2005,2005,2006,2006,2006,2006,2006,2006,2007,2007,2007,2007,2007,2007,2008,2008,2008,2008,2008,2008,2009,2009,2009,2009,2009,2009,2010,2010,2010,2010,2010,2010,2011,2011,2011,2011,2011,2011,2012,2012,2012,2012,2012,2013,2013,2013,2013,2013,2014,2014,2014,2014,2014,2014,2015,2015,2015,2015,2015,2016,2016,2016,2016,2016,2016],\"y\":[\"Literature\",\"Medicine\",\"Physics\",\"Chemistry\",\"Peace\",\"Chemistry\",\"Peace\",\"Physics\",\"Literature\",\"Medicine\",\"Peace\",\"Chemistry\",\"Physics\",\"Literature\",\"Medicine\",\"Literature\",\"Chemistry\",\"Physics\",\"Medicine\",\"Peace\",\"Physics\",\"Literature\",\"Chemistry\",\"Medicine\",\"Literature\",\"Chemistry\",\"Medicine\",\"Physics\",\"Peace\",\"Chemistry\",\"Physics\",\"Medicine\",\"Peace\",\"Literature\",\"Medicine\",\"Chemistry\",\"Peace\",\"Physics\",\"Literature\",\"Physics\",\"Peace\",\"Chemistry\",\"Medicine\",\"Literature\",\"Literature\",\"Physics\",\"Medicine\",\"Chemistry\",\"Literature\",\"Physics\",\"Chemistry\",\"Medicine\",\"Peace\",\"Literature\",\"Physics\",\"Medicine\",\"Chemistry\",\"Peace\",\"Physics\",\"Literature\",\"Medicine\",\"Chemistry\",\"Peace\",\"Medicine\",\"Chemistry\",\"Physics\",\"Chemistry\",\"Physics\",\"Literature\",\"Literature\",\"Physics\",\"Literature\",\"Physics\",\"Chemistry\",\"Medicine\",\"Physics\",\"Literature\",\"Peace\",\"Physics\",\"Literature\",\"Chemistry\",\"Medicine\",\"Peace\",\"Chemistry\",\"Literature\",\"Peace\",\"Physics\",\"Medicine\",\"Chemistry\",\"Physics\",\"Peace\",\"Literature\",\"Literature\",\"Physics\",\"Chemistry\",\"Medicine\",\"Medicine\",\"Physics\",\"Literature\",\"Chemistry\",\"Peace\",\"Physics\",\"Literature\",\"Chemistry\",\"Literature\",\"Medicine\",\"Physics\",\"Peace\",\"Chemistry\",\"Medicine\",\"Peace\",\"Literature\",\"Physics\",\"Medicine\",\"Chemistry\",\"Literature\",\"Physics\",\"Peace\",\"Chemistry\",\"Medicine\",\"Physics\",\"Literature\",\"Physics\",\"Peace\",\"Chemistry\",\"Literature\",\"Medicine\",\"Chemistry\",\"Peace\",\"Literature\",\"Medicine\",\"Literature\",\"Medicine\",\"Chemistry\",\"Physics\",\"Literature\",\"Medicine\",\"Physics\",\"Peace\",\"Chemistry\",\"Peace\",\"Literature\",\"Medicine\",\"Peace\",\"Chemistry\",\"Physics\",\"Medicine\",\"Literature\",\"Chemistry\",\"Peace\",\"Physics\",\"Medicine\",\"Medicine\",\"Chemistry\",\"Peace\",\"Physics\",\"Literature\",\"Medicine\",\"Chemistry\",\"Literature\",\"Physics\",\"Chemistry\",\"Physics\",\"Literature\",\"Medicine\",\"Medicine\",\"Chemistry\",\"Physics\",\"Physics\",\"Literature\",\"Medicine\",\"Chemistry\",\"Literature\",\"Chemistry\",\"Physics\",\"Medicine\",\"Peace\",\"Literature\",\"Chemistry\",\"Physics\",\"Peace\",\"Medicine\",\"Chemistry\",\"Medicine\",\"Literature\",\"Physics\",\"Chemistry\",\"Medicine\",\"Physics\",\"Literature\",\"Peace\",\"Chemistry\",\"Physics\",\"Literature\",\"Medicine\",\"Physics\",\"Chemistry\",\"Literature\",\"Medicine\",\"Peace\",\"Physics\",\"Peace\",\"Medicine\",\"Literature\",\"Chemistry\",\"Literature\",\"Chemistry\",\"Peace\",\"Medicine\",\"Physics\",\"Chemistry\",\"Peace\",\"Literature\",\"Medicine\",\"Physics\",\"Chemistry\",\"Literature\",\"Physics\",\"Medicine\",\"Literature\",\"Medicine\",\"Chemistry\",\"Physics\",\"Literature\",\"Chemistry\",\"Physics\",\"Medicine\",\"Peace\",\"Physics\",\"Medicine\",\"Literature\",\"Chemistry\",\"Physics\",\"Medicine\",\"Peace\",\"Literature\",\"Chemistry\",\"Chemistry\",\"Medicine\",\"Literature\",\"Peace\",\"Physics\",\"Chemistry\",\"Literature\",\"Medicine\",\"Peace\",\"Physics\",\"Physics\",\"Literature\",\"Medicine\",\"Chemistry\",\"Peace\",\"Medicine\",\"Physics\",\"Chemistry\",\"Peace\",\"Literature\",\"Physics\",\"Chemistry\",\"Medicine\",\"Literature\",\"Chemistry\",\"Physics\",\"Peace\",\"Medicine\",\"Literature\",\"Medicine\",\"Chemistry\",\"Physics\",\"Literature\",\"Chemistry\",\"Physics\",\"Medicine\",\"Literature\",\"Physics\",\"Medicine\",\"Chemistry\",\"Literature\",\"Medicine\",\"Peace\",\"Literature\",\"Chemistry\",\"Physics\",\"Economics\",\"Chemistry\",\"Literature\",\"Physics\",\"Medicine\",\"Peace\",\"Physics\",\"Chemistry\",\"Medicine\",\"Economics\",\"Literature\",\"Medicine\",\"Physics\",\"Chemistry\",\"Peace\",\"Economics\",\"Literature\",\"Literature\",\"Medicine\",\"Economics\",\"Chemistry\",\"Physics\",\"Physics\",\"Chemistry\",\"Peace\",\"Medicine\",\"Literature\",\"Economics\",\"Chemistry\",\"Physics\",\"Literature\",\"Economics\",\"Peace\",\"Medicine\",\"Literature\",\"Peace\",\"Physics\",\"Medicine\",\"Economics\",\"Chemistry\",\"Physics\",\"Literature\",\"Medicine\",\"Economics\",\"Chemistry\",\"Peace\",\"Chemistry\",\"Economics\",\"Literature\",\"Physics\",\"Medicine\",\"Economics\",\"Chemistry\",\"Literature\",\"Peace\",\"Medicine\",\"Physics\",\"Literature\",\"Economics\",\"Medicine\",\"Peace\",\"Chemistry\",\"Physics\",\"Medicine\",\"Economics\",\"Peace\",\"Literature\",\"Chemistry\",\"Physics\",\"Chemistry\",\"Economics\",\"Literature\",\"Medicine\",\"Physics\",\"Chemistry\",\"Medicine\",\"Literature\",\"Peace\",\"Physics\",\"Economics\",\"Medicine\",\"Chemistry\",\"Physics\",\"Economics\",\"Literature\",\"Peace\",\"Chemistry\",\"Physics\",\"Economics\",\"Peace\",\"Literature\",\"Medicine\",\"Economics\",\"Literature\",\"Physics\",\"Medicine\",\"Chemistry\",\"Physics\",\"Peace\",\"Economics\",\"Literature\",\"Medicine\",\"Chemistry\",\"Physics\",\"Economics\",\"Literature\",\"Peace\",\"Chemistry\",\"Medicine\",\"Literature\",\"Medicine\",\"Chemistry\",\"Physics\",\"Economics\",\"Physics\",\"Medicine\",\"Economics\",\"Chemistry\",\"Peace\",\"Literature\",\"Physics\",\"Medicine\",\"Peace\",\"Literature\",\"Chemistry\",\"Economics\",\"Physics\",\"Literature\",\"Chemistry\",\"Medicine\",\"Economics\",\"Peace\",\"Literature\",\"Chemistry\",\"Medicine\",\"Peace\",\"Economics\",\"Physics\",\"Peace\",\"Literature\",\"Economics\",\"Chemistry\",\"Medicine\",\"Physics\",\"Literature\",\"Physics\",\"Chemistry\",\"Economics\",\"Medicine\",\"Peace\",\"Physics\",\"Economics\",\"Chemistry\",\"Literature\",\"Peace\",\"Medicine\",\"Medicine\",\"Physics\",\"Peace\",\"Chemistry\",\"Economics\",\"Literature\",\"Physics\",\"Literature\",\"Chemistry\",\"Peace\",\"Medicine\",\"Economics\",\"Chemistry\",\"Physics\",\"Medicine\",\"Peace\",\"Literature\",\"Economics\",\"Economics\",\"Physics\",\"Medicine\",\"Literature\",\"Chemistry\",\"Medicine\",\"Economics\",\"Literature\",\"Peace\",\"Physics\",\"Chemistry\",\"Physics\",\"Literature\",\"Medicine\",\"Chemistry\",\"Economics\",\"Peace\",\"Chemistry\",\"Literature\",\"Physics\",\"Economics\",\"Medicine\",\"Peace\",\"Chemistry\",\"Physics\",\"Peace\",\"Literature\",\"Medicine\",\"Economics\",\"Literature\",\"Peace\",\"Medicine\",\"Economics\",\"Physics\",\"Chemistry\",\"Physics\",\"Peace\",\"Chemistry\",\"Literature\",\"Medicine\",\"Economics\",\"Economics\",\"Chemistry\",\"Literature\",\"Peace\",\"Physics\",\"Medicine\",\"Literature\",\"Peace\",\"Physics\",\"Economics\",\"Medicine\",\"Chemistry\",\"Literature\",\"Physics\",\"Medicine\",\"Peace\",\"Economics\",\"Chemistry\",\"Chemistry\",\"Economics\",\"Literature\",\"Physics\",\"Medicine\",\"Peace\",\"Peace\",\"Physics\",\"Medicine\",\"Literature\",\"Chemistry\",\"Economics\",\"Medicine\",\"Literature\",\"Economics\",\"Chemistry\",\"Peace\",\"Physics\",\"Chemistry\",\"Economics\",\"Literature\",\"Medicine\",\"Physics\",\"Physics\",\"Literature\",\"Medicine\",\"Economics\",\"Chemistry\",\"Economics\",\"Chemistry\",\"Medicine\",\"Literature\",\"Physics\",\"Peace\",\"Chemistry\",\"Literature\",\"Medicine\",\"Physics\",\"Economics\",\"Chemistry\",\"Economics\",\"Literature\",\"Medicine\",\"Peace\",\"Physics\"],\"z\":[0.0,0.0,0.0,0.0,0.0,0.0,0.0,0.0,0.0,0.0,0.0,0.0,33.333333333333336,0.0,0.0,0.0,0.0,0.0,0.0,100.0,0.0,0.0,0.0,0.0,0.0,0.0,0.0,0.0,0.0,0.0,0.0,0.0,0.0,0.0,0.0,0.0,0.0,0.0,0.0,0.0,0.0,0.0,0.0,100.0,0.0,0.0,0.0,0.0,0.0,0.0,100.0,0.0,0.0,0.0,0.0,0.0,0.0,0.0,0.0,0.0,0.0,0.0,0.0,0.0,0.0,0.0,0.0,0.0,0.0,0.0,0.0,0.0,0.0,0.0,0.0,0.0,0.0,0.0,0.0,0.0,0.0,0.0,0.0,0.0,0.0,0.0,0.0,0.0,0.0,0.0,0.0,0.0,0.0,0.0,0.0,0.0,0.0,0.0,0.0,0.0,0.0,0.0,0.0,0.0,100.0,0.0,0.0,0.0,0.0,0.0,0.0,0.0,0.0,0.0,0.0,100.0,0.0,0.0,0.0,0.0,0.0,0.0,0.0,0.0,0.0,0.0,0.0,0.0,50.0,0.0,0.0,0.0,0.0,0.0,0.0,0.0,0.0,0.0,0.0,0.0,0.0,0.0,0.0,0.0,50.0,0.0,0.0,0.0,0.0,0.0,0.0,0.0,0.0,0.0,0.0,0.0,0.0,0.0,0.0,100.0,0.0,0.0,0.0,0.0,0.0,0.0,0.0,0.0,0.0,0.0,0.0,0.0,100.0,0.0,0.0,0.0,0.0,0.0,0.0,0.0,50.0,0.0,0.0,33.333333333333336,0.0,0.0,0.0,0.0,0.0,0.0,0.0,0.0,0.0,0.0,0.0,0.0,0.0,0.0,0.0,0.0,0.0,0.0,0.0,0.0,0.0,0.0,0.0,0.0,0.0,0.0,0.0,0.0,0.0,0.0,0.0,0.0,0.0,0.0,0.0,0.0,0.0,0.0,0.0,0.0,0.0,0.0,0.0,0.0,0.0,0.0,0.0,0.0,0.0,0.0,0.0,0.0,0.0,0.0,0.0,0.0,0.0,0.0,0.0,0.0,0.0,0.0,0.0,0.0,0.0,0.0,0.0,0.0,0.0,0.0,0.0,0.0,0.0,33.333333333333336,0.0,0.0,0.0,100.0,0.0,0.0,0.0,0.0,0.0,0.0,0.0,0.0,0.0,0.0,0.0,50.0,0.0,0.0,0.0,0.0,0.0,0.0,0.0,0.0,0.0,0.0,0.0,0.0,0.0,0.0,0.0,0.0,0.0,0.0,0.0,0.0,0.0,0.0,0.0,0.0,0.0,0.0,0.0,0.0,0.0,0.0,0.0,0.0,0.0,0.0,0.0,0.0,0.0,0.0,0.0,0.0,0.0,0.0,0.0,0.0,0.0,0.0,0.0,0.0,0.0,0.0,0.0,0.0,0.0,0.0,100.0,0.0,0.0,0.0,0.0,33.333333333333336,0.0,0.0,0.0,0.0,0.0,0.0,0.0,0.0,0.0,100.0,0.0,0.0,0.0,0.0,0.0,0.0,0.0,0.0,0.0,0.0,0.0,0.0,0.0,0.0,0.0,0.0,50.0,0.0,0.0,100.0,0.0,0.0,0.0,0.0,0.0,0.0,0.0,0.0,0.0,0.0,0.0,0.0,0.0,0.0,0.0,0.0,0.0,0.0,0.0,0.0,50.0,0.0,0.0,0.0,0.0,0.0,0.0,0.0,0.0,33.333333333333336,0.0,0.0,0.0,0.0,0.0,0.0,0.0,0.0,0.0,0.0,0.0,0.0,0.0,0.0,0.0,0.0,100.0,0.0,0.0,0.0,100.0,0.0,0.0,0.0,100.0,0.0,0.0,0.0,100.0,0.0,0.0,0.0,0.0,0.0,0.0,0.0,0.0,0.0,0.0,0.0,0.0,0.0,0.0,0.0,33.333333333333336,0.0,0.0,0.0,0.0,0.0,100.0,0.0,0.0,0.0,100.0,0.0,0.0,0.0,0.0,0.0,0.0,0.0,0.0,0.0,0.0,0.0,0.0,0.0,0.0,0.0,0.0,0.0,0.0,0.0,0.0,0.0,0.0,0.0,0.0,0.0,0.0,0.0,0.0,0.0,0.0,0.0,0.0,0.0,100.0,0.0,0.0,0.0,100.0,100.0,50.0,0.0,0.0,0.0,0.0,0.0,0.0,0.0,0.0,0.0,0.0,0.0,0.0,0.0,0.0,0.0,100.0,0.0,0.0,0.0,0.0,0.0,0.0,0.0,33.333333333333336,0.0,0.0,0.0,25.0,66.66666666666667,100.0,0.0,40.0,0.0,0.0,0.0,0.0,0.0,0.0,0.0,0.0,0.0,0.0,0.0,100.0,0.0,0.0,0.0,0.0,0.0,0.0,0.0,100.0,0.0,0.0,0.0,0.0,0.0,33.333333333333336,0.0,0.0,50.0,0.0,100.0,33.333333333333336,0.0,0.0,0.0,0.0,0.0,0.0,0.0,0.0],\"type\":\"heatmap\"}],                        {\"template\":{\"data\":{\"barpolar\":[{\"marker\":{\"line\":{\"color\":\"#E5ECF6\",\"width\":0.5},\"pattern\":{\"fillmode\":\"overlay\",\"size\":10,\"solidity\":0.2}},\"type\":\"barpolar\"}],\"bar\":[{\"error_x\":{\"color\":\"#2a3f5f\"},\"error_y\":{\"color\":\"#2a3f5f\"},\"marker\":{\"line\":{\"color\":\"#E5ECF6\",\"width\":0.5},\"pattern\":{\"fillmode\":\"overlay\",\"size\":10,\"solidity\":0.2}},\"type\":\"bar\"}],\"carpet\":[{\"aaxis\":{\"endlinecolor\":\"#2a3f5f\",\"gridcolor\":\"white\",\"linecolor\":\"white\",\"minorgridcolor\":\"white\",\"startlinecolor\":\"#2a3f5f\"},\"baxis\":{\"endlinecolor\":\"#2a3f5f\",\"gridcolor\":\"white\",\"linecolor\":\"white\",\"minorgridcolor\":\"white\",\"startlinecolor\":\"#2a3f5f\"},\"type\":\"carpet\"}],\"choropleth\":[{\"colorbar\":{\"outlinewidth\":0,\"ticks\":\"\"},\"type\":\"choropleth\"}],\"contourcarpet\":[{\"colorbar\":{\"outlinewidth\":0,\"ticks\":\"\"},\"type\":\"contourcarpet\"}],\"contour\":[{\"colorbar\":{\"outlinewidth\":0,\"ticks\":\"\"},\"colorscale\":[[0.0,\"#0d0887\"],[0.1111111111111111,\"#46039f\"],[0.2222222222222222,\"#7201a8\"],[0.3333333333333333,\"#9c179e\"],[0.4444444444444444,\"#bd3786\"],[0.5555555555555556,\"#d8576b\"],[0.6666666666666666,\"#ed7953\"],[0.7777777777777778,\"#fb9f3a\"],[0.8888888888888888,\"#fdca26\"],[1.0,\"#f0f921\"]],\"type\":\"contour\"}],\"heatmapgl\":[{\"colorbar\":{\"outlinewidth\":0,\"ticks\":\"\"},\"colorscale\":[[0.0,\"#0d0887\"],[0.1111111111111111,\"#46039f\"],[0.2222222222222222,\"#7201a8\"],[0.3333333333333333,\"#9c179e\"],[0.4444444444444444,\"#bd3786\"],[0.5555555555555556,\"#d8576b\"],[0.6666666666666666,\"#ed7953\"],[0.7777777777777778,\"#fb9f3a\"],[0.8888888888888888,\"#fdca26\"],[1.0,\"#f0f921\"]],\"type\":\"heatmapgl\"}],\"heatmap\":[{\"colorbar\":{\"outlinewidth\":0,\"ticks\":\"\"},\"colorscale\":[[0.0,\"#0d0887\"],[0.1111111111111111,\"#46039f\"],[0.2222222222222222,\"#7201a8\"],[0.3333333333333333,\"#9c179e\"],[0.4444444444444444,\"#bd3786\"],[0.5555555555555556,\"#d8576b\"],[0.6666666666666666,\"#ed7953\"],[0.7777777777777778,\"#fb9f3a\"],[0.8888888888888888,\"#fdca26\"],[1.0,\"#f0f921\"]],\"type\":\"heatmap\"}],\"histogram2dcontour\":[{\"colorbar\":{\"outlinewidth\":0,\"ticks\":\"\"},\"colorscale\":[[0.0,\"#0d0887\"],[0.1111111111111111,\"#46039f\"],[0.2222222222222222,\"#7201a8\"],[0.3333333333333333,\"#9c179e\"],[0.4444444444444444,\"#bd3786\"],[0.5555555555555556,\"#d8576b\"],[0.6666666666666666,\"#ed7953\"],[0.7777777777777778,\"#fb9f3a\"],[0.8888888888888888,\"#fdca26\"],[1.0,\"#f0f921\"]],\"type\":\"histogram2dcontour\"}],\"histogram2d\":[{\"colorbar\":{\"outlinewidth\":0,\"ticks\":\"\"},\"colorscale\":[[0.0,\"#0d0887\"],[0.1111111111111111,\"#46039f\"],[0.2222222222222222,\"#7201a8\"],[0.3333333333333333,\"#9c179e\"],[0.4444444444444444,\"#bd3786\"],[0.5555555555555556,\"#d8576b\"],[0.6666666666666666,\"#ed7953\"],[0.7777777777777778,\"#fb9f3a\"],[0.8888888888888888,\"#fdca26\"],[1.0,\"#f0f921\"]],\"type\":\"histogram2d\"}],\"histogram\":[{\"marker\":{\"pattern\":{\"fillmode\":\"overlay\",\"size\":10,\"solidity\":0.2}},\"type\":\"histogram\"}],\"mesh3d\":[{\"colorbar\":{\"outlinewidth\":0,\"ticks\":\"\"},\"type\":\"mesh3d\"}],\"parcoords\":[{\"line\":{\"colorbar\":{\"outlinewidth\":0,\"ticks\":\"\"}},\"type\":\"parcoords\"}],\"pie\":[{\"automargin\":true,\"type\":\"pie\"}],\"scatter3d\":[{\"line\":{\"colorbar\":{\"outlinewidth\":0,\"ticks\":\"\"}},\"marker\":{\"colorbar\":{\"outlinewidth\":0,\"ticks\":\"\"}},\"type\":\"scatter3d\"}],\"scattercarpet\":[{\"marker\":{\"colorbar\":{\"outlinewidth\":0,\"ticks\":\"\"}},\"type\":\"scattercarpet\"}],\"scattergeo\":[{\"marker\":{\"colorbar\":{\"outlinewidth\":0,\"ticks\":\"\"}},\"type\":\"scattergeo\"}],\"scattergl\":[{\"marker\":{\"colorbar\":{\"outlinewidth\":0,\"ticks\":\"\"}},\"type\":\"scattergl\"}],\"scattermapbox\":[{\"marker\":{\"colorbar\":{\"outlinewidth\":0,\"ticks\":\"\"}},\"type\":\"scattermapbox\"}],\"scatterpolargl\":[{\"marker\":{\"colorbar\":{\"outlinewidth\":0,\"ticks\":\"\"}},\"type\":\"scatterpolargl\"}],\"scatterpolar\":[{\"marker\":{\"colorbar\":{\"outlinewidth\":0,\"ticks\":\"\"}},\"type\":\"scatterpolar\"}],\"scatter\":[{\"fillpattern\":{\"fillmode\":\"overlay\",\"size\":10,\"solidity\":0.2},\"type\":\"scatter\"}],\"scatterternary\":[{\"marker\":{\"colorbar\":{\"outlinewidth\":0,\"ticks\":\"\"}},\"type\":\"scatterternary\"}],\"surface\":[{\"colorbar\":{\"outlinewidth\":0,\"ticks\":\"\"},\"colorscale\":[[0.0,\"#0d0887\"],[0.1111111111111111,\"#46039f\"],[0.2222222222222222,\"#7201a8\"],[0.3333333333333333,\"#9c179e\"],[0.4444444444444444,\"#bd3786\"],[0.5555555555555556,\"#d8576b\"],[0.6666666666666666,\"#ed7953\"],[0.7777777777777778,\"#fb9f3a\"],[0.8888888888888888,\"#fdca26\"],[1.0,\"#f0f921\"]],\"type\":\"surface\"}],\"table\":[{\"cells\":{\"fill\":{\"color\":\"#EBF0F8\"},\"line\":{\"color\":\"white\"}},\"header\":{\"fill\":{\"color\":\"#C8D4E3\"},\"line\":{\"color\":\"white\"}},\"type\":\"table\"}]},\"layout\":{\"annotationdefaults\":{\"arrowcolor\":\"#2a3f5f\",\"arrowhead\":0,\"arrowwidth\":1},\"autotypenumbers\":\"strict\",\"coloraxis\":{\"colorbar\":{\"outlinewidth\":0,\"ticks\":\"\"}},\"colorscale\":{\"diverging\":[[0,\"#8e0152\"],[0.1,\"#c51b7d\"],[0.2,\"#de77ae\"],[0.3,\"#f1b6da\"],[0.4,\"#fde0ef\"],[0.5,\"#f7f7f7\"],[0.6,\"#e6f5d0\"],[0.7,\"#b8e186\"],[0.8,\"#7fbc41\"],[0.9,\"#4d9221\"],[1,\"#276419\"]],\"sequential\":[[0.0,\"#0d0887\"],[0.1111111111111111,\"#46039f\"],[0.2222222222222222,\"#7201a8\"],[0.3333333333333333,\"#9c179e\"],[0.4444444444444444,\"#bd3786\"],[0.5555555555555556,\"#d8576b\"],[0.6666666666666666,\"#ed7953\"],[0.7777777777777778,\"#fb9f3a\"],[0.8888888888888888,\"#fdca26\"],[1.0,\"#f0f921\"]],\"sequentialminus\":[[0.0,\"#0d0887\"],[0.1111111111111111,\"#46039f\"],[0.2222222222222222,\"#7201a8\"],[0.3333333333333333,\"#9c179e\"],[0.4444444444444444,\"#bd3786\"],[0.5555555555555556,\"#d8576b\"],[0.6666666666666666,\"#ed7953\"],[0.7777777777777778,\"#fb9f3a\"],[0.8888888888888888,\"#fdca26\"],[1.0,\"#f0f921\"]]},\"colorway\":[\"#636efa\",\"#EF553B\",\"#00cc96\",\"#ab63fa\",\"#FFA15A\",\"#19d3f3\",\"#FF6692\",\"#B6E880\",\"#FF97FF\",\"#FECB52\"],\"font\":{\"color\":\"#2a3f5f\"},\"geo\":{\"bgcolor\":\"white\",\"lakecolor\":\"white\",\"landcolor\":\"#E5ECF6\",\"showlakes\":true,\"showland\":true,\"subunitcolor\":\"white\"},\"hoverlabel\":{\"align\":\"left\"},\"hovermode\":\"closest\",\"mapbox\":{\"style\":\"light\"},\"paper_bgcolor\":\"white\",\"plot_bgcolor\":\"#E5ECF6\",\"polar\":{\"angularaxis\":{\"gridcolor\":\"white\",\"linecolor\":\"white\",\"ticks\":\"\"},\"bgcolor\":\"#E5ECF6\",\"radialaxis\":{\"gridcolor\":\"white\",\"linecolor\":\"white\",\"ticks\":\"\"}},\"scene\":{\"xaxis\":{\"backgroundcolor\":\"#E5ECF6\",\"gridcolor\":\"white\",\"gridwidth\":2,\"linecolor\":\"white\",\"showbackground\":true,\"ticks\":\"\",\"zerolinecolor\":\"white\"},\"yaxis\":{\"backgroundcolor\":\"#E5ECF6\",\"gridcolor\":\"white\",\"gridwidth\":2,\"linecolor\":\"white\",\"showbackground\":true,\"ticks\":\"\",\"zerolinecolor\":\"white\"},\"zaxis\":{\"backgroundcolor\":\"#E5ECF6\",\"gridcolor\":\"white\",\"gridwidth\":2,\"linecolor\":\"white\",\"showbackground\":true,\"ticks\":\"\",\"zerolinecolor\":\"white\"}},\"shapedefaults\":{\"line\":{\"color\":\"#2a3f5f\"}},\"ternary\":{\"aaxis\":{\"gridcolor\":\"white\",\"linecolor\":\"white\",\"ticks\":\"\"},\"baxis\":{\"gridcolor\":\"white\",\"linecolor\":\"white\",\"ticks\":\"\"},\"bgcolor\":\"#E5ECF6\",\"caxis\":{\"gridcolor\":\"white\",\"linecolor\":\"white\",\"ticks\":\"\"}},\"title\":{\"x\":0.05},\"xaxis\":{\"automargin\":true,\"gridcolor\":\"white\",\"linecolor\":\"white\",\"ticks\":\"\",\"title\":{\"standoff\":15},\"zerolinecolor\":\"white\",\"zerolinewidth\":2},\"yaxis\":{\"automargin\":true,\"gridcolor\":\"white\",\"linecolor\":\"white\",\"ticks\":\"\",\"title\":{\"standoff\":15},\"zerolinecolor\":\"white\",\"zerolinewidth\":2}}},\"title\":{\"text\":\"Zestawienie procentowej ilo\\u015bci kobiet, kt\\u00f3re otrzyma\\u0142y nagrod\\u0119 Nobla w zale\\u017cno\\u015bci od roku oraz kategorii\"}},                        {\"responsive\": true}                    ).then(function(){\n",
       "                            \n",
       "var gd = document.getElementById('5ef44d7b-caa5-4d3a-a484-acefb20901e3');\n",
       "var x = new MutationObserver(function (mutations, observer) {{\n",
       "        var display = window.getComputedStyle(gd).display;\n",
       "        if (!display || display === 'none') {{\n",
       "            console.log([gd, 'removed!']);\n",
       "            Plotly.purge(gd);\n",
       "            observer.disconnect();\n",
       "        }}\n",
       "}});\n",
       "\n",
       "// Listen for the removal of the full notebook cells\n",
       "var notebookContainer = gd.closest('#notebook-container');\n",
       "if (notebookContainer) {{\n",
       "    x.observe(notebookContainer, {childList: true});\n",
       "}}\n",
       "\n",
       "// Listen for the clearing of the current output cell\n",
       "var outputEl = gd.closest('.output');\n",
       "if (outputEl) {{\n",
       "    x.observe(outputEl, {childList: true});\n",
       "}}\n",
       "\n",
       "                        })                };                });            </script>        </div>"
      ]
     },
     "metadata": {},
     "output_type": "display_data"
    }
   ],
   "source": [
    "# procentowe zestawienie ilości kobiet, które otrzymały nagrodę Nobla\n",
    "# prepared plot\n",
    "x = nobel_laureates['Year']\n",
    "y = nobel_laureates['Category']\n",
    "z = nobel_laureates['percent_of_female']\n",
    "\n",
    "#female map\n",
    "fig = go.Figure()\n",
    "fig.add_trace(go.Heatmap(x = x,\n",
    "                         y = y,\n",
    "                         z = z))\n",
    "fig.update_layout(title = 'Zestawienie procentowej ilości kobiet, które otrzymały nagrodę Nobla w zależności od roku oraz kategorii')\n",
    "iplot(fig)"
   ]
  },
  {
   "cell_type": "markdown",
   "id": "1231929c",
   "metadata": {},
   "source": [
    "## Analiza otrzymywania nagrody Nobla przez kobiety w zestawieniu zależnym od kategorii jak i roku otrzymania\n",
    "Poszerzenie analizy o uwzględnienie roku pokazuje, że szczególnie w medycynie, wraz z latami zwiększa się ilość laureatek. Warto tu zaznaczyć, że kobiety zdecydowanie później uzyskały prawo do edukacji. Zmiany w dostępie do edukacji wyższej pojawiły się dopiero na przełomie XIX i XX wieku, a nawet wówczas wiele kobiet uznawało tradycyjny model podziału i nie rozwijały się naukowo tylko zajmowały domem i rodziną. Zakorzeniony przez wiele lat model podziału obowiązków społecznych ze względu na płeć spowodował, że kobiety i tak, nawet jak edukację ukończyły, to nie decydowały się na taką ścieżkę kariery. Mimo, że teraz kobiety w nauce nie dziwią, i pojawia się ich coraz więcej (co widać w powyższym zestawieniu szczególnie w kategorii medycyna). Niestety nawet w XXI wieku można spotkać się z podejściem, że kobieta nie nadaje się do nauki lub będzie w zawodach technicznych lub ścisłych \"gorsza\" (oparte rówenież na https://funip.pl/droga-kobiet-do-edukacji/).\n",
    "To prowadzi do konieczności wykonania kolejnej analizy. Należało by też zestawić ilość prac naukowo-badawczych, w których brały udział kobiety do ilości kobiet, które nagrodę Nobla dostały. Jeżeli wśród 10 kobiet zajmujących się nauką jest jedna noblistka, a podobne badania prowadzi 100 mężczyzn, ale wśród nich jest już tylko 2 noblistów, to kobiety nie wyglądają w takim zestawieniu źle.\n",
    "Kolejnym elementem analizy należało by wziąć pod uwagę pewne ewolucyjne predyspozycje do niektórych funkcji poznawczych. Przykładowo ewolucyjna lepsza wyboraźnia przestrzenna u mężczyzn wynikała z faktu, że to mężczyzna odpowiadał z 'polowanie' czy w późniejszym etapie wybudowanie schronienia. Podobnie u kobiet lepiej wykształciła się wielozadaniowość i umiejętności interpretacji niewerbalnej ludzi, bo głównie zajmowały się dziećmi i musiały wiedziec co im dolega zanim one zaczęły mówić. Zatem chociaż by na tej podstawie, można sądzić, że ewolucyjnie większe predyspozycję do chociażby przedmiotów ścisłych czy technicznych mają mężczyźni. O ile ogół społeczeństwa może być w ten sposób oceniany, to nie należy tego odnosić do poszczególnych jednostek.\n",
    "Podsumowując. Na mniejszą ilość kobiet w nauce, co przekałada się na mniejszą ilość laureatek nagród Nobla, jako najbardziej prestiżowych, przekładać się może wiele czynników. Począwszy od fakt mniejszego zainteresowania kobiet takimi naukami, przez ewolucyjne predyspozycję jak i w konsekwencji możliwości edukacyjne i podejmowania prac naukowych przez kobiety. Jak widać jednak świat się zmienia, a kobiety coraz częściej pojawiają się w różnego rodzaju badaniach naukowych, gdzie ich wkład w rozwój jest niepodważalny."
   ]
  },
  {
   "cell_type": "code",
   "execution_count": null,
   "id": "fe3e3adf",
   "metadata": {},
   "outputs": [],
   "source": []
  }
 ],
 "metadata": {
  "kernelspec": {
   "display_name": "Python 3 (ipykernel)",
   "language": "python",
   "name": "python3"
  },
  "language_info": {
   "codemirror_mode": {
    "name": "ipython",
    "version": 3
   },
   "file_extension": ".py",
   "mimetype": "text/x-python",
   "name": "python",
   "nbconvert_exporter": "python",
   "pygments_lexer": "ipython3",
   "version": "3.9.13"
  }
 },
 "nbformat": 4,
 "nbformat_minor": 5
}
