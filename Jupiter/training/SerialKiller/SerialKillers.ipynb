{
 "cells": [
  {
   "cell_type": "markdown",
   "id": "86de9493",
   "metadata": {},
   "source": [
    "# Serial Killers\n",
    "Analiza danych ze zbioru: https://www.kaggle.com/datasets/vesuvius13/serial-killers-dataset\n"
   ]
  },
  {
   "cell_type": "code",
   "execution_count": 1,
   "id": "207495a9",
   "metadata": {},
   "outputs": [
    {
     "data": {
      "text/html": [
       "        <script type=\"text/javascript\">\n",
       "        window.PlotlyConfig = {MathJaxConfig: 'local'};\n",
       "        if (window.MathJax && window.MathJax.Hub && window.MathJax.Hub.Config) {window.MathJax.Hub.Config({SVG: {font: \"STIX-Web\"}});}\n",
       "        if (typeof require !== 'undefined') {\n",
       "        require.undef(\"plotly\");\n",
       "        requirejs.config({\n",
       "            paths: {\n",
       "                'plotly': ['https://cdn.plot.ly/plotly-2.18.0.min']\n",
       "            }\n",
       "        });\n",
       "        require(['plotly'], function(Plotly) {\n",
       "            window._Plotly = Plotly;\n",
       "        });\n",
       "        }\n",
       "        </script>\n",
       "        "
      ]
     },
     "metadata": {},
     "output_type": "display_data"
    }
   ],
   "source": [
    "# import package to analysis\n",
    "import numpy as np\n",
    "import pandas as pd\n",
    "from plotly.offline import download_plotlyjs, init_notebook_mode, plot, iplot\n",
    "# init_notebook_mode - to show plotly in Notebook's output\n",
    "init_notebook_mode(connected = True)\n",
    "import matplotlib.pyplot as plt\n",
    "import plotly.offline as pyo\n",
    "import plotly.graph_objs as go\n",
    "from plotly import subplots\n",
    "import plotly.figure_factory as ff"
   ]
  },
  {
   "cell_type": "code",
   "execution_count": 2,
   "id": "b135ba04",
   "metadata": {},
   "outputs": [
    {
     "data": {
      "text/html": [
       "<div>\n",
       "<style scoped>\n",
       "    .dataframe tbody tr th:only-of-type {\n",
       "        vertical-align: middle;\n",
       "    }\n",
       "\n",
       "    .dataframe tbody tr th {\n",
       "        vertical-align: top;\n",
       "    }\n",
       "\n",
       "    .dataframe thead th {\n",
       "        text-align: right;\n",
       "    }\n",
       "</style>\n",
       "<table border=\"1\" class=\"dataframe\">\n",
       "  <thead>\n",
       "    <tr style=\"text-align: right;\">\n",
       "      <th></th>\n",
       "      <th>Name</th>\n",
       "      <th>Country</th>\n",
       "      <th>Years active</th>\n",
       "      <th>Proven victims</th>\n",
       "      <th>Possible victims</th>\n",
       "      <th>Notes</th>\n",
       "    </tr>\n",
       "  </thead>\n",
       "  <tbody>\n",
       "    <tr>\n",
       "      <th>0</th>\n",
       "      <td>Charlie Brandt</td>\n",
       "      <td>United States</td>\n",
       "      <td>1971 to 2004</td>\n",
       "      <td>4</td>\n",
       "      <td>29</td>\n",
       "      <td>Committed suicide by hanging after murdering h...</td>\n",
       "    </tr>\n",
       "    <tr>\n",
       "      <th>1</th>\n",
       "      <td>Robert Black</td>\n",
       "      <td>United Kingdom\\r\\nIreland (suspected)\\r\\nWest ...</td>\n",
       "      <td>1981 to 1986</td>\n",
       "      <td>4</td>\n",
       "      <td>18+</td>\n",
       "      <td>Convicted of kidnapping, raping and murdering ...</td>\n",
       "    </tr>\n",
       "    <tr>\n",
       "      <th>2</th>\n",
       "      <td>Max Gufler</td>\n",
       "      <td>Austria</td>\n",
       "      <td>1946 to 1958</td>\n",
       "      <td>4</td>\n",
       "      <td>18</td>\n",
       "      <td>Poisoned and drowned four women, but suspected...</td>\n",
       "    </tr>\n",
       "    <tr>\n",
       "      <th>3</th>\n",
       "      <td>Ernesto Picchioni</td>\n",
       "      <td>Italy</td>\n",
       "      <td>1949 and earlier</td>\n",
       "      <td>4</td>\n",
       "      <td>16</td>\n",
       "      <td>Murdered people who approached his home; died ...</td>\n",
       "    </tr>\n",
       "    <tr>\n",
       "      <th>4</th>\n",
       "      <td>Baekuni</td>\n",
       "      <td>Indonesia</td>\n",
       "      <td>1993 to 2010</td>\n",
       "      <td>4</td>\n",
       "      <td>14</td>\n",
       "      <td>Pedophile who raped and killed young boys; ini...</td>\n",
       "    </tr>\n",
       "  </tbody>\n",
       "</table>\n",
       "</div>"
      ],
      "text/plain": [
       "                Name                                            Country  \\\n",
       "0     Charlie Brandt                                      United States   \n",
       "1       Robert Black  United Kingdom\\r\\nIreland (suspected)\\r\\nWest ...   \n",
       "2         Max Gufler                                            Austria   \n",
       "3  Ernesto Picchioni                                              Italy   \n",
       "4            Baekuni                                          Indonesia   \n",
       "\n",
       "       Years active  Proven victims Possible victims  \\\n",
       "0      1971 to 2004               4               29   \n",
       "1      1981 to 1986               4              18+   \n",
       "2      1946 to 1958               4               18   \n",
       "3  1949 and earlier               4               16   \n",
       "4      1993 to 2010               4               14   \n",
       "\n",
       "                                               Notes  \n",
       "0  Committed suicide by hanging after murdering h...  \n",
       "1  Convicted of kidnapping, raping and murdering ...  \n",
       "2  Poisoned and drowned four women, but suspected...  \n",
       "3  Murdered people who approached his home; died ...  \n",
       "4  Pedophile who raped and killed young boys; ini...  "
      ]
     },
     "metadata": {},
     "output_type": "display_data"
    },
    {
     "data": {
      "text/html": [
       "<div>\n",
       "<style scoped>\n",
       "    .dataframe tbody tr th:only-of-type {\n",
       "        vertical-align: middle;\n",
       "    }\n",
       "\n",
       "    .dataframe tbody tr th {\n",
       "        vertical-align: top;\n",
       "    }\n",
       "\n",
       "    .dataframe thead th {\n",
       "        text-align: right;\n",
       "    }\n",
       "</style>\n",
       "<table border=\"1\" class=\"dataframe\">\n",
       "  <thead>\n",
       "    <tr style=\"text-align: right;\">\n",
       "      <th></th>\n",
       "      <th>Name</th>\n",
       "      <th>Country</th>\n",
       "      <th>Years active</th>\n",
       "      <th>Proven victims</th>\n",
       "      <th>Possible victims</th>\n",
       "      <th>Notes</th>\n",
       "    </tr>\n",
       "  </thead>\n",
       "  <tbody>\n",
       "    <tr>\n",
       "      <th>0</th>\n",
       "      <td>Carl Eugene Watts</td>\n",
       "      <td>United States</td>\n",
       "      <td>1974 to 1982</td>\n",
       "      <td>14</td>\n",
       "      <td>80+</td>\n",
       "      <td>Believed to have killed over 80 women in multi...</td>\n",
       "    </tr>\n",
       "    <tr>\n",
       "      <th>1</th>\n",
       "      <td>Philipp Tyurin</td>\n",
       "      <td>Soviet Union</td>\n",
       "      <td>1945 to 1946</td>\n",
       "      <td>14</td>\n",
       "      <td>29</td>\n",
       "      <td>Known as the \"Leningrad Maniac\" and the \"Hellr...</td>\n",
       "    </tr>\n",
       "    <tr>\n",
       "      <th>2</th>\n",
       "      <td>Zdzisław Marchwicki</td>\n",
       "      <td>Poland</td>\n",
       "      <td>1964 to 1970</td>\n",
       "      <td>14</td>\n",
       "      <td>21+</td>\n",
       "      <td>Also known as Vampire of Zagłębie. Killed 14 w...</td>\n",
       "    </tr>\n",
       "    <tr>\n",
       "      <th>3</th>\n",
       "      <td>Monster of Florence</td>\n",
       "      <td>Italy</td>\n",
       "      <td>1968 to 1985</td>\n",
       "      <td>14</td>\n",
       "      <td>16</td>\n",
       "      <td>Unidentified killer who shot couples in lovers...</td>\n",
       "    </tr>\n",
       "    <tr>\n",
       "      <th>4</th>\n",
       "      <td>Joachim Kroll</td>\n",
       "      <td>West Germany</td>\n",
       "      <td>1955 to 1976</td>\n",
       "      <td>14</td>\n",
       "      <td>NaN</td>\n",
       "      <td>Known as the \"Ruhr Cannibal\" and \"The Duisburg...</td>\n",
       "    </tr>\n",
       "  </tbody>\n",
       "</table>\n",
       "</div>"
      ],
      "text/plain": [
       "                  Name        Country  Years active Proven victims  \\\n",
       "0    Carl Eugene Watts  United States  1974 to 1982             14   \n",
       "1       Philipp Tyurin   Soviet Union  1945 to 1946             14   \n",
       "2  Zdzisław Marchwicki         Poland  1964 to 1970             14   \n",
       "3  Monster of Florence          Italy  1968 to 1985             14   \n",
       "4        Joachim Kroll   West Germany  1955 to 1976             14   \n",
       "\n",
       "  Possible victims                                              Notes  \n",
       "0              80+  Believed to have killed over 80 women in multi...  \n",
       "1               29  Known as the \"Leningrad Maniac\" and the \"Hellr...  \n",
       "2              21+  Also known as Vampire of Zagłębie. Killed 14 w...  \n",
       "3               16  Unidentified killer who shot couples in lovers...  \n",
       "4              NaN  Known as the \"Ruhr Cannibal\" and \"The Duisburg...  "
      ]
     },
     "metadata": {},
     "output_type": "display_data"
    },
    {
     "data": {
      "text/html": [
       "<div>\n",
       "<style scoped>\n",
       "    .dataframe tbody tr th:only-of-type {\n",
       "        vertical-align: middle;\n",
       "    }\n",
       "\n",
       "    .dataframe tbody tr th {\n",
       "        vertical-align: top;\n",
       "    }\n",
       "\n",
       "    .dataframe thead th {\n",
       "        text-align: right;\n",
       "    }\n",
       "</style>\n",
       "<table border=\"1\" class=\"dataframe\">\n",
       "  <thead>\n",
       "    <tr style=\"text-align: right;\">\n",
       "      <th></th>\n",
       "      <th>Name</th>\n",
       "      <th>Country</th>\n",
       "      <th>Years active</th>\n",
       "      <th>Proven victims</th>\n",
       "      <th>Possible victims</th>\n",
       "      <th>Notes</th>\n",
       "    </tr>\n",
       "  </thead>\n",
       "  <tbody>\n",
       "    <tr>\n",
       "      <th>0</th>\n",
       "      <td>Karl Denke</td>\n",
       "      <td>Germany</td>\n",
       "      <td>1900 to 1924</td>\n",
       "      <td>30</td>\n",
       "      <td>42+</td>\n",
       "      <td>Killed and cannibalized poor travelers and hom...</td>\n",
       "    </tr>\n",
       "    <tr>\n",
       "      <th>1</th>\n",
       "      <td>Francisco das Chagas Rodrigues de Brito</td>\n",
       "      <td>Brazil</td>\n",
       "      <td>1989 to 2003</td>\n",
       "      <td>30</td>\n",
       "      <td>42</td>\n",
       "      <td>Pedophile who sexually abused, murdered and mu...</td>\n",
       "    </tr>\n",
       "    <tr>\n",
       "      <th>2</th>\n",
       "      <td>Luis Gregorio Ramírez Maestre</td>\n",
       "      <td>Colombia</td>\n",
       "      <td>2010 to 2013</td>\n",
       "      <td>30</td>\n",
       "      <td>30</td>\n",
       "      <td>Killed motorists in various municipalities bef...</td>\n",
       "    </tr>\n",
       "    <tr>\n",
       "      <th>3</th>\n",
       "      <td>David Thabo Simelane</td>\n",
       "      <td>Swaziland</td>\n",
       "      <td>2000 to 2001</td>\n",
       "      <td>28</td>\n",
       "      <td>45</td>\n",
       "      <td>Sexually assaulted women he befriended in fore...</td>\n",
       "    </tr>\n",
       "    <tr>\n",
       "      <th>4</th>\n",
       "      <td>Zhang Jun</td>\n",
       "      <td>China</td>\n",
       "      <td>1993 to 2000</td>\n",
       "      <td>28</td>\n",
       "      <td>28</td>\n",
       "      <td>Robbed 22 stores in several Chinese provinces,...</td>\n",
       "    </tr>\n",
       "  </tbody>\n",
       "</table>\n",
       "</div>"
      ],
      "text/plain": [
       "                                      Name    Country  Years active  \\\n",
       "0                               Karl Denke    Germany  1900 to 1924   \n",
       "1  Francisco das Chagas Rodrigues de Brito     Brazil  1989 to 2003   \n",
       "2            Luis Gregorio Ramírez Maestre   Colombia  2010 to 2013   \n",
       "3                     David Thabo Simelane  Swaziland  2000 to 2001   \n",
       "4                                Zhang Jun      China  1993 to 2000   \n",
       "\n",
       "   Proven victims Possible victims  \\\n",
       "0              30              42+   \n",
       "1              30               42   \n",
       "2              30               30   \n",
       "3              28               45   \n",
       "4              28               28   \n",
       "\n",
       "                                               Notes  \n",
       "0  Killed and cannibalized poor travelers and hom...  \n",
       "1  Pedophile who sexually abused, murdered and mu...  \n",
       "2  Killed motorists in various municipalities bef...  \n",
       "3  Sexually assaulted women he befriended in fore...  \n",
       "4  Robbed 22 stores in several Chinese provinces,...  "
      ]
     },
     "metadata": {},
     "output_type": "display_data"
    },
    {
     "data": {
      "text/html": [
       "<div>\n",
       "<style scoped>\n",
       "    .dataframe tbody tr th:only-of-type {\n",
       "        vertical-align: middle;\n",
       "    }\n",
       "\n",
       "    .dataframe tbody tr th {\n",
       "        vertical-align: top;\n",
       "    }\n",
       "\n",
       "    .dataframe thead th {\n",
       "        text-align: right;\n",
       "    }\n",
       "</style>\n",
       "<table border=\"1\" class=\"dataframe\">\n",
       "  <thead>\n",
       "    <tr style=\"text-align: right;\">\n",
       "      <th></th>\n",
       "      <th>Name</th>\n",
       "      <th>Country</th>\n",
       "      <th>Years active</th>\n",
       "      <th>Proven victims</th>\n",
       "      <th>Possible victims</th>\n",
       "      <th>Notes</th>\n",
       "    </tr>\n",
       "  </thead>\n",
       "  <tbody>\n",
       "    <tr>\n",
       "      <th>0</th>\n",
       "      <td>Luis Garavito</td>\n",
       "      <td>Colombia\\r\\nEcuador\\r\\nVenezuela</td>\n",
       "      <td>1992 to 1999</td>\n",
       "      <td>138</td>\n",
       "      <td>172–300+</td>\n",
       "      <td>Child-murderer, torture-killer, and rapist kno...</td>\n",
       "    </tr>\n",
       "    <tr>\n",
       "      <th>1</th>\n",
       "      <td>Pedro López</td>\n",
       "      <td>Colombia\\r\\nPeru\\r\\nEcuador</td>\n",
       "      <td>1969 to 1979</td>\n",
       "      <td>110</td>\n",
       "      <td>300+</td>\n",
       "      <td>Child-murderer and rapist, known as \"The Monst...</td>\n",
       "    </tr>\n",
       "    <tr>\n",
       "      <th>2</th>\n",
       "      <td>Javed Iqbal</td>\n",
       "      <td>Pakistan</td>\n",
       "      <td>1998 to 1999</td>\n",
       "      <td>100</td>\n",
       "      <td>100</td>\n",
       "      <td>Child-murderer and rapist, known as \"Kukri\", I...</td>\n",
       "    </tr>\n",
       "    <tr>\n",
       "      <th>3</th>\n",
       "      <td>Mikhail Popkov</td>\n",
       "      <td>Russia</td>\n",
       "      <td>1992 to 2010</td>\n",
       "      <td>83</td>\n",
       "      <td>83+</td>\n",
       "      <td>Serial rapist-killer nicknamed \"The Werewolf\",...</td>\n",
       "    </tr>\n",
       "    <tr>\n",
       "      <th>4</th>\n",
       "      <td>Daniel Camargo Barbosa</td>\n",
       "      <td>Colombia\\r\\nEcuador\\r\\nBrazil (alleged)</td>\n",
       "      <td>1974 to 1986</td>\n",
       "      <td>72</td>\n",
       "      <td>180</td>\n",
       "      <td>Child and woman murderer, believed to have pos...</td>\n",
       "    </tr>\n",
       "  </tbody>\n",
       "</table>\n",
       "</div>"
      ],
      "text/plain": [
       "                     Name                                  Country  \\\n",
       "0           Luis Garavito         Colombia\\r\\nEcuador\\r\\nVenezuela   \n",
       "1             Pedro López              Colombia\\r\\nPeru\\r\\nEcuador   \n",
       "2             Javed Iqbal                                 Pakistan   \n",
       "3          Mikhail Popkov                                   Russia   \n",
       "4  Daniel Camargo Barbosa  Colombia\\r\\nEcuador\\r\\nBrazil (alleged)   \n",
       "\n",
       "   Years active  Proven victims Possible victims  \\\n",
       "0  1992 to 1999             138         172–300+   \n",
       "1  1969 to 1979             110             300+   \n",
       "2  1998 to 1999             100              100   \n",
       "3  1992 to 2010              83              83+   \n",
       "4  1974 to 1986              72              180   \n",
       "\n",
       "                                               Notes  \n",
       "0  Child-murderer, torture-killer, and rapist kno...  \n",
       "1  Child-murderer and rapist, known as \"The Monst...  \n",
       "2  Child-murderer and rapist, known as \"Kukri\", I...  \n",
       "3  Serial rapist-killer nicknamed \"The Werewolf\",...  \n",
       "4  Child and woman murderer, believed to have pos...  "
      ]
     },
     "metadata": {},
     "output_type": "display_data"
    },
    {
     "name": "stdout",
     "output_type": "stream",
     "text": [
      "<class 'pandas.core.frame.DataFrame'>\n",
      "RangeIndex: 29 entries, 0 to 28\n",
      "Data columns (total 6 columns):\n",
      " #   Column            Non-Null Count  Dtype \n",
      "---  ------            --------------  ----- \n",
      " 0   Name              29 non-null     object\n",
      " 1   Country           29 non-null     object\n",
      " 2   Years active      29 non-null     object\n",
      " 3   Proven victims    29 non-null     int64 \n",
      " 4   Possible victims  29 non-null     object\n",
      " 5   Notes             29 non-null     object\n",
      "dtypes: int64(1), object(5)\n",
      "memory usage: 1.5+ KB\n"
     ]
    },
    {
     "data": {
      "text/plain": [
       "None"
      ]
     },
     "metadata": {},
     "output_type": "display_data"
    },
    {
     "name": "stdout",
     "output_type": "stream",
     "text": [
      "<class 'pandas.core.frame.DataFrame'>\n",
      "RangeIndex: 164 entries, 0 to 163\n",
      "Data columns (total 6 columns):\n",
      " #   Column            Non-Null Count  Dtype \n",
      "---  ------            --------------  ----- \n",
      " 0   Name              164 non-null    object\n",
      " 1   Country           164 non-null    object\n",
      " 2   Years active      164 non-null    object\n",
      " 3   Proven victims    164 non-null    object\n",
      " 4   Possible victims  98 non-null     object\n",
      " 5   Notes             164 non-null    object\n",
      "dtypes: object(6)\n",
      "memory usage: 7.8+ KB\n"
     ]
    },
    {
     "data": {
      "text/plain": [
       "None"
      ]
     },
     "metadata": {},
     "output_type": "display_data"
    },
    {
     "name": "stdout",
     "output_type": "stream",
     "text": [
      "<class 'pandas.core.frame.DataFrame'>\n",
      "RangeIndex: 78 entries, 0 to 77\n",
      "Data columns (total 6 columns):\n",
      " #   Column            Non-Null Count  Dtype \n",
      "---  ------            --------------  ----- \n",
      " 0   Name              78 non-null     object\n",
      " 1   Country           78 non-null     object\n",
      " 2   Years active      78 non-null     object\n",
      " 3   Proven victims    78 non-null     int64 \n",
      " 4   Possible victims  76 non-null     object\n",
      " 5   Notes             78 non-null     object\n",
      "dtypes: int64(1), object(5)\n",
      "memory usage: 3.8+ KB\n"
     ]
    },
    {
     "data": {
      "text/plain": [
       "None"
      ]
     },
     "metadata": {},
     "output_type": "display_data"
    },
    {
     "name": "stdout",
     "output_type": "stream",
     "text": [
      "<class 'pandas.core.frame.DataFrame'>\n",
      "RangeIndex: 34 entries, 0 to 33\n",
      "Data columns (total 6 columns):\n",
      " #   Column            Non-Null Count  Dtype \n",
      "---  ------            --------------  ----- \n",
      " 0   Name              34 non-null     object\n",
      " 1   Country           34 non-null     object\n",
      " 2   Years active      34 non-null     object\n",
      " 3   Proven victims    34 non-null     int64 \n",
      " 4   Possible victims  34 non-null     object\n",
      " 5   Notes             34 non-null     object\n",
      "dtypes: int64(1), object(5)\n",
      "memory usage: 1.7+ KB\n"
     ]
    },
    {
     "data": {
      "text/plain": [
       "None"
      ]
     },
     "metadata": {},
     "output_type": "display_data"
    }
   ],
   "source": [
    "# import data\n",
    "less_than_5 = pd.read_csv('Lessthan_5_victim_count.csv', sep = ',')\n",
    "from_5_to_14 = pd.read_csv('5_to_14_victim_count.csv', sep = ',')\n",
    "from_15_to_30 = pd.read_csv('15_to_30_victim_count.csv', sep = ',')\n",
    "highest = pd.read_csv('Highest_victim_count.csv', sep = ',')\n",
    "\n",
    "# Display first rows in all data\n",
    "display(less_than_5.head())\n",
    "display(from_5_to_14.head())\n",
    "display(from_15_to_30.head())\n",
    "display(highest.head())\n",
    "\n",
    "# Display info about dataframes\n",
    "display(less_than_5.info())\n",
    "display(from_5_to_14.info())\n",
    "display(from_15_to_30.info())\n",
    "display(highest.info())"
   ]
  },
  {
   "cell_type": "code",
   "execution_count": 3,
   "id": "4775a8c3",
   "metadata": {},
   "outputs": [
    {
     "data": {
      "text/html": [
       "<div>\n",
       "<style scoped>\n",
       "    .dataframe tbody tr th:only-of-type {\n",
       "        vertical-align: middle;\n",
       "    }\n",
       "\n",
       "    .dataframe tbody tr th {\n",
       "        vertical-align: top;\n",
       "    }\n",
       "\n",
       "    .dataframe thead th {\n",
       "        text-align: right;\n",
       "    }\n",
       "</style>\n",
       "<table border=\"1\" class=\"dataframe\">\n",
       "  <thead>\n",
       "    <tr style=\"text-align: right;\">\n",
       "      <th></th>\n",
       "      <th>Name</th>\n",
       "      <th>Country</th>\n",
       "      <th>Years active</th>\n",
       "      <th>Proven victims</th>\n",
       "      <th>Possible victims</th>\n",
       "      <th>Notes</th>\n",
       "    </tr>\n",
       "  </thead>\n",
       "  <tbody>\n",
       "    <tr>\n",
       "      <th>0</th>\n",
       "      <td>Charlie Brandt</td>\n",
       "      <td>United States</td>\n",
       "      <td>1971 to 2004</td>\n",
       "      <td>4</td>\n",
       "      <td>29</td>\n",
       "      <td>Committed suicide by hanging after murdering h...</td>\n",
       "    </tr>\n",
       "    <tr>\n",
       "      <th>1</th>\n",
       "      <td>Robert Black</td>\n",
       "      <td>United Kingdom\\r\\nIreland (suspected)\\r\\nWest ...</td>\n",
       "      <td>1981 to 1986</td>\n",
       "      <td>4</td>\n",
       "      <td>18+</td>\n",
       "      <td>Convicted of kidnapping, raping and murdering ...</td>\n",
       "    </tr>\n",
       "    <tr>\n",
       "      <th>2</th>\n",
       "      <td>Max Gufler</td>\n",
       "      <td>Austria</td>\n",
       "      <td>1946 to 1958</td>\n",
       "      <td>4</td>\n",
       "      <td>18</td>\n",
       "      <td>Poisoned and drowned four women, but suspected...</td>\n",
       "    </tr>\n",
       "    <tr>\n",
       "      <th>3</th>\n",
       "      <td>Ernesto Picchioni</td>\n",
       "      <td>Italy</td>\n",
       "      <td>1949 and earlier</td>\n",
       "      <td>4</td>\n",
       "      <td>16</td>\n",
       "      <td>Murdered people who approached his home; died ...</td>\n",
       "    </tr>\n",
       "    <tr>\n",
       "      <th>4</th>\n",
       "      <td>Baekuni</td>\n",
       "      <td>Indonesia</td>\n",
       "      <td>1993 to 2010</td>\n",
       "      <td>4</td>\n",
       "      <td>14</td>\n",
       "      <td>Pedophile who raped and killed young boys; ini...</td>\n",
       "    </tr>\n",
       "  </tbody>\n",
       "</table>\n",
       "</div>"
      ],
      "text/plain": [
       "                Name                                            Country  \\\n",
       "0     Charlie Brandt                                      United States   \n",
       "1       Robert Black  United Kingdom\\r\\nIreland (suspected)\\r\\nWest ...   \n",
       "2         Max Gufler                                            Austria   \n",
       "3  Ernesto Picchioni                                              Italy   \n",
       "4            Baekuni                                          Indonesia   \n",
       "\n",
       "       Years active Proven victims Possible victims  \\\n",
       "0      1971 to 2004              4               29   \n",
       "1      1981 to 1986              4              18+   \n",
       "2      1946 to 1958              4               18   \n",
       "3  1949 and earlier              4               16   \n",
       "4      1993 to 2010              4               14   \n",
       "\n",
       "                                               Notes  \n",
       "0  Committed suicide by hanging after murdering h...  \n",
       "1  Convicted of kidnapping, raping and murdering ...  \n",
       "2  Poisoned and drowned four women, but suspected...  \n",
       "3  Murdered people who approached his home; died ...  \n",
       "4  Pedophile who raped and killed young boys; ini...  "
      ]
     },
     "metadata": {},
     "output_type": "display_data"
    },
    {
     "name": "stdout",
     "output_type": "stream",
     "text": [
      "<class 'pandas.core.frame.DataFrame'>\n",
      "Int64Index: 305 entries, 0 to 33\n",
      "Data columns (total 6 columns):\n",
      " #   Column            Non-Null Count  Dtype \n",
      "---  ------            --------------  ----- \n",
      " 0   Name              305 non-null    object\n",
      " 1   Country           305 non-null    object\n",
      " 2   Years active      305 non-null    object\n",
      " 3   Proven victims    305 non-null    object\n",
      " 4   Possible victims  237 non-null    object\n",
      " 5   Notes             305 non-null    object\n",
      "dtypes: object(6)\n",
      "memory usage: 16.7+ KB\n"
     ]
    }
   ],
   "source": [
    "# collect all dataset\n",
    "serial_killers = pd.concat([less_than_5, from_5_to_14, from_15_to_30, highest])\n",
    "display(serial_killers.head())\n",
    "serial_killers.info()"
   ]
  },
  {
   "cell_type": "markdown",
   "id": "58227e61",
   "metadata": {},
   "source": [
    "## 1. Analysis data and organise the data"
   ]
  },
  {
   "cell_type": "code",
   "execution_count": 4,
   "id": "edcceb89",
   "metadata": {},
   "outputs": [
    {
     "name": "stdout",
     "output_type": "stream",
     "text": [
      "['1971 to 2004' '1981 to 1986' '1946 to 1958' '1949 and earlier'\n",
      " '1993 to 2010' '1985 to 1986' '1912 and earlier' '1999' '2014 to 2015'\n",
      " '1974 to 1978' '1960 to 1964' '1978 to 1996' '1989 to 1990'\n",
      " '1991 to 2006' '1986' '1986 to 1987' '1909 to 1928' '1947 to 1952'\n",
      " '2009 to 2010' '1979 to 1980' '2007 to 2013' '1982 to 1988'\n",
      " '1973 to 1975' '1939 to 1940' '2008' '1924 to 1932' '1990 to 1996' '1995'\n",
      " '1974 to 1982' '1945 to 1946' '1964 to 1970' '1968 to 1985'\n",
      " '1955 to 1976' '1972 to 1989' '1974 to 1975' '1991' '1998 to 2001'\n",
      " '1995 to 1999' '2002 to 2004' '2004 to 2006' '2005' '1930s to 1947'\n",
      " '1900? to 1908?' '1934 to 1938' '2003' '1984 to 1985' '1990s to 2007'\n",
      " '1975 to 1980' '1995 to 2015' '1972 to 1973' '1962 to 1964'\n",
      " '1977 to 1993' '1979 to 1986' '1978 to 1981' '1984 to 1986'\n",
      " '1987 to 2002' '2002 to 2003' '1982 to 1989' '1990 to 2006' '2007'\n",
      " '2007 to 2008' '1980s to 1988' '1908 to 1935' '1953 to 1982'\n",
      " '1986 to 1992' '1991 to 2005' '2000 to 2002' '1978 to 1983'\n",
      " '1977 to 1978' '1975 to 1976' '1990 to 1998' '1975' '1998 to 2003'\n",
      " '1980 to 1981' '1985' 'c.1900 to 1912' '1992 to 1999'\n",
      " 'late 1990s to 2006' '2008 to 2012' '1974 to 1992' '1964 to 1975'\n",
      " '1991 to 1992' '1927 to 1954' '1915 to 1919' '2003 to 2005'\n",
      " '2007 to 2009' '1993 to 1999' '1987 to 1994' '1971' '1992 to 1995'\n",
      " '1938 to 1942' '2008 and earlier' '1997 to 1998' '1998 to 2002'\n",
      " '1933 to 1936' '2000 to 2003' '1946 to 1947' '1983' '1996 to 2011'\n",
      " '1985 to 2007' '1984' '1990 to 1997' '2004 to 2008' '1964 to 1973'\n",
      " '1974 to 2004' '1997 to present' '1905 to 1908' '1990 to 1994'\n",
      " '1977 to 1979' '1995 to 1998' '2004 to 2012' '2006 to 2008'\n",
      " '1996 to 1998' '1980 to 1982' '1974 to 2006' '1986 to 1989'\n",
      " '1913 to 1930' '1986 to 1994' '1984 to 1992' '1989 to 1993'\n",
      " '1913 to 1920' '1966 to 1992' '1981 to 1996' '1958 to 1983'\n",
      " '2009 to 2012' '1988 to 1989' '2015 to 2016' '1996 to 2000' '2000s'\n",
      " '1958 to 1963' '1977 to 1980' '1928? to 1946' '1990 to 1995'\n",
      " '1971 to 1979' '1982 to 1983' '1980 to 1988' '1918 to 1919'\n",
      " '1965 to 1987' '2010 to 2017' '2007 to 2018' '1980 and earlier'\n",
      " '1964 to 1971' '1991 to 1999' '1990s' '1980s to 2010s' '1979 to 1981'\n",
      " '1997' '1960 to 1980' '2003 to 2016' '1981 to 2004' '2002' '2002 to 2018'\n",
      " '2016 to 2018' '1976 to 1977' '1980 to 1999' '1950s' '2005 to 2006'\n",
      " '1990s to 2015' '1986 to 1990' '2000 to 2006' '1977 to 1994'\n",
      " '1978 to 2002' '1962 to 1977' '1957 to 2009' '1915 to 1929' '2006'\n",
      " '1981 to 1987' '1948 to 1951' '1989 to 1992' '1976 to 1996'\n",
      " '30 June 1983 to 23 July 1983' '1900 to 1924' '1989 to 2003'\n",
      " '2010 to 2013' '2000 to 2001' '1993 to 2000' '1996 to 1997'\n",
      " '1939 to 1951' '1973 to 1979' '1985 to 1989' '1918 to 1924'\n",
      " '1912 to 1916' '1981 to 1985' '1989 to 2006' '1997 to 2006'\n",
      " '1926 to 1927' '1977 to 1995' '1999 to 2003' '1965 to 1977'\n",
      " '1917 to 1935' '2003 to 2004' '1880 to 1908' '1960s to 1970s'\n",
      " '2007 to 2012' '2005 to 2009' '1991 to 1996' '1982 to 1984'\n",
      " '1986 to 1996' '1988 to 1993' '1998 to 2006' '2008 to 2011'\n",
      " '1920 to 1926' '1998' '1994 to 2002' '1974' '1984 to 1987' '1996 to 2002'\n",
      " '1994 to 1995' '2001' '2001 to 2003' '2004' '1992 to 2002' '2002 to 2010'\n",
      " '1971 to 1983' '1987 to 2001' '1978 to 1991' '1987 to 1988'\n",
      " '2008 to 2009' '1975 to 1998' '1948 to 1980' '1969 to 1982'\n",
      " '1974 to 1987' '1997 to 1999' '2008 to 2015' '1911' '1980 to 1983'\n",
      " '1986 to 1999' '1987 to 1998' '1950s to 1956' '1983 to 1997'\n",
      " '1978 to 2001' '1933 to 1935' '1969 to 1979' '1998 to 1999'\n",
      " '1992 to 2010' '1974 to 1986' '1967 to 2003' '1970 to 2005'\n",
      " '1981 to 1983' '1978 to 1990' '1989 to 1996' '1934 to 1935' '1982'\n",
      " '1983 to 2002' '1982 to 2000' '1992 to 2006' '1995 to 2003'\n",
      " '1986 to 1997' '1965 to 1968' '2011 to 2014' '1984 to 2005'\n",
      " '1971 to 1985' '1906 and earlier' '1920 to 1930' '1972 to 1978'\n",
      " '1907 to 1934' '1921 to 1923' '1982 to 1999' '1999 to 2006'\n",
      " '2011 to 2012']\n"
     ]
    }
   ],
   "source": [
    "# show unique years active\n",
    "print(serial_killers['Years active'].unique())"
   ]
  },
  {
   "cell_type": "code",
   "execution_count": 5,
   "id": "ef130b77",
   "metadata": {},
   "outputs": [
    {
     "name": "stdout",
     "output_type": "stream",
     "text": [
      "Add column of start and end year of activity\n"
     ]
    },
    {
     "data": {
      "text/html": [
       "<div>\n",
       "<style scoped>\n",
       "    .dataframe tbody tr th:only-of-type {\n",
       "        vertical-align: middle;\n",
       "    }\n",
       "\n",
       "    .dataframe tbody tr th {\n",
       "        vertical-align: top;\n",
       "    }\n",
       "\n",
       "    .dataframe thead th {\n",
       "        text-align: right;\n",
       "    }\n",
       "</style>\n",
       "<table border=\"1\" class=\"dataframe\">\n",
       "  <thead>\n",
       "    <tr style=\"text-align: right;\">\n",
       "      <th></th>\n",
       "      <th>Name</th>\n",
       "      <th>Country</th>\n",
       "      <th>Years active</th>\n",
       "      <th>Proven victims</th>\n",
       "      <th>Possible victims</th>\n",
       "      <th>Notes</th>\n",
       "      <th>start_year</th>\n",
       "      <th>end_year</th>\n",
       "    </tr>\n",
       "  </thead>\n",
       "  <tbody>\n",
       "    <tr>\n",
       "      <th>0</th>\n",
       "      <td>Charlie Brandt</td>\n",
       "      <td>United States</td>\n",
       "      <td>1971 to 2004</td>\n",
       "      <td>4</td>\n",
       "      <td>29</td>\n",
       "      <td>Committed suicide by hanging after murdering h...</td>\n",
       "      <td>1971.0</td>\n",
       "      <td>2004.0</td>\n",
       "    </tr>\n",
       "    <tr>\n",
       "      <th>1</th>\n",
       "      <td>Robert Black</td>\n",
       "      <td>United Kingdom\\r\\nIreland (suspected)\\r\\nWest ...</td>\n",
       "      <td>1981 to 1986</td>\n",
       "      <td>4</td>\n",
       "      <td>18+</td>\n",
       "      <td>Convicted of kidnapping, raping and murdering ...</td>\n",
       "      <td>1981.0</td>\n",
       "      <td>1986.0</td>\n",
       "    </tr>\n",
       "    <tr>\n",
       "      <th>2</th>\n",
       "      <td>Max Gufler</td>\n",
       "      <td>Austria</td>\n",
       "      <td>1946 to 1958</td>\n",
       "      <td>4</td>\n",
       "      <td>18</td>\n",
       "      <td>Poisoned and drowned four women, but suspected...</td>\n",
       "      <td>1946.0</td>\n",
       "      <td>1958.0</td>\n",
       "    </tr>\n",
       "    <tr>\n",
       "      <th>3</th>\n",
       "      <td>Ernesto Picchioni</td>\n",
       "      <td>Italy</td>\n",
       "      <td>1949 and earlier</td>\n",
       "      <td>4</td>\n",
       "      <td>16</td>\n",
       "      <td>Murdered people who approached his home; died ...</td>\n",
       "      <td>NaN</td>\n",
       "      <td>1949.0</td>\n",
       "    </tr>\n",
       "    <tr>\n",
       "      <th>4</th>\n",
       "      <td>Baekuni</td>\n",
       "      <td>Indonesia</td>\n",
       "      <td>1993 to 2010</td>\n",
       "      <td>4</td>\n",
       "      <td>14</td>\n",
       "      <td>Pedophile who raped and killed young boys; ini...</td>\n",
       "      <td>1993.0</td>\n",
       "      <td>2010.0</td>\n",
       "    </tr>\n",
       "  </tbody>\n",
       "</table>\n",
       "</div>"
      ],
      "text/plain": [
       "                Name                                            Country  \\\n",
       "0     Charlie Brandt                                      United States   \n",
       "1       Robert Black  United Kingdom\\r\\nIreland (suspected)\\r\\nWest ...   \n",
       "2         Max Gufler                                            Austria   \n",
       "3  Ernesto Picchioni                                              Italy   \n",
       "4            Baekuni                                          Indonesia   \n",
       "\n",
       "       Years active Proven victims Possible victims  \\\n",
       "0      1971 to 2004              4               29   \n",
       "1      1981 to 1986              4              18+   \n",
       "2      1946 to 1958              4               18   \n",
       "3  1949 and earlier              4               16   \n",
       "4      1993 to 2010              4               14   \n",
       "\n",
       "                                               Notes  start_year  end_year  \n",
       "0  Committed suicide by hanging after murdering h...      1971.0    2004.0  \n",
       "1  Convicted of kidnapping, raping and murdering ...      1981.0    1986.0  \n",
       "2  Poisoned and drowned four women, but suspected...      1946.0    1958.0  \n",
       "3  Murdered people who approached his home; died ...         NaN    1949.0  \n",
       "4  Pedophile who raped and killed young boys; ini...      1993.0    2010.0  "
      ]
     },
     "metadata": {},
     "output_type": "display_data"
    },
    {
     "name": "stdout",
     "output_type": "stream",
     "text": [
      "Add column of start and end year of activity\n"
     ]
    },
    {
     "data": {
      "text/html": [
       "<div>\n",
       "<style scoped>\n",
       "    .dataframe tbody tr th:only-of-type {\n",
       "        vertical-align: middle;\n",
       "    }\n",
       "\n",
       "    .dataframe tbody tr th {\n",
       "        vertical-align: top;\n",
       "    }\n",
       "\n",
       "    .dataframe thead th {\n",
       "        text-align: right;\n",
       "    }\n",
       "</style>\n",
       "<table border=\"1\" class=\"dataframe\">\n",
       "  <thead>\n",
       "    <tr style=\"text-align: right;\">\n",
       "      <th></th>\n",
       "      <th>Name</th>\n",
       "      <th>Country</th>\n",
       "      <th>Years active</th>\n",
       "      <th>Proven victims</th>\n",
       "      <th>Possible victims</th>\n",
       "      <th>Notes</th>\n",
       "      <th>start_year</th>\n",
       "      <th>end_year</th>\n",
       "      <th>time_of_active</th>\n",
       "    </tr>\n",
       "  </thead>\n",
       "  <tbody>\n",
       "    <tr>\n",
       "      <th>0</th>\n",
       "      <td>Charlie Brandt</td>\n",
       "      <td>United States</td>\n",
       "      <td>1971 to 2004</td>\n",
       "      <td>4</td>\n",
       "      <td>29</td>\n",
       "      <td>Committed suicide by hanging after murdering h...</td>\n",
       "      <td>1971.0</td>\n",
       "      <td>2004.0</td>\n",
       "      <td>33.0</td>\n",
       "    </tr>\n",
       "    <tr>\n",
       "      <th>1</th>\n",
       "      <td>Robert Black</td>\n",
       "      <td>United Kingdom\\r\\nIreland (suspected)\\r\\nWest ...</td>\n",
       "      <td>1981 to 1986</td>\n",
       "      <td>4</td>\n",
       "      <td>18+</td>\n",
       "      <td>Convicted of kidnapping, raping and murdering ...</td>\n",
       "      <td>1981.0</td>\n",
       "      <td>1986.0</td>\n",
       "      <td>5.0</td>\n",
       "    </tr>\n",
       "    <tr>\n",
       "      <th>2</th>\n",
       "      <td>Max Gufler</td>\n",
       "      <td>Austria</td>\n",
       "      <td>1946 to 1958</td>\n",
       "      <td>4</td>\n",
       "      <td>18</td>\n",
       "      <td>Poisoned and drowned four women, but suspected...</td>\n",
       "      <td>1946.0</td>\n",
       "      <td>1958.0</td>\n",
       "      <td>12.0</td>\n",
       "    </tr>\n",
       "    <tr>\n",
       "      <th>3</th>\n",
       "      <td>Ernesto Picchioni</td>\n",
       "      <td>Italy</td>\n",
       "      <td>1949 and earlier</td>\n",
       "      <td>4</td>\n",
       "      <td>16</td>\n",
       "      <td>Murdered people who approached his home; died ...</td>\n",
       "      <td>NaN</td>\n",
       "      <td>1949.0</td>\n",
       "      <td>NaN</td>\n",
       "    </tr>\n",
       "    <tr>\n",
       "      <th>4</th>\n",
       "      <td>Baekuni</td>\n",
       "      <td>Indonesia</td>\n",
       "      <td>1993 to 2010</td>\n",
       "      <td>4</td>\n",
       "      <td>14</td>\n",
       "      <td>Pedophile who raped and killed young boys; ini...</td>\n",
       "      <td>1993.0</td>\n",
       "      <td>2010.0</td>\n",
       "      <td>17.0</td>\n",
       "    </tr>\n",
       "  </tbody>\n",
       "</table>\n",
       "</div>"
      ],
      "text/plain": [
       "                Name                                            Country  \\\n",
       "0     Charlie Brandt                                      United States   \n",
       "1       Robert Black  United Kingdom\\r\\nIreland (suspected)\\r\\nWest ...   \n",
       "2         Max Gufler                                            Austria   \n",
       "3  Ernesto Picchioni                                              Italy   \n",
       "4            Baekuni                                          Indonesia   \n",
       "\n",
       "       Years active Proven victims Possible victims  \\\n",
       "0      1971 to 2004              4               29   \n",
       "1      1981 to 1986              4              18+   \n",
       "2      1946 to 1958              4               18   \n",
       "3  1949 and earlier              4               16   \n",
       "4      1993 to 2010              4               14   \n",
       "\n",
       "                                               Notes  start_year  end_year  \\\n",
       "0  Committed suicide by hanging after murdering h...      1971.0    2004.0   \n",
       "1  Convicted of kidnapping, raping and murdering ...      1981.0    1986.0   \n",
       "2  Poisoned and drowned four women, but suspected...      1946.0    1958.0   \n",
       "3  Murdered people who approached his home; died ...         NaN    1949.0   \n",
       "4  Pedophile who raped and killed young boys; ini...      1993.0    2010.0   \n",
       "\n",
       "   time_of_active  \n",
       "0            33.0  \n",
       "1             5.0  \n",
       "2            12.0  \n",
       "3             NaN  \n",
       "4            17.0  "
      ]
     },
     "metadata": {},
     "output_type": "display_data"
    }
   ],
   "source": [
    "# for case where precise date is given\n",
    "def return_year_from_date(text):\n",
    "    temp = 0\n",
    "    start = 0\n",
    "    value = ''\n",
    "    for i in text:\n",
    "        if(i.isnumeric()):\n",
    "            temp = temp + 1\n",
    "            value = value + i\n",
    "        if(temp == 4):\n",
    "            start = int(value)\n",
    "            break\n",
    "        elif(not i.isnumeric() and temp != 4):\n",
    "            temp = 0\n",
    "            value = ''\n",
    "    return start, int(text[-4:])\n",
    "\n",
    "def return_start_end_year(text):\n",
    "    start = 0\n",
    "    end = 0\n",
    "    if (len(text) == 4):\n",
    "        start = int(text)\n",
    "        end = int(text)\n",
    "    elif (len(text) == 5):\n",
    "        start = int(text[:4])\n",
    "        if (text[-1] == 's'):\n",
    "            end = start + 10\n",
    "        elif (text[-1] == '?'):\n",
    "            end = start\n",
    "        else:\n",
    "            print(\"there is an error, such a case is not analysed\")\n",
    "    elif ('to' in text and text[2] != ' '):\n",
    "        if ('c.' in text):\n",
    "            start = int(text[2:6])\n",
    "        elif ('late' in text):\n",
    "            start = int(text[5:9])\n",
    "        else:\n",
    "            start = int(text[:4])\n",
    "        if ('present' in text):\n",
    "            end = None\n",
    "        else:\n",
    "            if (text[-1] == 's' or text[-1] == '?'):\n",
    "                end = int(text[-5:-1])\n",
    "            else:\n",
    "                end = int(text[-4:])\n",
    "    elif ('late' in text):\n",
    "            start = int(text[5:9])\n",
    "            end = int(text[5:9])\n",
    "    elif ('earlier' in text):\n",
    "        start = None\n",
    "        if ('c.' in text):\n",
    "            end = int(text[2:6])\n",
    "        else:\n",
    "            end = int(text[:4])\n",
    "    else:\n",
    "        start, end = return_year_from_date(text)\n",
    "\n",
    "    return start, end\n",
    "\n",
    "# define two new columns\n",
    "def start_end_year_of_active(row):\n",
    "    \"\"\"\n",
    "    if there is only year - start and end is the same and it is that year\n",
    "    if there is year to year - start is first year and second is end year\n",
    "    if there is year and ealier - start is null and end is year\n",
    "    if there is a '?' or 'c.' sign - it is analysis as it will not be there\n",
    "    if there is a 's' - it is take all 10 years, example 2000s - start is 2000 and is 2010\n",
    "    if there is year to present - start is a year and is null\n",
    "    if late 1990s (or other with late) - start is 1996 end 2000\n",
    "    \"\"\"\n",
    "    row['start_year'], row['end_year'] = return_start_end_year(row['Years active'])\n",
    "    return row\n",
    "\n",
    "# define how long killer is acitve\n",
    "def time_of_active(row):\n",
    "    if((row['end_year'] is not None) and (row['start_year'] is not None)):\n",
    "        row['time_of_active'] = row['end_year'] - row['start_year']\n",
    "    else:\n",
    "        row['time_of_active'] = None\n",
    "    return row\n",
    "\n",
    "# add columns\n",
    "serial_killers = serial_killers.apply(lambda row: start_end_year_of_active(row), axis = 1)\n",
    "print(\"Add column of start and end year of activity\")\n",
    "display(serial_killers.head())\n",
    "serial_killers = serial_killers.apply(lambda row: time_of_active(row), axis = 1)\n",
    "print(\"Add column of start and end year of activity\")\n",
    "display(serial_killers.head())"
   ]
  },
  {
   "cell_type": "code",
   "execution_count": 6,
   "id": "fa8e26f8",
   "metadata": {},
   "outputs": [
    {
     "data": {
      "text/plain": [
       "array([33.,  5., 12., nan, 17.,  1.,  0.,  4., 18., 15., 19.,  6.,  2.,\n",
       "        8., 21.,  3., 20., 16.,  7., 27., 29., 14., 11., 22.,  9., 30.,\n",
       "       32., 26., 25., 10., 13., 23., 24., 52., 28., 36., 35.])"
      ]
     },
     "metadata": {},
     "output_type": "display_data"
    }
   ],
   "source": [
    "# show unique time_of_active\n",
    "display(serial_killers['time_of_active'].unique())"
   ]
  },
  {
   "cell_type": "code",
   "execution_count": 7,
   "id": "34853481",
   "metadata": {},
   "outputs": [
    {
     "name": "stdout",
     "output_type": "stream",
     "text": [
      "Add column of activite time range\n"
     ]
    },
    {
     "data": {
      "text/html": [
       "<div>\n",
       "<style scoped>\n",
       "    .dataframe tbody tr th:only-of-type {\n",
       "        vertical-align: middle;\n",
       "    }\n",
       "\n",
       "    .dataframe tbody tr th {\n",
       "        vertical-align: top;\n",
       "    }\n",
       "\n",
       "    .dataframe thead th {\n",
       "        text-align: right;\n",
       "    }\n",
       "</style>\n",
       "<table border=\"1\" class=\"dataframe\">\n",
       "  <thead>\n",
       "    <tr style=\"text-align: right;\">\n",
       "      <th></th>\n",
       "      <th>Name</th>\n",
       "      <th>Country</th>\n",
       "      <th>Years active</th>\n",
       "      <th>Proven victims</th>\n",
       "      <th>Possible victims</th>\n",
       "      <th>Notes</th>\n",
       "      <th>start_year</th>\n",
       "      <th>end_year</th>\n",
       "      <th>time_of_active</th>\n",
       "      <th>time_of_active_range</th>\n",
       "    </tr>\n",
       "  </thead>\n",
       "  <tbody>\n",
       "    <tr>\n",
       "      <th>0</th>\n",
       "      <td>Charlie Brandt</td>\n",
       "      <td>United States</td>\n",
       "      <td>1971 to 2004</td>\n",
       "      <td>4</td>\n",
       "      <td>29</td>\n",
       "      <td>Committed suicide by hanging after murdering h...</td>\n",
       "      <td>1971.0</td>\n",
       "      <td>2004.0</td>\n",
       "      <td>33.0</td>\n",
       "      <td>more than 20</td>\n",
       "    </tr>\n",
       "    <tr>\n",
       "      <th>1</th>\n",
       "      <td>Robert Black</td>\n",
       "      <td>United Kingdom\\r\\nIreland (suspected)\\r\\nWest ...</td>\n",
       "      <td>1981 to 1986</td>\n",
       "      <td>4</td>\n",
       "      <td>18+</td>\n",
       "      <td>Convicted of kidnapping, raping and murdering ...</td>\n",
       "      <td>1981.0</td>\n",
       "      <td>1986.0</td>\n",
       "      <td>5.0</td>\n",
       "      <td>from 4 to 5 years</td>\n",
       "    </tr>\n",
       "    <tr>\n",
       "      <th>2</th>\n",
       "      <td>Max Gufler</td>\n",
       "      <td>Austria</td>\n",
       "      <td>1946 to 1958</td>\n",
       "      <td>4</td>\n",
       "      <td>18</td>\n",
       "      <td>Poisoned and drowned four women, but suspected...</td>\n",
       "      <td>1946.0</td>\n",
       "      <td>1958.0</td>\n",
       "      <td>12.0</td>\n",
       "      <td>from 11 to 20 years</td>\n",
       "    </tr>\n",
       "    <tr>\n",
       "      <th>3</th>\n",
       "      <td>Ernesto Picchioni</td>\n",
       "      <td>Italy</td>\n",
       "      <td>1949 and earlier</td>\n",
       "      <td>4</td>\n",
       "      <td>16</td>\n",
       "      <td>Murdered people who approached his home; died ...</td>\n",
       "      <td>NaN</td>\n",
       "      <td>1949.0</td>\n",
       "      <td>NaN</td>\n",
       "      <td>more than 20</td>\n",
       "    </tr>\n",
       "    <tr>\n",
       "      <th>4</th>\n",
       "      <td>Baekuni</td>\n",
       "      <td>Indonesia</td>\n",
       "      <td>1993 to 2010</td>\n",
       "      <td>4</td>\n",
       "      <td>14</td>\n",
       "      <td>Pedophile who raped and killed young boys; ini...</td>\n",
       "      <td>1993.0</td>\n",
       "      <td>2010.0</td>\n",
       "      <td>17.0</td>\n",
       "      <td>from 11 to 20 years</td>\n",
       "    </tr>\n",
       "  </tbody>\n",
       "</table>\n",
       "</div>"
      ],
      "text/plain": [
       "                Name                                            Country  \\\n",
       "0     Charlie Brandt                                      United States   \n",
       "1       Robert Black  United Kingdom\\r\\nIreland (suspected)\\r\\nWest ...   \n",
       "2         Max Gufler                                            Austria   \n",
       "3  Ernesto Picchioni                                              Italy   \n",
       "4            Baekuni                                          Indonesia   \n",
       "\n",
       "       Years active Proven victims Possible victims  \\\n",
       "0      1971 to 2004              4               29   \n",
       "1      1981 to 1986              4              18+   \n",
       "2      1946 to 1958              4               18   \n",
       "3  1949 and earlier              4               16   \n",
       "4      1993 to 2010              4               14   \n",
       "\n",
       "                                               Notes  start_year  end_year  \\\n",
       "0  Committed suicide by hanging after murdering h...      1971.0    2004.0   \n",
       "1  Convicted of kidnapping, raping and murdering ...      1981.0    1986.0   \n",
       "2  Poisoned and drowned four women, but suspected...      1946.0    1958.0   \n",
       "3  Murdered people who approached his home; died ...         NaN    1949.0   \n",
       "4  Pedophile who raped and killed young boys; ini...      1993.0    2010.0   \n",
       "\n",
       "   time_of_active time_of_active_range  \n",
       "0            33.0         more than 20  \n",
       "1             5.0    from 4 to 5 years  \n",
       "2            12.0  from 11 to 20 years  \n",
       "3             NaN         more than 20  \n",
       "4            17.0  from 11 to 20 years  "
      ]
     },
     "metadata": {},
     "output_type": "display_data"
    }
   ],
   "source": [
    "# define how long killer is acitve\n",
    "def time_of_active_range(row):\n",
    "    if(row['time_of_active'] is None):\n",
    "        row['time_of_active_range'] = 'not know'\n",
    "    elif(row['time_of_active'] == 0):\n",
    "        row['time_of_active_range'] = 'less than year'\n",
    "    elif(row['time_of_active'] == 1):\n",
    "        row['time_of_active_range'] = 'a year'\n",
    "    elif(row['time_of_active'] <= 3):\n",
    "        row['time_of_active_range'] = 'from 2 to 3 years'\n",
    "    elif(row['time_of_active'] <= 5):\n",
    "        row['time_of_active_range'] = 'from 4 to 5 years'\n",
    "    elif(row['time_of_active'] <= 10):\n",
    "        row['time_of_active_range'] = 'from 6 to 10 years'\n",
    "    elif(row['time_of_active'] <= 20):\n",
    "        row['time_of_active_range'] = 'from 11 to 20 years'\n",
    "    else:\n",
    "        row['time_of_active_range'] = 'more than 20'\n",
    "    return row\n",
    "\n",
    "# add column\n",
    "serial_killers = serial_killers.apply(lambda row: time_of_active_range(row), axis = 1)\n",
    "print(\"Add column of activite time range\")\n",
    "display(serial_killers.head())"
   ]
  },
  {
   "cell_type": "code",
   "execution_count": 8,
   "id": "f1199cb6",
   "metadata": {},
   "outputs": [
    {
     "data": {
      "text/plain": [
       "array([4, 3, '14', '13', '12', '11–16', '11', '10', '9–13', '9', '8',\n",
       "       '8–15', '8–11+', '7', '6', '5', 30, 28, 27, 26, 25, 24, 23, 22, 21,\n",
       "       20, 19, 18, 17, 16, 15, 138, 110, 100, 83, 72, 71, 70, 67, 60, 58,\n",
       "       53, 52, 50, 49, 48, 45, 42, 41, 39, 38, 36, 35, 33, 32],\n",
       "      dtype=object)"
      ]
     },
     "metadata": {},
     "output_type": "display_data"
    }
   ],
   "source": [
    "# organise Proven victims and Possible victims\n",
    "# show unique of 'Proven victims'\n",
    "display(serial_killers['Proven victims'].unique())"
   ]
  },
  {
   "cell_type": "code",
   "execution_count": 9,
   "id": "f7c7b2e1",
   "metadata": {},
   "outputs": [
    {
     "data": {
      "text/html": [
       "<div>\n",
       "<style scoped>\n",
       "    .dataframe tbody tr th:only-of-type {\n",
       "        vertical-align: middle;\n",
       "    }\n",
       "\n",
       "    .dataframe tbody tr th {\n",
       "        vertical-align: top;\n",
       "    }\n",
       "\n",
       "    .dataframe thead th {\n",
       "        text-align: right;\n",
       "    }\n",
       "</style>\n",
       "<table border=\"1\" class=\"dataframe\">\n",
       "  <thead>\n",
       "    <tr style=\"text-align: right;\">\n",
       "      <th></th>\n",
       "      <th>Name</th>\n",
       "      <th>Country</th>\n",
       "      <th>Years active</th>\n",
       "      <th>Proven victims</th>\n",
       "      <th>Possible victims</th>\n",
       "      <th>Notes</th>\n",
       "      <th>start_year</th>\n",
       "      <th>end_year</th>\n",
       "      <th>time_of_active</th>\n",
       "      <th>time_of_active_range</th>\n",
       "      <th>proven_victims</th>\n",
       "    </tr>\n",
       "  </thead>\n",
       "  <tbody>\n",
       "    <tr>\n",
       "      <th>0</th>\n",
       "      <td>Charlie Brandt</td>\n",
       "      <td>United States</td>\n",
       "      <td>1971 to 2004</td>\n",
       "      <td>4</td>\n",
       "      <td>29</td>\n",
       "      <td>Committed suicide by hanging after murdering h...</td>\n",
       "      <td>1971.0</td>\n",
       "      <td>2004.0</td>\n",
       "      <td>33.0</td>\n",
       "      <td>more than 20</td>\n",
       "      <td>4</td>\n",
       "    </tr>\n",
       "    <tr>\n",
       "      <th>1</th>\n",
       "      <td>Robert Black</td>\n",
       "      <td>United Kingdom\\r\\nIreland (suspected)\\r\\nWest ...</td>\n",
       "      <td>1981 to 1986</td>\n",
       "      <td>4</td>\n",
       "      <td>18+</td>\n",
       "      <td>Convicted of kidnapping, raping and murdering ...</td>\n",
       "      <td>1981.0</td>\n",
       "      <td>1986.0</td>\n",
       "      <td>5.0</td>\n",
       "      <td>from 4 to 5 years</td>\n",
       "      <td>4</td>\n",
       "    </tr>\n",
       "    <tr>\n",
       "      <th>2</th>\n",
       "      <td>Max Gufler</td>\n",
       "      <td>Austria</td>\n",
       "      <td>1946 to 1958</td>\n",
       "      <td>4</td>\n",
       "      <td>18</td>\n",
       "      <td>Poisoned and drowned four women, but suspected...</td>\n",
       "      <td>1946.0</td>\n",
       "      <td>1958.0</td>\n",
       "      <td>12.0</td>\n",
       "      <td>from 11 to 20 years</td>\n",
       "      <td>4</td>\n",
       "    </tr>\n",
       "    <tr>\n",
       "      <th>3</th>\n",
       "      <td>Ernesto Picchioni</td>\n",
       "      <td>Italy</td>\n",
       "      <td>1949 and earlier</td>\n",
       "      <td>4</td>\n",
       "      <td>16</td>\n",
       "      <td>Murdered people who approached his home; died ...</td>\n",
       "      <td>NaN</td>\n",
       "      <td>1949.0</td>\n",
       "      <td>NaN</td>\n",
       "      <td>more than 20</td>\n",
       "      <td>4</td>\n",
       "    </tr>\n",
       "    <tr>\n",
       "      <th>4</th>\n",
       "      <td>Baekuni</td>\n",
       "      <td>Indonesia</td>\n",
       "      <td>1993 to 2010</td>\n",
       "      <td>4</td>\n",
       "      <td>14</td>\n",
       "      <td>Pedophile who raped and killed young boys; ini...</td>\n",
       "      <td>1993.0</td>\n",
       "      <td>2010.0</td>\n",
       "      <td>17.0</td>\n",
       "      <td>from 11 to 20 years</td>\n",
       "      <td>4</td>\n",
       "    </tr>\n",
       "  </tbody>\n",
       "</table>\n",
       "</div>"
      ],
      "text/plain": [
       "                Name                                            Country  \\\n",
       "0     Charlie Brandt                                      United States   \n",
       "1       Robert Black  United Kingdom\\r\\nIreland (suspected)\\r\\nWest ...   \n",
       "2         Max Gufler                                            Austria   \n",
       "3  Ernesto Picchioni                                              Italy   \n",
       "4            Baekuni                                          Indonesia   \n",
       "\n",
       "       Years active Proven victims Possible victims  \\\n",
       "0      1971 to 2004              4               29   \n",
       "1      1981 to 1986              4              18+   \n",
       "2      1946 to 1958              4               18   \n",
       "3  1949 and earlier              4               16   \n",
       "4      1993 to 2010              4               14   \n",
       "\n",
       "                                               Notes  start_year  end_year  \\\n",
       "0  Committed suicide by hanging after murdering h...      1971.0    2004.0   \n",
       "1  Convicted of kidnapping, raping and murdering ...      1981.0    1986.0   \n",
       "2  Poisoned and drowned four women, but suspected...      1946.0    1958.0   \n",
       "3  Murdered people who approached his home; died ...         NaN    1949.0   \n",
       "4  Pedophile who raped and killed young boys; ini...      1993.0    2010.0   \n",
       "\n",
       "   time_of_active time_of_active_range  proven_victims  \n",
       "0            33.0         more than 20               4  \n",
       "1             5.0    from 4 to 5 years               4  \n",
       "2            12.0  from 11 to 20 years               4  \n",
       "3             NaN         more than 20               4  \n",
       "4            17.0  from 11 to 20 years               4  "
      ]
     },
     "execution_count": 9,
     "metadata": {},
     "output_type": "execute_result"
    }
   ],
   "source": [
    "# clean values in 'Proven victims'\n",
    "\"\"\"\n",
    "'Proven victims'\n",
    "------------------\n",
    "if value has a '+' it is not analysis\n",
    "if it is given a range, for example 8-15, it will be take an avg of it\n",
    "\"\"\"\n",
    "\n",
    "# clean proven victims\n",
    "\"\"\"\n",
    "possible values:\n",
    "array([4, 3, '14', '13', '12', '11–16', '11', '10', '9–13', '9', '8',\n",
    "       '8–15', '8–11+', '7', '6', '5', 30, 28, 27, 26, 25, 24, 23, 22, 21,\n",
    "       20, 19, 18, 17, 16, 15, 138, 110, 100, 83, 72, 71, 70, 67, 60, 58,\n",
    "       53, 52, 50, 49, 48, 45, 42, 41, 39, 38, 36, 35, 33, 32],\n",
    "      dtype=object)\n",
    "\"\"\"\n",
    "def proven_victims_avg(row):\n",
    "    value = 0\n",
    "    if(type(row['Proven victims']) == type(1)):\n",
    "        value = row['Proven victims']\n",
    "    elif(row['Proven victims'].isnumeric()):\n",
    "        value = int(row['Proven victims'])\n",
    "    elif('-' in row['Proven victims']):\n",
    "        first, second = row['Proven victims'].split('-')\n",
    "        if ('+' in first):\n",
    "            print(f\"First with '+' {first}\")\n",
    "            first = first[:-1]\n",
    "            print(f\"First without '+' {first}\")\n",
    "        if ('+' in second):\n",
    "            print(f\"Second with '+' {second}\")\n",
    "            second = second[:-1]\n",
    "            print(f\"Second without '+' {second}\")\n",
    "        first = int(first)\n",
    "        second = int(second)\n",
    "        value = (first + second) / 2\n",
    "    row['proven_victims'] = value\n",
    "    return row\n",
    "\n",
    "serial_killers = serial_killers.apply(lambda x: proven_victims_avg(x), axis = 1)\n",
    "serial_killers.head()"
   ]
  },
  {
   "cell_type": "code",
   "execution_count": 10,
   "id": "ad299ff3",
   "metadata": {},
   "outputs": [
    {
     "data": {
      "text/html": [
       "<div>\n",
       "<style scoped>\n",
       "    .dataframe tbody tr th:only-of-type {\n",
       "        vertical-align: middle;\n",
       "    }\n",
       "\n",
       "    .dataframe tbody tr th {\n",
       "        vertical-align: top;\n",
       "    }\n",
       "\n",
       "    .dataframe thead th {\n",
       "        text-align: right;\n",
       "    }\n",
       "</style>\n",
       "<table border=\"1\" class=\"dataframe\">\n",
       "  <thead>\n",
       "    <tr style=\"text-align: right;\">\n",
       "      <th></th>\n",
       "      <th>time_of_active_range</th>\n",
       "      <th>avg_proven_victims</th>\n",
       "    </tr>\n",
       "  </thead>\n",
       "  <tbody>\n",
       "    <tr>\n",
       "      <th>0</th>\n",
       "      <td>a year</td>\n",
       "      <td>16.283019</td>\n",
       "    </tr>\n",
       "    <tr>\n",
       "      <th>1</th>\n",
       "      <td>from 11 to 20 years</td>\n",
       "      <td>18.481481</td>\n",
       "    </tr>\n",
       "    <tr>\n",
       "      <th>2</th>\n",
       "      <td>from 2 to 3 years</td>\n",
       "      <td>16.139535</td>\n",
       "    </tr>\n",
       "    <tr>\n",
       "      <th>3</th>\n",
       "      <td>from 4 to 5 years</td>\n",
       "      <td>13.193548</td>\n",
       "    </tr>\n",
       "    <tr>\n",
       "      <th>4</th>\n",
       "      <td>from 6 to 10 years</td>\n",
       "      <td>17.967742</td>\n",
       "    </tr>\n",
       "    <tr>\n",
       "      <th>5</th>\n",
       "      <td>less than year</td>\n",
       "      <td>13.258065</td>\n",
       "    </tr>\n",
       "    <tr>\n",
       "      <th>6</th>\n",
       "      <td>more than 20</td>\n",
       "      <td>16.129032</td>\n",
       "    </tr>\n",
       "  </tbody>\n",
       "</table>\n",
       "</div>"
      ],
      "text/plain": [
       "  time_of_active_range  avg_proven_victims\n",
       "0               a year           16.283019\n",
       "1  from 11 to 20 years           18.481481\n",
       "2    from 2 to 3 years           16.139535\n",
       "3    from 4 to 5 years           13.193548\n",
       "4   from 6 to 10 years           17.967742\n",
       "5       less than year           13.258065\n",
       "6         more than 20           16.129032"
      ]
     },
     "metadata": {},
     "output_type": "display_data"
    }
   ],
   "source": [
    "serial_killers_by_active = serial_killers.pivot_table(index = {'time_of_active_range'}, aggfunc = 'mean')['proven_victims'].to_frame()\n",
    "serial_killers_by_active.rename(columns = {'proven_victims' : 'avg_proven_victims'}, inplace = True)\n",
    "serial_killers_by_active.reset_index(inplace = True)\n",
    "serial_killers_by_active.head()\n",
    "\n",
    "display(serial_killers_by_active)"
   ]
  },
  {
   "cell_type": "code",
   "execution_count": 11,
   "id": "eddfebe4",
   "metadata": {},
   "outputs": [
    {
     "data": {
      "application/vnd.plotly.v1+json": {
       "config": {
        "linkText": "Export to plot.ly",
        "plotlyServerURL": "https://plot.ly",
        "showLink": false
       },
       "data": [
        {
         "type": "bar",
         "x": [
          "a year",
          "from 11 to 20 years",
          "from 2 to 3 years",
          "from 4 to 5 years",
          "from 6 to 10 years",
          "less than year",
          "more than 20"
         ],
         "y": [
          16.28301886792453,
          18.48148148148148,
          16.13953488372093,
          13.193548387096774,
          17.967741935483872,
          13.258064516129032,
          16.129032258064516
         ]
        }
       ],
       "layout": {
        "template": {
         "data": {
          "bar": [
           {
            "error_x": {
             "color": "#2a3f5f"
            },
            "error_y": {
             "color": "#2a3f5f"
            },
            "marker": {
             "line": {
              "color": "#E5ECF6",
              "width": 0.5
             },
             "pattern": {
              "fillmode": "overlay",
              "size": 10,
              "solidity": 0.2
             }
            },
            "type": "bar"
           }
          ],
          "barpolar": [
           {
            "marker": {
             "line": {
              "color": "#E5ECF6",
              "width": 0.5
             },
             "pattern": {
              "fillmode": "overlay",
              "size": 10,
              "solidity": 0.2
             }
            },
            "type": "barpolar"
           }
          ],
          "carpet": [
           {
            "aaxis": {
             "endlinecolor": "#2a3f5f",
             "gridcolor": "white",
             "linecolor": "white",
             "minorgridcolor": "white",
             "startlinecolor": "#2a3f5f"
            },
            "baxis": {
             "endlinecolor": "#2a3f5f",
             "gridcolor": "white",
             "linecolor": "white",
             "minorgridcolor": "white",
             "startlinecolor": "#2a3f5f"
            },
            "type": "carpet"
           }
          ],
          "choropleth": [
           {
            "colorbar": {
             "outlinewidth": 0,
             "ticks": ""
            },
            "type": "choropleth"
           }
          ],
          "contour": [
           {
            "colorbar": {
             "outlinewidth": 0,
             "ticks": ""
            },
            "colorscale": [
             [
              0,
              "#0d0887"
             ],
             [
              0.1111111111111111,
              "#46039f"
             ],
             [
              0.2222222222222222,
              "#7201a8"
             ],
             [
              0.3333333333333333,
              "#9c179e"
             ],
             [
              0.4444444444444444,
              "#bd3786"
             ],
             [
              0.5555555555555556,
              "#d8576b"
             ],
             [
              0.6666666666666666,
              "#ed7953"
             ],
             [
              0.7777777777777778,
              "#fb9f3a"
             ],
             [
              0.8888888888888888,
              "#fdca26"
             ],
             [
              1,
              "#f0f921"
             ]
            ],
            "type": "contour"
           }
          ],
          "contourcarpet": [
           {
            "colorbar": {
             "outlinewidth": 0,
             "ticks": ""
            },
            "type": "contourcarpet"
           }
          ],
          "heatmap": [
           {
            "colorbar": {
             "outlinewidth": 0,
             "ticks": ""
            },
            "colorscale": [
             [
              0,
              "#0d0887"
             ],
             [
              0.1111111111111111,
              "#46039f"
             ],
             [
              0.2222222222222222,
              "#7201a8"
             ],
             [
              0.3333333333333333,
              "#9c179e"
             ],
             [
              0.4444444444444444,
              "#bd3786"
             ],
             [
              0.5555555555555556,
              "#d8576b"
             ],
             [
              0.6666666666666666,
              "#ed7953"
             ],
             [
              0.7777777777777778,
              "#fb9f3a"
             ],
             [
              0.8888888888888888,
              "#fdca26"
             ],
             [
              1,
              "#f0f921"
             ]
            ],
            "type": "heatmap"
           }
          ],
          "heatmapgl": [
           {
            "colorbar": {
             "outlinewidth": 0,
             "ticks": ""
            },
            "colorscale": [
             [
              0,
              "#0d0887"
             ],
             [
              0.1111111111111111,
              "#46039f"
             ],
             [
              0.2222222222222222,
              "#7201a8"
             ],
             [
              0.3333333333333333,
              "#9c179e"
             ],
             [
              0.4444444444444444,
              "#bd3786"
             ],
             [
              0.5555555555555556,
              "#d8576b"
             ],
             [
              0.6666666666666666,
              "#ed7953"
             ],
             [
              0.7777777777777778,
              "#fb9f3a"
             ],
             [
              0.8888888888888888,
              "#fdca26"
             ],
             [
              1,
              "#f0f921"
             ]
            ],
            "type": "heatmapgl"
           }
          ],
          "histogram": [
           {
            "marker": {
             "pattern": {
              "fillmode": "overlay",
              "size": 10,
              "solidity": 0.2
             }
            },
            "type": "histogram"
           }
          ],
          "histogram2d": [
           {
            "colorbar": {
             "outlinewidth": 0,
             "ticks": ""
            },
            "colorscale": [
             [
              0,
              "#0d0887"
             ],
             [
              0.1111111111111111,
              "#46039f"
             ],
             [
              0.2222222222222222,
              "#7201a8"
             ],
             [
              0.3333333333333333,
              "#9c179e"
             ],
             [
              0.4444444444444444,
              "#bd3786"
             ],
             [
              0.5555555555555556,
              "#d8576b"
             ],
             [
              0.6666666666666666,
              "#ed7953"
             ],
             [
              0.7777777777777778,
              "#fb9f3a"
             ],
             [
              0.8888888888888888,
              "#fdca26"
             ],
             [
              1,
              "#f0f921"
             ]
            ],
            "type": "histogram2d"
           }
          ],
          "histogram2dcontour": [
           {
            "colorbar": {
             "outlinewidth": 0,
             "ticks": ""
            },
            "colorscale": [
             [
              0,
              "#0d0887"
             ],
             [
              0.1111111111111111,
              "#46039f"
             ],
             [
              0.2222222222222222,
              "#7201a8"
             ],
             [
              0.3333333333333333,
              "#9c179e"
             ],
             [
              0.4444444444444444,
              "#bd3786"
             ],
             [
              0.5555555555555556,
              "#d8576b"
             ],
             [
              0.6666666666666666,
              "#ed7953"
             ],
             [
              0.7777777777777778,
              "#fb9f3a"
             ],
             [
              0.8888888888888888,
              "#fdca26"
             ],
             [
              1,
              "#f0f921"
             ]
            ],
            "type": "histogram2dcontour"
           }
          ],
          "mesh3d": [
           {
            "colorbar": {
             "outlinewidth": 0,
             "ticks": ""
            },
            "type": "mesh3d"
           }
          ],
          "parcoords": [
           {
            "line": {
             "colorbar": {
              "outlinewidth": 0,
              "ticks": ""
             }
            },
            "type": "parcoords"
           }
          ],
          "pie": [
           {
            "automargin": true,
            "type": "pie"
           }
          ],
          "scatter": [
           {
            "fillpattern": {
             "fillmode": "overlay",
             "size": 10,
             "solidity": 0.2
            },
            "type": "scatter"
           }
          ],
          "scatter3d": [
           {
            "line": {
             "colorbar": {
              "outlinewidth": 0,
              "ticks": ""
             }
            },
            "marker": {
             "colorbar": {
              "outlinewidth": 0,
              "ticks": ""
             }
            },
            "type": "scatter3d"
           }
          ],
          "scattercarpet": [
           {
            "marker": {
             "colorbar": {
              "outlinewidth": 0,
              "ticks": ""
             }
            },
            "type": "scattercarpet"
           }
          ],
          "scattergeo": [
           {
            "marker": {
             "colorbar": {
              "outlinewidth": 0,
              "ticks": ""
             }
            },
            "type": "scattergeo"
           }
          ],
          "scattergl": [
           {
            "marker": {
             "colorbar": {
              "outlinewidth": 0,
              "ticks": ""
             }
            },
            "type": "scattergl"
           }
          ],
          "scattermapbox": [
           {
            "marker": {
             "colorbar": {
              "outlinewidth": 0,
              "ticks": ""
             }
            },
            "type": "scattermapbox"
           }
          ],
          "scatterpolar": [
           {
            "marker": {
             "colorbar": {
              "outlinewidth": 0,
              "ticks": ""
             }
            },
            "type": "scatterpolar"
           }
          ],
          "scatterpolargl": [
           {
            "marker": {
             "colorbar": {
              "outlinewidth": 0,
              "ticks": ""
             }
            },
            "type": "scatterpolargl"
           }
          ],
          "scatterternary": [
           {
            "marker": {
             "colorbar": {
              "outlinewidth": 0,
              "ticks": ""
             }
            },
            "type": "scatterternary"
           }
          ],
          "surface": [
           {
            "colorbar": {
             "outlinewidth": 0,
             "ticks": ""
            },
            "colorscale": [
             [
              0,
              "#0d0887"
             ],
             [
              0.1111111111111111,
              "#46039f"
             ],
             [
              0.2222222222222222,
              "#7201a8"
             ],
             [
              0.3333333333333333,
              "#9c179e"
             ],
             [
              0.4444444444444444,
              "#bd3786"
             ],
             [
              0.5555555555555556,
              "#d8576b"
             ],
             [
              0.6666666666666666,
              "#ed7953"
             ],
             [
              0.7777777777777778,
              "#fb9f3a"
             ],
             [
              0.8888888888888888,
              "#fdca26"
             ],
             [
              1,
              "#f0f921"
             ]
            ],
            "type": "surface"
           }
          ],
          "table": [
           {
            "cells": {
             "fill": {
              "color": "#EBF0F8"
             },
             "line": {
              "color": "white"
             }
            },
            "header": {
             "fill": {
              "color": "#C8D4E3"
             },
             "line": {
              "color": "white"
             }
            },
            "type": "table"
           }
          ]
         },
         "layout": {
          "annotationdefaults": {
           "arrowcolor": "#2a3f5f",
           "arrowhead": 0,
           "arrowwidth": 1
          },
          "autotypenumbers": "strict",
          "coloraxis": {
           "colorbar": {
            "outlinewidth": 0,
            "ticks": ""
           }
          },
          "colorscale": {
           "diverging": [
            [
             0,
             "#8e0152"
            ],
            [
             0.1,
             "#c51b7d"
            ],
            [
             0.2,
             "#de77ae"
            ],
            [
             0.3,
             "#f1b6da"
            ],
            [
             0.4,
             "#fde0ef"
            ],
            [
             0.5,
             "#f7f7f7"
            ],
            [
             0.6,
             "#e6f5d0"
            ],
            [
             0.7,
             "#b8e186"
            ],
            [
             0.8,
             "#7fbc41"
            ],
            [
             0.9,
             "#4d9221"
            ],
            [
             1,
             "#276419"
            ]
           ],
           "sequential": [
            [
             0,
             "#0d0887"
            ],
            [
             0.1111111111111111,
             "#46039f"
            ],
            [
             0.2222222222222222,
             "#7201a8"
            ],
            [
             0.3333333333333333,
             "#9c179e"
            ],
            [
             0.4444444444444444,
             "#bd3786"
            ],
            [
             0.5555555555555556,
             "#d8576b"
            ],
            [
             0.6666666666666666,
             "#ed7953"
            ],
            [
             0.7777777777777778,
             "#fb9f3a"
            ],
            [
             0.8888888888888888,
             "#fdca26"
            ],
            [
             1,
             "#f0f921"
            ]
           ],
           "sequentialminus": [
            [
             0,
             "#0d0887"
            ],
            [
             0.1111111111111111,
             "#46039f"
            ],
            [
             0.2222222222222222,
             "#7201a8"
            ],
            [
             0.3333333333333333,
             "#9c179e"
            ],
            [
             0.4444444444444444,
             "#bd3786"
            ],
            [
             0.5555555555555556,
             "#d8576b"
            ],
            [
             0.6666666666666666,
             "#ed7953"
            ],
            [
             0.7777777777777778,
             "#fb9f3a"
            ],
            [
             0.8888888888888888,
             "#fdca26"
            ],
            [
             1,
             "#f0f921"
            ]
           ]
          },
          "colorway": [
           "#636efa",
           "#EF553B",
           "#00cc96",
           "#ab63fa",
           "#FFA15A",
           "#19d3f3",
           "#FF6692",
           "#B6E880",
           "#FF97FF",
           "#FECB52"
          ],
          "font": {
           "color": "#2a3f5f"
          },
          "geo": {
           "bgcolor": "white",
           "lakecolor": "white",
           "landcolor": "#E5ECF6",
           "showlakes": true,
           "showland": true,
           "subunitcolor": "white"
          },
          "hoverlabel": {
           "align": "left"
          },
          "hovermode": "closest",
          "mapbox": {
           "style": "light"
          },
          "paper_bgcolor": "white",
          "plot_bgcolor": "#E5ECF6",
          "polar": {
           "angularaxis": {
            "gridcolor": "white",
            "linecolor": "white",
            "ticks": ""
           },
           "bgcolor": "#E5ECF6",
           "radialaxis": {
            "gridcolor": "white",
            "linecolor": "white",
            "ticks": ""
           }
          },
          "scene": {
           "xaxis": {
            "backgroundcolor": "#E5ECF6",
            "gridcolor": "white",
            "gridwidth": 2,
            "linecolor": "white",
            "showbackground": true,
            "ticks": "",
            "zerolinecolor": "white"
           },
           "yaxis": {
            "backgroundcolor": "#E5ECF6",
            "gridcolor": "white",
            "gridwidth": 2,
            "linecolor": "white",
            "showbackground": true,
            "ticks": "",
            "zerolinecolor": "white"
           },
           "zaxis": {
            "backgroundcolor": "#E5ECF6",
            "gridcolor": "white",
            "gridwidth": 2,
            "linecolor": "white",
            "showbackground": true,
            "ticks": "",
            "zerolinecolor": "white"
           }
          },
          "shapedefaults": {
           "line": {
            "color": "#2a3f5f"
           }
          },
          "ternary": {
           "aaxis": {
            "gridcolor": "white",
            "linecolor": "white",
            "ticks": ""
           },
           "baxis": {
            "gridcolor": "white",
            "linecolor": "white",
            "ticks": ""
           },
           "bgcolor": "#E5ECF6",
           "caxis": {
            "gridcolor": "white",
            "linecolor": "white",
            "ticks": ""
           }
          },
          "title": {
           "x": 0.05
          },
          "xaxis": {
           "automargin": true,
           "gridcolor": "white",
           "linecolor": "white",
           "ticks": "",
           "title": {
            "standoff": 15
           },
           "zerolinecolor": "white",
           "zerolinewidth": 2
          },
          "yaxis": {
           "automargin": true,
           "gridcolor": "white",
           "linecolor": "white",
           "ticks": "",
           "title": {
            "standoff": 15
           },
           "zerolinecolor": "white",
           "zerolinewidth": 2
          }
         }
        },
        "title": {
         "text": "Średnia ilość ofiar w zależności od czasu aktywności"
        }
       }
      },
      "text/html": [
       "<div>                            <div id=\"eb481ee1-af40-4ecb-ad72-0b0a7eea058b\" class=\"plotly-graph-div\" style=\"height:525px; width:100%;\"></div>            <script type=\"text/javascript\">                require([\"plotly\"], function(Plotly) {                    window.PLOTLYENV=window.PLOTLYENV || {};                                    if (document.getElementById(\"eb481ee1-af40-4ecb-ad72-0b0a7eea058b\")) {                    Plotly.newPlot(                        \"eb481ee1-af40-4ecb-ad72-0b0a7eea058b\",                        [{\"x\":[\"a year\",\"from 11 to 20 years\",\"from 2 to 3 years\",\"from 4 to 5 years\",\"from 6 to 10 years\",\"less than year\",\"more than 20\"],\"y\":[16.28301886792453,18.48148148148148,16.13953488372093,13.193548387096774,17.967741935483872,13.258064516129032,16.129032258064516],\"type\":\"bar\"}],                        {\"template\":{\"data\":{\"barpolar\":[{\"marker\":{\"line\":{\"color\":\"#E5ECF6\",\"width\":0.5},\"pattern\":{\"fillmode\":\"overlay\",\"size\":10,\"solidity\":0.2}},\"type\":\"barpolar\"}],\"bar\":[{\"error_x\":{\"color\":\"#2a3f5f\"},\"error_y\":{\"color\":\"#2a3f5f\"},\"marker\":{\"line\":{\"color\":\"#E5ECF6\",\"width\":0.5},\"pattern\":{\"fillmode\":\"overlay\",\"size\":10,\"solidity\":0.2}},\"type\":\"bar\"}],\"carpet\":[{\"aaxis\":{\"endlinecolor\":\"#2a3f5f\",\"gridcolor\":\"white\",\"linecolor\":\"white\",\"minorgridcolor\":\"white\",\"startlinecolor\":\"#2a3f5f\"},\"baxis\":{\"endlinecolor\":\"#2a3f5f\",\"gridcolor\":\"white\",\"linecolor\":\"white\",\"minorgridcolor\":\"white\",\"startlinecolor\":\"#2a3f5f\"},\"type\":\"carpet\"}],\"choropleth\":[{\"colorbar\":{\"outlinewidth\":0,\"ticks\":\"\"},\"type\":\"choropleth\"}],\"contourcarpet\":[{\"colorbar\":{\"outlinewidth\":0,\"ticks\":\"\"},\"type\":\"contourcarpet\"}],\"contour\":[{\"colorbar\":{\"outlinewidth\":0,\"ticks\":\"\"},\"colorscale\":[[0.0,\"#0d0887\"],[0.1111111111111111,\"#46039f\"],[0.2222222222222222,\"#7201a8\"],[0.3333333333333333,\"#9c179e\"],[0.4444444444444444,\"#bd3786\"],[0.5555555555555556,\"#d8576b\"],[0.6666666666666666,\"#ed7953\"],[0.7777777777777778,\"#fb9f3a\"],[0.8888888888888888,\"#fdca26\"],[1.0,\"#f0f921\"]],\"type\":\"contour\"}],\"heatmapgl\":[{\"colorbar\":{\"outlinewidth\":0,\"ticks\":\"\"},\"colorscale\":[[0.0,\"#0d0887\"],[0.1111111111111111,\"#46039f\"],[0.2222222222222222,\"#7201a8\"],[0.3333333333333333,\"#9c179e\"],[0.4444444444444444,\"#bd3786\"],[0.5555555555555556,\"#d8576b\"],[0.6666666666666666,\"#ed7953\"],[0.7777777777777778,\"#fb9f3a\"],[0.8888888888888888,\"#fdca26\"],[1.0,\"#f0f921\"]],\"type\":\"heatmapgl\"}],\"heatmap\":[{\"colorbar\":{\"outlinewidth\":0,\"ticks\":\"\"},\"colorscale\":[[0.0,\"#0d0887\"],[0.1111111111111111,\"#46039f\"],[0.2222222222222222,\"#7201a8\"],[0.3333333333333333,\"#9c179e\"],[0.4444444444444444,\"#bd3786\"],[0.5555555555555556,\"#d8576b\"],[0.6666666666666666,\"#ed7953\"],[0.7777777777777778,\"#fb9f3a\"],[0.8888888888888888,\"#fdca26\"],[1.0,\"#f0f921\"]],\"type\":\"heatmap\"}],\"histogram2dcontour\":[{\"colorbar\":{\"outlinewidth\":0,\"ticks\":\"\"},\"colorscale\":[[0.0,\"#0d0887\"],[0.1111111111111111,\"#46039f\"],[0.2222222222222222,\"#7201a8\"],[0.3333333333333333,\"#9c179e\"],[0.4444444444444444,\"#bd3786\"],[0.5555555555555556,\"#d8576b\"],[0.6666666666666666,\"#ed7953\"],[0.7777777777777778,\"#fb9f3a\"],[0.8888888888888888,\"#fdca26\"],[1.0,\"#f0f921\"]],\"type\":\"histogram2dcontour\"}],\"histogram2d\":[{\"colorbar\":{\"outlinewidth\":0,\"ticks\":\"\"},\"colorscale\":[[0.0,\"#0d0887\"],[0.1111111111111111,\"#46039f\"],[0.2222222222222222,\"#7201a8\"],[0.3333333333333333,\"#9c179e\"],[0.4444444444444444,\"#bd3786\"],[0.5555555555555556,\"#d8576b\"],[0.6666666666666666,\"#ed7953\"],[0.7777777777777778,\"#fb9f3a\"],[0.8888888888888888,\"#fdca26\"],[1.0,\"#f0f921\"]],\"type\":\"histogram2d\"}],\"histogram\":[{\"marker\":{\"pattern\":{\"fillmode\":\"overlay\",\"size\":10,\"solidity\":0.2}},\"type\":\"histogram\"}],\"mesh3d\":[{\"colorbar\":{\"outlinewidth\":0,\"ticks\":\"\"},\"type\":\"mesh3d\"}],\"parcoords\":[{\"line\":{\"colorbar\":{\"outlinewidth\":0,\"ticks\":\"\"}},\"type\":\"parcoords\"}],\"pie\":[{\"automargin\":true,\"type\":\"pie\"}],\"scatter3d\":[{\"line\":{\"colorbar\":{\"outlinewidth\":0,\"ticks\":\"\"}},\"marker\":{\"colorbar\":{\"outlinewidth\":0,\"ticks\":\"\"}},\"type\":\"scatter3d\"}],\"scattercarpet\":[{\"marker\":{\"colorbar\":{\"outlinewidth\":0,\"ticks\":\"\"}},\"type\":\"scattercarpet\"}],\"scattergeo\":[{\"marker\":{\"colorbar\":{\"outlinewidth\":0,\"ticks\":\"\"}},\"type\":\"scattergeo\"}],\"scattergl\":[{\"marker\":{\"colorbar\":{\"outlinewidth\":0,\"ticks\":\"\"}},\"type\":\"scattergl\"}],\"scattermapbox\":[{\"marker\":{\"colorbar\":{\"outlinewidth\":0,\"ticks\":\"\"}},\"type\":\"scattermapbox\"}],\"scatterpolargl\":[{\"marker\":{\"colorbar\":{\"outlinewidth\":0,\"ticks\":\"\"}},\"type\":\"scatterpolargl\"}],\"scatterpolar\":[{\"marker\":{\"colorbar\":{\"outlinewidth\":0,\"ticks\":\"\"}},\"type\":\"scatterpolar\"}],\"scatter\":[{\"fillpattern\":{\"fillmode\":\"overlay\",\"size\":10,\"solidity\":0.2},\"type\":\"scatter\"}],\"scatterternary\":[{\"marker\":{\"colorbar\":{\"outlinewidth\":0,\"ticks\":\"\"}},\"type\":\"scatterternary\"}],\"surface\":[{\"colorbar\":{\"outlinewidth\":0,\"ticks\":\"\"},\"colorscale\":[[0.0,\"#0d0887\"],[0.1111111111111111,\"#46039f\"],[0.2222222222222222,\"#7201a8\"],[0.3333333333333333,\"#9c179e\"],[0.4444444444444444,\"#bd3786\"],[0.5555555555555556,\"#d8576b\"],[0.6666666666666666,\"#ed7953\"],[0.7777777777777778,\"#fb9f3a\"],[0.8888888888888888,\"#fdca26\"],[1.0,\"#f0f921\"]],\"type\":\"surface\"}],\"table\":[{\"cells\":{\"fill\":{\"color\":\"#EBF0F8\"},\"line\":{\"color\":\"white\"}},\"header\":{\"fill\":{\"color\":\"#C8D4E3\"},\"line\":{\"color\":\"white\"}},\"type\":\"table\"}]},\"layout\":{\"annotationdefaults\":{\"arrowcolor\":\"#2a3f5f\",\"arrowhead\":0,\"arrowwidth\":1},\"autotypenumbers\":\"strict\",\"coloraxis\":{\"colorbar\":{\"outlinewidth\":0,\"ticks\":\"\"}},\"colorscale\":{\"diverging\":[[0,\"#8e0152\"],[0.1,\"#c51b7d\"],[0.2,\"#de77ae\"],[0.3,\"#f1b6da\"],[0.4,\"#fde0ef\"],[0.5,\"#f7f7f7\"],[0.6,\"#e6f5d0\"],[0.7,\"#b8e186\"],[0.8,\"#7fbc41\"],[0.9,\"#4d9221\"],[1,\"#276419\"]],\"sequential\":[[0.0,\"#0d0887\"],[0.1111111111111111,\"#46039f\"],[0.2222222222222222,\"#7201a8\"],[0.3333333333333333,\"#9c179e\"],[0.4444444444444444,\"#bd3786\"],[0.5555555555555556,\"#d8576b\"],[0.6666666666666666,\"#ed7953\"],[0.7777777777777778,\"#fb9f3a\"],[0.8888888888888888,\"#fdca26\"],[1.0,\"#f0f921\"]],\"sequentialminus\":[[0.0,\"#0d0887\"],[0.1111111111111111,\"#46039f\"],[0.2222222222222222,\"#7201a8\"],[0.3333333333333333,\"#9c179e\"],[0.4444444444444444,\"#bd3786\"],[0.5555555555555556,\"#d8576b\"],[0.6666666666666666,\"#ed7953\"],[0.7777777777777778,\"#fb9f3a\"],[0.8888888888888888,\"#fdca26\"],[1.0,\"#f0f921\"]]},\"colorway\":[\"#636efa\",\"#EF553B\",\"#00cc96\",\"#ab63fa\",\"#FFA15A\",\"#19d3f3\",\"#FF6692\",\"#B6E880\",\"#FF97FF\",\"#FECB52\"],\"font\":{\"color\":\"#2a3f5f\"},\"geo\":{\"bgcolor\":\"white\",\"lakecolor\":\"white\",\"landcolor\":\"#E5ECF6\",\"showlakes\":true,\"showland\":true,\"subunitcolor\":\"white\"},\"hoverlabel\":{\"align\":\"left\"},\"hovermode\":\"closest\",\"mapbox\":{\"style\":\"light\"},\"paper_bgcolor\":\"white\",\"plot_bgcolor\":\"#E5ECF6\",\"polar\":{\"angularaxis\":{\"gridcolor\":\"white\",\"linecolor\":\"white\",\"ticks\":\"\"},\"bgcolor\":\"#E5ECF6\",\"radialaxis\":{\"gridcolor\":\"white\",\"linecolor\":\"white\",\"ticks\":\"\"}},\"scene\":{\"xaxis\":{\"backgroundcolor\":\"#E5ECF6\",\"gridcolor\":\"white\",\"gridwidth\":2,\"linecolor\":\"white\",\"showbackground\":true,\"ticks\":\"\",\"zerolinecolor\":\"white\"},\"yaxis\":{\"backgroundcolor\":\"#E5ECF6\",\"gridcolor\":\"white\",\"gridwidth\":2,\"linecolor\":\"white\",\"showbackground\":true,\"ticks\":\"\",\"zerolinecolor\":\"white\"},\"zaxis\":{\"backgroundcolor\":\"#E5ECF6\",\"gridcolor\":\"white\",\"gridwidth\":2,\"linecolor\":\"white\",\"showbackground\":true,\"ticks\":\"\",\"zerolinecolor\":\"white\"}},\"shapedefaults\":{\"line\":{\"color\":\"#2a3f5f\"}},\"ternary\":{\"aaxis\":{\"gridcolor\":\"white\",\"linecolor\":\"white\",\"ticks\":\"\"},\"baxis\":{\"gridcolor\":\"white\",\"linecolor\":\"white\",\"ticks\":\"\"},\"bgcolor\":\"#E5ECF6\",\"caxis\":{\"gridcolor\":\"white\",\"linecolor\":\"white\",\"ticks\":\"\"}},\"title\":{\"x\":0.05},\"xaxis\":{\"automargin\":true,\"gridcolor\":\"white\",\"linecolor\":\"white\",\"ticks\":\"\",\"title\":{\"standoff\":15},\"zerolinecolor\":\"white\",\"zerolinewidth\":2},\"yaxis\":{\"automargin\":true,\"gridcolor\":\"white\",\"linecolor\":\"white\",\"ticks\":\"\",\"title\":{\"standoff\":15},\"zerolinecolor\":\"white\",\"zerolinewidth\":2}}},\"title\":{\"text\":\"\\u015arednia ilo\\u015b\\u0107 ofiar w zale\\u017cno\\u015bci od czasu aktywno\\u015bci\"}},                        {\"responsive\": true}                    ).then(function(){\n",
       "                            \n",
       "var gd = document.getElementById('eb481ee1-af40-4ecb-ad72-0b0a7eea058b');\n",
       "var x = new MutationObserver(function (mutations, observer) {{\n",
       "        var display = window.getComputedStyle(gd).display;\n",
       "        if (!display || display === 'none') {{\n",
       "            console.log([gd, 'removed!']);\n",
       "            Plotly.purge(gd);\n",
       "            observer.disconnect();\n",
       "        }}\n",
       "}});\n",
       "\n",
       "// Listen for the removal of the full notebook cells\n",
       "var notebookContainer = gd.closest('#notebook-container');\n",
       "if (notebookContainer) {{\n",
       "    x.observe(notebookContainer, {childList: true});\n",
       "}}\n",
       "\n",
       "// Listen for the clearing of the current output cell\n",
       "var outputEl = gd.closest('.output');\n",
       "if (outputEl) {{\n",
       "    x.observe(outputEl, {childList: true});\n",
       "}}\n",
       "\n",
       "                        })                };                });            </script>        </div>"
      ]
     },
     "metadata": {},
     "output_type": "display_data"
    }
   ],
   "source": [
    "# plot\n",
    "domain = serial_killers_by_active['time_of_active_range']\n",
    "fig = go.Figure()\n",
    "fig.add_trace(go.Bar(x = domain, y = serial_killers_by_active['avg_proven_victims']))\n",
    "fig.update_layout(title = 'Średnia ilość ofiar w zależności od czasu aktywności')\n",
    "iplot(fig)"
   ]
  },
  {
   "cell_type": "markdown",
   "id": "5b86487a",
   "metadata": {},
   "source": [
    "## Analiza ilości ofiar w zależności od czasu aktywności\n",
    "Nie można jednoznacznie określić zależności między ilością lat aktywności a ilością udowodnionych ofiar danego seryjnego mordercy. Z początku można by przypuszczać, że im dłużej morderca jest aktywny tym więcej ma ofiar, jednak w pokazanym zestawieniu nie widać takiej zależności. Wynikać może to z wielu czynników, ponieważ seryjni mordecy to bardzo złożony temat i o ile często zabijają oni w jakiś odstępach czasu to czasy te mogą być bardzo długie (np. raz w roku czy nawet raz na 10 lat)."
   ]
  },
  {
   "cell_type": "code",
   "execution_count": 24,
   "id": "7653be2a",
   "metadata": {},
   "outputs": [
    {
     "data": {
      "text/plain": [
       "array(['United States',\n",
       "       'United Kingdom\\r\\nIreland (suspected)\\r\\nWest Germany (suspected)\\r\\nNetherlands (suspected)\\r\\nFrance (suspected)',\n",
       "       'Austria', 'Italy', 'Indonesia', 'Soviet Union', 'United Kingdom',\n",
       "       'Mexico', 'Allied-occupied Germany\\r\\nWest Germany', 'Netherlands',\n",
       "       'Japan', 'Turkey', 'Poland', 'West Germany', 'Brazil', 'Chile',\n",
       "       'Russia', 'South Korea', 'Pakistan', 'Latvia', 'South Africa',\n",
       "       'Argentina', 'Soviet Union\\r\\nRussia', 'Tunisia', 'Germany',\n",
       "       'Thailand\\r\\nNepal\\r\\nIndia\\r\\nMalaysia', 'Yemen', 'Spain',\n",
       "       'Australia', 'China', 'Austria\\r\\nUnited States\\r\\nCzechoslovakia',\n",
       "       'Canada', 'France', 'Bangladesh', 'Belgium', 'Ukraine', 'India',\n",
       "       'Soviet Union\\r\\nRussia\\r\\nUkraine',\n",
       "       'East Germany\\r\\nGermany\\r\\nFrance\\r\\nSpain\\r\\nCzech Republic (suspected)\\r\\nItaly (suspected)',\n",
       "       'German Empire\\r\\nGermany', 'Denmark', 'China\\r\\nJapan',\n",
       "       'Spain\\r\\nFrance (claimed)\\r\\nItaly (claimed)',\n",
       "       'Canada\\r\\nUnited States', 'Colombia', 'Cyprus', 'Belarus',\n",
       "       'Costa Rica', 'United States\\r\\n Portuguese Angola',\n",
       "       'Switzerland\\r\\nFrance\\r\\nUnited States\\r\\nYugoslavia (suspected)\\r\\nItaly (suspected)',\n",
       "       'Czechoslovakia', 'Singapore', 'Swaziland', 'Greece',\n",
       "       'Austria-Hungary', 'Iran',\n",
       "       'France\\r\\nGermany (suspected)\\r\\nSwitzerland (suspected)',\n",
       "       'Ecuador', 'United States\\r\\nCanada',\n",
       "       'Soviet Union\\r\\nRussia\\r\\nTajikistan', 'Romania', 'Afghanistan',\n",
       "       'Peru', 'France\\r\\nBelgium', 'Venezuela',\n",
       "       'United States\\r\\nMexico', 'Colombia\\r\\nEcuador\\r\\nVenezuela',\n",
       "       'Colombia\\r\\nPeru\\r\\nEcuador',\n",
       "       'Colombia\\r\\nEcuador\\r\\nBrazil (alleged)',\n",
       "       'Soviet Union\\r\\nUkraine', 'Morocco',\n",
       "       'Kingdom of Romania\\r\\nYugoslavia\\r\\nHungary (alleged)',\n",
       "       'Ottoman Empire\\r\\n Iraq\\r\\n Iran', 'Egypt'], dtype=object)"
      ]
     },
     "metadata": {},
     "output_type": "display_data"
    }
   ],
   "source": [
    "# clean Country\n",
    "# show unique of 'Proven victims'\n",
    "display(serial_killers['Country'].unique())"
   ]
  },
  {
   "cell_type": "code",
   "execution_count": 25,
   "id": "46a2f15f",
   "metadata": {},
   "outputs": [
    {
     "name": "stderr",
     "output_type": "stream",
     "text": [
      "/var/folders/dl/n6r7g5t96w30wn8vg3gb44640000gn/T/ipykernel_12471/2258843393.py:41: FutureWarning:\n",
      "\n",
      "The frame.append method is deprecated and will be removed from pandas in a future version. Use pandas.concat instead.\n",
      "\n",
      "/var/folders/dl/n6r7g5t96w30wn8vg3gb44640000gn/T/ipykernel_12471/2258843393.py:41: FutureWarning:\n",
      "\n",
      "The frame.append method is deprecated and will be removed from pandas in a future version. Use pandas.concat instead.\n",
      "\n",
      "/var/folders/dl/n6r7g5t96w30wn8vg3gb44640000gn/T/ipykernel_12471/2258843393.py:41: FutureWarning:\n",
      "\n",
      "The frame.append method is deprecated and will be removed from pandas in a future version. Use pandas.concat instead.\n",
      "\n",
      "/var/folders/dl/n6r7g5t96w30wn8vg3gb44640000gn/T/ipykernel_12471/2258843393.py:41: FutureWarning:\n",
      "\n",
      "The frame.append method is deprecated and will be removed from pandas in a future version. Use pandas.concat instead.\n",
      "\n",
      "/var/folders/dl/n6r7g5t96w30wn8vg3gb44640000gn/T/ipykernel_12471/2258843393.py:41: FutureWarning:\n",
      "\n",
      "The frame.append method is deprecated and will be removed from pandas in a future version. Use pandas.concat instead.\n",
      "\n",
      "/var/folders/dl/n6r7g5t96w30wn8vg3gb44640000gn/T/ipykernel_12471/2258843393.py:41: FutureWarning:\n",
      "\n",
      "The frame.append method is deprecated and will be removed from pandas in a future version. Use pandas.concat instead.\n",
      "\n",
      "/var/folders/dl/n6r7g5t96w30wn8vg3gb44640000gn/T/ipykernel_12471/2258843393.py:41: FutureWarning:\n",
      "\n",
      "The frame.append method is deprecated and will be removed from pandas in a future version. Use pandas.concat instead.\n",
      "\n",
      "/var/folders/dl/n6r7g5t96w30wn8vg3gb44640000gn/T/ipykernel_12471/2258843393.py:41: FutureWarning:\n",
      "\n",
      "The frame.append method is deprecated and will be removed from pandas in a future version. Use pandas.concat instead.\n",
      "\n",
      "/var/folders/dl/n6r7g5t96w30wn8vg3gb44640000gn/T/ipykernel_12471/2258843393.py:41: FutureWarning:\n",
      "\n",
      "The frame.append method is deprecated and will be removed from pandas in a future version. Use pandas.concat instead.\n",
      "\n",
      "/var/folders/dl/n6r7g5t96w30wn8vg3gb44640000gn/T/ipykernel_12471/2258843393.py:41: FutureWarning:\n",
      "\n",
      "The frame.append method is deprecated and will be removed from pandas in a future version. Use pandas.concat instead.\n",
      "\n",
      "/var/folders/dl/n6r7g5t96w30wn8vg3gb44640000gn/T/ipykernel_12471/2258843393.py:41: FutureWarning:\n",
      "\n",
      "The frame.append method is deprecated and will be removed from pandas in a future version. Use pandas.concat instead.\n",
      "\n",
      "/var/folders/dl/n6r7g5t96w30wn8vg3gb44640000gn/T/ipykernel_12471/2258843393.py:41: FutureWarning:\n",
      "\n",
      "The frame.append method is deprecated and will be removed from pandas in a future version. Use pandas.concat instead.\n",
      "\n",
      "/var/folders/dl/n6r7g5t96w30wn8vg3gb44640000gn/T/ipykernel_12471/2258843393.py:41: FutureWarning:\n",
      "\n",
      "The frame.append method is deprecated and will be removed from pandas in a future version. Use pandas.concat instead.\n",
      "\n",
      "/var/folders/dl/n6r7g5t96w30wn8vg3gb44640000gn/T/ipykernel_12471/2258843393.py:41: FutureWarning:\n",
      "\n",
      "The frame.append method is deprecated and will be removed from pandas in a future version. Use pandas.concat instead.\n",
      "\n",
      "/var/folders/dl/n6r7g5t96w30wn8vg3gb44640000gn/T/ipykernel_12471/2258843393.py:41: FutureWarning:\n",
      "\n",
      "The frame.append method is deprecated and will be removed from pandas in a future version. Use pandas.concat instead.\n",
      "\n",
      "/var/folders/dl/n6r7g5t96w30wn8vg3gb44640000gn/T/ipykernel_12471/2258843393.py:41: FutureWarning:\n",
      "\n",
      "The frame.append method is deprecated and will be removed from pandas in a future version. Use pandas.concat instead.\n",
      "\n",
      "/var/folders/dl/n6r7g5t96w30wn8vg3gb44640000gn/T/ipykernel_12471/2258843393.py:41: FutureWarning:\n",
      "\n",
      "The frame.append method is deprecated and will be removed from pandas in a future version. Use pandas.concat instead.\n",
      "\n",
      "/var/folders/dl/n6r7g5t96w30wn8vg3gb44640000gn/T/ipykernel_12471/2258843393.py:41: FutureWarning:\n",
      "\n",
      "The frame.append method is deprecated and will be removed from pandas in a future version. Use pandas.concat instead.\n",
      "\n",
      "/var/folders/dl/n6r7g5t96w30wn8vg3gb44640000gn/T/ipykernel_12471/2258843393.py:41: FutureWarning:\n",
      "\n",
      "The frame.append method is deprecated and will be removed from pandas in a future version. Use pandas.concat instead.\n",
      "\n",
      "/var/folders/dl/n6r7g5t96w30wn8vg3gb44640000gn/T/ipykernel_12471/2258843393.py:41: FutureWarning:\n",
      "\n",
      "The frame.append method is deprecated and will be removed from pandas in a future version. Use pandas.concat instead.\n",
      "\n",
      "/var/folders/dl/n6r7g5t96w30wn8vg3gb44640000gn/T/ipykernel_12471/2258843393.py:41: FutureWarning:\n",
      "\n",
      "The frame.append method is deprecated and will be removed from pandas in a future version. Use pandas.concat instead.\n",
      "\n",
      "/var/folders/dl/n6r7g5t96w30wn8vg3gb44640000gn/T/ipykernel_12471/2258843393.py:41: FutureWarning:\n",
      "\n",
      "The frame.append method is deprecated and will be removed from pandas in a future version. Use pandas.concat instead.\n",
      "\n",
      "/var/folders/dl/n6r7g5t96w30wn8vg3gb44640000gn/T/ipykernel_12471/2258843393.py:41: FutureWarning:\n",
      "\n",
      "The frame.append method is deprecated and will be removed from pandas in a future version. Use pandas.concat instead.\n",
      "\n",
      "/var/folders/dl/n6r7g5t96w30wn8vg3gb44640000gn/T/ipykernel_12471/2258843393.py:41: FutureWarning:\n",
      "\n",
      "The frame.append method is deprecated and will be removed from pandas in a future version. Use pandas.concat instead.\n",
      "\n",
      "/var/folders/dl/n6r7g5t96w30wn8vg3gb44640000gn/T/ipykernel_12471/2258843393.py:41: FutureWarning:\n",
      "\n",
      "The frame.append method is deprecated and will be removed from pandas in a future version. Use pandas.concat instead.\n",
      "\n",
      "/var/folders/dl/n6r7g5t96w30wn8vg3gb44640000gn/T/ipykernel_12471/2258843393.py:41: FutureWarning:\n",
      "\n",
      "The frame.append method is deprecated and will be removed from pandas in a future version. Use pandas.concat instead.\n",
      "\n",
      "/var/folders/dl/n6r7g5t96w30wn8vg3gb44640000gn/T/ipykernel_12471/2258843393.py:41: FutureWarning:\n",
      "\n",
      "The frame.append method is deprecated and will be removed from pandas in a future version. Use pandas.concat instead.\n",
      "\n",
      "/var/folders/dl/n6r7g5t96w30wn8vg3gb44640000gn/T/ipykernel_12471/2258843393.py:41: FutureWarning:\n",
      "\n",
      "The frame.append method is deprecated and will be removed from pandas in a future version. Use pandas.concat instead.\n",
      "\n",
      "/var/folders/dl/n6r7g5t96w30wn8vg3gb44640000gn/T/ipykernel_12471/2258843393.py:41: FutureWarning:\n",
      "\n",
      "The frame.append method is deprecated and will be removed from pandas in a future version. Use pandas.concat instead.\n",
      "\n",
      "/var/folders/dl/n6r7g5t96w30wn8vg3gb44640000gn/T/ipykernel_12471/2258843393.py:41: FutureWarning:\n",
      "\n",
      "The frame.append method is deprecated and will be removed from pandas in a future version. Use pandas.concat instead.\n",
      "\n",
      "/var/folders/dl/n6r7g5t96w30wn8vg3gb44640000gn/T/ipykernel_12471/2258843393.py:41: FutureWarning:\n",
      "\n",
      "The frame.append method is deprecated and will be removed from pandas in a future version. Use pandas.concat instead.\n",
      "\n",
      "/var/folders/dl/n6r7g5t96w30wn8vg3gb44640000gn/T/ipykernel_12471/2258843393.py:41: FutureWarning:\n",
      "\n",
      "The frame.append method is deprecated and will be removed from pandas in a future version. Use pandas.concat instead.\n",
      "\n",
      "/var/folders/dl/n6r7g5t96w30wn8vg3gb44640000gn/T/ipykernel_12471/2258843393.py:41: FutureWarning:\n",
      "\n",
      "The frame.append method is deprecated and will be removed from pandas in a future version. Use pandas.concat instead.\n",
      "\n",
      "/var/folders/dl/n6r7g5t96w30wn8vg3gb44640000gn/T/ipykernel_12471/2258843393.py:41: FutureWarning:\n",
      "\n",
      "The frame.append method is deprecated and will be removed from pandas in a future version. Use pandas.concat instead.\n",
      "\n",
      "/var/folders/dl/n6r7g5t96w30wn8vg3gb44640000gn/T/ipykernel_12471/2258843393.py:41: FutureWarning:\n",
      "\n",
      "The frame.append method is deprecated and will be removed from pandas in a future version. Use pandas.concat instead.\n",
      "\n",
      "/var/folders/dl/n6r7g5t96w30wn8vg3gb44640000gn/T/ipykernel_12471/2258843393.py:41: FutureWarning:\n",
      "\n",
      "The frame.append method is deprecated and will be removed from pandas in a future version. Use pandas.concat instead.\n",
      "\n",
      "/var/folders/dl/n6r7g5t96w30wn8vg3gb44640000gn/T/ipykernel_12471/2258843393.py:41: FutureWarning:\n",
      "\n",
      "The frame.append method is deprecated and will be removed from pandas in a future version. Use pandas.concat instead.\n",
      "\n",
      "/var/folders/dl/n6r7g5t96w30wn8vg3gb44640000gn/T/ipykernel_12471/2258843393.py:41: FutureWarning:\n",
      "\n",
      "The frame.append method is deprecated and will be removed from pandas in a future version. Use pandas.concat instead.\n",
      "\n",
      "/var/folders/dl/n6r7g5t96w30wn8vg3gb44640000gn/T/ipykernel_12471/2258843393.py:41: FutureWarning:\n",
      "\n",
      "The frame.append method is deprecated and will be removed from pandas in a future version. Use pandas.concat instead.\n",
      "\n",
      "/var/folders/dl/n6r7g5t96w30wn8vg3gb44640000gn/T/ipykernel_12471/2258843393.py:41: FutureWarning:\n",
      "\n",
      "The frame.append method is deprecated and will be removed from pandas in a future version. Use pandas.concat instead.\n",
      "\n",
      "/var/folders/dl/n6r7g5t96w30wn8vg3gb44640000gn/T/ipykernel_12471/2258843393.py:41: FutureWarning:\n",
      "\n",
      "The frame.append method is deprecated and will be removed from pandas in a future version. Use pandas.concat instead.\n",
      "\n",
      "/var/folders/dl/n6r7g5t96w30wn8vg3gb44640000gn/T/ipykernel_12471/2258843393.py:41: FutureWarning:\n",
      "\n",
      "The frame.append method is deprecated and will be removed from pandas in a future version. Use pandas.concat instead.\n",
      "\n",
      "/var/folders/dl/n6r7g5t96w30wn8vg3gb44640000gn/T/ipykernel_12471/2258843393.py:41: FutureWarning:\n",
      "\n",
      "The frame.append method is deprecated and will be removed from pandas in a future version. Use pandas.concat instead.\n",
      "\n",
      "/var/folders/dl/n6r7g5t96w30wn8vg3gb44640000gn/T/ipykernel_12471/2258843393.py:41: FutureWarning:\n",
      "\n",
      "The frame.append method is deprecated and will be removed from pandas in a future version. Use pandas.concat instead.\n",
      "\n",
      "/var/folders/dl/n6r7g5t96w30wn8vg3gb44640000gn/T/ipykernel_12471/2258843393.py:41: FutureWarning:\n",
      "\n",
      "The frame.append method is deprecated and will be removed from pandas in a future version. Use pandas.concat instead.\n",
      "\n",
      "/var/folders/dl/n6r7g5t96w30wn8vg3gb44640000gn/T/ipykernel_12471/2258843393.py:41: FutureWarning:\n",
      "\n",
      "The frame.append method is deprecated and will be removed from pandas in a future version. Use pandas.concat instead.\n",
      "\n",
      "/var/folders/dl/n6r7g5t96w30wn8vg3gb44640000gn/T/ipykernel_12471/2258843393.py:41: FutureWarning:\n",
      "\n",
      "The frame.append method is deprecated and will be removed from pandas in a future version. Use pandas.concat instead.\n",
      "\n",
      "/var/folders/dl/n6r7g5t96w30wn8vg3gb44640000gn/T/ipykernel_12471/2258843393.py:41: FutureWarning:\n",
      "\n",
      "The frame.append method is deprecated and will be removed from pandas in a future version. Use pandas.concat instead.\n",
      "\n",
      "/var/folders/dl/n6r7g5t96w30wn8vg3gb44640000gn/T/ipykernel_12471/2258843393.py:41: FutureWarning:\n",
      "\n",
      "The frame.append method is deprecated and will be removed from pandas in a future version. Use pandas.concat instead.\n",
      "\n",
      "/var/folders/dl/n6r7g5t96w30wn8vg3gb44640000gn/T/ipykernel_12471/2258843393.py:41: FutureWarning:\n",
      "\n",
      "The frame.append method is deprecated and will be removed from pandas in a future version. Use pandas.concat instead.\n",
      "\n"
     ]
    },
    {
     "data": {
      "text/html": [
       "<div>\n",
       "<style scoped>\n",
       "    .dataframe tbody tr th:only-of-type {\n",
       "        vertical-align: middle;\n",
       "    }\n",
       "\n",
       "    .dataframe tbody tr th {\n",
       "        vertical-align: top;\n",
       "    }\n",
       "\n",
       "    .dataframe thead th {\n",
       "        text-align: right;\n",
       "    }\n",
       "</style>\n",
       "<table border=\"1\" class=\"dataframe\">\n",
       "  <thead>\n",
       "    <tr style=\"text-align: right;\">\n",
       "      <th></th>\n",
       "      <th>Name</th>\n",
       "      <th>Country</th>\n",
       "      <th>Years active</th>\n",
       "      <th>Proven victims</th>\n",
       "      <th>Possible victims</th>\n",
       "      <th>Notes</th>\n",
       "      <th>start_year</th>\n",
       "      <th>end_year</th>\n",
       "      <th>time_of_active</th>\n",
       "      <th>time_of_active_range</th>\n",
       "      <th>proven_victims</th>\n",
       "      <th>country_clean</th>\n",
       "    </tr>\n",
       "  </thead>\n",
       "  <tbody>\n",
       "    <tr>\n",
       "      <th>0</th>\n",
       "      <td>Charlie Brandt</td>\n",
       "      <td>United States</td>\n",
       "      <td>1971 to 2004</td>\n",
       "      <td>4</td>\n",
       "      <td>29</td>\n",
       "      <td>Committed suicide by hanging after murdering h...</td>\n",
       "      <td>1971.0</td>\n",
       "      <td>2004.0</td>\n",
       "      <td>33.0</td>\n",
       "      <td>more than 20</td>\n",
       "      <td>4</td>\n",
       "      <td>United States</td>\n",
       "    </tr>\n",
       "    <tr>\n",
       "      <th>1</th>\n",
       "      <td>Robert Black</td>\n",
       "      <td>United Kingdom\\r\\nIreland (suspected)\\r\\nWest ...</td>\n",
       "      <td>1981 to 1986</td>\n",
       "      <td>4</td>\n",
       "      <td>18+</td>\n",
       "      <td>Convicted of kidnapping, raping and murdering ...</td>\n",
       "      <td>1981.0</td>\n",
       "      <td>1986.0</td>\n",
       "      <td>5.0</td>\n",
       "      <td>from 4 to 5 years</td>\n",
       "      <td>4</td>\n",
       "      <td>France</td>\n",
       "    </tr>\n",
       "    <tr>\n",
       "      <th>2</th>\n",
       "      <td>Max Gufler</td>\n",
       "      <td>Austria</td>\n",
       "      <td>1946 to 1958</td>\n",
       "      <td>4</td>\n",
       "      <td>18</td>\n",
       "      <td>Poisoned and drowned four women, but suspected...</td>\n",
       "      <td>1946.0</td>\n",
       "      <td>1958.0</td>\n",
       "      <td>12.0</td>\n",
       "      <td>from 11 to 20 years</td>\n",
       "      <td>4</td>\n",
       "      <td>Austria</td>\n",
       "    </tr>\n",
       "    <tr>\n",
       "      <th>3</th>\n",
       "      <td>Ernesto Picchioni</td>\n",
       "      <td>Italy</td>\n",
       "      <td>1949 and earlier</td>\n",
       "      <td>4</td>\n",
       "      <td>16</td>\n",
       "      <td>Murdered people who approached his home; died ...</td>\n",
       "      <td>NaN</td>\n",
       "      <td>1949.0</td>\n",
       "      <td>NaN</td>\n",
       "      <td>more than 20</td>\n",
       "      <td>4</td>\n",
       "      <td>Italy</td>\n",
       "    </tr>\n",
       "    <tr>\n",
       "      <th>4</th>\n",
       "      <td>Baekuni</td>\n",
       "      <td>Indonesia</td>\n",
       "      <td>1993 to 2010</td>\n",
       "      <td>4</td>\n",
       "      <td>14</td>\n",
       "      <td>Pedophile who raped and killed young boys; ini...</td>\n",
       "      <td>1993.0</td>\n",
       "      <td>2010.0</td>\n",
       "      <td>17.0</td>\n",
       "      <td>from 11 to 20 years</td>\n",
       "      <td>4</td>\n",
       "      <td>Indonesia</td>\n",
       "    </tr>\n",
       "  </tbody>\n",
       "</table>\n",
       "</div>"
      ],
      "text/plain": [
       "                Name                                            Country  \\\n",
       "0     Charlie Brandt                                      United States   \n",
       "1       Robert Black  United Kingdom\\r\\nIreland (suspected)\\r\\nWest ...   \n",
       "2         Max Gufler                                            Austria   \n",
       "3  Ernesto Picchioni                                              Italy   \n",
       "4            Baekuni                                          Indonesia   \n",
       "\n",
       "       Years active Proven victims Possible victims  \\\n",
       "0      1971 to 2004              4               29   \n",
       "1      1981 to 1986              4              18+   \n",
       "2      1946 to 1958              4               18   \n",
       "3  1949 and earlier              4               16   \n",
       "4      1993 to 2010              4               14   \n",
       "\n",
       "                                               Notes  start_year  end_year  \\\n",
       "0  Committed suicide by hanging after murdering h...      1971.0    2004.0   \n",
       "1  Convicted of kidnapping, raping and murdering ...      1981.0    1986.0   \n",
       "2  Poisoned and drowned four women, but suspected...      1946.0    1958.0   \n",
       "3  Murdered people who approached his home; died ...         NaN    1949.0   \n",
       "4  Pedophile who raped and killed young boys; ini...      1993.0    2010.0   \n",
       "\n",
       "   time_of_active time_of_active_range  proven_victims  country_clean  \n",
       "0            33.0         more than 20               4  United States  \n",
       "1             5.0    from 4 to 5 years               4         France  \n",
       "2            12.0  from 11 to 20 years               4        Austria  \n",
       "3             NaN         more than 20               4          Italy  \n",
       "4            17.0  from 11 to 20 years               4      Indonesia  "
      ]
     },
     "metadata": {},
     "output_type": "display_data"
    }
   ],
   "source": [
    "# define funcion of clean country\n",
    "def country_cleaning(row, df):\n",
    "    \"\"\"\n",
    "    devide by countries (duplicate when there is more than one countries and create new row)\n",
    "    (suspected) and (alleged) will be removed\n",
    "    \"\"\"\n",
    "    #print(row['Country'])\n",
    "    list_of_countries = row['Country'].split('\\r\\n')\n",
    "    if(len(list_of_countries) == 1):\n",
    "        #print(f\"One country in {row['Country']}\")\n",
    "        country = row['Country']\n",
    "        country.strip()\n",
    "        row['country_clean'] = country\n",
    "    else:\n",
    "        item = 0\n",
    "        while (item < len(list_of_countries)):\n",
    "            country = list_of_countries[item]\n",
    "            #print(f\"Item = {item}, country = {list_of_countries[item]}\")\n",
    "            if(\"(suspected)\" in country):\n",
    "                #print(f\"Country before reformat = {country}\")\n",
    "                country = list_of_countries[item].replace(' (suspected)', '')\n",
    "                #print(f\"Country after reformat = {country}\")\n",
    "            if(\"(alleged)\" in country):\n",
    "                #print(f\"Country before reformat = {country}\")\n",
    "                country = list_of_countries[item].replace(' (alleged)', '')\n",
    "                #print(f\"Country after reformat = {country}\")\n",
    "            if(\"(claimed)\" in country):\n",
    "                #print(f\"Country before reformat = {country}\")\n",
    "                country = list_of_countries[item].replace(' (claimed)', '')\n",
    "                #print(f\"Country after reformat = {country}\"\n",
    "            country.strip()\n",
    "            if (item == 0):\n",
    "                #print(\"add only element in new column\")\n",
    "                country.strip()\n",
    "                row['country_clean'] = country\n",
    "            else:\n",
    "                #print(\"check if it work\")\n",
    "                new_row = row\n",
    "                country.strip()\n",
    "                new_row['country_clean'] = country\n",
    "                df = df.append(new_row)\n",
    "                #display(df[df['Country_clean'] == country])\n",
    "            item = item + 1\n",
    "    return row\n",
    "        \n",
    "serial_killers = serial_killers.apply(lambda x: country_cleaning(x, serial_killers), axis = 1)\n",
    "display(serial_killers.head())"
   ]
  },
  {
   "cell_type": "code",
   "execution_count": 50,
   "id": "1d3ebdf0",
   "metadata": {},
   "outputs": [
    {
     "data": {
      "text/html": [
       "<div>\n",
       "<style scoped>\n",
       "    .dataframe tbody tr th:only-of-type {\n",
       "        vertical-align: middle;\n",
       "    }\n",
       "\n",
       "    .dataframe tbody tr th {\n",
       "        vertical-align: top;\n",
       "    }\n",
       "\n",
       "    .dataframe thead th {\n",
       "        text-align: right;\n",
       "    }\n",
       "</style>\n",
       "<table border=\"1\" class=\"dataframe\">\n",
       "  <thead>\n",
       "    <tr style=\"text-align: right;\">\n",
       "      <th></th>\n",
       "      <th>country</th>\n",
       "      <th>number_of_serial_killers</th>\n",
       "      <th>proven_victims_mean</th>\n",
       "      <th>proven_victims_sum</th>\n",
       "      <th>time_of_active_mean</th>\n",
       "    </tr>\n",
       "  </thead>\n",
       "  <tbody>\n",
       "    <tr>\n",
       "      <th>0</th>\n",
       "      <td>Iran</td>\n",
       "      <td>1</td>\n",
       "      <td>33.0</td>\n",
       "      <td>33</td>\n",
       "      <td>27.000000</td>\n",
       "    </tr>\n",
       "    <tr>\n",
       "      <th>1</th>\n",
       "      <td>Portuguese Angola</td>\n",
       "      <td>1</td>\n",
       "      <td>5.0</td>\n",
       "      <td>5</td>\n",
       "      <td>14.000000</td>\n",
       "    </tr>\n",
       "    <tr>\n",
       "      <th>2</th>\n",
       "      <td>Afghanistan</td>\n",
       "      <td>1</td>\n",
       "      <td>20.0</td>\n",
       "      <td>20</td>\n",
       "      <td>10.000000</td>\n",
       "    </tr>\n",
       "    <tr>\n",
       "      <th>3</th>\n",
       "      <td>Argentina</td>\n",
       "      <td>3</td>\n",
       "      <td>13.0</td>\n",
       "      <td>39</td>\n",
       "      <td>3.666667</td>\n",
       "    </tr>\n",
       "    <tr>\n",
       "      <th>4</th>\n",
       "      <td>Australia</td>\n",
       "      <td>5</td>\n",
       "      <td>8.4</td>\n",
       "      <td>42</td>\n",
       "      <td>6.000000</td>\n",
       "    </tr>\n",
       "  </tbody>\n",
       "</table>\n",
       "</div>"
      ],
      "text/plain": [
       "              country  number_of_serial_killers  proven_victims_mean  \\\n",
       "0                Iran                         1                 33.0   \n",
       "1   Portuguese Angola                         1                  5.0   \n",
       "2         Afghanistan                         1                 20.0   \n",
       "3           Argentina                         3                 13.0   \n",
       "4           Australia                         5                  8.4   \n",
       "\n",
       "   proven_victims_sum  time_of_active_mean  \n",
       "0                  33            27.000000  \n",
       "1                   5            14.000000  \n",
       "2                  20            10.000000  \n",
       "3                  39             3.666667  \n",
       "4                  42             6.000000  "
      ]
     },
     "metadata": {},
     "output_type": "display_data"
    }
   ],
   "source": [
    "# analysis by country\n",
    "serial_killers_by_country = serial_killers.pivot_table(values = {'proven_victims', 'time_of_active'}, index = {'country_clean'}, aggfunc = {'mean', 'sum', 'count'})\n",
    "serial_killers_by_country.reset_index(inplace = True)\n",
    "serial_killers_by_country.columns = serial_killers_by_country.columns.map('_'.join)\n",
    "serial_killers_by_country.rename(columns = {'country_clean_' : 'country', 'proven_victims_count' : 'number_of_serial_killers'}, inplace = True)\n",
    "serial_killers_by_country.drop(columns = {'time_of_active_count', 'time_of_active_sum'}, inplace = True)\n",
    "display(serial_killers_by_country.head())"
   ]
  },
  {
   "cell_type": "code",
   "execution_count": 47,
   "id": "70d8be4b",
   "metadata": {},
   "outputs": [
    {
     "data": {
      "application/vnd.plotly.v1+json": {
       "config": {
        "linkText": "Export to plot.ly",
        "plotlyServerURL": "https://plot.ly",
        "showLink": false
       },
       "data": [
        {
         "type": "bar",
         "x": [
          " Iran",
          " Portuguese Angola",
          "Afghanistan",
          "Argentina",
          "Australia",
          "Austria",
          "Austria-Hungary",
          "Bangladesh",
          "Belarus",
          "Belgium",
          "Brazil",
          "Canada",
          "Chile",
          "China",
          "Colombia",
          "Costa Rica",
          "Cyprus",
          "Czechoslovakia",
          "Denmark",
          "Ecuador",
          "Egypt",
          "France",
          "Germany",
          "Greece",
          "Hungary",
          "India",
          "Indonesia",
          "Iran",
          "Italy",
          "Japan",
          "Latvia",
          "Malaysia",
          "Mexico",
          "Morocco",
          "Netherlands",
          "Pakistan",
          "Peru",
          "Poland",
          "Romania",
          "Russia",
          "Singapore",
          "South Africa",
          "South Korea",
          "Soviet Union",
          "Spain",
          "Swaziland",
          "Switzerland",
          "Tajikistan",
          "Tunisia",
          "Turkey",
          "Ukraine",
          "United Kingdom",
          "United States",
          "Venezuela",
          "West Germany",
          "Yemen"
         ],
         "xaxis": "x",
         "y": [
          1,
          1,
          1,
          3,
          5,
          1,
          1,
          2,
          1,
          3,
          9,
          6,
          1,
          9,
          4,
          2,
          1,
          2,
          1,
          2,
          1,
          7,
          4,
          1,
          1,
          10,
          3,
          3,
          9,
          5,
          2,
          1,
          5,
          1,
          1,
          2,
          1,
          2,
          1,
          25,
          1,
          19,
          4,
          13,
          3,
          1,
          1,
          1,
          1,
          4,
          5,
          12,
          93,
          2,
          3,
          1
         ],
         "yaxis": "y"
        },
        {
         "type": "bar",
         "x": [
          " Iran",
          " Portuguese Angola",
          "Afghanistan",
          "Argentina",
          "Australia",
          "Austria",
          "Austria-Hungary",
          "Bangladesh",
          "Belarus",
          "Belgium",
          "Brazil",
          "Canada",
          "Chile",
          "China",
          "Colombia",
          "Costa Rica",
          "Cyprus",
          "Czechoslovakia",
          "Denmark",
          "Ecuador",
          "Egypt",
          "France",
          "Germany",
          "Greece",
          "Hungary",
          "India",
          "Indonesia",
          "Iran",
          "Italy",
          "Japan",
          "Latvia",
          "Malaysia",
          "Mexico",
          "Morocco",
          "Netherlands",
          "Pakistan",
          "Peru",
          "Poland",
          "Romania",
          "Russia",
          "Singapore",
          "South Africa",
          "South Korea",
          "Soviet Union",
          "Spain",
          "Swaziland",
          "Switzerland",
          "Tajikistan",
          "Tunisia",
          "Turkey",
          "Ukraine",
          "United Kingdom",
          "United States",
          "Venezuela",
          "West Germany",
          "Yemen"
         ],
         "xaxis": "x2",
         "y": [
          33,
          5,
          20,
          13,
          8.4,
          4,
          24,
          9,
          6,
          11,
          35.55555555555556,
          17.666666666666668,
          14,
          23.333333333333332,
          16,
          12.5,
          7,
          8,
          9,
          66.5,
          32,
          9.571428571428571,
          18.75,
          27,
          35,
          25.4,
          19,
          18.666666666666668,
          13.666666666666666,
          6.8,
          16,
          12,
          16.6,
          36,
          3,
          57,
          17,
          10,
          21,
          18.04,
          5,
          16.263157894736842,
          15,
          21.23076923076923,
          13,
          28,
          23,
          22,
          13,
          10.5,
          25.2,
          7.25,
          11.720430107526882,
          76.5,
          9,
          12
         ],
         "yaxis": "y2"
        },
        {
         "type": "bar",
         "x": [
          " Iran",
          " Portuguese Angola",
          "Afghanistan",
          "Argentina",
          "Australia",
          "Austria",
          "Austria-Hungary",
          "Bangladesh",
          "Belarus",
          "Belgium",
          "Brazil",
          "Canada",
          "Chile",
          "China",
          "Colombia",
          "Costa Rica",
          "Cyprus",
          "Czechoslovakia",
          "Denmark",
          "Ecuador",
          "Egypt",
          "France",
          "Germany",
          "Greece",
          "Hungary",
          "India",
          "Indonesia",
          "Iran",
          "Italy",
          "Japan",
          "Latvia",
          "Malaysia",
          "Mexico",
          "Morocco",
          "Netherlands",
          "Pakistan",
          "Peru",
          "Poland",
          "Romania",
          "Russia",
          "Singapore",
          "South Africa",
          "South Korea",
          "Soviet Union",
          "Spain",
          "Swaziland",
          "Switzerland",
          "Tajikistan",
          "Tunisia",
          "Turkey",
          "Ukraine",
          "United Kingdom",
          "United States",
          "Venezuela",
          "West Germany",
          "Yemen"
         ],
         "xaxis": "x3",
         "y": [
          33,
          5,
          20,
          39,
          42,
          4,
          24,
          18,
          6,
          33,
          320,
          106,
          14,
          210,
          64,
          25,
          7,
          16,
          9,
          133,
          32,
          67,
          75,
          27,
          35,
          254,
          57,
          56,
          123,
          34,
          32,
          12,
          83,
          36,
          3,
          114,
          17,
          20,
          21,
          451,
          5,
          309,
          60,
          276,
          39,
          28,
          23,
          22,
          13,
          42,
          126,
          87,
          1090,
          153,
          27,
          12
         ],
         "yaxis": "y3"
        },
        {
         "type": "bar",
         "x": [
          " Iran",
          " Portuguese Angola",
          "Afghanistan",
          "Argentina",
          "Australia",
          "Austria",
          "Austria-Hungary",
          "Bangladesh",
          "Belarus",
          "Belgium",
          "Brazil",
          "Canada",
          "Chile",
          "China",
          "Colombia",
          "Costa Rica",
          "Cyprus",
          "Czechoslovakia",
          "Denmark",
          "Ecuador",
          "Egypt",
          "France",
          "Germany",
          "Greece",
          "Hungary",
          "India",
          "Indonesia",
          "Iran",
          "Italy",
          "Japan",
          "Latvia",
          "Malaysia",
          "Mexico",
          "Morocco",
          "Netherlands",
          "Pakistan",
          "Peru",
          "Poland",
          "Romania",
          "Russia",
          "Singapore",
          "South Africa",
          "South Korea",
          "Soviet Union",
          "Spain",
          "Swaziland",
          "Switzerland",
          "Tajikistan",
          "Tunisia",
          "Turkey",
          "Ukraine",
          "United Kingdom",
          "United States",
          "Venezuela",
          "West Germany",
          "Yemen"
         ],
         "xaxis": "x4",
         "y": [
          27,
          14,
          10,
          3.6666666666666665,
          6,
          12,
          4,
          4,
          6,
          7,
          8.555555555555555,
          10.166666666666666,
          3,
          5.666666666666667,
          12,
          5.5,
          2,
          10.5,
          7,
          5.5,
          7,
          7.285714285714286,
          18.5,
          12,
          10,
          3.2,
          14,
          1.6666666666666667,
          11.125,
          5.8,
          3,
          1,
          14.8,
          null,
          1,
          0.5,
          1,
          8,
          18,
          6.08,
          0,
          4.631578947368421,
          3.25,
          4.416666666666667,
          6.666666666666667,
          1,
          17,
          18,
          8,
          3.6666666666666665,
          8.4,
          3.5454545454545454,
          9.623655913978494,
          4.5,
          9,
          8
         ],
         "yaxis": "y4"
        }
       ],
       "layout": {
        "annotations": [
         {
          "font": {
           "size": 16
          },
          "showarrow": false,
          "text": "Ilość seryjnych morderców",
          "x": 0.5,
          "xanchor": "center",
          "xref": "paper",
          "y": 1,
          "yanchor": "bottom",
          "yref": "paper"
         },
         {
          "font": {
           "size": 16
          },
          "showarrow": false,
          "text": "Średnia ilość ofiar seryjnych morderców",
          "x": 0.5,
          "xanchor": "center",
          "xref": "paper",
          "y": 0.71875,
          "yanchor": "bottom",
          "yref": "paper"
         },
         {
          "font": {
           "size": 16
          },
          "showarrow": false,
          "text": "Suma ilość ofiar seryjnych morderców",
          "x": 0.5,
          "xanchor": "center",
          "xref": "paper",
          "y": 0.4375,
          "yanchor": "bottom",
          "yref": "paper"
         },
         {
          "font": {
           "size": 16
          },
          "showarrow": false,
          "text": "Średni czas aktywności seryjnego mordercy",
          "x": 0.5,
          "xanchor": "center",
          "xref": "paper",
          "y": 0.15625,
          "yanchor": "bottom",
          "yref": "paper"
         }
        ],
        "showlegend": false,
        "template": {
         "data": {
          "bar": [
           {
            "error_x": {
             "color": "#2a3f5f"
            },
            "error_y": {
             "color": "#2a3f5f"
            },
            "marker": {
             "line": {
              "color": "#E5ECF6",
              "width": 0.5
             },
             "pattern": {
              "fillmode": "overlay",
              "size": 10,
              "solidity": 0.2
             }
            },
            "type": "bar"
           }
          ],
          "barpolar": [
           {
            "marker": {
             "line": {
              "color": "#E5ECF6",
              "width": 0.5
             },
             "pattern": {
              "fillmode": "overlay",
              "size": 10,
              "solidity": 0.2
             }
            },
            "type": "barpolar"
           }
          ],
          "carpet": [
           {
            "aaxis": {
             "endlinecolor": "#2a3f5f",
             "gridcolor": "white",
             "linecolor": "white",
             "minorgridcolor": "white",
             "startlinecolor": "#2a3f5f"
            },
            "baxis": {
             "endlinecolor": "#2a3f5f",
             "gridcolor": "white",
             "linecolor": "white",
             "minorgridcolor": "white",
             "startlinecolor": "#2a3f5f"
            },
            "type": "carpet"
           }
          ],
          "choropleth": [
           {
            "colorbar": {
             "outlinewidth": 0,
             "ticks": ""
            },
            "type": "choropleth"
           }
          ],
          "contour": [
           {
            "colorbar": {
             "outlinewidth": 0,
             "ticks": ""
            },
            "colorscale": [
             [
              0,
              "#0d0887"
             ],
             [
              0.1111111111111111,
              "#46039f"
             ],
             [
              0.2222222222222222,
              "#7201a8"
             ],
             [
              0.3333333333333333,
              "#9c179e"
             ],
             [
              0.4444444444444444,
              "#bd3786"
             ],
             [
              0.5555555555555556,
              "#d8576b"
             ],
             [
              0.6666666666666666,
              "#ed7953"
             ],
             [
              0.7777777777777778,
              "#fb9f3a"
             ],
             [
              0.8888888888888888,
              "#fdca26"
             ],
             [
              1,
              "#f0f921"
             ]
            ],
            "type": "contour"
           }
          ],
          "contourcarpet": [
           {
            "colorbar": {
             "outlinewidth": 0,
             "ticks": ""
            },
            "type": "contourcarpet"
           }
          ],
          "heatmap": [
           {
            "colorbar": {
             "outlinewidth": 0,
             "ticks": ""
            },
            "colorscale": [
             [
              0,
              "#0d0887"
             ],
             [
              0.1111111111111111,
              "#46039f"
             ],
             [
              0.2222222222222222,
              "#7201a8"
             ],
             [
              0.3333333333333333,
              "#9c179e"
             ],
             [
              0.4444444444444444,
              "#bd3786"
             ],
             [
              0.5555555555555556,
              "#d8576b"
             ],
             [
              0.6666666666666666,
              "#ed7953"
             ],
             [
              0.7777777777777778,
              "#fb9f3a"
             ],
             [
              0.8888888888888888,
              "#fdca26"
             ],
             [
              1,
              "#f0f921"
             ]
            ],
            "type": "heatmap"
           }
          ],
          "heatmapgl": [
           {
            "colorbar": {
             "outlinewidth": 0,
             "ticks": ""
            },
            "colorscale": [
             [
              0,
              "#0d0887"
             ],
             [
              0.1111111111111111,
              "#46039f"
             ],
             [
              0.2222222222222222,
              "#7201a8"
             ],
             [
              0.3333333333333333,
              "#9c179e"
             ],
             [
              0.4444444444444444,
              "#bd3786"
             ],
             [
              0.5555555555555556,
              "#d8576b"
             ],
             [
              0.6666666666666666,
              "#ed7953"
             ],
             [
              0.7777777777777778,
              "#fb9f3a"
             ],
             [
              0.8888888888888888,
              "#fdca26"
             ],
             [
              1,
              "#f0f921"
             ]
            ],
            "type": "heatmapgl"
           }
          ],
          "histogram": [
           {
            "marker": {
             "pattern": {
              "fillmode": "overlay",
              "size": 10,
              "solidity": 0.2
             }
            },
            "type": "histogram"
           }
          ],
          "histogram2d": [
           {
            "colorbar": {
             "outlinewidth": 0,
             "ticks": ""
            },
            "colorscale": [
             [
              0,
              "#0d0887"
             ],
             [
              0.1111111111111111,
              "#46039f"
             ],
             [
              0.2222222222222222,
              "#7201a8"
             ],
             [
              0.3333333333333333,
              "#9c179e"
             ],
             [
              0.4444444444444444,
              "#bd3786"
             ],
             [
              0.5555555555555556,
              "#d8576b"
             ],
             [
              0.6666666666666666,
              "#ed7953"
             ],
             [
              0.7777777777777778,
              "#fb9f3a"
             ],
             [
              0.8888888888888888,
              "#fdca26"
             ],
             [
              1,
              "#f0f921"
             ]
            ],
            "type": "histogram2d"
           }
          ],
          "histogram2dcontour": [
           {
            "colorbar": {
             "outlinewidth": 0,
             "ticks": ""
            },
            "colorscale": [
             [
              0,
              "#0d0887"
             ],
             [
              0.1111111111111111,
              "#46039f"
             ],
             [
              0.2222222222222222,
              "#7201a8"
             ],
             [
              0.3333333333333333,
              "#9c179e"
             ],
             [
              0.4444444444444444,
              "#bd3786"
             ],
             [
              0.5555555555555556,
              "#d8576b"
             ],
             [
              0.6666666666666666,
              "#ed7953"
             ],
             [
              0.7777777777777778,
              "#fb9f3a"
             ],
             [
              0.8888888888888888,
              "#fdca26"
             ],
             [
              1,
              "#f0f921"
             ]
            ],
            "type": "histogram2dcontour"
           }
          ],
          "mesh3d": [
           {
            "colorbar": {
             "outlinewidth": 0,
             "ticks": ""
            },
            "type": "mesh3d"
           }
          ],
          "parcoords": [
           {
            "line": {
             "colorbar": {
              "outlinewidth": 0,
              "ticks": ""
             }
            },
            "type": "parcoords"
           }
          ],
          "pie": [
           {
            "automargin": true,
            "type": "pie"
           }
          ],
          "scatter": [
           {
            "fillpattern": {
             "fillmode": "overlay",
             "size": 10,
             "solidity": 0.2
            },
            "type": "scatter"
           }
          ],
          "scatter3d": [
           {
            "line": {
             "colorbar": {
              "outlinewidth": 0,
              "ticks": ""
             }
            },
            "marker": {
             "colorbar": {
              "outlinewidth": 0,
              "ticks": ""
             }
            },
            "type": "scatter3d"
           }
          ],
          "scattercarpet": [
           {
            "marker": {
             "colorbar": {
              "outlinewidth": 0,
              "ticks": ""
             }
            },
            "type": "scattercarpet"
           }
          ],
          "scattergeo": [
           {
            "marker": {
             "colorbar": {
              "outlinewidth": 0,
              "ticks": ""
             }
            },
            "type": "scattergeo"
           }
          ],
          "scattergl": [
           {
            "marker": {
             "colorbar": {
              "outlinewidth": 0,
              "ticks": ""
             }
            },
            "type": "scattergl"
           }
          ],
          "scattermapbox": [
           {
            "marker": {
             "colorbar": {
              "outlinewidth": 0,
              "ticks": ""
             }
            },
            "type": "scattermapbox"
           }
          ],
          "scatterpolar": [
           {
            "marker": {
             "colorbar": {
              "outlinewidth": 0,
              "ticks": ""
             }
            },
            "type": "scatterpolar"
           }
          ],
          "scatterpolargl": [
           {
            "marker": {
             "colorbar": {
              "outlinewidth": 0,
              "ticks": ""
             }
            },
            "type": "scatterpolargl"
           }
          ],
          "scatterternary": [
           {
            "marker": {
             "colorbar": {
              "outlinewidth": 0,
              "ticks": ""
             }
            },
            "type": "scatterternary"
           }
          ],
          "surface": [
           {
            "colorbar": {
             "outlinewidth": 0,
             "ticks": ""
            },
            "colorscale": [
             [
              0,
              "#0d0887"
             ],
             [
              0.1111111111111111,
              "#46039f"
             ],
             [
              0.2222222222222222,
              "#7201a8"
             ],
             [
              0.3333333333333333,
              "#9c179e"
             ],
             [
              0.4444444444444444,
              "#bd3786"
             ],
             [
              0.5555555555555556,
              "#d8576b"
             ],
             [
              0.6666666666666666,
              "#ed7953"
             ],
             [
              0.7777777777777778,
              "#fb9f3a"
             ],
             [
              0.8888888888888888,
              "#fdca26"
             ],
             [
              1,
              "#f0f921"
             ]
            ],
            "type": "surface"
           }
          ],
          "table": [
           {
            "cells": {
             "fill": {
              "color": "#EBF0F8"
             },
             "line": {
              "color": "white"
             }
            },
            "header": {
             "fill": {
              "color": "#C8D4E3"
             },
             "line": {
              "color": "white"
             }
            },
            "type": "table"
           }
          ]
         },
         "layout": {
          "annotationdefaults": {
           "arrowcolor": "#2a3f5f",
           "arrowhead": 0,
           "arrowwidth": 1
          },
          "autotypenumbers": "strict",
          "coloraxis": {
           "colorbar": {
            "outlinewidth": 0,
            "ticks": ""
           }
          },
          "colorscale": {
           "diverging": [
            [
             0,
             "#8e0152"
            ],
            [
             0.1,
             "#c51b7d"
            ],
            [
             0.2,
             "#de77ae"
            ],
            [
             0.3,
             "#f1b6da"
            ],
            [
             0.4,
             "#fde0ef"
            ],
            [
             0.5,
             "#f7f7f7"
            ],
            [
             0.6,
             "#e6f5d0"
            ],
            [
             0.7,
             "#b8e186"
            ],
            [
             0.8,
             "#7fbc41"
            ],
            [
             0.9,
             "#4d9221"
            ],
            [
             1,
             "#276419"
            ]
           ],
           "sequential": [
            [
             0,
             "#0d0887"
            ],
            [
             0.1111111111111111,
             "#46039f"
            ],
            [
             0.2222222222222222,
             "#7201a8"
            ],
            [
             0.3333333333333333,
             "#9c179e"
            ],
            [
             0.4444444444444444,
             "#bd3786"
            ],
            [
             0.5555555555555556,
             "#d8576b"
            ],
            [
             0.6666666666666666,
             "#ed7953"
            ],
            [
             0.7777777777777778,
             "#fb9f3a"
            ],
            [
             0.8888888888888888,
             "#fdca26"
            ],
            [
             1,
             "#f0f921"
            ]
           ],
           "sequentialminus": [
            [
             0,
             "#0d0887"
            ],
            [
             0.1111111111111111,
             "#46039f"
            ],
            [
             0.2222222222222222,
             "#7201a8"
            ],
            [
             0.3333333333333333,
             "#9c179e"
            ],
            [
             0.4444444444444444,
             "#bd3786"
            ],
            [
             0.5555555555555556,
             "#d8576b"
            ],
            [
             0.6666666666666666,
             "#ed7953"
            ],
            [
             0.7777777777777778,
             "#fb9f3a"
            ],
            [
             0.8888888888888888,
             "#fdca26"
            ],
            [
             1,
             "#f0f921"
            ]
           ]
          },
          "colorway": [
           "#636efa",
           "#EF553B",
           "#00cc96",
           "#ab63fa",
           "#FFA15A",
           "#19d3f3",
           "#FF6692",
           "#B6E880",
           "#FF97FF",
           "#FECB52"
          ],
          "font": {
           "color": "#2a3f5f"
          },
          "geo": {
           "bgcolor": "white",
           "lakecolor": "white",
           "landcolor": "#E5ECF6",
           "showlakes": true,
           "showland": true,
           "subunitcolor": "white"
          },
          "hoverlabel": {
           "align": "left"
          },
          "hovermode": "closest",
          "mapbox": {
           "style": "light"
          },
          "paper_bgcolor": "white",
          "plot_bgcolor": "#E5ECF6",
          "polar": {
           "angularaxis": {
            "gridcolor": "white",
            "linecolor": "white",
            "ticks": ""
           },
           "bgcolor": "#E5ECF6",
           "radialaxis": {
            "gridcolor": "white",
            "linecolor": "white",
            "ticks": ""
           }
          },
          "scene": {
           "xaxis": {
            "backgroundcolor": "#E5ECF6",
            "gridcolor": "white",
            "gridwidth": 2,
            "linecolor": "white",
            "showbackground": true,
            "ticks": "",
            "zerolinecolor": "white"
           },
           "yaxis": {
            "backgroundcolor": "#E5ECF6",
            "gridcolor": "white",
            "gridwidth": 2,
            "linecolor": "white",
            "showbackground": true,
            "ticks": "",
            "zerolinecolor": "white"
           },
           "zaxis": {
            "backgroundcolor": "#E5ECF6",
            "gridcolor": "white",
            "gridwidth": 2,
            "linecolor": "white",
            "showbackground": true,
            "ticks": "",
            "zerolinecolor": "white"
           }
          },
          "shapedefaults": {
           "line": {
            "color": "#2a3f5f"
           }
          },
          "ternary": {
           "aaxis": {
            "gridcolor": "white",
            "linecolor": "white",
            "ticks": ""
           },
           "baxis": {
            "gridcolor": "white",
            "linecolor": "white",
            "ticks": ""
           },
           "bgcolor": "#E5ECF6",
           "caxis": {
            "gridcolor": "white",
            "linecolor": "white",
            "ticks": ""
           }
          },
          "title": {
           "x": 0.05
          },
          "xaxis": {
           "automargin": true,
           "gridcolor": "white",
           "linecolor": "white",
           "ticks": "",
           "title": {
            "standoff": 15
           },
           "zerolinecolor": "white",
           "zerolinewidth": 2
          },
          "yaxis": {
           "automargin": true,
           "gridcolor": "white",
           "linecolor": "white",
           "ticks": "",
           "title": {
            "standoff": 15
           },
           "zerolinecolor": "white",
           "zerolinewidth": 2
          }
         }
        },
        "title": {
         "text": "Zestawienie danych seryjnych morderców w zależności od kraju"
        },
        "xaxis": {
         "anchor": "y",
         "domain": [
          0,
          1
         ],
         "matches": "x4",
         "showticklabels": false
        },
        "xaxis2": {
         "anchor": "y2",
         "domain": [
          0,
          1
         ],
         "matches": "x4",
         "showticklabels": false
        },
        "xaxis3": {
         "anchor": "y3",
         "domain": [
          0,
          1
         ],
         "matches": "x4",
         "showticklabels": false
        },
        "xaxis4": {
         "anchor": "y4",
         "domain": [
          0,
          1
         ]
        },
        "yaxis": {
         "anchor": "x",
         "domain": [
          0.84375,
          1
         ]
        },
        "yaxis2": {
         "anchor": "x2",
         "domain": [
          0.5625,
          0.71875
         ]
        },
        "yaxis3": {
         "anchor": "x3",
         "domain": [
          0.28125,
          0.4375
         ]
        },
        "yaxis4": {
         "anchor": "x4",
         "domain": [
          0,
          0.15625
         ]
        }
       }
      },
      "text/html": [
       "<div>                            <div id=\"501fcce0-293c-4393-b749-43309f08455c\" class=\"plotly-graph-div\" style=\"height:525px; width:100%;\"></div>            <script type=\"text/javascript\">                require([\"plotly\"], function(Plotly) {                    window.PLOTLYENV=window.PLOTLYENV || {};                                    if (document.getElementById(\"501fcce0-293c-4393-b749-43309f08455c\")) {                    Plotly.newPlot(                        \"501fcce0-293c-4393-b749-43309f08455c\",                        [{\"x\":[\" Iran\",\" Portuguese Angola\",\"Afghanistan\",\"Argentina\",\"Australia\",\"Austria\",\"Austria-Hungary\",\"Bangladesh\",\"Belarus\",\"Belgium\",\"Brazil\",\"Canada\",\"Chile\",\"China\",\"Colombia\",\"Costa Rica\",\"Cyprus\",\"Czechoslovakia\",\"Denmark\",\"Ecuador\",\"Egypt\",\"France\",\"Germany\",\"Greece\",\"Hungary\",\"India\",\"Indonesia\",\"Iran\",\"Italy\",\"Japan\",\"Latvia\",\"Malaysia\",\"Mexico\",\"Morocco\",\"Netherlands\",\"Pakistan\",\"Peru\",\"Poland\",\"Romania\",\"Russia\",\"Singapore\",\"South Africa\",\"South Korea\",\"Soviet Union\",\"Spain\",\"Swaziland\",\"Switzerland\",\"Tajikistan\",\"Tunisia\",\"Turkey\",\"Ukraine\",\"United Kingdom\",\"United States\",\"Venezuela\",\"West Germany\",\"Yemen\"],\"xaxis\":\"x\",\"y\":[1,1,1,3,5,1,1,2,1,3,9,6,1,9,4,2,1,2,1,2,1,7,4,1,1,10,3,3,9,5,2,1,5,1,1,2,1,2,1,25,1,19,4,13,3,1,1,1,1,4,5,12,93,2,3,1],\"yaxis\":\"y\",\"type\":\"bar\"},{\"x\":[\" Iran\",\" Portuguese Angola\",\"Afghanistan\",\"Argentina\",\"Australia\",\"Austria\",\"Austria-Hungary\",\"Bangladesh\",\"Belarus\",\"Belgium\",\"Brazil\",\"Canada\",\"Chile\",\"China\",\"Colombia\",\"Costa Rica\",\"Cyprus\",\"Czechoslovakia\",\"Denmark\",\"Ecuador\",\"Egypt\",\"France\",\"Germany\",\"Greece\",\"Hungary\",\"India\",\"Indonesia\",\"Iran\",\"Italy\",\"Japan\",\"Latvia\",\"Malaysia\",\"Mexico\",\"Morocco\",\"Netherlands\",\"Pakistan\",\"Peru\",\"Poland\",\"Romania\",\"Russia\",\"Singapore\",\"South Africa\",\"South Korea\",\"Soviet Union\",\"Spain\",\"Swaziland\",\"Switzerland\",\"Tajikistan\",\"Tunisia\",\"Turkey\",\"Ukraine\",\"United Kingdom\",\"United States\",\"Venezuela\",\"West Germany\",\"Yemen\"],\"xaxis\":\"x2\",\"y\":[33.0,5.0,20.0,13.0,8.4,4.0,24.0,9.0,6.0,11.0,35.55555555555556,17.666666666666668,14.0,23.333333333333332,16.0,12.5,7.0,8.0,9.0,66.5,32.0,9.571428571428571,18.75,27.0,35.0,25.4,19.0,18.666666666666668,13.666666666666666,6.8,16.0,12.0,16.6,36.0,3.0,57.0,17.0,10.0,21.0,18.04,5.0,16.263157894736842,15.0,21.23076923076923,13.0,28.0,23.0,22.0,13.0,10.5,25.2,7.25,11.720430107526882,76.5,9.0,12.0],\"yaxis\":\"y2\",\"type\":\"bar\"},{\"x\":[\" Iran\",\" Portuguese Angola\",\"Afghanistan\",\"Argentina\",\"Australia\",\"Austria\",\"Austria-Hungary\",\"Bangladesh\",\"Belarus\",\"Belgium\",\"Brazil\",\"Canada\",\"Chile\",\"China\",\"Colombia\",\"Costa Rica\",\"Cyprus\",\"Czechoslovakia\",\"Denmark\",\"Ecuador\",\"Egypt\",\"France\",\"Germany\",\"Greece\",\"Hungary\",\"India\",\"Indonesia\",\"Iran\",\"Italy\",\"Japan\",\"Latvia\",\"Malaysia\",\"Mexico\",\"Morocco\",\"Netherlands\",\"Pakistan\",\"Peru\",\"Poland\",\"Romania\",\"Russia\",\"Singapore\",\"South Africa\",\"South Korea\",\"Soviet Union\",\"Spain\",\"Swaziland\",\"Switzerland\",\"Tajikistan\",\"Tunisia\",\"Turkey\",\"Ukraine\",\"United Kingdom\",\"United States\",\"Venezuela\",\"West Germany\",\"Yemen\"],\"xaxis\":\"x3\",\"y\":[33,5,20,39,42,4,24,18,6,33,320,106,14,210,64,25,7,16,9,133,32,67,75,27,35,254,57,56,123,34,32,12,83,36,3,114,17,20,21,451,5,309,60,276,39,28,23,22,13,42,126,87,1090,153,27,12],\"yaxis\":\"y3\",\"type\":\"bar\"},{\"x\":[\" Iran\",\" Portuguese Angola\",\"Afghanistan\",\"Argentina\",\"Australia\",\"Austria\",\"Austria-Hungary\",\"Bangladesh\",\"Belarus\",\"Belgium\",\"Brazil\",\"Canada\",\"Chile\",\"China\",\"Colombia\",\"Costa Rica\",\"Cyprus\",\"Czechoslovakia\",\"Denmark\",\"Ecuador\",\"Egypt\",\"France\",\"Germany\",\"Greece\",\"Hungary\",\"India\",\"Indonesia\",\"Iran\",\"Italy\",\"Japan\",\"Latvia\",\"Malaysia\",\"Mexico\",\"Morocco\",\"Netherlands\",\"Pakistan\",\"Peru\",\"Poland\",\"Romania\",\"Russia\",\"Singapore\",\"South Africa\",\"South Korea\",\"Soviet Union\",\"Spain\",\"Swaziland\",\"Switzerland\",\"Tajikistan\",\"Tunisia\",\"Turkey\",\"Ukraine\",\"United Kingdom\",\"United States\",\"Venezuela\",\"West Germany\",\"Yemen\"],\"xaxis\":\"x4\",\"y\":[27.0,14.0,10.0,3.6666666666666665,6.0,12.0,4.0,4.0,6.0,7.0,8.555555555555555,10.166666666666666,3.0,5.666666666666667,12.0,5.5,2.0,10.5,7.0,5.5,7.0,7.285714285714286,18.5,12.0,10.0,3.2,14.0,1.6666666666666667,11.125,5.8,3.0,1.0,14.8,null,1.0,0.5,1.0,8.0,18.0,6.08,0.0,4.631578947368421,3.25,4.416666666666667,6.666666666666667,1.0,17.0,18.0,8.0,3.6666666666666665,8.4,3.5454545454545454,9.623655913978494,4.5,9.0,8.0],\"yaxis\":\"y4\",\"type\":\"bar\"}],                        {\"annotations\":[{\"font\":{\"size\":16},\"showarrow\":false,\"text\":\"Ilo\\u015b\\u0107 seryjnych morderc\\u00f3w\",\"x\":0.5,\"xanchor\":\"center\",\"xref\":\"paper\",\"y\":1.0,\"yanchor\":\"bottom\",\"yref\":\"paper\"},{\"font\":{\"size\":16},\"showarrow\":false,\"text\":\"\\u015arednia ilo\\u015b\\u0107 ofiar seryjnych morderc\\u00f3w\",\"x\":0.5,\"xanchor\":\"center\",\"xref\":\"paper\",\"y\":0.71875,\"yanchor\":\"bottom\",\"yref\":\"paper\"},{\"font\":{\"size\":16},\"showarrow\":false,\"text\":\"Suma ilo\\u015b\\u0107 ofiar seryjnych morderc\\u00f3w\",\"x\":0.5,\"xanchor\":\"center\",\"xref\":\"paper\",\"y\":0.4375,\"yanchor\":\"bottom\",\"yref\":\"paper\"},{\"font\":{\"size\":16},\"showarrow\":false,\"text\":\"\\u015aredni czas aktywno\\u015bci seryjnego mordercy\",\"x\":0.5,\"xanchor\":\"center\",\"xref\":\"paper\",\"y\":0.15625,\"yanchor\":\"bottom\",\"yref\":\"paper\"}],\"showlegend\":false,\"template\":{\"data\":{\"barpolar\":[{\"marker\":{\"line\":{\"color\":\"#E5ECF6\",\"width\":0.5},\"pattern\":{\"fillmode\":\"overlay\",\"size\":10,\"solidity\":0.2}},\"type\":\"barpolar\"}],\"bar\":[{\"error_x\":{\"color\":\"#2a3f5f\"},\"error_y\":{\"color\":\"#2a3f5f\"},\"marker\":{\"line\":{\"color\":\"#E5ECF6\",\"width\":0.5},\"pattern\":{\"fillmode\":\"overlay\",\"size\":10,\"solidity\":0.2}},\"type\":\"bar\"}],\"carpet\":[{\"aaxis\":{\"endlinecolor\":\"#2a3f5f\",\"gridcolor\":\"white\",\"linecolor\":\"white\",\"minorgridcolor\":\"white\",\"startlinecolor\":\"#2a3f5f\"},\"baxis\":{\"endlinecolor\":\"#2a3f5f\",\"gridcolor\":\"white\",\"linecolor\":\"white\",\"minorgridcolor\":\"white\",\"startlinecolor\":\"#2a3f5f\"},\"type\":\"carpet\"}],\"choropleth\":[{\"colorbar\":{\"outlinewidth\":0,\"ticks\":\"\"},\"type\":\"choropleth\"}],\"contourcarpet\":[{\"colorbar\":{\"outlinewidth\":0,\"ticks\":\"\"},\"type\":\"contourcarpet\"}],\"contour\":[{\"colorbar\":{\"outlinewidth\":0,\"ticks\":\"\"},\"colorscale\":[[0.0,\"#0d0887\"],[0.1111111111111111,\"#46039f\"],[0.2222222222222222,\"#7201a8\"],[0.3333333333333333,\"#9c179e\"],[0.4444444444444444,\"#bd3786\"],[0.5555555555555556,\"#d8576b\"],[0.6666666666666666,\"#ed7953\"],[0.7777777777777778,\"#fb9f3a\"],[0.8888888888888888,\"#fdca26\"],[1.0,\"#f0f921\"]],\"type\":\"contour\"}],\"heatmapgl\":[{\"colorbar\":{\"outlinewidth\":0,\"ticks\":\"\"},\"colorscale\":[[0.0,\"#0d0887\"],[0.1111111111111111,\"#46039f\"],[0.2222222222222222,\"#7201a8\"],[0.3333333333333333,\"#9c179e\"],[0.4444444444444444,\"#bd3786\"],[0.5555555555555556,\"#d8576b\"],[0.6666666666666666,\"#ed7953\"],[0.7777777777777778,\"#fb9f3a\"],[0.8888888888888888,\"#fdca26\"],[1.0,\"#f0f921\"]],\"type\":\"heatmapgl\"}],\"heatmap\":[{\"colorbar\":{\"outlinewidth\":0,\"ticks\":\"\"},\"colorscale\":[[0.0,\"#0d0887\"],[0.1111111111111111,\"#46039f\"],[0.2222222222222222,\"#7201a8\"],[0.3333333333333333,\"#9c179e\"],[0.4444444444444444,\"#bd3786\"],[0.5555555555555556,\"#d8576b\"],[0.6666666666666666,\"#ed7953\"],[0.7777777777777778,\"#fb9f3a\"],[0.8888888888888888,\"#fdca26\"],[1.0,\"#f0f921\"]],\"type\":\"heatmap\"}],\"histogram2dcontour\":[{\"colorbar\":{\"outlinewidth\":0,\"ticks\":\"\"},\"colorscale\":[[0.0,\"#0d0887\"],[0.1111111111111111,\"#46039f\"],[0.2222222222222222,\"#7201a8\"],[0.3333333333333333,\"#9c179e\"],[0.4444444444444444,\"#bd3786\"],[0.5555555555555556,\"#d8576b\"],[0.6666666666666666,\"#ed7953\"],[0.7777777777777778,\"#fb9f3a\"],[0.8888888888888888,\"#fdca26\"],[1.0,\"#f0f921\"]],\"type\":\"histogram2dcontour\"}],\"histogram2d\":[{\"colorbar\":{\"outlinewidth\":0,\"ticks\":\"\"},\"colorscale\":[[0.0,\"#0d0887\"],[0.1111111111111111,\"#46039f\"],[0.2222222222222222,\"#7201a8\"],[0.3333333333333333,\"#9c179e\"],[0.4444444444444444,\"#bd3786\"],[0.5555555555555556,\"#d8576b\"],[0.6666666666666666,\"#ed7953\"],[0.7777777777777778,\"#fb9f3a\"],[0.8888888888888888,\"#fdca26\"],[1.0,\"#f0f921\"]],\"type\":\"histogram2d\"}],\"histogram\":[{\"marker\":{\"pattern\":{\"fillmode\":\"overlay\",\"size\":10,\"solidity\":0.2}},\"type\":\"histogram\"}],\"mesh3d\":[{\"colorbar\":{\"outlinewidth\":0,\"ticks\":\"\"},\"type\":\"mesh3d\"}],\"parcoords\":[{\"line\":{\"colorbar\":{\"outlinewidth\":0,\"ticks\":\"\"}},\"type\":\"parcoords\"}],\"pie\":[{\"automargin\":true,\"type\":\"pie\"}],\"scatter3d\":[{\"line\":{\"colorbar\":{\"outlinewidth\":0,\"ticks\":\"\"}},\"marker\":{\"colorbar\":{\"outlinewidth\":0,\"ticks\":\"\"}},\"type\":\"scatter3d\"}],\"scattercarpet\":[{\"marker\":{\"colorbar\":{\"outlinewidth\":0,\"ticks\":\"\"}},\"type\":\"scattercarpet\"}],\"scattergeo\":[{\"marker\":{\"colorbar\":{\"outlinewidth\":0,\"ticks\":\"\"}},\"type\":\"scattergeo\"}],\"scattergl\":[{\"marker\":{\"colorbar\":{\"outlinewidth\":0,\"ticks\":\"\"}},\"type\":\"scattergl\"}],\"scattermapbox\":[{\"marker\":{\"colorbar\":{\"outlinewidth\":0,\"ticks\":\"\"}},\"type\":\"scattermapbox\"}],\"scatterpolargl\":[{\"marker\":{\"colorbar\":{\"outlinewidth\":0,\"ticks\":\"\"}},\"type\":\"scatterpolargl\"}],\"scatterpolar\":[{\"marker\":{\"colorbar\":{\"outlinewidth\":0,\"ticks\":\"\"}},\"type\":\"scatterpolar\"}],\"scatter\":[{\"fillpattern\":{\"fillmode\":\"overlay\",\"size\":10,\"solidity\":0.2},\"type\":\"scatter\"}],\"scatterternary\":[{\"marker\":{\"colorbar\":{\"outlinewidth\":0,\"ticks\":\"\"}},\"type\":\"scatterternary\"}],\"surface\":[{\"colorbar\":{\"outlinewidth\":0,\"ticks\":\"\"},\"colorscale\":[[0.0,\"#0d0887\"],[0.1111111111111111,\"#46039f\"],[0.2222222222222222,\"#7201a8\"],[0.3333333333333333,\"#9c179e\"],[0.4444444444444444,\"#bd3786\"],[0.5555555555555556,\"#d8576b\"],[0.6666666666666666,\"#ed7953\"],[0.7777777777777778,\"#fb9f3a\"],[0.8888888888888888,\"#fdca26\"],[1.0,\"#f0f921\"]],\"type\":\"surface\"}],\"table\":[{\"cells\":{\"fill\":{\"color\":\"#EBF0F8\"},\"line\":{\"color\":\"white\"}},\"header\":{\"fill\":{\"color\":\"#C8D4E3\"},\"line\":{\"color\":\"white\"}},\"type\":\"table\"}]},\"layout\":{\"annotationdefaults\":{\"arrowcolor\":\"#2a3f5f\",\"arrowhead\":0,\"arrowwidth\":1},\"autotypenumbers\":\"strict\",\"coloraxis\":{\"colorbar\":{\"outlinewidth\":0,\"ticks\":\"\"}},\"colorscale\":{\"diverging\":[[0,\"#8e0152\"],[0.1,\"#c51b7d\"],[0.2,\"#de77ae\"],[0.3,\"#f1b6da\"],[0.4,\"#fde0ef\"],[0.5,\"#f7f7f7\"],[0.6,\"#e6f5d0\"],[0.7,\"#b8e186\"],[0.8,\"#7fbc41\"],[0.9,\"#4d9221\"],[1,\"#276419\"]],\"sequential\":[[0.0,\"#0d0887\"],[0.1111111111111111,\"#46039f\"],[0.2222222222222222,\"#7201a8\"],[0.3333333333333333,\"#9c179e\"],[0.4444444444444444,\"#bd3786\"],[0.5555555555555556,\"#d8576b\"],[0.6666666666666666,\"#ed7953\"],[0.7777777777777778,\"#fb9f3a\"],[0.8888888888888888,\"#fdca26\"],[1.0,\"#f0f921\"]],\"sequentialminus\":[[0.0,\"#0d0887\"],[0.1111111111111111,\"#46039f\"],[0.2222222222222222,\"#7201a8\"],[0.3333333333333333,\"#9c179e\"],[0.4444444444444444,\"#bd3786\"],[0.5555555555555556,\"#d8576b\"],[0.6666666666666666,\"#ed7953\"],[0.7777777777777778,\"#fb9f3a\"],[0.8888888888888888,\"#fdca26\"],[1.0,\"#f0f921\"]]},\"colorway\":[\"#636efa\",\"#EF553B\",\"#00cc96\",\"#ab63fa\",\"#FFA15A\",\"#19d3f3\",\"#FF6692\",\"#B6E880\",\"#FF97FF\",\"#FECB52\"],\"font\":{\"color\":\"#2a3f5f\"},\"geo\":{\"bgcolor\":\"white\",\"lakecolor\":\"white\",\"landcolor\":\"#E5ECF6\",\"showlakes\":true,\"showland\":true,\"subunitcolor\":\"white\"},\"hoverlabel\":{\"align\":\"left\"},\"hovermode\":\"closest\",\"mapbox\":{\"style\":\"light\"},\"paper_bgcolor\":\"white\",\"plot_bgcolor\":\"#E5ECF6\",\"polar\":{\"angularaxis\":{\"gridcolor\":\"white\",\"linecolor\":\"white\",\"ticks\":\"\"},\"bgcolor\":\"#E5ECF6\",\"radialaxis\":{\"gridcolor\":\"white\",\"linecolor\":\"white\",\"ticks\":\"\"}},\"scene\":{\"xaxis\":{\"backgroundcolor\":\"#E5ECF6\",\"gridcolor\":\"white\",\"gridwidth\":2,\"linecolor\":\"white\",\"showbackground\":true,\"ticks\":\"\",\"zerolinecolor\":\"white\"},\"yaxis\":{\"backgroundcolor\":\"#E5ECF6\",\"gridcolor\":\"white\",\"gridwidth\":2,\"linecolor\":\"white\",\"showbackground\":true,\"ticks\":\"\",\"zerolinecolor\":\"white\"},\"zaxis\":{\"backgroundcolor\":\"#E5ECF6\",\"gridcolor\":\"white\",\"gridwidth\":2,\"linecolor\":\"white\",\"showbackground\":true,\"ticks\":\"\",\"zerolinecolor\":\"white\"}},\"shapedefaults\":{\"line\":{\"color\":\"#2a3f5f\"}},\"ternary\":{\"aaxis\":{\"gridcolor\":\"white\",\"linecolor\":\"white\",\"ticks\":\"\"},\"baxis\":{\"gridcolor\":\"white\",\"linecolor\":\"white\",\"ticks\":\"\"},\"bgcolor\":\"#E5ECF6\",\"caxis\":{\"gridcolor\":\"white\",\"linecolor\":\"white\",\"ticks\":\"\"}},\"title\":{\"x\":0.05},\"xaxis\":{\"automargin\":true,\"gridcolor\":\"white\",\"linecolor\":\"white\",\"ticks\":\"\",\"title\":{\"standoff\":15},\"zerolinecolor\":\"white\",\"zerolinewidth\":2},\"yaxis\":{\"automargin\":true,\"gridcolor\":\"white\",\"linecolor\":\"white\",\"ticks\":\"\",\"title\":{\"standoff\":15},\"zerolinecolor\":\"white\",\"zerolinewidth\":2}}},\"title\":{\"text\":\"Zestawienie danych seryjnych morderc\\u00f3w w zale\\u017cno\\u015bci od kraju\"},\"xaxis\":{\"anchor\":\"y\",\"domain\":[0.0,1.0],\"matches\":\"x4\",\"showticklabels\":false},\"yaxis\":{\"anchor\":\"x\",\"domain\":[0.84375,1.0]},\"xaxis2\":{\"anchor\":\"y2\",\"domain\":[0.0,1.0],\"matches\":\"x4\",\"showticklabels\":false},\"yaxis2\":{\"anchor\":\"x2\",\"domain\":[0.5625,0.71875]},\"xaxis3\":{\"anchor\":\"y3\",\"domain\":[0.0,1.0],\"matches\":\"x4\",\"showticklabels\":false},\"yaxis3\":{\"anchor\":\"x3\",\"domain\":[0.28125,0.4375]},\"xaxis4\":{\"anchor\":\"y4\",\"domain\":[0.0,1.0]},\"yaxis4\":{\"anchor\":\"x4\",\"domain\":[0.0,0.15625]}},                        {\"responsive\": true}                    ).then(function(){\n",
       "                            \n",
       "var gd = document.getElementById('501fcce0-293c-4393-b749-43309f08455c');\n",
       "var x = new MutationObserver(function (mutations, observer) {{\n",
       "        var display = window.getComputedStyle(gd).display;\n",
       "        if (!display || display === 'none') {{\n",
       "            console.log([gd, 'removed!']);\n",
       "            Plotly.purge(gd);\n",
       "            observer.disconnect();\n",
       "        }}\n",
       "}});\n",
       "\n",
       "// Listen for the removal of the full notebook cells\n",
       "var notebookContainer = gd.closest('#notebook-container');\n",
       "if (notebookContainer) {{\n",
       "    x.observe(notebookContainer, {childList: true});\n",
       "}}\n",
       "\n",
       "// Listen for the clearing of the current output cell\n",
       "var outputEl = gd.closest('.output');\n",
       "if (outputEl) {{\n",
       "    x.observe(outputEl, {childList: true});\n",
       "}}\n",
       "\n",
       "                        })                };                });            </script>        </div>"
      ]
     },
     "metadata": {},
     "output_type": "display_data"
    }
   ],
   "source": [
    "# plot\n",
    "# data\n",
    "x_countries = serial_killers_by_country['country']\n",
    "y_number_of_killers = serial_killers_by_country['number_of_serial_killers']\n",
    "y_proven_victims_mean = serial_killers_by_country['proven_victims_mean']\n",
    "y_proven_victims_sum = serial_killers_by_country['proven_victims_sum']\n",
    "y_time_of_active_mean = serial_killers_by_country['time_of_active_mean']\n",
    "# show\n",
    "fig = go.Figure()\n",
    "fig = subplots.make_subplots(rows = 4, cols = 1, subplot_titles = ['Ilość seryjnych morderców', 'Średnia ilość ofiar seryjnych morderców', 'Suma ilość ofiar seryjnych morderców', 'Średni czas aktywności seryjnego mordercy'], shared_xaxes = True)\n",
    "fig.add_trace(go.Bar(x = x_countries, y = y_number_of_killers), 1, 1)\n",
    "fig.add_trace(go.Bar(x = x_countries, y = y_proven_victims_mean), 2, 1)\n",
    "fig.add_trace(go.Bar(x = x_countries, y = y_proven_victims_sum), 3, 1)\n",
    "fig.add_trace(go.Bar(x = x_countries, y = y_time_of_active_mean), 4, 1)\n",
    "fig.update_layout(title='Zestawienie danych seryjnych morderców w zależności od kraju', showlegend = False)\n",
    "iplot(fig)"
   ]
  },
  {
   "cell_type": "code",
   "execution_count": 49,
   "id": "c9522d08",
   "metadata": {},
   "outputs": [
    {
     "name": "stdout",
     "output_type": "stream",
     "text": [
      "Some additional data to analysis:\n",
      "Średnia ilość ofiar seryjnych morderców na świecie 19.00204776238126\n",
      "Średnia czas aktywności seryjnych morderców na świecie 7.585702289358873\n"
     ]
    }
   ],
   "source": [
    "print(\"Some additional data to analysis:\")\n",
    "avg_victiome = serial_killers_by_country['proven_victims_mean'].mean()\n",
    "print(f\"Średnia ilość ofiar seryjnych morderców na świecie {avg_victiome}\")\n",
    "avg_active_time = serial_killers_by_country['time_of_active_mean'].mean()\n",
    "print(f\"Średnia czas aktywności seryjnych morderców na świecie {avg_active_time}\")"
   ]
  },
  {
   "cell_type": "markdown",
   "id": "7167d37f",
   "metadata": {},
   "source": [
    "## Analiza\n",
    "Szybka analiza powyższych diagramów pozwala sądzić, że najwięcej seryjnych morderców znajduję się w USA (93). Niestety nie pozwala to jednoznacznie określić czy tam jest ich rzeczywiście najwięcej. Brakuje danych odnośnie nierozwiązanych spraw (powyższe dane wskazywały winnego) oraz ustalenia ile tak naprawdę seryjnych morderców przypada np. na 1000 mieszkańców kraju. Szczecólnie to widać na kolejnym zestwieniu, gdzie przedstawiona jest średnia ilość ofiar danego seryjnego mordercy w porównaniu do ogólnej liczby ofiar w danym kraju. O ile USA dalej przoduje w sumarycznej ilości ofiar to Wenesuela czy Ekwador mają więcej zabójstw przypisywanych do tego samego mordercy. USA nie wypada też źle na tle zależności czasu działalności seryjnego mordercy, gdzie średnio najdłużej na wolności działają mordercy w Iranie.\n",
    "Ogólnie wnioski jakie można wyciągnąć, to fakt, że USA mają dość dużą skuteczność w łapaniu seryjnych morderców, ponieważ średnia ilość ofiar takiego mordercy wynosi ok. 11.72 osoby, a średnia dla wszystkich krajów jest już ponad 19. Jednak by potwierdzić ten wniosek trzeba by było przeanalizować dane ilości seryjnych morderców lub potencjalnych seryjnych morderców, którzy nigdy nie zostali złapani w każdym z badanych krajów.\n",
    "W kwestii bezpieczeństwa w danym kraju godne uwagi było by również zestawienie niewyjaśnionych morderstw oraz ilość morderstw w stosunku do ilości mieszkańców.\n",
    "Podsumowując. Powyższe dane dają bardzo ogólny pogląd na temat seryjnych morderców. Na tej podstawie można przeanalizować tylko podstawowe założenie i to na danych opartych dla pojmanych i skazancyh osób.\n",
    "Ciekawa mogłaby się okazać też analiza seryjnych morderców ze względu na płeć. W danych co prawda jest imię i nazwisko mordercy, więc pozwala to w dość dobrym stopniu określić płeć, jednak należy pamiętać, że są imiona nadawane niezależnie od płci (np. Alex), co może prowadzić do nieścisłości."
   ]
  },
  {
   "cell_type": "code",
   "execution_count": null,
   "id": "764b9488",
   "metadata": {},
   "outputs": [],
   "source": []
  }
 ],
 "metadata": {
  "kernelspec": {
   "display_name": "Python 3 (ipykernel)",
   "language": "python",
   "name": "python3"
  },
  "language_info": {
   "codemirror_mode": {
    "name": "ipython",
    "version": 3
   },
   "file_extension": ".py",
   "mimetype": "text/x-python",
   "name": "python",
   "nbconvert_exporter": "python",
   "pygments_lexer": "ipython3",
   "version": "3.9.13"
  }
 },
 "nbformat": 4,
 "nbformat_minor": 5
}
