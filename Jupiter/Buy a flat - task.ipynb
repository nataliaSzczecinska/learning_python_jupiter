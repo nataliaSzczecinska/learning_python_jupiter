{
 "cells": [
  {
   "cell_type": "markdown",
   "id": "b66e9efb",
   "metadata": {},
   "source": [
    "# TASK Buy a flat\n",
    "\n",
    "Zamierzasz kupić mieszkanie. Upatrzone M kosztuje w tym momencie 120 tys. zł, jednak przewidujesz, że przez następne 5 lat ceny mieszkań będą rosły w tempie 5% rocznie. W tym momencie nie dysponujesz wystarczającymi środkami, dlatego znajdujesz ofertę banku, który proponuje lokatę, do której dopłacasz pewna stałą kwotę na koniec każdego miesiąca. Bank oferuje nominalną stopę procentową w wysokości 12% w skali roku, przy kapitalizacji miesięcznej.\n",
    "\n",
    "1. Ile będzie wynosiła orientacyjna cena mieszkania za 5 lat?\n",
    "2. Ile musisz wpłacać do banku każdego miesiąca, aby przy przedstawionej ofercie uzbierać na mieszkanie w ciągu 5 lat?\n",
    "3. Stwórz wykres przedstawiający, jak w interwałach miesięcznych zmieniać się będzie cena mieszkania (liniowy wzrost w całym okresie) oraz wartość twojej lokaty.\n",
    "\n",
    "Do wykonania powyższego zadania wykorzystaj biblioteki NumPy, NumPy-financial oraz Matplotlib. Odpowiedzi na pytania umieść w Notebooku (jeśli korzystasz) lub w komentarzach w kodzie."
   ]
  },
  {
   "cell_type": "markdown",
   "id": "5848fa21",
   "metadata": {},
   "source": [
    "### import package"
   ]
  },
  {
   "cell_type": "code",
   "execution_count": 2,
   "id": "4fd76666",
   "metadata": {},
   "outputs": [],
   "source": [
    "import numpy as np\n",
    "import numpy_financial as npf\n",
    "import matplotlib.pyplot as plt"
   ]
  },
  {
   "cell_type": "markdown",
   "id": "2de8d8e9",
   "metadata": {},
   "source": [
    "### constant value"
   ]
  },
  {
   "cell_type": "code",
   "execution_count": 3,
   "id": "decc60cf",
   "metadata": {},
   "outputs": [],
   "source": [
    "flat_cost_now = 120000.0 # total cost of flat now\n",
    "increase_flat_cost_per_year = 0.05 # yearly increase of flat cost in percent\n",
    "interest_on_bank_locate = 0.12 # yearly interest on bank locate"
   ]
  },
  {
   "cell_type": "markdown",
   "id": "c9fd11dc",
   "metadata": {},
   "source": [
    "#### Question 1 - How much will be cost flat after 5 years?"
   ]
  },
  {
   "cell_type": "code",
   "execution_count": 6,
   "id": "14fa4c74",
   "metadata": {},
   "outputs": [
    {
     "name": "stdout",
     "output_type": "stream",
     "text": [
      "Flat cost after 5 years is 153153.79\n"
     ]
    }
   ],
   "source": [
    "flat_cost_5_years = ((1 + increase_flat_cost_per_year) ** 5) * flat_cost_now\n",
    "print(f\"Flat cost after 5 years is {flat_cost_5_years:.2f}\")"
   ]
  },
  {
   "cell_type": "markdown",
   "id": "4caa0953",
   "metadata": {},
   "source": [
    "#### Question 2 - How much you have to deposite into locate to get full amount?"
   ]
  },
  {
   "cell_type": "code",
   "execution_count": 119,
   "id": "829f685e",
   "metadata": {},
   "outputs": [
    {
     "name": "stdout",
     "output_type": "stream",
     "text": [
      "Array of periods\n",
      " [ 1  2  3  4  5  6  7  8  9 10 11 12 13 14 15 16 17 18 19 20 21 22 23 24\n",
      " 25 26 27 28 29 30 31 32 33 34 35 36 37 38 39 40 41 42 43 44 45 46 47 48\n",
      " 49 50 51 52 53 54 55 56 57 58 59 60]\n"
     ]
    }
   ],
   "source": [
    "periods_in_year = 12\n",
    "nper = 5 * 12 #five years * number of mounth\n",
    "periods = np.arange(1,nper+1,dtype=int)\n",
    "print(f\"Array of periods\\n {periods}\")\n",
    "periods_reversed = periods.sorted()"
   ]
  },
  {
   "cell_type": "code",
   "execution_count": 120,
   "id": "f2da21e4",
   "metadata": {},
   "outputs": [],
   "source": [
    "def value_after_periods (k, percent_for_year, number_of_periods_in_year, number_of_mounth):\n",
    "    return k * ((1 + (percent_for_year / number_of_periods_in_year)) ** number_of_mounth)\n",
    "    "
   ]
  },
  {
   "cell_type": "code",
   "execution_count": 121,
   "id": "1e5bc789",
   "metadata": {},
   "outputs": [],
   "source": [
    "def value_for_each_mounth (k, percent_for_year, number_of_periods_in_year, number_of_mounth):\n",
    "    array = []\n",
    "    for i in range(1, number_of_mounth + 1):\n",
    "        array = array + [value_after_periods(k, percent_for_year, number_of_periods_in_year, i)]\n",
    "    numpy_array = np.around(array,2)\n",
    "    return numpy_array"
   ]
  },
  {
   "cell_type": "code",
   "execution_count": 199,
   "id": "1c575274",
   "metadata": {},
   "outputs": [],
   "source": [
    "def find_amount(cost, number_of_periods, percent_for_year, number_of_periods_in_year):\n",
    "    quotient = (1 + (percent_for_year / number_of_periods_in_year))\n",
    "    factor = (((1 - quotient) / (1 - (quotient ** number_of_periods))))\n",
    "    result = cost * factor\n",
    "    print(f\"Całkowita kwota {(result / factor):.2f}\")\n",
    "    return result"
   ]
  },
  {
   "cell_type": "code",
   "execution_count": 200,
   "id": "1a769e02",
   "metadata": {},
   "outputs": [
    {
     "name": "stdout",
     "output_type": "stream",
     "text": [
      "1.01\n",
      "0.012244447684901773\n",
      "Całkowita kwota 153153.79\n",
      "1875.2835387883135\n",
      "Installment 1875.28\n"
     ]
    }
   ],
   "source": [
    "installment = find_amount(flat_cost_5_years, nper, interest_on_bank_locate, periods_in_year)\n",
    "print(f\"Installment {installment:.2f}\") #1856.72"
   ]
  },
  {
   "cell_type": "code",
   "execution_count": 192,
   "id": "fa65f759",
   "metadata": {},
   "outputs": [
    {
     "name": "stdout",
     "output_type": "stream",
     "text": [
      "[1875.29 1894.04 1912.98 1932.11 1951.43 1970.95 1990.66 2010.56 2030.67\n",
      " 2050.97 2071.48 2092.2  2113.12 2134.25 2155.59 2177.15 2198.92 2220.91\n",
      " 2243.12 2265.55 2288.21 2311.09 2334.2  2357.54 2381.12 2404.93 2428.98\n",
      " 2453.27 2477.8  2502.58 2527.6  2552.88 2578.41 2604.19 2630.23 2656.54\n",
      " 2683.1  2709.93 2737.03 2764.4  2792.05 2819.97 2848.17 2876.65 2905.42\n",
      " 2934.47 2963.81 2993.45 3023.39 3053.62 3084.16 3115.   3146.15 3177.61\n",
      " 3209.39 3241.48 3273.89 3306.63 3339.7  3373.1 ]\n",
      "Sum 153154.09\n",
      "Is enough True\n",
      "Difference is 0.3025000000197906\n"
     ]
    }
   ],
   "source": [
    "value_for_mounths = value_for_each_mounth(installment, interest_on_bank_locate, periods_in_year, nper)\n",
    "print(value_for_mounths)\n",
    "sum_of_amount = value_for_mounths.sum()\n",
    "print(f\"Sum {sum_of_amount:.2f}\")\n",
    "is_enough = sum_of_amount >= flat_cost_5_years\n",
    "difference = sum_of_amount - flat_cost_5_years\n",
    "print(f\"Is enough {is_enough}\")\n",
    "print(f\"Difference is {difference}\")"
   ]
  },
  {
   "cell_type": "code",
   "execution_count": null,
   "id": "c1974508",
   "metadata": {},
   "outputs": [],
   "source": []
  },
  {
   "cell_type": "code",
   "execution_count": null,
   "id": "fb2f6772",
   "metadata": {},
   "outputs": [],
   "source": []
  }
 ],
 "metadata": {
  "kernelspec": {
   "display_name": "Python 3 (ipykernel)",
   "language": "python",
   "name": "python3"
  },
  "language_info": {
   "codemirror_mode": {
    "name": "ipython",
    "version": 3
   },
   "file_extension": ".py",
   "mimetype": "text/x-python",
   "name": "python",
   "nbconvert_exporter": "python",
   "pygments_lexer": "ipython3",
   "version": "3.9.13"
  }
 },
 "nbformat": 4,
 "nbformat_minor": 5
}
