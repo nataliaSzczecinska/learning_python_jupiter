{
 "cells": [
  {
   "cell_type": "markdown",
   "id": "fbb9505b",
   "metadata": {},
   "source": [
    "# Module 8.2"
   ]
  },
  {
   "cell_type": "markdown",
   "id": "182df008",
   "metadata": {},
   "source": [
    "#### Import"
   ]
  },
  {
   "cell_type": "code",
   "execution_count": 2,
   "id": "c5d761de",
   "metadata": {},
   "outputs": [],
   "source": [
    "import pandas as pd\n",
    "import numpy as np"
   ]
  },
  {
   "cell_type": "code",
   "execution_count": 3,
   "id": "4e31b480",
   "metadata": {},
   "outputs": [],
   "source": [
    "df = pd.read_excel('myExcelFile.xlsx', sheet_name='my_data')"
   ]
  },
  {
   "cell_type": "code",
   "execution_count": 4,
   "id": "74c9ac40",
   "metadata": {},
   "outputs": [],
   "source": [
    "df.to_excel('myNewExcelFile.xlsx', sheet_name='my_new_data')"
   ]
  },
  {
   "cell_type": "code",
   "execution_count": 5,
   "id": "324363db",
   "metadata": {},
   "outputs": [],
   "source": [
    "writer = pd.ExcelWriter('pandas_simple.xlsx', engine='xlsxwriter')"
   ]
  },
  {
   "cell_type": "code",
   "execution_count": 6,
   "id": "d2e64ec2",
   "metadata": {},
   "outputs": [],
   "source": [
    "df.to_excel(writer, sheet_name='my_dfs')\n",
    "df.to_excel(writer, sheet_name='my_dfs', startcol=6, startrow=5, index=False)"
   ]
  },
  {
   "cell_type": "code",
   "execution_count": 7,
   "id": "da136c32",
   "metadata": {},
   "outputs": [],
   "source": [
    "writer.save()"
   ]
  },
  {
   "cell_type": "code",
   "execution_count": 8,
   "id": "ee993dbe",
   "metadata": {},
   "outputs": [],
   "source": [
    "writer = pd.ExcelWriter('many_sheets.xlsx', engine='xlsxwriter')\n",
    "\n",
    "df.to_excel(writer, sheet_name='my_df1')\n",
    "df.to_excel(writer, sheet_name='my_df2')\n",
    "\n",
    "writer.save()"
   ]
  },
  {
   "cell_type": "code",
   "execution_count": 9,
   "id": "e6079265",
   "metadata": {},
   "outputs": [],
   "source": [
    "writer = pd.ExcelWriter('add_chart.xlsx', engine='xlsxwriter')\n",
    "df.to_excel(writer, sheet_name='my_chart')"
   ]
  },
  {
   "cell_type": "code",
   "execution_count": 10,
   "id": "313b6085",
   "metadata": {},
   "outputs": [],
   "source": [
    "workbook = writer.book\n",
    "worksheet = writer.sheets['my_chart']"
   ]
  },
  {
   "cell_type": "code",
   "execution_count": 11,
   "id": "d60fc7ee",
   "metadata": {},
   "outputs": [],
   "source": [
    "chart = workbook.add_chart({'type':'line'})"
   ]
  },
  {
   "cell_type": "code",
   "execution_count": 12,
   "id": "68b681bf",
   "metadata": {},
   "outputs": [],
   "source": [
    "def grab_series(df, sheet_name, colname, startcol=0, startrow=0):\n",
    "\n",
    "    col_index = df.columns.tolist().index(colname)\n",
    "    col_letter = chr(ord('@')+(col_index+2+startcol))\n",
    "    first_row = startrow + 2\n",
    "    last_row = startrow + 1 + len(df)\n",
    "    return f\"='{sheet_name}'!{col_letter}{first_row}:{col_letter}{last_row}\""
   ]
  },
  {
   "cell_type": "code",
   "execution_count": 13,
   "id": "d2afb255",
   "metadata": {},
   "outputs": [],
   "source": [
    "chart.add_series({'values':grab_series(df,'my_chart','B')})"
   ]
  },
  {
   "cell_type": "code",
   "execution_count": 14,
   "id": "8d5f5ac2",
   "metadata": {},
   "outputs": [],
   "source": [
    "chart.set_x_axis({\n",
    "    'name': 'x^2',\n",
    "    'name_font': {'size': 14, 'bold': True},\n",
    "    'num_font':  {'italic': True },\n",
    "})"
   ]
  },
  {
   "cell_type": "code",
   "execution_count": 15,
   "id": "09800a7d",
   "metadata": {},
   "outputs": [],
   "source": [
    "chart.set_legend({'none': True})"
   ]
  },
  {
   "cell_type": "code",
   "execution_count": 16,
   "id": "cd830782",
   "metadata": {},
   "outputs": [
    {
     "data": {
      "text/plain": [
       "0"
      ]
     },
     "execution_count": 16,
     "metadata": {},
     "output_type": "execute_result"
    }
   ],
   "source": [
    "worksheet.insert_chart('F2', chart)"
   ]
  },
  {
   "cell_type": "code",
   "execution_count": 17,
   "id": "97579877",
   "metadata": {},
   "outputs": [
    {
     "name": "stderr",
     "output_type": "stream",
     "text": [
      "/opt/anaconda3/lib/python3.9/site-packages/xlsxwriter/workbook.py:339: UserWarning: Calling close() on already closed file.\n",
      "  warn(\"Calling close() on already closed file.\")\n"
     ]
    }
   ],
   "source": [
    "writer.save()\n",
    "workbook.close()"
   ]
  },
  {
   "cell_type": "code",
   "execution_count": 18,
   "id": "08924169",
   "metadata": {},
   "outputs": [],
   "source": [
    "writer = pd.ExcelWriter('conditional_format.xlsx', engine='xlsxwriter')\n",
    "\n",
    "df.to_excel(writer, sheet_name='my_conditional')\n",
    "\n",
    "workbook = writer.book\n",
    "worksheet = writer.sheets['my_conditional']"
   ]
  },
  {
   "cell_type": "code",
   "execution_count": 19,
   "id": "853fbf12",
   "metadata": {},
   "outputs": [],
   "source": [
    "format1 = workbook.add_format({'bg_color':   '#FFC7CE',\n",
    "                               'font_color': '#9C0006'})"
   ]
  },
  {
   "cell_type": "code",
   "execution_count": 20,
   "id": "028c37a7",
   "metadata": {},
   "outputs": [
    {
     "data": {
      "text/plain": [
       "0"
      ]
     },
     "execution_count": 20,
     "metadata": {},
     "output_type": "execute_result"
    }
   ],
   "source": [
    "worksheet.conditional_format(\"D2:D12\",{'type': 'cell',\n",
    "                                      'criteria':'>=',\n",
    "                                      'value':300,\n",
    "                                      'format':format1})"
   ]
  },
  {
   "cell_type": "code",
   "execution_count": 21,
   "id": "7d5d0344",
   "metadata": {},
   "outputs": [
    {
     "data": {
      "text/plain": [
       "0"
      ]
     },
     "execution_count": 21,
     "metadata": {},
     "output_type": "execute_result"
    }
   ],
   "source": [
    "worksheet.write_string('A16','Podaj liczbę całkowitą większą od 0:')"
   ]
  },
  {
   "cell_type": "code",
   "execution_count": 22,
   "id": "dfc2f0d1",
   "metadata": {},
   "outputs": [
    {
     "data": {
      "text/plain": [
       "0"
      ]
     },
     "execution_count": 22,
     "metadata": {},
     "output_type": "execute_result"
    }
   ],
   "source": [
    "worksheet.data_validation('B16', {\n",
    "    'validate':'integer',\n",
    "    'criteria':'>',\n",
    "    'value':0\n",
    "})"
   ]
  },
  {
   "cell_type": "code",
   "execution_count": 23,
   "id": "f1006de2",
   "metadata": {},
   "outputs": [
    {
     "data": {
      "text/plain": [
       "0"
      ]
     },
     "execution_count": 23,
     "metadata": {},
     "output_type": "execute_result"
    }
   ],
   "source": [
    "worksheet.set_column('A:A',35)"
   ]
  },
  {
   "cell_type": "code",
   "execution_count": 24,
   "id": "ff8aa5f1",
   "metadata": {},
   "outputs": [],
   "source": [
    "writer.save()\n",
    "workbook.close()"
   ]
  },
  {
   "cell_type": "code",
   "execution_count": 25,
   "id": "61ff05ed",
   "metadata": {},
   "outputs": [],
   "source": [
    "data = pd.read_html('https://pl.wikipedia.org/wiki/Miasta_w_Polsce', header=0)"
   ]
  },
  {
   "cell_type": "code",
   "execution_count": null,
   "id": "69100562",
   "metadata": {},
   "outputs": [],
   "source": []
  }
 ],
 "metadata": {
  "kernelspec": {
   "display_name": "Python 3 (ipykernel)",
   "language": "python",
   "name": "python3"
  },
  "language_info": {
   "codemirror_mode": {
    "name": "ipython",
    "version": 3
   },
   "file_extension": ".py",
   "mimetype": "text/x-python",
   "name": "python",
   "nbconvert_exporter": "python",
   "pygments_lexer": "ipython3",
   "version": "3.9.13"
  }
 },
 "nbformat": 4,
 "nbformat_minor": 5
}
