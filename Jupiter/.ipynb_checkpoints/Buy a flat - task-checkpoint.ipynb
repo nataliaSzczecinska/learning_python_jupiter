{
 "cells": [
  {
   "cell_type": "markdown",
   "id": "2b95ea66",
   "metadata": {},
   "source": [
    "# TASK Buy a flat\n",
    "\n",
    "Zamierzasz kupić mieszkanie. Upatrzone M kosztuje w tym momencie 120 tys. zł, jednak przewidujesz, że przez następne 5 lat ceny mieszkań będą rosły w tempie 5% rocznie. W tym momencie nie dysponujesz wystarczającymi środkami, dlatego znajdujesz ofertę banku, który proponuje lokatę, do której dopłacasz pewna stałą kwotę na koniec każdego miesiąca. Bank oferuje nominalną stopę procentową w wysokości 12% w skali roku, przy kapitalizacji miesięcznej.\n",
    "\n",
    "1. Ile będzie wynosiła orientacyjna cena mieszkania za 5 lat?\n",
    "2. Ile musisz wpłacać do banku każdego miesiąca, aby przy przedstawionej ofercie uzbierać na mieszkanie w ciągu 5 lat?\n",
    "3. Stwórz wykres przedstawiający, jak w interwałach miesięcznych zmieniać się będzie cena mieszkania (liniowy wzrost w całym okresie) oraz wartość twojej lokaty.\n",
    "\n",
    "Do wykonania powyższego zadania wykorzystaj biblioteki NumPy, NumPy-financial oraz Matplotlib. Odpowiedzi na pytania umieść w Notebooku (jeśli korzystasz) lub w komentarzach w kodzie."
   ]
  },
  {
   "cell_type": "markdown",
   "id": "202c41ac",
   "metadata": {},
   "source": [
    "### import package"
   ]
  },
  {
   "cell_type": "code",
   "execution_count": 202,
   "id": "1733d1b2",
   "metadata": {},
   "outputs": [],
   "source": [
    "import numpy as np\n",
    "import numpy_financial as npf\n",
    "import matplotlib.pyplot as plt"
   ]
  },
  {
   "cell_type": "markdown",
   "id": "ac26de42",
   "metadata": {},
   "source": [
    "### constant value"
   ]
  },
  {
   "cell_type": "code",
   "execution_count": 203,
   "id": "ff3eb1fe",
   "metadata": {},
   "outputs": [],
   "source": [
    "flat_cost_now = 120000.0 # total cost of flat now\n",
    "increase_flat_cost_per_year = 0.05 # yearly increase of flat cost in percent\n",
    "interest_on_bank_locate = 0.12 # yearly interest on bank locate"
   ]
  },
  {
   "cell_type": "markdown",
   "id": "bc4dd658",
   "metadata": {},
   "source": [
    "#### Question 1 - How much will be cost flat after 5 years?"
   ]
  },
  {
   "cell_type": "code",
   "execution_count": 204,
   "id": "3a8c27e9",
   "metadata": {},
   "outputs": [
    {
     "name": "stdout",
     "output_type": "stream",
     "text": [
      "Flat cost after 5 years is 153153.79\n"
     ]
    }
   ],
   "source": [
    "flat_cost_5_years = ((1 + increase_flat_cost_per_year) ** 5) * flat_cost_now\n",
    "print(f\"Flat cost after 5 years is {flat_cost_5_years:.2f}\")"
   ]
  },
  {
   "cell_type": "markdown",
   "id": "373b8abc",
   "metadata": {},
   "source": [
    "#### Question 2 - How much you have to deposite into locate to get full amount?"
   ]
  },
  {
   "cell_type": "code",
   "execution_count": 211,
   "id": "8e25d426",
   "metadata": {},
   "outputs": [
    {
     "name": "stdout",
     "output_type": "stream",
     "text": [
      "Array of periods\n",
      " [ 1  2  3  4  5  6  7  8  9 10 11 12 13 14 15 16 17 18 19 20 21 22 23 24\n",
      " 25 26 27 28 29 30 31 32 33 34 35 36 37 38 39 40 41 42 43 44 45 46 47 48\n",
      " 49 50 51 52 53 54 55 56 57 58 59 60]\n"
     ]
    }
   ],
   "source": [
    "periods_in_year = 12\n",
    "nper = 5 * 12 #five years * number of mounth\n",
    "periods = np.arange(1,nper+1,dtype=int)\n",
    "print(f\"Array of periods\\n {periods}\")"
   ]
  },
  {
   "cell_type": "code",
   "execution_count": 212,
   "id": "28b25aec",
   "metadata": {},
   "outputs": [],
   "source": [
    "def value_after_periods (k, percent_for_year, number_of_periods_in_year, number_of_mounth):\n",
    "    return k * ((1 + (percent_for_year / number_of_periods_in_year)) ** number_of_mounth)\n",
    "    "
   ]
  },
  {
   "cell_type": "code",
   "execution_count": 240,
   "id": "7f203c66",
   "metadata": {},
   "outputs": [],
   "source": [
    "def value_for_each_mounth (k, percent_for_year, number_of_periods_in_year, number_of_mounth):\n",
    "    array = []\n",
    "    for i in range(number_of_mounth):\n",
    "        array = array + [value_after_periods(k, percent_for_year, number_of_periods_in_year, i)]\n",
    "    numpy_array = np.array(array)\n",
    "    return numpy_array"
   ]
  },
  {
   "cell_type": "code",
   "execution_count": 241,
   "id": "25ef84d6",
   "metadata": {},
   "outputs": [],
   "source": [
    "def find_amount(cost, number_of_periods, percent_for_year, number_of_periods_in_year):\n",
    "    quotient = (1 + (percent_for_year / number_of_periods_in_year))\n",
    "    factor = (((1 - quotient) / (1 - (quotient ** number_of_periods))))\n",
    "    result = cost * factor\n",
    "    return result"
   ]
  },
  {
   "cell_type": "code",
   "execution_count": 242,
   "id": "a16a39cd",
   "metadata": {},
   "outputs": [
    {
     "name": "stdout",
     "output_type": "stream",
     "text": [
      "Installment 1875.28\n"
     ]
    }
   ],
   "source": [
    "installment = find_amount(flat_cost_5_years, nper, interest_on_bank_locate, periods_in_year)\n",
    "print(f\"Installment {installment:.2f}\")"
   ]
  },
  {
   "cell_type": "code",
   "execution_count": 243,
   "id": "d7954ada",
   "metadata": {},
   "outputs": [
    {
     "name": "stdout",
     "output_type": "stream",
     "text": [
      "[1875.28353879 1894.03637418 1912.97673792 1932.1065053  1951.42757035\n",
      " 1970.94184605 1990.65126451 2010.55777716 2030.66335493 2050.96998848\n",
      " 2071.47968836 2092.19448525 2113.1164301  2134.2475944  2155.59007035\n",
      " 2177.14597105 2198.91743076 2220.90660507 2243.11567112 2265.54682783\n",
      " 2288.20229611 2311.08431907 2334.19516226 2357.53711388 2381.11248502\n",
      " 2404.92360987 2428.97284597 2453.26257443 2477.79520017 2502.57315218\n",
      " 2527.5988837  2552.87487253 2578.40362126 2604.18765747 2630.22953405\n",
      " 2656.53182939 2683.09714768 2709.92811916 2737.02740035 2764.39767435\n",
      " 2792.0416511  2819.96206761 2848.16168828 2876.64330517 2905.40973822\n",
      " 2934.4638356  2963.80847396 2993.4465587  3023.38102428 3053.61483453\n",
      " 3084.15098287 3114.9924927  3146.14241763 3177.6038418  3209.37988022\n",
      " 3241.47367902 3273.88841581 3306.62729997 3339.69357297 3373.0905087 ]\n",
      "Sum 153153.79\n",
      "Is enough True\n",
      "Difference is 0.0\n"
     ]
    }
   ],
   "source": [
    "value_for_mounths = value_for_each_mounth(installment, interest_on_bank_locate, periods_in_year, nper)\n",
    "print(value_for_mounths)\n",
    "sum_of_amount = value_for_mounths.sum()\n",
    "print(f\"Sum {sum_of_amount:.2f}\")\n",
    "is_enough = sum_of_amount >= flat_cost_5_years\n",
    "difference = sum_of_amount - flat_cost_5_years\n",
    "print(f\"Is enough {is_enough}\")\n",
    "print(f\"Difference is {difference}\")"
   ]
  },
  {
   "cell_type": "code",
   "execution_count": 244,
   "id": "5c923f46",
   "metadata": {},
   "outputs": [
    {
     "name": "stdout",
     "output_type": "stream",
     "text": [
      "Answer: For locate there should be payed 1875.28 per mounth\n"
     ]
    }
   ],
   "source": [
    "print(f\"Answer: For locate there should be payed {installment:.2f} per mounth\")"
   ]
  },
  {
   "cell_type": "markdown",
   "id": "da74d384",
   "metadata": {},
   "source": [
    "#### Question 3 - Plot"
   ]
  },
  {
   "cell_type": "code",
   "execution_count": 245,
   "id": "944c25d4",
   "metadata": {},
   "outputs": [
    {
     "name": "stdout",
     "output_type": "stream",
     "text": [
      "[1875.28353879 1894.03637418 1912.97673792 1932.1065053  1951.42757035\n",
      " 1970.94184605 1990.65126451 2010.55777716 2030.66335493 2050.96998848\n",
      " 2071.47968836 2092.19448525 2113.1164301  2134.2475944  2155.59007035\n",
      " 2177.14597105 2198.91743076 2220.90660507 2243.11567112 2265.54682783\n",
      " 2288.20229611 2311.08431907 2334.19516226 2357.53711388 2381.11248502\n",
      " 2404.92360987 2428.97284597 2453.26257443 2477.79520017 2502.57315218\n",
      " 2527.5988837  2552.87487253 2578.40362126 2604.18765747 2630.22953405\n",
      " 2656.53182939 2683.09714768 2709.92811916 2737.02740035 2764.39767435\n",
      " 2792.0416511  2819.96206761 2848.16168828 2876.64330517 2905.40973822\n",
      " 2934.4638356  2963.80847396 2993.4465587  3023.38102428 3053.61483453\n",
      " 3084.15098287 3114.9924927  3146.14241763 3177.6038418  3209.37988022\n",
      " 3241.47367902 3273.88841581 3306.62729997 3339.69357297 3373.0905087 ]\n",
      "[  1875.28353879   3769.31991296   5682.29665088   7614.40315618\n",
      "   9565.83072653  11536.77257258  13527.4238371   15537.98161426\n",
      "  17568.64496919  19619.61495767  21691.09464603  23783.28913128\n",
      "  25896.40556138  28030.65315578  30186.24322613  32363.38919718\n",
      "  34562.30662794  36783.21323301  39026.32890413  41291.87573196\n",
      "  43580.07802806  45891.16234713  48225.35750939  50582.89462328\n",
      "  52964.0071083   55368.93071817  57797.90356414  60251.16613857\n",
      "  62728.96133874  65231.53449092  67759.13337461  70312.00824715\n",
      "  72890.41186841  75494.59952588  78124.82905993  80781.36088932\n",
      "  83464.458037    86174.38615616  88911.41355651  91675.81123086\n",
      "  94467.85288196  97287.81494956 100135.97663785 103012.61994301\n",
      " 105918.02968123 108852.49351683 111816.30199079 114809.74854949\n",
      " 117833.12957377 120886.7444083  123970.89539117 127085.88788387\n",
      " 130232.03030149 133409.6341433  136619.01402352 139860.48770254\n",
      " 143134.37611836 146441.00341833 149780.6969913  153153.7875    ]\n"
     ]
    }
   ],
   "source": [
    "print(value_for_mounths)\n",
    "cumsum_of_locate = np.cumsum(value_for_mounths)\n",
    "print(cumsum_of_locate)"
   ]
  },
  {
   "cell_type": "code",
   "execution_count": 246,
   "id": "4e1c724d",
   "metadata": {},
   "outputs": [
    {
     "name": "stdout",
     "output_type": "stream",
     "text": [
      "[120000.         120561.92860169 121123.85720339 121685.78580508\n",
      " 122247.71440678 122809.64300847 123371.57161017 123933.50021186\n",
      " 124495.42881356 125057.35741525 125619.28601695 126181.21461864\n",
      " 126743.14322034 127305.07182203 127867.00042373 128428.92902542\n",
      " 128990.85762712 129552.78622881 130114.71483051 130676.6434322\n",
      " 131238.5720339  131800.50063559 132362.42923729 132924.35783898\n",
      " 133486.28644068 134048.21504237 134610.14364407 135172.07224576\n",
      " 135734.00084746 136295.92944915 136857.85805085 137419.78665254\n",
      " 137981.71525424 138543.64385593 139105.57245763 139667.50105932\n",
      " 140229.42966102 140791.35826271 141353.28686441 141915.2154661\n",
      " 142477.1440678  143039.07266949 143601.00127119 144162.92987288\n",
      " 144724.85847458 145286.78707627 145848.71567797 146410.64427966\n",
      " 146972.57288136 147534.50148305 148096.43008475 148658.35868644\n",
      " 149220.28728814 149782.21588983 150344.14449153 150906.07309322\n",
      " 151468.00169492 152029.93029661 152591.85889831 153153.7875    ]\n"
     ]
    }
   ],
   "source": [
    "linear_increase_of_flat_cost = np.linspace(flat_cost_now, flat_cost_5_years, nper)\n",
    "print(linear_increase_of_flat_cost)   "
   ]
  },
  {
   "cell_type": "code",
   "execution_count": null,
   "id": "5a4cb82e",
   "metadata": {},
   "outputs": [],
   "source": []
  },
  {
   "cell_type": "code",
   "execution_count": 235,
   "id": "f1e5719d",
   "metadata": {},
   "outputs": [
    {
     "data": {
      "text/plain": [
       "Text(0, 0.5, 'Amount')"
      ]
     },
     "execution_count": 235,
     "metadata": {},
     "output_type": "execute_result"
    },
    {
     "data": {
      "image/png": "[encoded data removed]",
      "text/plain": [
       "<Figure size 640x480 with 1 Axes>"
      ]
     },
     "metadata": {},
     "output_type": "display_data"
    }
   ],
   "source": [
    "plt.plot(cumsum_of_locate,label='amount on locate')\n",
    "plt.plot(linear_increase_of_flat_cost,label='cost of flat')\n",
    "plt.legend()\n",
    "plt.xlabel('Number of mounth')\n",
    "plt.ylabel('Amount')"
   ]
  },
  {
   "cell_type": "code",
   "execution_count": null,
   "id": "0ac1736c",
   "metadata": {},
   "outputs": [],
   "source": []
  }
 ],
 "metadata": {
  "kernelspec": {
   "display_name": "Python 3 (ipykernel)",
   "language": "python",
   "name": "python3"
  },
  "language_info": {
   "codemirror_mode": {
    "name": "ipython",
    "version": 3
   },
   "file_extension": ".py",
   "mimetype": "text/x-python",
   "name": "python",
   "nbconvert_exporter": "python",
   "pygments_lexer": "ipython3",
   "version": "3.9.13"
  }
 },
 "nbformat": 4,
 "nbformat_minor": 5
}
