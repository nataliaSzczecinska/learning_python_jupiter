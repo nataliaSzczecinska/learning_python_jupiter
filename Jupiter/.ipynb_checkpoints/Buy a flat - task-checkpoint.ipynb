{
 "cells": [
  {
   "cell_type": "markdown",
   "id": "96f1bd93",
   "metadata": {},
   "source": [
    "# TASK Buy a flat\n",
    "\n",
    "Zamierzasz kupić mieszkanie. Upatrzone M kosztuje w tym momencie 120 tys. zł, jednak przewidujesz, że przez następne 5 lat ceny mieszkań będą rosły w tempie 5% rocznie. W tym momencie nie dysponujesz wystarczającymi środkami, dlatego znajdujesz ofertę banku, który proponuje lokatę, do której dopłacasz pewna stałą kwotę na koniec każdego miesiąca. Bank oferuje nominalną stopę procentową w wysokości 12% w skali roku, przy kapitalizacji miesięcznej.\n",
    "\n",
    "1. Ile będzie wynosiła orientacyjna cena mieszkania za 5 lat?\n",
    "2. Ile musisz wpłacać do banku każdego miesiąca, aby przy przedstawionej ofercie uzbierać na mieszkanie w ciągu 5 lat?\n",
    "3. Stwórz wykres przedstawiający, jak w interwałach miesięcznych zmieniać się będzie cena mieszkania (liniowy wzrost w całym okresie) oraz wartość twojej lokaty.\n",
    "\n",
    "Do wykonania powyższego zadania wykorzystaj biblioteki NumPy, NumPy-financial oraz Matplotlib. Odpowiedzi na pytania umieść w Notebooku (jeśli korzystasz) lub w komentarzach w kodzie."
   ]
  },
  {
   "cell_type": "markdown",
   "id": "58edd387",
   "metadata": {},
   "source": [
    "### import package"
   ]
  },
  {
   "cell_type": "code",
   "execution_count": 202,
   "id": "5e43d6fc",
   "metadata": {},
   "outputs": [],
   "source": [
    "import numpy as np\n",
    "import numpy_financial as npf\n",
    "import matplotlib.pyplot as plt"
   ]
  },
  {
   "cell_type": "markdown",
   "id": "03691387",
   "metadata": {},
   "source": [
    "### constant value"
   ]
  },
  {
   "cell_type": "code",
   "execution_count": 203,
   "id": "39bda4e2",
   "metadata": {},
   "outputs": [],
   "source": [
    "flat_cost_now = 120000.0 # total cost of flat now\n",
    "increase_flat_cost_per_year = 0.05 # yearly increase of flat cost in percent\n",
    "interest_on_bank_locate = 0.12 # yearly interest on bank locate"
   ]
  },
  {
   "cell_type": "markdown",
   "id": "f376a26b",
   "metadata": {},
   "source": [
    "#### Question 1 - How much will be cost flat after 5 years?"
   ]
  },
  {
   "cell_type": "code",
   "execution_count": 204,
   "id": "bc3bf304",
   "metadata": {},
   "outputs": [
    {
     "name": "stdout",
     "output_type": "stream",
     "text": [
      "Flat cost after 5 years is 153153.79\n"
     ]
    }
   ],
   "source": [
    "flat_cost_5_years = ((1 + increase_flat_cost_per_year) ** 5) * flat_cost_now\n",
    "print(f\"Flat cost after 5 years is {flat_cost_5_years:.2f}\")"
   ]
  },
  {
   "cell_type": "markdown",
   "id": "83092ae3",
   "metadata": {},
   "source": [
    "#### Question 2 - How much you have to deposite into locate to get full amount?"
   ]
  },
  {
   "cell_type": "code",
   "execution_count": 211,
   "id": "0c7237da",
   "metadata": {},
   "outputs": [
    {
     "name": "stdout",
     "output_type": "stream",
     "text": [
      "Array of periods\n",
      " [ 1  2  3  4  5  6  7  8  9 10 11 12 13 14 15 16 17 18 19 20 21 22 23 24\n",
      " 25 26 27 28 29 30 31 32 33 34 35 36 37 38 39 40 41 42 43 44 45 46 47 48\n",
      " 49 50 51 52 53 54 55 56 57 58 59 60]\n"
     ]
    }
   ],
   "source": [
    "periods_in_year = 12\n",
    "nper = 5 * 12 #five years * number of mounth\n",
    "periods = np.arange(1,nper+1,dtype=int)\n",
    "print(f\"Array of periods\\n {periods}\")"
   ]
  },
  {
   "cell_type": "code",
   "execution_count": 212,
   "id": "6a18c975",
   "metadata": {},
   "outputs": [],
   "source": [
    "def value_after_periods (k, percent_for_year, number_of_periods_in_year, number_of_mounth):\n",
    "    return k * ((1 + (percent_for_year / number_of_periods_in_year)) ** number_of_mounth)\n",
    "    "
   ]
  },
  {
   "cell_type": "code",
   "execution_count": 213,
   "id": "700f0d9a",
   "metadata": {},
   "outputs": [],
   "source": [
    "def value_for_each_mounth (k, percent_for_year, number_of_periods_in_year, number_of_mounth):\n",
    "    array = []\n",
    "    for i in range(number_of_mounth):\n",
    "        array = array + [value_after_periods(k, percent_for_year, number_of_periods_in_year, i)]\n",
    "    numpy_array = np.around(array,2)\n",
    "    return numpy_array"
   ]
  },
  {
   "cell_type": "code",
   "execution_count": 214,
   "id": "bea9258d",
   "metadata": {},
   "outputs": [],
   "source": [
    "def find_amount(cost, number_of_periods, percent_for_year, number_of_periods_in_year):\n",
    "    quotient = (1 + (percent_for_year / number_of_periods_in_year))\n",
    "    factor = (((1 - quotient) / (1 - (quotient ** number_of_periods))))\n",
    "    result = cost * factor\n",
    "    print(f\"Całkowita kwota {(result / factor):.2f}\")\n",
    "    return result"
   ]
  },
  {
   "cell_type": "code",
   "execution_count": 215,
   "id": "562c50a0",
   "metadata": {},
   "outputs": [
    {
     "name": "stdout",
     "output_type": "stream",
     "text": [
      "Całkowita kwota 153153.79\n",
      "Installment 1875.28\n"
     ]
    }
   ],
   "source": [
    "installment = find_amount(flat_cost_5_years, nper, interest_on_bank_locate, periods_in_year)\n",
    "print(f\"Installment {installment:.2f}\")"
   ]
  },
  {
   "cell_type": "code",
   "execution_count": 216,
   "id": "eb5c496e",
   "metadata": {},
   "outputs": [
    {
     "name": "stdout",
     "output_type": "stream",
     "text": [
      "[1875.28 1894.04 1912.98 1932.11 1951.43 1970.94 1990.65 2010.56 2030.66\n",
      " 2050.97 2071.48 2092.19 2113.12 2134.25 2155.59 2177.15 2198.92 2220.91\n",
      " 2243.12 2265.55 2288.2  2311.08 2334.2  2357.54 2381.11 2404.92 2428.97\n",
      " 2453.26 2477.8  2502.57 2527.6  2552.87 2578.4  2604.19 2630.23 2656.53\n",
      " 2683.1  2709.93 2737.03 2764.4  2792.04 2819.96 2848.16 2876.64 2905.41\n",
      " 2934.46 2963.81 2993.45 3023.38 3053.61 3084.15 3114.99 3146.14 3177.6\n",
      " 3209.38 3241.47 3273.89 3306.63 3339.69 3373.09]\n",
      "Sum 153153.78\n",
      "Is enough False\n",
      "Difference is -0.00750000003608875\n"
     ]
    }
   ],
   "source": [
    "value_for_mounths = value_for_each_mounth(installment, interest_on_bank_locate, periods_in_year, nper)\n",
    "print(value_for_mounths)\n",
    "sum_of_amount = value_for_mounths.sum()\n",
    "print(f\"Sum {sum_of_amount:.2f}\")\n",
    "is_enough = sum_of_amount >= flat_cost_5_years\n",
    "difference = sum_of_amount - flat_cost_5_years\n",
    "print(f\"Is enough {is_enough}\")\n",
    "print(f\"Difference is {difference}\")"
   ]
  },
  {
   "cell_type": "code",
   "execution_count": null,
   "id": "af28cde9",
   "metadata": {},
   "outputs": [],
   "source": []
  },
  {
   "cell_type": "code",
   "execution_count": null,
   "id": "b8f5d3c6",
   "metadata": {},
   "outputs": [],
   "source": []
  },
  {
   "cell_type": "code",
   "execution_count": null,
   "id": "7b3a65d5",
   "metadata": {},
   "outputs": [],
   "source": []
  }
 ],
 "metadata": {
  "kernelspec": {
   "display_name": "Python 3 (ipykernel)",
   "language": "python",
   "name": "python3"
  },
  "language_info": {
   "codemirror_mode": {
    "name": "ipython",
    "version": 3
   },
   "file_extension": ".py",
   "mimetype": "text/x-python",
   "name": "python",
   "nbconvert_exporter": "python",
   "pygments_lexer": "ipython3",
   "version": "3.9.13"
  }
 },
 "nbformat": 4,
 "nbformat_minor": 5
}
